{
 "cells": [
  {
   "cell_type": "markdown",
   "id": "8d90e471",
   "metadata": {},
   "source": [
    "# Machine learning - les 5 - geavanceerdere technieken\n",
    "\n",
    "In dit notebook bespreken we een paar geavanceerdere technieken voor tijdens de data preparatie en modeling stappen. Pas minstens 1 van deze nieuwe technieken toe op je casus.\n",
    "\n",
    "De onderwerpen die in dit notebook besproken worden, zijn:\n",
    "\n",
    "- Feature engineering\n",
    "- Evaluation metrics\n",
    "- Cross validation & grid search\n",
    "\n"
   ]
  },
  {
   "cell_type": "markdown",
   "id": "043e82d5",
   "metadata": {
    "vscode": {
     "languageId": "plaintext"
    }
   },
   "source": [
    "## Feature engineering\n",
    "\n",
    "Feature engineering is de term voor het aanpassen van je ruwe data naar geprepareerde data voor je machine learning model. Dit gebeurt dus in de data preparatie fase van CRISP-DM. We hebben tot nu toe vooral gekeken naar het aanpassen van bestaande features. Hiervoor hebben we verschillende technieken bekeken:\n",
    "\n",
    "- Het vullen van **missende waarde**\n",
    "- Het verwijderen of transformeren van **outliers**\n",
    "- Het encoden van **categorische variabelen**\n",
    "- Het schalen van features **normaliseren/standaardiseren**\n",
    "- Het transformeren van features (Bijvoorbeeld een log-transformatie)\n",
    "\n",
    "Als je machine learning model na het toepassen van deze datapreparatiestappen nog steeds niet goed presteert, kun je proberen nieuwe features toe te gaan voegen, op basis van de informatie die je wel al hebt. Hieronder volgen een paar voorbeelden (die we ook in de les zullen behandelen).\n",
    "\n",
    "### Creating new features\n",
    "Voorbeelden: \n",
    "    - bathroom/person in de airbnb data\n",
    "    - area = lengte * breedte\n",
    "\n",
    "Domeinkennis:\n",
    "Voorspellen of iemand rekeningen betaald:\n",
    "    - totaal openstaande bedrag\n",
    "    - Eerder niet betaalde rekeningen\n",
    "    Let hier op voor data leakage!\n",
    "\n",
    "Externe datasets:\n",
    "    - Opbrengst van een film voorspellen: eerder gewonnen oscars (data leakage!)\n",
    "    - Als je locatie weet: inkomen in een wijk erbij zoeken\n",
    "\n",
    "Wiskundig:\n",
    "    - Van lineair naar polynomiaal."
   ]
  },
  {
   "cell_type": "markdown",
   "id": "94c01304",
   "metadata": {},
   "source": [
    "| Persoon ID | Vervaldatum  | Bedrag | Betaaldatum | \n",
    "|------------|--------------|--------|-------------|\n",
    "| 1          | 03-01-2025   | €100   | 01-01-2025  |\n",
    "| 1          | 05-02-2025   | €200   |             |\n",
    "| 2          | 03-01-2025   | €150   | 01-01-2025  |\n",
    "| 1          | 07-03-2025   | €250   |             |\n",
    "| 2          | 08-05-2025   | €100   | 04-05-205   |\n",
    "| 1          | 08-05-2025   | €130   |             |\n",
    "\n",
    "----\n",
    "\n",
    "|Titel       | Hoofdrolspeler   | Release date | Opbrengst in miljoenen |\n",
    "|--------------------|-----------------------|---------------|-----------------------|\n",
    "| Inception          | Leonardo DiCaprio    | 2010-07-16    | 829           |\n",
    "| The Dark Knight    | Christian Bale       | 2008-07-18    | 1004|\n",
    "| Titanic            | Leonardo DiCaprio    | 1997-12-19    | 2187|\n",
    "| Avatar             | Sam Worthington      | 2009-12-18    | 2847|\n",
    "| The Matrix         | Keanu Reeves         | 1999-03-31    | 466 |\n",
    "\n",
    "\n",
    "---- \n",
    "|Titel       | Hoofdrolspeler   | Release date | Opbrengst in miljoenen | Gewonnen oscars door hoofdrolspeler |\n",
    "|--------------------|-----------------------|---------------|-----------------------|--|\n",
    "| Inception          | Leonardo DiCaprio    | 2010-07-16    | 829           |3|\n",
    "| The Dark Knight    | Christian Bale       | 2008-07-18    | 1004| 0 |\n",
    "| Titanic            | Leonardo DiCaprio    | 1997-12-19    | 2187|1|\n",
    "| Avatar             | Sam Worthington      | 2009-12-18    | 2847| 0|\n",
    "| The Matrix         | Keanu Reeves         | 1999-03-31    | 466 |1|"
   ]
  },
  {
   "cell_type": "markdown",
   "id": "47e9439c",
   "metadata": {},
   "source": [
    "| Persoon ID | Vervaldatum  | Bedrag | Betaaldatum | Betaald | \n",
    "|------------|--------------|--------|-------------|---------|\n",
    "| 1          | 03-01-2025   | €100   | 01-01-2025  | Ja      |\n",
    "| 1          | 05-02-2025   | €200   |             | Nee     |\n",
    "| 2          | 03-01-2025   | €150   | 01-01-2025  | Ja      |\n",
    "| 1          | 07-03-2025   | €250   |             | Nee     |\n",
    "| 2          | 08-05-2025   | €100   | 04-05-205   |Ja       |\n",
    "| 1          | 08-05-2025   | €130   |             |Nee      |"
   ]
  },
  {
   "cell_type": "markdown",
   "id": "0eee7a38",
   "metadata": {},
   "source": [
    "| Persoon ID | Vervaldatum  | Bedrag | Betaaldatum | Betaald | Openstaande facturen | \n",
    "|------------|--------------|--------|-------------|---------|--------------- |\n",
    "| 1          | 03-01-2025   | €100   | 01-01-2025  | Ja      | 0 | \n",
    "| 1          | 05-02-2025   | €200   |             | Nee     | 0 |\n",
    "| 2          | 03-01-2025   | €150   | 01-01-2025  | Ja      | 0 |\n",
    "| 1          | 07-03-2025   | €250   |             | Nee     | 1 |\n",
    "| 2          | 08-05-2025   | €100   | 04-05-205   |Ja       | 0 |\n",
    "| 1          | 08-05-2025   | €130   |             |Nee      | 2 |"
   ]
  },
  {
   "cell_type": "code",
   "execution_count": 5,
   "id": "ba4a295f",
   "metadata": {
    "vscode": {
     "languageId": "markdown"
    }
   },
   "outputs": [
    {
     "ename": "SyntaxError",
     "evalue": "leading zeros in decimal integer literals are not permitted; use an 0o prefix for octal integers (3455237873.py, line 3)",
     "output_type": "error",
     "traceback": [
      "\u001b[0;36m  Cell \u001b[0;32mIn[5], line 3\u001b[0;36m\u001b[0m\n\u001b[0;31m    | Inception          | Leonardo DiCaprio    | 2010-07-16    | 829895144            |\u001b[0m\n\u001b[0m                                                       ^\u001b[0m\n\u001b[0;31mSyntaxError\u001b[0m\u001b[0;31m:\u001b[0m leading zeros in decimal integer literals are not permitted; use an 0o prefix for octal integers\n"
     ]
    }
   ],
   "source": [
    "| film titel         | naam hoofdrolspeler   | release datum | opbrengst van de film |\n",
    "|--------------------|-----------------------|---------------|-----------------------|\n",
    "| Inception          | Leonardo DiCaprio    | 2010-07-16    | 829895144            |\n",
    "| The Dark Knight    | Christian Bale       | 2008-07-18    | 1004558444           |\n",
    "| Titanic            | Leonardo DiCaprio    | 1997-12-19    | 2187463944           |\n",
    "| Avatar             | Sam Worthington      | 2009-12-18    | 2847246203           |\n",
    "| The Matrix         | Keanu Reeves         | 1999-03-31    | 466364845            |\n"
   ]
  },
  {
   "cell_type": "code",
   "execution_count": 8,
   "id": "e7e96a7a",
   "metadata": {
    "vscode": {
     "languageId": "markdown"
    }
   },
   "outputs": [
    {
     "ename": "SyntaxError",
     "evalue": "leading zeros in decimal integer literals are not permitted; use an 0o prefix for octal integers (1730654288.py, line 3)",
     "output_type": "error",
     "traceback": [
      "\u001b[0;36m  Cell \u001b[0;32mIn[8], line 3\u001b[0;36m\u001b[0m\n\u001b[0;31m    | Inception          | Leonardo DiCaprio    | 16-07-2010    | 829895144            |\u001b[0m\n\u001b[0m                                                     ^\u001b[0m\n\u001b[0;31mSyntaxError\u001b[0m\u001b[0;31m:\u001b[0m leading zeros in decimal integer literals are not permitted; use an 0o prefix for octal integers\n"
     ]
    }
   ],
   "source": [
    "| film titel         | naam hoofdrolspeler   | release datum | opbrengst van de film |\n",
    "|--------------------|-----------------------|---------------|-----------------------|\n",
    "| Inception          | Leonardo DiCaprio    | 16-07-2010    | 829895144            |\n",
    "| The Dark Knight    | Christian Bale       | 2008-07-18    | 1004558444           |\n",
    "| Titanic            | Leonardo DiCaprio    | 1997-12-19    | 2187463944           |\n",
    "| Avatar             | Sam Worthington      | 2009-12-18    | 2847246203           |\n",
    "| The Matrix         | Keanu Reeves         | 1999-03-31    | 466364845            |"
   ]
  },
  {
   "cell_type": "code",
   "execution_count": null,
   "id": "b67fe208",
   "metadata": {},
   "outputs": [],
   "source": [
    "### Het combineren van features\n"
   ]
  },
  {
   "cell_type": "markdown",
   "id": "2c41b050",
   "metadata": {},
   "source": [
    "## Evaluation metrics\n",
    "\n",
    "Bekend met:\n",
    "Classificatie: accuracy\n",
    "Regressie: RMSE\n",
    "\n",
    "\n",
    "Classificatie uitbreiden:\n",
    "Borstkanker voorspellen:\n",
    "- Precision\n",
    "- Recall\n",
    "- F1-score\n",
    "- confusion matrix\n",
    "- AUC\n",
    "\n"
   ]
  },
  {
   "cell_type": "markdown",
   "id": "fd651803",
   "metadata": {},
   "source": [
    "## Hyperparameter tuning\n",
    "Al gedaan in forloopje met een validatieset. Overfitten op validatieset? Nu: crossvalidation!\n",
    "Gridsearch (of juist niet in een grid maar random punten?)"
   ]
  }
 ],
 "metadata": {
  "kernelspec": {
   "display_name": "cm",
   "language": "python",
   "name": "python3"
  },
  "language_info": {
   "codemirror_mode": {
    "name": "ipython",
    "version": 3
   },
   "file_extension": ".py",
   "mimetype": "text/x-python",
   "name": "python",
   "nbconvert_exporter": "python",
   "pygments_lexer": "ipython3",
   "version": "3.12.4"
  }
 },
 "nbformat": 4,
 "nbformat_minor": 5
}
