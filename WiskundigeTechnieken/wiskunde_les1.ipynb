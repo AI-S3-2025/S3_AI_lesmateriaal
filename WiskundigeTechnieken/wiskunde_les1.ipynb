{
 "cells": [
  {
   "cell_type": "markdown",
   "id": "4f291d28",
   "metadata": {},
   "source": [
    "# Wiskundige technieken - les 1"
   ]
  },
  {
   "cell_type": "markdown",
   "id": "74195d45",
   "metadata": {},
   "source": [
    "Notebook bij les 1 van de leerlijn wiskundige technieken van S3 - AI. \n",
    "\n",
    "© Auteur: Rianne van Os\n",
    "\n",
    "**Voorbereiding voor deze les:**\n",
    "- Lees de theorie en maak de opdrachten uit dit notebook t/m opdracht 1.3"
   ]
  },
  {
   "cell_type": "markdown",
   "id": "d715f2f8",
   "metadata": {},
   "source": [
    "Dit notebook bevat theorie en oefenopdrachten voor de leerlijn Wiskundige Technieken van het Data Science semester van AI. Het doel van deze lessenreeks is begrip krijgen over de interne werking van verschillende machine learning algoritme. Veel modellen leren door het optimaliseren van een loss-functie met behulp van gradient descent. Je zal nu misschien nog niet weten wat dit betekent, maar modellen zoals lineaire regressie, logistische regressie maar ook neurale netwerken die in S4 terug gaan komen, maken gebruik van deze techniek.  In een 4-tal wiskundelessen zul je leren hoe dit werkt en zul je dit ook zelf gaan implementeren.\n",
    "\n",
    "De 4 lessen zijn als volgt opgebouwd:\n",
    "- In les 1 introduceren we het differentiequotient, gebruiken we deze om de helling van grafieken te bepalen en laten we zien hoe je hiermee afgeleides van functies kunt bepalen.\n",
    "- In les 2 behandelen we rekenregels voor differentieren en leer je hoe je de afgeleide kunt gebruiken om het minimum van een grafiek te vinden. Ook implementeer je je eerste simpele gradient descent algoritme.\n",
    "- In les 3 breiden we bovenstaande uit naar functies met meerdere variabelen.\n",
    "- In les 4 gebruik je de geleerde technieken om een eigen functie voor lineaire regressie te schrijven.\n",
    "\n",
    "Na deze lessen kun je het portfolio-item Gradient Descent maken. \n",
    "\n",
    "**Merk op**: Om een echt goede implementatie van gradient descent te maken heb je naast kennis van differentieren ook kennis van lineaire algebra nodig. Dit wordt echter pas in S4 behandelt. We werken hier nu omheen en nodigen je uit om na het volgende semester je eigen implementatie nog eens te verbeteren."
   ]
  },
  {
   "cell_type": "code",
   "execution_count": 2,
   "id": "1c17bc49",
   "metadata": {},
   "outputs": [],
   "source": [
    "#import benodigde libraries\n",
    "import numpy as np\n",
    "import pandas as pd\n",
    "import matplotlib.pyplot as plt\n",
    "from typing import Callable"
   ]
  },
  {
   "cell_type": "markdown",
   "id": "da9665c8",
   "metadata": {},
   "source": [
    "## Introductie afgeleiden\n",
    "\n",
    "Lees eerst onderstaande 2 bronnen voor een korte introductie over afgeleiden. Hierin wordt ook naar een youtube-filmpje gelinkt van 3Blue1Brown, ik raad je aan die ook te bekijken!"
   ]
  },
  {
   "cell_type": "markdown",
   "id": "6deb8fd8-f1a5-491b-bf61-058e5d385f49",
   "metadata": {},
   "source": [
    "Lees deze intro over afgeleiden:\n",
    "- https://set.kuleuven.be/voorkennis/blik-op-wiskunde/handboekB/B_intro/afgeleiden\n",
    "\n",
    "Lees op onderstaande pagina t/m voorbeeld 2:\n",
    "- https://set.kuleuven.be/voorkennis/blik-op-wiskunde/handboekB/afgeleiden/afgeleiden_definitie"
   ]
  },
  {
   "cell_type": "markdown",
   "id": "6e649007",
   "metadata": {},
   "source": [
    "Bij het maken van onderstaande opdrachten is het erg handig om gebruik te kunnen maken van lambda functies in python. Als je daar nog geen ervaring mee hebt, bekijk dan, bijvoorbeeld, deze bron: https://www.geeksforgeeks.org/python/python-lambda-anonymous-functions-filter-map-reduce/ of vraag om uitleg en voorbeelden aan een LLM."
   ]
  },
  {
   "cell_type": "markdown",
   "id": "6528a630-228f-4217-b18b-af6c99f24562",
   "metadata": {},
   "source": [
    "## Het differentiequotiënt\n",
    "\n",
    "In het handboek van de KU Leuven heb je gelezen dat je de verandering in een punt $a$ van een grafiek behorende bij de functie $f(x)$ kunt benaderen met de formule:\n",
    "\n",
    "$$\\frac{f(a + h) - f(a)}{h} $$\n",
    "\n",
    "voor een hele kleine waarde van $h$. Dit noem je het differentiequotiënt van de functie $f(x)$ in het punt $a$.\n",
    "\n",
    "\n",
    "Een meer formelere notatie is dat de helling van de grafiek in het punt $(a, f(a))$ gegeven wordt door de limiet\n",
    "\n",
    "$$ \\lim_{h \\to 0}\\frac{f(a + h) - f(a)}{h}.$$\n",
    "\n",
    "Waarbij *lim* staat voor het nemen van de limiet, wat betekent dat je $h$ steeds kleiner laat worden, totdat die naar $0$ gaat. (Het nemen van limieten hoef je niet te kennen, wil je dit wel snappen,  bekijk dan: \n",
    "https://set.kuleuven.be/voorkennis/blik-op-wiskunde/handboekB/B_intro/limieten)"
   ]
  },
  {
   "cell_type": "markdown",
   "id": "1f3f3502-64a6-4c7e-bca7-f2db76862c62",
   "metadata": {},
   "source": [
    "### Opdracht 1.1\n",
    "\n",
    "Bereken voor onderstaande functies handmatig het differentiequotiënt in het gegeven punt. Kies zelf een geschikte waarde voor $h$.\n",
    "\n",
    "Plot vervolgens de functie, en laat in je plot ook zien waar het gegeven punt ligt. De code voor de plot van f(x) is gegeven, deze hoef je alleen even aan te passen naar de juiste functie, het juiste domein en het juiste punt.\n",
    "\n",
    "a. $f(x) = x^2$ in het punt $(a, f(a))$, waar $a=4$\n",
    "\n",
    "b. $g(x) = x^3 - 5x$ in de punten waar $x=-2$,  $x=0$  en $x=1$\n",
    "\n",
    "c. $h(x) = 3^x - x^ 3$ in de punten waar $x = -1$, $x=1$ en $x=3$\n",
    " "
   ]
  },
  {
   "cell_type": "code",
   "execution_count": null,
   "id": "15d4e801",
   "metadata": {},
   "outputs": [],
   "source": [
    "# plot van f(x)\n",
    "f = lambda x: x**2\n",
    "x = np.linspace(-5, 5, 100)\n",
    "y = f(x)\n",
    "plt.plot(x, y)\n",
    "plt.plot(2, f(2), 'ro')\n",
    "plt.text(2, f(2), ' helling is 8.01', verticalalignment='top')\n",
    "plt.xlabel('x')\n",
    "plt.ylabel('f(x)')\n",
    "plt.title('Grafiek van de functie $f(x) = x^2$ en het punt $(4, f(4))$')"
   ]
  },
  {
   "cell_type": "markdown",
   "id": "5d1a65df-5230-4506-93e1-f8cf731d4ff0",
   "metadata": {},
   "source": [
    "### Opdracht 1.2\n",
    "Implementeer in python een functie genaamd `difference_quotient` die het differentiequotient berekent voor een gegeven functie $f$, in een gegeven punt $a$. Ook moet de parameter $h$ aan te passen zijn. "
   ]
  },
  {
   "cell_type": "markdown",
   "id": "b5f91af5-816e-4e48-9fc5-e7a2916e47c7",
   "metadata": {},
   "source": [
    "Test je functie door je gevonden waarden uit opdracht 1 uit te rekenen met je pythonfunctie. Maak hierbij gebruik van lambda-functies."
   ]
  },
  {
   "cell_type": "code",
   "execution_count": null,
   "id": "90debb89",
   "metadata": {},
   "outputs": [],
   "source": [
    "\n",
    "def difference_quotient(function: Callable[[float], float], a: float, h: float=0.01) -> float:\n",
    "    pass"
   ]
  },
  {
   "cell_type": "markdown",
   "id": "f125ea56",
   "metadata": {},
   "source": [
    "## Stijging of daling van een grafiek bepalen\n",
    "\n",
    "Met het differentiequotient bereken je de verandering van een grafiek in een bepaald punt. Deze verandering heet ook wel de helling of de gradient (of *slope*). Hiermee kun je berekenen of een grafiek stijgt of daalt (waarbij we altijd van links naar rechts kijken). Namelijk, als de helling negatief is, dan daalt de grafiek, is de helling positief, dan stijgt hij. \n",
    "\n",
    "Dit heeft heel veel toepassingen in de praktijk, maar wij gaan het vooral gebruiken om te bepalen 'welke kant' je op moet gaan (oftewel, hoe je de input moet veranderen) om een minimum van een grafiek te vinden. Het vinden van dit minimum is belangrijk bij het trainen van machine learning modellen. Maar voordat we zover zijn, eerst maar eens oefenen met het bepalen waar de grafiek van een simpele functie stijgt en daalt. "
   ]
  },
  {
   "cell_type": "markdown",
   "id": "d9b9744d",
   "metadata": {},
   "source": [
    "### Opdracht 1.3\n",
    "\n",
    "Bepaal met behulp van het differentiequotient of de grafieken van f, g en h stijgend of dalend zijn in de punten -3, -2, -1, 0, 1, 2 en 3. Doe dit voor alle grafieken voor 1 punt handmatig, maak verder gebruik van de functie `difference_quotient`. \n",
    "Maak op basis van deze informatie een schets van de functies (de waarden op de y-as hoeven niet te kloppen, het gaat enkel om de stijging of daling). Controleer je schets door een plot te maken.\n",
    "\n",
    "a. f(x) = 2x^3 - 3x^2 + 2x - 1 \n",
    "\n",
    "b. g(x) = 5x^2 -2 \n",
    "\n",
    "c. h(a) = -a^2 + 2a + 8 "
   ]
  },
  {
   "cell_type": "markdown",
   "id": "3ba6562b",
   "metadata": {},
   "source": [
    "## Symbolisch differentieren\n",
    "\n",
    "Met het differentiequotient kun je de helling in een punt van de grafiek benaderen, maar het zou veel praktischer zijn als je bij iedere grafiek een functie hebt die de helling in ieder punt geeft. Gelukkig bestaat die functie voor de meeste grafieken, en deze functie heet de afgeleide. Afgeleide functies kunnen berekend worden door te bepalen wat er met de functie gebeurt als $h$ naar $0$ gaat. Voor deze leerlijn is het niet relevant hoe dat werkt, maar als je het wilt weten dan staat er een voorbeeld uitgewerkt onderaan het notebook. \n",
    "\n",
    "Wat jullie wel moeten kunnen is *symbolisch differentieren*. Dat is het bepalen van een afgeleide functie als een functie gegeven is. Als $f(x)$ de gegeven functie is, noteren we de afgeleide met $f'(x)$ of met $\\frac{df}{dx}$. De notatie $\\frac{df}{dx}(x)$ kun je ook tegenkomen.\n",
    "\n",
    "De basisregels voor het differentieren zijn:"
   ]
  },
  {
   "cell_type": "markdown",
   "id": "6c9deba5",
   "metadata": {},
   "source": [
    "#### Differentiëren van **constante functies**\n",
    "\n",
    "De afgeleide van $f(x) = c$ is $f'(x) = 0$.\n",
    "- Voorbeeld: de afgeleide van $f(x) = 3$ is $f'(x) = 0$.\n",
    "\n",
    "#### Differentiëren van **lineaire functies**\n",
    "\n",
    "De afgeleide van $f(x) = ax + b$ is $f'(x) = a$\n",
    "- Voorbeeld: De afgeleide van $f(x) = 3x + 4$ is $f'(x) = 3$\n",
    "\n",
    "#### Differentiëren van **machtsfuncties**\n",
    "\n",
    "De afgeleide van $f(x) = x^n$ is $f'(x) = nx^{n-1}$\n",
    "- Voorbeeld 1: De afgeleide van $f(x) = x^2$ is $f'(x) = 2x$\n",
    "- Voorbeeld 2: De afgeleide van $f(x) = x^5$ is $f'(x) = 5x^4$\n",
    "\n",
    "#### Differentiëren van **exponentiële functies**\n",
    "\n",
    "De afgeleide van $f(x) = a^x$ is $f'(x) =  \\ln(a)\\cdot a^x$\n",
    "- Voorbeeld: De afgeleide van $f(x) = 3^x$ is $f'(x) = \\ln(3) \\cdot 3^x$\n",
    "- Voorbeeld (speciaal geval): de afgeleide van $g(x) = e^x$  is $g'(x) = \\ln(e) \\cdot e^x = e^x$\n",
    "\n",
    "#### Differentiëren van **logaritmische functies**\n",
    "\n",
    "De afgeleide van $f(x) = \\log_a(x) = \\frac{1}{x \\ln a}$\n",
    "- Voorbeeld: De afgeleide van $f(x) = \\log_3(x)$ is $\\frac{1}{x\\ln 3}$\n",
    "- Voorbeeld (speciaal geval): de afgeleide van $g(x) = \\ln(x)$ is $g'(x) = \\frac{1}{x \\ln (e)} = \\frac{1}{x}$\n",
    "\n",
    "#### Differentiëren van de **som van functies**\n",
    "\n",
    "De afgeleide van $f(x) = g(x) + h(x)$ is $f'(x) = g'(x) + h'(x)$\n",
    "- Voorbeeld: De afgeleide van $f(x) = x^2 + x^3$ is $f'(x) = 2x + 3x^2$\n",
    "\n",
    "#### Differentiëren van een **scalair veelvoud van een functie**\n",
    "\n",
    "De afgeleide van $f(x) = c\\cdot g(x)$ is $f'(x) = c \\cdot g'(x)$\n",
    "- Voorbeeld: de afgeleide van $f(x) = 3 x^4 = 3 \\cdot 4x^3 = 12 x^3$\n",
    "\n",
    "\n",
    "Ook zijn er regels voor het differentieren van goniometrische functies (zoals de sinus en de cosinus). Die gaan wij nu niet nodig hebben, maar zul je wel tegen kunnen komen als je *gradient descent* toe wilt passen op deep learning modellen. Zoek ze op als je het tegenkomt, of bekijk nu alvast: https://set.kuleuven.be/voorkennis/blik-op-wiskunde/handboekB/afgeleiden/afgeleiden_goniometrische_functies\n",
    "\n",
    "Al deze regels kun je bewijzen door ze in te vullen in de limiet-definitie van de afgeleide en deze vervolgens uit te werken. Dit hoef je niet te doen ;)"
   ]
  },
  {
   "cell_type": "markdown",
   "id": "035efd7b",
   "metadata": {},
   "source": [
    "Bovenstaande regels worden hier nog eens uitgelegd:\n",
    "\n",
    "https://set.kuleuven.be/voorkennis/blik-op-wiskunde/handboekB/afgeleiden/afgeleiden_basisregels\n",
    "\n",
    "In deze bron wordt ook gebruik gemaakt van de $\\frac{df}{dx}$ notatie. Het is belangrijk dat je daar ook vertrouwd mee raakt. \n",
    "\n",
    "### Opdracht 1.6\n",
    "\n",
    "Maak oefening 1, 2, 3 en 4 van de pagina afgeleiden_basisregels van de KU van Leuven. Gebruik pen en papier om je uitwerkingen te vinden. Je hoeft niet alles te doen, als je het gevoel hebt dat je het (bijna) foutloos kan, mag je stoppen."
   ]
  },
  {
   "cell_type": "markdown",
   "id": "b6d7d61c",
   "metadata": {},
   "source": [
    "### Opdracht 1.7\n",
    "\n",
    "Bereken de afgeleide van onderstaande functies. Plot deze afgeleide en gebruik die plot om te bepalen op welke intervallen de grafiek van de functie stijgt en op welke intervallen de grafiek daalt.\n",
    "\n",
    "\n",
    "a. $f(a) = 3a + 2$\n",
    "\n",
    "b. $g(x) = 5x^3- 3x^2 + 1$\n",
    "\n",
    "c. $h(b) = -b^2 + 2b + 8$\n",
    "\n",
    "d. $i(x) = 3 \\cdot 3^x$\n"
   ]
  },
  {
   "cell_type": "markdown",
   "id": "f05818aa",
   "metadata": {},
   "source": [
    "## Extra: Van differentiequotient naar de afgeleide functie\n",
    "Hierboven heb je de rekenregels voor het differentieren toegepast. Deze regels zijn ontstaan door gebruik te maken van het differentiequotiënt en vervolgens de limiet te nemen. Het is niet noodzakelijk om te weten hoe dat werkt, maar voor de geïnteresseerden staat hier een uitgewerkt voorbeeld.\n",
    "\n",
    "Om de afgeleide van een functie te vinden gebruiken we opnieuw de limiet-notatie van het differentiequotiënt, zoals hierboven al gegeven was:\n",
    "\n",
    "$$ f'(x) = \\lim_{h \\to 0}\\frac{f(x + h) - f(x)}{h}.$$\n",
    "\n",
    "Je hoeft ook nu niet in detail te snappen wat een limiet is, maar het komt erop neer dat we bij het differentiequotient de helling benaderen door deze te berekenen met een hele kleine $h$. Als je die $h$ nu naar 0 laat gaan, dan zul je de exacte helling krijgen. \n",
    "\n",
    "\n",
    "Bekijk de functie $f(x) = x^2$, hiervoor geldt nu:\n",
    "$$ f'(x) = \\lim_{h \\to 0}\\frac{f(x + h) - f(x)}{h}  = \\lim_{h \\to 0}\\frac{(x+h)^2 - x^2}{h}$$\n",
    "\n",
    "We negeren het limiet even, en werken de formule verder uit:\n",
    "$$\\frac{(x+h)^2 - x^2}{h} = \\frac{x^2 + 2\\cdot x \\cdot h + h^2 - x^2}{h} = \\frac{ 2\\cdot x \\cdot h + h^2}{h} = 2x + h $$\n",
    "\n",
    "Je ziet dat bijna alle termen met $h$ uit de formule verdwijnen, we houden over:\n",
    "$$ f'(x) = \\lim_{h \\to 0} (2x + h) $$\n",
    "\n",
    "Als $h$ nu 0 wordt, dan houden we over: $f'(x) = 2x$.\n",
    "\n",
    "Oftewel: als $f(x) = x^2$, dan is $f'(x) = 2x$. En hiermee kunnen we de helling van $f(x)$ voor iedere $x$-waarde berekenen.\n",
    "\n"
   ]
  },
  {
   "cell_type": "markdown",
   "id": "cca79de9",
   "metadata": {},
   "source": [
    "### Opdracht 1.8 (Extra)\n",
    "Bepaal de afgeleide van $f(x) = 2x^3-3x$ door het differentiequotient te nemen en te bepalen wat gebeurt als $h\\to 0$."
   ]
  }
 ],
 "metadata": {
  "kernelspec": {
   "display_name": "ai-s3-test",
   "language": "python",
   "name": "python3"
  },
  "language_info": {
   "codemirror_mode": {
    "name": "ipython",
    "version": 3
   },
   "file_extension": ".py",
   "mimetype": "text/x-python",
   "name": "python",
   "nbconvert_exporter": "python",
   "pygments_lexer": "ipython3",
   "version": "3.13.5"
  }
 },
 "nbformat": 4,
 "nbformat_minor": 5
}
