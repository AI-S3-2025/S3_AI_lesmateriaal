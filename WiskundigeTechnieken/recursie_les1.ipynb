{
 "cells": [
  {
   "cell_type": "markdown",
   "metadata": {},
   "source": [
    "# Recursie en boomstructuren\n",
    "\n",
    "Auteurs: Rianne van Os (rianne.vanos@hu.nl), Tijmen Muller (tijmen.muller@hu.nl)\n",
    "\n",
    "(c) HU 2025"
   ]
  },
  {
   "cell_type": "markdown",
   "metadata": {},
   "source": [
    "#### Voorbereiding voor de les\n",
    "\n",
    "- Lees dit notebook door.\n",
    "- Bestudeer je eigen uitwerking van de _priority queue_ van het vorige semester. Het belangrijkste is dat je je kennis over de _tree_ datastructuur (boomstructuur) weer ophaalt.\n",
    "- Maak opdracht 1 tot en met 4 uit dit notebook. Als een opdracht niet lukt, noteer dan een aantal _concrete_ vragen die je hebt om tijdens de les verder te komen. "
   ]
  },
  {
   "cell_type": "markdown",
   "metadata": {
    "tags": [
     "docent"
    ],
    "vscode": {
     "languageId": "raw"
    }
   },
   "source": [
    "_Geef hier het antwoord._"
   ]
  },
  {
   "cell_type": "markdown",
   "metadata": {
    "id": "nv_9UNIV-ggb"
   },
   "source": [
    "## Inleiding\n",
    "\n",
    "Het doel van deze les is om jullie kennis over het concept _recursie_ weer op te halen en toe te passen op een boomstructuur, waar ze erg geschikt voor is. Dit is een voorbereiding op het zelf implementeren van de _decision tree_, wat we in de volgende wiskundeles gaan doen.\n",
    "\n",
    "Een _recursieve_ functie is in de basis een functie die zichzelf aanroept. Dit kan een intuitieve oplossing zijn voor problemen waarop de _divide and conquer_ aanpak van toepassing is. Met _divide and conquer_ bedoelen we dat een probleem te beschouwen is als een samenstelling van kleinere varianten van hetzelfde probleem. Als de kleinste variant van het probleem eenvoudig is op te lossen, dan kunnen we het 'grotere' probleem oplossen door het op te delen in steeds kleinere varianten, deze op te lossen en vervolgens alle oplossingen weer samen te voegen, zodat we eindigen met een oplossing voor het originele 'grote' probleem.\n",
    "\n",
    "Een klassiek voorbeeld hiervan is de _faculteitsfunctie_. Voor $n!$ geldt:\n",
    "\n",
    "$$ n! = n \\times (n-1) \\times (n-2) \\times \\cdots \\times 2 \\times 1$$\n",
    "\n",
    "en dus:\n",
    "\n",
    "$$ n! = n \\times (n-1)! $$\n",
    "\n",
    "Hierbij hebben het 'grotere' probleem $n!$ teruggebracht tot een vermenigvuldiging van $n$ met het 'kleinere' probleem $(n-1)!$. Dit kunnen we blijven reduceren tot we bij het 'kleinste' probleem $1!$ uitkomen, waarvoor geldt $1! = 1$. Dit 'kleinste' probleem noemen we de _base case_. Met deze oplossing kunnen we weer terugwerken naar het originele probleem en alle deeloplossingen samenvoegen tot de oplossing voor het originele probleem.\n",
    "\n",
    "Een recursieve functie heeft dus twee kerneigenschappen:\n",
    "1.  **Base case:** De stopconditie. Wanneer stopt de functie met zichzelf aanroepen? Dit voorkomt een oneindige lus.\n",
    "2.  **Recursion:** De stap waarin de functie zichzelf aanroept, maar met een _eenvoudigere_ of _kleinere_ versie van het probleem.\n",
    "\n",
    "\n",
    "Een concreet voorbeeld bij de faculteitsfunctie:\n",
    "\n",
    "$ 5! = 5 \\times 4! $ (recursion)  \n",
    "$ 4! = 4 \\times 3! $ (recursion)    \n",
    "$ 3! = 3 \\times 2! $ (recursion)    \n",
    "$ 2! = 2 \\times 1! $ (recursion)    \n",
    "$ 1! = 1 $ (base case)  \n",
    "$ 2! = 2 \\times 1! = 2 \\times  1 =   2 $  \n",
    "$ 3! = 3 \\times 2! = 3 \\times  2 =   6 $  \n",
    "$ 4! = 4 \\times 3! = 4 \\times  6 =  24 $  \n",
    "$ 5! = 5 \\times 4! = 5 \\times 24 = 120 $ "
   ]
  },
  {
   "cell_type": "markdown",
   "metadata": {},
   "source": [
    "### Opdracht 1: Faculteit\n",
    "\n",
    "Schrijf een recursieve functie `faculteit(n)` die de faculteit $n!$ van `n` berekent. Bedenk eerst wat de base case, dan wat de recursieve aanroep moet zijn en controleer vervolgens je uitwerking met bovenstaande voorbeelden."
   ]
  },
  {
   "cell_type": "code",
   "execution_count": null,
   "metadata": {
    "id": "SwguGApb-ggd"
   },
   "outputs": [],
   "source": [
    "def faculteit(n):\n",
    "    # Base case\n",
    "\n",
    "    # Recursion\n",
    "    return n\n",
    "\n",
    "\n",
    "# Test\n",
    "print(f\"1! is {faculteit(1)}\")\n",
    "print(f\"5! is {faculteit(5)}\")\n",
    "print(f\"15! is {faculteit(15)}\")"
   ]
  },
  {
   "cell_type": "code",
   "execution_count": null,
   "metadata": {
    "tags": [
     "docent"
    ]
   },
   "outputs": [],
   "source": []
  },
  {
   "cell_type": "markdown",
   "metadata": {
    "id": "sVX9xQbX-gge"
   },
   "source": [
    "### Opdracht 2: Som van een lijst\n",
    "\n",
    "Schrijf een recursieve functie `som(lijst)` die alle elementen van een lijst optelt. Bedenk eerst wat de base case: wat is de meest eenvoudige lijst die bestaat? Bedenk vervolgens wat de recursieve aanroep moet zijn. Controleer met een aantal tests."
   ]
  },
  {
   "cell_type": "code",
   "execution_count": null,
   "metadata": {},
   "outputs": [],
   "source": [
    "def som(lst):\n",
    "    # Base case\n",
    "\n",
    "    # Recursion\n",
    "    return -1\n",
    "\n",
    "# Test\n",
    "print(f\"som([1, 2, 3, 4, 5]) is {som([1, 2, 3, 4, 5])}\")  # = 15\n"
   ]
  },
  {
   "cell_type": "code",
   "execution_count": null,
   "metadata": {
    "tags": [
     "docent"
    ]
   },
   "outputs": [],
   "source": []
  },
  {
   "cell_type": "markdown",
   "metadata": {},
   "source": [
    "### Opdracht 3: Palindroom\n",
    "\n",
    "Schrijf een recursieve functie `is_palindroom(tekst)` die controleert of een woord een palindroom is. Een palindroom is een woord dat gelijk blijft als je het omkeert, zoals bijvoorbeeld \"lepel\" en \"maandnaam\"."
   ]
  },
  {
   "cell_type": "code",
   "execution_count": null,
   "metadata": {},
   "outputs": [],
   "source": [
    "def is_palindroom(tekst):\n",
    "    # Base case\n",
    "    \n",
    "    # Recursion\n",
    "    return False\n",
    "\n",
    "\n",
    "# Tests\n",
    "print(f\"Is 'raar' een palindroom? {is_palindroom('raar')}\")             # True\n",
    "print(f\"Is 'maandnaam' een palindroom? {is_palindroom('maandnaam')}\")   # True\n",
    "print(f\"Is 'palindroom' een palindroom? {is_palindroom('palindroom')}\") # False"
   ]
  },
  {
   "cell_type": "code",
   "execution_count": null,
   "metadata": {
    "id": "fNq6hSr--ggf",
    "tags": [
     "docent"
    ]
   },
   "outputs": [],
   "source": []
  },
  {
   "cell_type": "markdown",
   "metadata": {
    "id": "cJtpNx10-ggf"
   },
   "source": [
    "## Recursie op een _tree_ datastructuur\n",
    "\n",
    "Een _tree_ is van nature recursief, omdat de delen van een 'grotere' boom zelf ook weer (kleinere) bomen zijn. Het schrijven van recursieve methodes voor deze datastructuur ligt dus voor de hand.\n",
    "\n",
    "![Twee voorbeelden van een minheap](priority_queue.png)"
   ]
  },
  {
   "cell_type": "markdown",
   "metadata": {},
   "source": [
    "### Opdracht 4: Prioriteiten in een _minheap_ sommeren\n",
    "\n",
    "In deze opdracht maken we gebruik van de _minheap_ datastructuur die je zelf hebt uitgewerkt tijdens de 'API requests met priority queue' opdracht van het vorige semester. Je hebt toen een _binary tree_ geimplementeerd met daarin op elk knooppunt een integer die de 'prioriteit' van een API request aangaf. In de figuur hierboven twee concrete voorbeelden van zo'n boom.  \n",
    "\n",
    "Stel dat we nu de _totale som_ aan prioriteiten in een boom willen weten (net als bij de lijst in opdracht 2), dan ligt het schrijven van een recursieve functie voor de hand.\n",
    "\n",
    "- Bekijk de kleine boom links in de figuur hierboven. We kunnen in één oogopslag zien dat dit uiteindelijk een resultaat van 0 + 2 + 2 + 1 = 5 moet opleveren. \n",
    "\n",
    "- Beginnend in de _root_ (index `0`) van de kleine boom, dan bestaat de som uit de eigen waarde `queue[0] = 0` plus sommen van de deelbomen links en rechts. We vinden de indices van deze deelbomen met de functies `get_left_child()` en `get_right_child()`, die je vorig semester al hebt geschreven. Dit is de recursieve stap.\n",
    "\n",
    "- De som van de linker deelboom bestaat nu uit de eigen waarde (2) plus weer de sommen van de deelbomen links en rechts. We zien meteen dat de som van de deelboom links gelijk is aan 2, want dit is een _leaf_. Alleen de deelboom rechts bestaat niet...\n",
    "Als een deelboom niet bestaat, dan geven de functies `get_left_child()` en `get_right_child()` een `None` terug. Dit is onze _base case_: de waarde (of som) van een niet-bestaande boom is natuurlijk 0.\n",
    "\n",
    "- Eerdergenoemde _leaf_ linksonderin met de waarde 2 heeft **beide** deelbomen niet, dus hier is twee keer sprake van de _base case_.\n",
    "\n",
    "- Samenvattend: voor de boom links geldt dus de volgende som:  \n",
    "  $$ 0 + (2 + (2 + (\\textit{0} + \\textit{0}) + \\textit{0}) + 1 + (\\textit{0} + \\textit{0})) = 5 $$\n",
    "  Hierbij zijn de vijf schuingedrukte nullen een _base case_. De eerste 0 is gewoon de waarde van de _root_.\n",
    "\n",
    "**Opdracht**: Maak de functie `sum_queue(queue, index)` hieronder af. Test met de gegeven bomen."
   ]
  },
  {
   "cell_type": "code",
   "execution_count": null,
   "metadata": {},
   "outputs": [],
   "source": [
    "# Importeer je eigen uitwerking van de priority queue\n",
    "import priority_queue as pq\n",
    "\n",
    "queue_small = pq.from_list([2, 0, 1, 2])\n",
    "queue_large = pq.from_list([5, 0, 3, 3, 7, 9, 3, 5, 2, 4])\n",
    "\n",
    "queue_small"
   ]
  },
  {
   "cell_type": "code",
   "execution_count": null,
   "metadata": {},
   "outputs": [],
   "source": [
    "def sum_queue(queue, index):\n",
    "    left_index  = pq.get_left_child(queue, index)\n",
    "    right_index = pq.get_right_child(queue, index)\n",
    "\n",
    "    return -1"
   ]
  },
  {
   "cell_type": "code",
   "execution_count": null,
   "metadata": {
    "tags": [
     "docent"
    ]
   },
   "outputs": [],
   "source": []
  },
  {
   "cell_type": "code",
   "execution_count": null,
   "metadata": {},
   "outputs": [],
   "source": [
    "# Tests\n",
    "print(sum_queue(queue_small, 0))  # 5\n",
    "print(sum_queue(queue_large, 0))  # 41"
   ]
  },
  {
   "cell_type": "markdown",
   "metadata": {
    "id": "cxydDNCy-ggh"
   },
   "source": [
    "### Opdracht 5: Data tree\n",
    "\n",
    "Dit is de belangrijkste opdracht uit deze les, omdat ze de brug slaat naar de _decision tree_ van de volgende les. In deze opdracht gaan we een _data tree_ bouwen die een dataset met gehele getallen splitst tot de _leafs_ van deze boom enkel dezelfde getallen bevat (of de maximale diepte van de boom is bereikt). \n",
    "\n",
    "De _data tree_ is een _binary tree_, net als de _priority queue_ uit het vorige semester. In tegenstelling tot de implementatie van de _priority queue_ bouwen we de _data tree_ object-georiënteerd op. De naam 'data tree' is overigens zelf verzonnen, dit is geen bekend concept uit de data science.\n",
    "\n",
    "We gaan recursie toepassen op de _data tree_ op drie manieren:\n",
    "\n",
    "1. om de boom te representeren als een leesbare string;\n",
    "2. om de boom op te bouwen, gegeven een array met gehele getallen (vergelijkbaar met een `fit()`-methode);\n",
    "3. om te bepalen waar een _nieuw_ getal thuishoort (vergelijkbaar met een `predict()`-methode).\n",
    "\n",
    "Reeds gegeven is de `Node` klasse in de `data_tree.py` module. Een node is een eenvoudige datastructuur die de knooppunten van de boom representeert, met de volgende attributen:\n",
    " * `data`: de data (array met gehele getallen) in die node;\n",
    " * `treshold`: de treshold waarop de `data` is gesplitst, namelijk het gemiddelde van de waarden;\n",
    " * `left_child`: de linkervertakking, de `Node` met alle data kleiner of gelijk aan de `treshold`;\n",
    " * `right_child`: de rechtervertakking, de `Node` met alle data groter dan de `treshold`;\n",
    " * `is_leaf`: een boolean die aangeeft of er sprake is van een _leaf_, of dat er juist wel vertakkingen zijn. Als `is_leaf` gelijk is aan `True`, dan heeft de node wél `data`, maar de overige attributen zijn leeg (`None`).\n",
    "\n",
    "In de volgende deelopdrachten schrijf je een `Tree` klasse die de _data tree_ datastructuur implementeert.\n"
   ]
  },
  {
   "cell_type": "code",
   "execution_count": null,
   "metadata": {},
   "outputs": [],
   "source": [
    "import data_tree as dt\n",
    "import numpy as np"
   ]
  },
  {
   "cell_type": "markdown",
   "metadata": {},
   "source": [
    "#### Opdracht 5.1: De `Tree` weergeven\n",
    "\n",
    "* De _root_ van de boom bestaat uit een `Node` met daarin alle getallen.\n",
    "* De `Tree.__repr__()` methode geeft een stringrepresentatie van de boom. Deze methode roept de recursieve functie `Tree._repr_recursive()` aan.\n",
    "  * De stopconditie is gegeven: van een _leaf_ is de stringrepresentatie triviaal.\n",
    "  * Bedenk welke recursieve stap je nodig hebt als je een node met vertakkingen moet omzetten in een string.\n",
    "\n",
    "Hieronder wordt handmatig een zeer eenvoudige _data tree_ opgebouwd op basis van de `data = [2, 0, 1, 2]` (zie figuur hieronder). Gebruik deze als test om je implementatie te controleren. Je output zou iets moeten zijn zoals hieronder weergegeven.\n",
    "\n",
    "\n",
    "![Voorbeeld van een binary data tree](data_tree_simple.png)"
   ]
  },
  {
   "cell_type": "code",
   "execution_count": null,
   "metadata": {},
   "outputs": [],
   "source": [
    "leaf0 = dt.Node(np.array([0]))\n",
    "leaf1 = dt.Node(np.array([1]))\n",
    "leaf2 = dt.Node(np.array([2, 2]))\n",
    "node = dt.Node(np.array([0, 1]), treshold=0.5, left_child=leaf0, right_child=leaf1)\n",
    "root = dt.Node(np.array([2, 0, 1, 2]), treshold=1.25, left_child=node, right_child=leaf2)\n",
    "tree_simple = dt.Tree(root)\n",
    "print(tree_simple)"
   ]
  },
  {
   "cell_type": "raw",
   "metadata": {
    "vscode": {
     "languageId": "raw"
    }
   },
   "source": [
    "Node: treshold=1.25; data=[2 0 1 2]\n",
    "        Node: treshold=0.50; data=[0 1]\n",
    "                Leaf: data=[0]\n",
    "                Leaf: data=[1]\n",
    "        Leaf: data=[2 2]"
   ]
  },
  {
   "cell_type": "markdown",
   "metadata": {},
   "source": [
    "#### Opdracht 5.2: De `Tree` opbouwen\n",
    "\n",
    "\n",
    "* De `Tree.build()` methode bouwt de boom op gegeven de `data`, een Numpy array met integers; deze methode roept de recursieve functie `Tree._build_recursive()` aan. De `Tree._build_recursive()` methode maakt een nieuwe `Node` aan gegeven de `data`. \n",
    "  * Bedenk welke stopconditie(s) je hier moet hanteren. \n",
    "  * In de recursieve stap wordt de `treshold` bepaald en worden de `Node`s gemaakt voor de `left_child` en de `right_child`.\n",
    "\n",
    "Controleer je code met tests."
   ]
  },
  {
   "cell_type": "code",
   "execution_count": null,
   "metadata": {},
   "outputs": [],
   "source": [
    "# Generate some numbers\n",
    "# Should give data = [5, 0, 3, 3, 7, 9, 3, 5, 2, 4].\n",
    "np.random.seed(0)\n",
    "data = np.random.randint(0, 10, 10)\n",
    "\n",
    "# Build and show tree\n",
    "tree = dt.Tree()\n",
    "tree.build(data)\n",
    "print(tree)"
   ]
  },
  {
   "cell_type": "markdown",
   "metadata": {},
   "source": [
    "Hieronder een voorbeeld van de resulterende _binary data tree_ die is opgebouwd met dataset `data = [5, 0, 3, 3, 7, 9, 3, 5, 2, 4]`.\n",
    "\n",
    "![Voorbeeld van een binary data tree](data_tree.png)\n"
   ]
  },
  {
   "cell_type": "raw",
   "metadata": {
    "vscode": {
     "languageId": "raw"
    }
   },
   "source": [
    "Node: treshold=4.10; data=[5 0 3 3 7 9 3 5 2 4]\n",
    "\tNode: treshold=2.50; data=[0 3 3 3 2 4]\n",
    "\t\tNode: treshold=1.00; data=[0 2]\n",
    "\t\t\tLeaf: data=[0]\n",
    "\t\t\tLeaf: data=[2]\n",
    "\t\tNode: treshold=3.25; data=[3 3 3 4]\n",
    "\t\t\tLeaf: data=[3 3 3]\n",
    "\t\t\tLeaf: data=[4]\n",
    "\tNode: treshold=6.50; data=[5 7 9 5]\n",
    "\t\tLeaf: data=[5 5]\n",
    "\t\tNode: treshold=8.00; data=[7 9]\n",
    "\t\t\tLeaf: data=[7]\n",
    "\t\t\tLeaf: data=[9]"
   ]
  },
  {
   "cell_type": "code",
   "execution_count": null,
   "metadata": {},
   "outputs": [],
   "source": [
    "# Generate more numbers\n",
    "np.random.seed(0)\n",
    "data = np.random.randint(0, 50, 40)\n",
    "\n",
    "# Build and show tree\n",
    "tree = dt.Tree(max_depth=4)\n",
    "tree.build(data)\n",
    "print(tree)"
   ]
  },
  {
   "cell_type": "raw",
   "metadata": {
    "vscode": {
     "languageId": "raw"
    }
   },
   "source": [
    " Node: treshold=22.15; data=[44 47  0  3  3 39  9 19 21 36 23  6 24 24 12  1 38 39 23 46 24 17 37 25\n",
    " 13  8  9 20 16  5 15 47  0 18 35 24 49 29 19 19]\n",
    "\tNode: treshold=11.10; data=[ 0  3  3  9 19 21  6 12  1 17 13  8  9 20 16  5 15  0 18 19 19]\n",
    "\t\tNode: treshold=4.40; data=[0 3 3 9 6 1 8 9 5 0]\n",
    "\t\t\tNode: treshold=1.40; data=[0 3 3 1 0]\n",
    "\t\t\t\tLeaf: data=[0 1 0]\n",
    "\t\t\t\tLeaf: data=[3 3]\n",
    "\t\t\tNode: treshold=7.40; data=[9 6 8 9 5]\n",
    "\t\t\t\tLeaf: data=[6 5]\n",
    "\t\t\t\tLeaf: data=[9 8 9]\n",
    "\t\tNode: treshold=17.18; data=[19 21 12 17 13 20 16 15 18 19 19]\n",
    "\t\t\tNode: treshold=14.60; data=[12 17 13 16 15]\n",
    "\t\t\t\tLeaf: data=[12 13]\n",
    "\t\t\t\tLeaf: data=[17 16 15]\n",
    "\t\t\tNode: treshold=19.33; data=[19 21 20 18 19 19]\n",
    "\t\t\t\tLeaf: data=[19 18 19 19]\n",
    "\t\t\t\tLeaf: data=[21 20]\n",
    "\tNode: treshold=34.37; data=[44 47 39 36 23 24 24 38 39 23 46 24 37 25 47 35 24 49 29]\n",
    "\t\tNode: treshold=24.50; data=[23 24 24 23 24 25 24 29]\n",
    "\t\t\tNode: treshold=23.67; data=[23 24 24 23 24 24]\n",
    "\t\t\t\tLeaf: data=[23 23]\n",
    "\t\t\t\tLeaf: data=[24 24 24 24]\n",
    "\t\t\tNode: treshold=27.00; data=[25 29]\n",
    "\t\t\t\tLeaf: data=[25]\n",
    "\t\t\t\tLeaf: data=[29]\n",
    "\t\tNode: treshold=41.55; data=[44 47 39 36 38 39 46 37 47 35 49]\n",
    "\t\t\tNode: treshold=37.33; data=[39 36 38 39 37 35]\n",
    "\t\t\t\tLeaf: data=[36 37 35]\n",
    "\t\t\t\tLeaf: data=[39 38 39]\n",
    "\t\t\tNode: treshold=46.60; data=[44 47 46 47 49]\n",
    "\t\t\t\tLeaf: data=[44 46]\n",
    "\t\t\t\tLeaf: data=[47 47 49]"
   ]
  },
  {
   "cell_type": "markdown",
   "metadata": {},
   "source": [
    "#### Opdracht 5.3: Een opgebouwde `Tree` toepassen\n",
    "\n",
    "We gaan nu een methode `Tree.predict()` toevoegen die gaat bepalen in welke `Node` van de opgebouwde boom een gegeven (nieuw) getal `n` hoort. Deze methode roept de recursieve methode `Tree._predict_recursive()` aan:\n",
    "* Bepaal wederom wat de _base case_ is bij het zoeken naar de juiste node.\n",
    "* Bepaal wat de recursieve aanroep van deze methode moet zijn.\n",
    "* Test je code met de volgende casussen:\n",
    "  * Getal `n` is een getal dat in de originele dataset `data` voorkwam.  \n",
    "  In de figuur hierboven zou het getal `n` = 9 terecht moeten komen in de _leaf_ helemaal rechtsonder in de figuur.\n",
    "  * Getal `n` is een getal dat _niet_ in de originele dataset voorkwam.\n",
    "  * Getal `n` kwam wel in de originele dataset voor, maar is niet _exclusief_ in de `data` van de _leaf_ (dit kan wanneer bij het opbouwen de `max_depth` bereikt werd)."
   ]
  },
  {
   "cell_type": "code",
   "execution_count": null,
   "metadata": {},
   "outputs": [],
   "source": [
    "print(tree.predict(-1))"
   ]
  },
  {
   "cell_type": "code",
   "execution_count": null,
   "metadata": {
    "tags": [
     "docent"
    ]
   },
   "outputs": [],
   "source": []
  }
 ],
 "metadata": {
  "colab": {
   "provenance": []
  },
  "kernelspec": {
   "display_name": "ai-s3",
   "language": "python",
   "name": "python3"
  },
  "language_info": {
   "codemirror_mode": {
    "name": "ipython",
    "version": 3
   },
   "file_extension": ".py",
   "mimetype": "text/x-python",
   "name": "python",
   "nbconvert_exporter": "python",
   "pygments_lexer": "ipython3",
   "version": "3.13.5"
  }
 },
 "nbformat": 4,
 "nbformat_minor": 0
}
