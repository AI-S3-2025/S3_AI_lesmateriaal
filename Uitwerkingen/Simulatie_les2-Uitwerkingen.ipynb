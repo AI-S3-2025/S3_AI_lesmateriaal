{
 "cells": [
  {
   "cell_type": "markdown",
   "id": "16c75c78",
   "metadata": {},
   "source": [
    "## Uitwerkingen opdrachten college 2"
   ]
  },
  {
   "cell_type": "code",
   "execution_count": 1,
   "id": "c4a4495d",
   "metadata": {},
   "outputs": [],
   "source": [
    "import pandas as pd\n",
    "import numpy as np\n",
    "\n",
    "import seaborn as sns\n",
    "import matplotlib.pyplot as plt\n",
    "import plotly.graph_objects as go\n",
    "from plotly.subplots import make_subplots\n",
    "import plotly.colors as pc\n",
    "import ipywidgets as widgets\n",
    "from IPython.display import display\n"
   ]
  },
  {
   "cell_type": "markdown",
   "id": "61d1fc48",
   "metadata": {},
   "source": [
    "### Deel 1 - Statistieken van entiteiten visualiseren\n",
    "\n",
    "**Opdracht 1.** Statistieken van patiënten\n",
    "\n",
    "Maak visualisaties van de volgende statistieken:\n",
    "- Distributie van de tijd in de wachtrij van alle patiënten  \n",
    "- Distributie van de tijd in bed van alle patiënten  \n",
    "\n",
    "#### Implementatie\n",
    "- Input: ```ICU - Patient_timing.csv``` bevat statistieken van de patiënten op elk tijdstip: de duur in de wachtrij en bed, en het resultaat\n",
    "- Features (visualisatie): waiting (histogram en box plot), bed_time (histogram en box plot), treated en died (bar chart)"
   ]
  },
  {
   "cell_type": "code",
   "execution_count": 2,
   "id": "41730dc9",
   "metadata": {},
   "outputs": [
    {
     "data": {
      "text/html": [
       "<div>\n",
       "<style scoped>\n",
       "    .dataframe tbody tr th:only-of-type {\n",
       "        vertical-align: middle;\n",
       "    }\n",
       "\n",
       "    .dataframe tbody tr th {\n",
       "        vertical-align: top;\n",
       "    }\n",
       "\n",
       "    .dataframe thead th {\n",
       "        text-align: right;\n",
       "    }\n",
       "</style>\n",
       "<table border=\"1\" class=\"dataframe\">\n",
       "  <thead>\n",
       "    <tr style=\"text-align: right;\">\n",
       "      <th></th>\n",
       "      <th>beds.slots</th>\n",
       "      <th>world_id</th>\n",
       "      <th>id</th>\n",
       "      <th>condition</th>\n",
       "      <th>arrived</th>\n",
       "      <th>waiting</th>\n",
       "      <th>bed_time</th>\n",
       "      <th>treated</th>\n",
       "      <th>died</th>\n",
       "    </tr>\n",
       "  </thead>\n",
       "  <tbody>\n",
       "    <tr>\n",
       "      <th>0</th>\n",
       "      <td>165</td>\n",
       "      <td>0</td>\n",
       "      <td>0</td>\n",
       "      <td>A</td>\n",
       "      <td>0.0</td>\n",
       "      <td>0.0</td>\n",
       "      <td>24.2</td>\n",
       "      <td>24.2</td>\n",
       "      <td>NaN</td>\n",
       "    </tr>\n",
       "    <tr>\n",
       "      <th>1</th>\n",
       "      <td>165</td>\n",
       "      <td>0</td>\n",
       "      <td>1</td>\n",
       "      <td>B</td>\n",
       "      <td>0.0</td>\n",
       "      <td>0.0</td>\n",
       "      <td>27.2</td>\n",
       "      <td>27.2</td>\n",
       "      <td>NaN</td>\n",
       "    </tr>\n",
       "    <tr>\n",
       "      <th>2</th>\n",
       "      <td>165</td>\n",
       "      <td>0</td>\n",
       "      <td>2</td>\n",
       "      <td>B</td>\n",
       "      <td>0.0</td>\n",
       "      <td>0.0</td>\n",
       "      <td>26.2</td>\n",
       "      <td>26.2</td>\n",
       "      <td>NaN</td>\n",
       "    </tr>\n",
       "    <tr>\n",
       "      <th>3</th>\n",
       "      <td>165</td>\n",
       "      <td>0</td>\n",
       "      <td>3</td>\n",
       "      <td>B</td>\n",
       "      <td>0.0</td>\n",
       "      <td>0.0</td>\n",
       "      <td>22.2</td>\n",
       "      <td>22.2</td>\n",
       "      <td>NaN</td>\n",
       "    </tr>\n",
       "    <tr>\n",
       "      <th>4</th>\n",
       "      <td>165</td>\n",
       "      <td>0</td>\n",
       "      <td>4</td>\n",
       "      <td>B</td>\n",
       "      <td>0.0</td>\n",
       "      <td>0.0</td>\n",
       "      <td>28.2</td>\n",
       "      <td>28.2</td>\n",
       "      <td>NaN</td>\n",
       "    </tr>\n",
       "    <tr>\n",
       "      <th>...</th>\n",
       "      <td>...</td>\n",
       "      <td>...</td>\n",
       "      <td>...</td>\n",
       "      <td>...</td>\n",
       "      <td>...</td>\n",
       "      <td>...</td>\n",
       "      <td>...</td>\n",
       "      <td>...</td>\n",
       "      <td>...</td>\n",
       "    </tr>\n",
       "    <tr>\n",
       "      <th>1975</th>\n",
       "      <td>215</td>\n",
       "      <td>2</td>\n",
       "      <td>655</td>\n",
       "      <td>A</td>\n",
       "      <td>119.0</td>\n",
       "      <td>0.0</td>\n",
       "      <td>24.2</td>\n",
       "      <td>143.2</td>\n",
       "      <td>NaN</td>\n",
       "    </tr>\n",
       "    <tr>\n",
       "      <th>1976</th>\n",
       "      <td>215</td>\n",
       "      <td>2</td>\n",
       "      <td>656</td>\n",
       "      <td>B</td>\n",
       "      <td>119.0</td>\n",
       "      <td>0.0</td>\n",
       "      <td>25.2</td>\n",
       "      <td>144.2</td>\n",
       "      <td>NaN</td>\n",
       "    </tr>\n",
       "    <tr>\n",
       "      <th>1977</th>\n",
       "      <td>215</td>\n",
       "      <td>2</td>\n",
       "      <td>657</td>\n",
       "      <td>B</td>\n",
       "      <td>119.0</td>\n",
       "      <td>0.0</td>\n",
       "      <td>35.2</td>\n",
       "      <td>154.2</td>\n",
       "      <td>NaN</td>\n",
       "    </tr>\n",
       "    <tr>\n",
       "      <th>1978</th>\n",
       "      <td>215</td>\n",
       "      <td>2</td>\n",
       "      <td>658</td>\n",
       "      <td>B</td>\n",
       "      <td>119.0</td>\n",
       "      <td>0.0</td>\n",
       "      <td>21.2</td>\n",
       "      <td>140.2</td>\n",
       "      <td>NaN</td>\n",
       "    </tr>\n",
       "    <tr>\n",
       "      <th>1979</th>\n",
       "      <td>215</td>\n",
       "      <td>2</td>\n",
       "      <td>659</td>\n",
       "      <td>B</td>\n",
       "      <td>119.0</td>\n",
       "      <td>0.0</td>\n",
       "      <td>28.2</td>\n",
       "      <td>147.2</td>\n",
       "      <td>NaN</td>\n",
       "    </tr>\n",
       "  </tbody>\n",
       "</table>\n",
       "<p>1980 rows × 9 columns</p>\n",
       "</div>"
      ],
      "text/plain": [
       "      beds.slots  world_id   id condition  arrived  waiting  bed_time  \\\n",
       "0            165         0    0         A      0.0      0.0      24.2   \n",
       "1            165         0    1         B      0.0      0.0      27.2   \n",
       "2            165         0    2         B      0.0      0.0      26.2   \n",
       "3            165         0    3         B      0.0      0.0      22.2   \n",
       "4            165         0    4         B      0.0      0.0      28.2   \n",
       "...          ...       ...  ...       ...      ...      ...       ...   \n",
       "1975         215         2  655         A    119.0      0.0      24.2   \n",
       "1976         215         2  656         B    119.0      0.0      25.2   \n",
       "1977         215         2  657         B    119.0      0.0      35.2   \n",
       "1978         215         2  658         B    119.0      0.0      21.2   \n",
       "1979         215         2  659         B    119.0      0.0      28.2   \n",
       "\n",
       "      treated  died  \n",
       "0        24.2   NaN  \n",
       "1        27.2   NaN  \n",
       "2        26.2   NaN  \n",
       "3        22.2   NaN  \n",
       "4        28.2   NaN  \n",
       "...       ...   ...  \n",
       "1975    143.2   NaN  \n",
       "1976    144.2   NaN  \n",
       "1977    154.2   NaN  \n",
       "1978    140.2   NaN  \n",
       "1979    147.2   NaN  \n",
       "\n",
       "[1980 rows x 9 columns]"
      ]
     },
     "execution_count": 2,
     "metadata": {},
     "output_type": "execute_result"
    }
   ],
   "source": [
    "df = pd.read_csv('ICU - Patient_Timing.csv')\n",
    "df"
   ]
  },
  {
   "cell_type": "markdown",
   "id": "ab8004fd",
   "metadata": {},
   "source": [
    "#### Distributie van de tijd in de wachtrij van alle patiënten  \n",
    "In onderstaande visualisatie wordt voor elke world_id een histogram geplot. Omdat de histogrammen over elkaar gelegd worden en daarom niet zo goed te onderscheiden zijn, heb ik een density plot toegevoegd die een lijn over de histogrammen legt. Omdat het aantal verschillende waardes laag is, is die lijn niet zo *smooth*."
   ]
  },
  {
   "cell_type": "code",
   "execution_count": 3,
   "id": "d1931f6f",
   "metadata": {},
   "outputs": [
    {
     "data": {
      "image/png": "[encoded data removed]",
      "text/plain": [
       "<Figure size 1000x600 with 1 Axes>"
      ]
     },
     "metadata": {},
     "output_type": "display_data"
    }
   ],
   "source": [
    "# Maak figuur aan\n",
    "plt.figure(figsize=(10, 6))\n",
    "\n",
    "# Maak een histogram aan\n",
    "sns.histplot(\n",
    "    data=df,\n",
    "    x='waiting',\n",
    "    hue='beds.slots',       # Dit zorgt voor een group_by voor elke beds.slots\n",
    "    alpha=0.3,\n",
    "    bins=[0, 1, 2, 3, 4],   # Dit zorgt voor dezelfde bins voor elk histogram\n",
    "    stat='count',\n",
    "    common_bins=True,\n",
    "    palette='Set1',\n",
    "    kde=True,               # Dit zorgt voor de density plot\n",
    "    legend=True\n",
    ")\n",
    "\n",
    "plt.xlabel('Wachttijd')\n",
    "plt.ylabel('Aantal')\n",
    "plt.title('Histogram met KDE voor elke beds.slots')\n",
    "plt.tight_layout()\n",
    "plt.show()"
   ]
  },
  {
   "cell_type": "markdown",
   "id": "4f73669f",
   "metadata": {},
   "source": [
    "Een alternatieve oplossing is om met plotly een interactieve grafiek te maken waarbij je world_id's aan en uit kunt zetten om overzicht te creëren."
   ]
  },
  {
   "cell_type": "code",
   "execution_count": 4,
   "id": "033caec7",
   "metadata": {},
   "outputs": [
    {
     "data": {
      "application/vnd.plotly.v1+json": {
       "config": {
        "plotlyServerURL": "https://plot.ly"
       },
       "data": [
        {
         "name": "beds.slots 165",
         "opacity": 0.6,
         "type": "histogram",
         "x": {
          "bdata": "AAAAAAAAAAAAAAAAAAAAAAAAAAAAAAAAAAAAAAAAAAAAAAAAAAAAAAAAAAAAAAAAAAAAAAAAAAAAAAAAAAAAAAAAAAAAAAAAAAAAAAAAAAAAAAAAAAAAAAAAAAAAAAAAAAAAAAAAAAAAAAAAAAAAAAAAAAAAAAAAAAAAAAAAAAAAAAAAAAAAAAAAAAAAAAAAAAAAAAAAAAAAAAAAAAAAAAAAAAAAAAAAAAAAAAAAAAAAAAAAAAAAAAAAAAAAAAAAAAAAAAAAAAAAAAAAAAAAAAAAAAAAAAAAAAAAAAAAAAAAAAAAAAAAAAAAAAAAAAAAAAAAAAAAAAAAAAAAAAAAAAAAAAAAAAAAAAAAAAAAAAAAAAAAAAAAAAAAAAAAAAAAAAAAAAAAAAAAAAAAAAAAAAAAAAAAAAAAAAAAAAAAAAAAAAAAAAAAAAAAAAAAAAAAAAAAAAAAAAAAAAAAAAAAAAAAAAAAAAAAAAAAAAAAAAAAAAAAAAAAAAAAAAAAAAAAAAAAAAAAAAAAAAAAAAAAAAAAAAAAAAAAAAAAAAAAAAAAAAAAAAAAAAAAAAAAAAAAAAAAAAAAAAAAAAAAAAAAAAAAAAAAAAAAAAAAAAAAAAAAAAAAAAAAAAAAAAAAAAAAAAAAAAAAAAAAAAAAAAAAAAAAAAAAAAAAAAAAAAAAAAAAAAAAAAAAAAAAAAAAAAAAAAAAAAAAAAAAAAAAAAAAAAAAAAAAAAAAAAAAAAAAAAAAAAAAAAAAAAAAAAAAAAAAAAAAAAAAAAAAAAAAAAAAAAAAAAAAAAAAAAAAAAAAAAAAAAAAAAAAAAAAAAAAAAAAAAAAAAAAAAAAAAAAAAAAAAAAAAAAAAAAAAAAAAAAAAAAAAAAAAAAAAAAAAAAAAAAAAAAAAAAAAAAAAAAAAAAAAAAAAAAAAAAAAAAAAAAAAAAAAAAAAAAAAAAAAAAAAAAAAAAAAAAAAAAAAAAAAAAAAAAAAAAAAAAAAAAAAAAAAAAAAAAAAAAAAAAAAAAAAAAAAAAAAAAAAAAAAAAAAAAAAAAAAAAAAAAAAAAAAAAAAAAAAAAAAAAAAAAAAAAAAAAAAAAAAAAAAAAAAAAAAAAAAAAAAAAAAAAAAAAAAAAAAAAAAAAAAAAAAAAAAAAAAAAAAAAAAAAAAAAAAAAAAAAAAAAAAAAAAAAAAAAAAAAAAAAAAAAAAAAAAAAAAAAAAAAAAAAAAAAAAAAAAAAAAAAAAAAAAAAAAAAAAAAAAAAAAAAAAAAAAAAAAAAAAAAAAAAAAAAAAAAAAAAAAAAAAAAAAAAAAAAAAAAAAAAAAAAAAAAAAAAAAAAAAAAAAAAAAAAAAAAAAAAAAAAAAAAAAAAAAAAAAAAAAAAAAAAAAAAAAAAAAAAAAAAAAAAAAAAAAAAAAAAAAAAAAAAAAAAAAAAAAAAAAAAAAAAAAAAAAAAAAAAAAAAAAAAAAAAAAAAAAAAAAAAAAAAAAAAAAAAAAAAAAAAAAAAAAAAAAAAAAAAAAAAAAAAAAAAAAAAAAAAAAAAAAAAAAAAAAAAAAAAAAAAAAAAAAAAAAAAAAAAAAAAAAAAAAAAAAAAAAAAAAAAAAAAAAAAAAAAAAAAAAAAAAAAAAAAAAAAAAAAAAAAAAAAAAAAAAAAAAAAAAAAAAAAAAAAAAAAAAAAAAAAAAAAAAAAAAAAAAAAAAAAAAAAAAAAAAAAAAAAAAAAAAAAAAAAAAAAAAAAAAAAAAAAAAAAAAAAAAAAAAAAAAAAAAAAAAAAAAAAAAAAAAAAAAAAAAAAAAAAAAAAAAAAAAAAAAAAAAAAAAAAAAAAAAAAAAAAAAAAAAAAAAAAAAAAAAAAAAAAAAAAAAAAAAAAAAAAAAAAAAAAAAAAAAAAAAAAAAAAAAAAAAAAAAAAAAAAAAAAAAAAAAAAAAAAAAAAAAAAAAAAAAAAAAAAAAAAAAAAAAAAAAAAAAAAAAAAAAAAAAAAAAAAAAAAAAAAAAAAAAAAAAAAAAAAAAAAAAAAAAAAAAAAAAAAAAAAAAAAAAAAAAAAAAAAAAAAAAAAAAAAAAAAAAAAAAAAAAAAAAAAAAAAAAAAAAAAAAAAAAAAAAAAAAAAAAAAAAAAAAAAAAAAAAAAAAAAAAAAAAAAAAAAAAAAAAAAAAAAAAAAAAAAAAAAAAAAAAAAAAAAAAAAAAAAAAAAAAAAAAAAAAAAAAAAAAAAAAAAAAAAAAAAAAAAAAAAAAAAAAAAAAAAAAAAAAAAAAAAAAAAAAAAAAAAAAAAAAAAAAAAAAAAAAAAAAAAAAAAAAAAAAAAAAAAAAAAAAAAAAAAAAAAAAAAAAAAAAAAAAAAAAAAAAAAAAAAAAAAAAAAAAAAAAAAAAAAAAAAAAAAAAAAAAAAAAAAAAAAAAAAAAAAAAAAAAAAAAAAAAAAAAAAAAAAAAAAAAAAAAAAAAAAAAAAAAAAAAAAAAAAAAAAAAAAAAAAAAAAAAAAAAAAAAAAAAAAAAAAAAAAAAAAAAAAAAAAAAAAAAAAAAAAAAAAAAAAAAAAAAAAAAAAAAAAAAAAAAAAAAAAAAAAAAAAAAAAAAAAAAAAAAAAAAAAAAAAAAAAAAAAAAAAAAAAAAAAAAAAAAAAAAAAAAAAAAAAAAAAAAAAAAAAAAAAAAAAAAAAAAAAAAAAAAAAAAAAAAAAAAAAAAAAAAAAAAAAAAAAAAAAAAAAAAAAAAAAAAAAAAAAAAAAAAAAAAAAAAAAAAAAAAAAAAAAAAAAAAAAAAAAAAAAAAAAAAAAAAAAAAAAAAAAAAAAAAAAAAAAAAAAAAAAAAAAAAAAAAAAAAAAAAAAAAAAAAAAAAAAAAAAAAAAAAAAAAAAAAAAAAAAAAAAAAAAAAAAAAAAAAAAAAAAAAAAAAAAAAAAAAAAAAAAAAAAAAAAAAAAAAAAAAAAAAAAAAAAAAAAAAAAAAAAAAAAAAAAAAAAAAAAAAAAAAAAAAAAAAAAAAAAAAAAAAAAAAAAAAAAAAAAAAAAAAAAAAAAAAAAAAAAAAAAAAAAAAAAAAAAAAAAAAAAAAAAAAAAAAAAAAAAAAAAAAAAAAAAAAAAAAAAAAAAAAAAAAAAAAAAAAAAAAAAAAAAAAAAAAAAAAAAAAAAAAAAAAAAAAAAAAAAAAAAAAAAAAAAAAAAAAAAAAAAAAAAAAAAAAAAAAAAAAAAAAAAAAAAAAAAAAAAAAAAAAAAAAAAAAAAAAAAAAAAAAAAAAAAAAAAAAAAAAAAAAAAAAAAAAAAAAAAAAAAAAAAAAAAAAAAAAAAAAAAAAAAAAAAAAAAAAAAAAAAAAAAAAAAAAAAAAAAAAAAAAAAAAAAAAAAAAAAAAAAAAAAAAAAAAAAAAAAAAAAAAAAAAAAAAAAAAAAAAAAAAAAAAAAAAAAAAAAAAAAAAAAAAAAAAAAAAAAAAAAAAAAAAAAAAAAAAAAAAAAAAAAAAAAAAAAAAAAAAAAAAAAAAAAAAAAAAAAAAAAAAAAAAAAAAAAAAAAAAAAAAAAAAAAAAAAAAAAAAAAAAAAAAAAAAAAAAAAAAAAAP6ZmZmZmck/gJmZmZmZ2T8AmpmZmZnZPwCamZmZmdk/AJqZmZmZ2T9AMzMzMzPzP4BmZmZmZvY/AJqZmZmZ2T+AZmZmZmb2P0AzMzMzMwNAQDMzMzMzA0BAMzMzMzMDQEAzMzMzMwNAQDMzMzMzA0AAAAAAAAAAQIBmZmZmZvY/gGZmZmZm9j8AAAAAAAAAQEAzMzMzMwNAQDMzMzMzA0CAZmZmZmb2P6CZmZmZmQFAoJmZmZmZAUBAMzMzMzPzP4BmZmZmZvY/gGZmZmZm9j+AZmZmZmb2P4BmZmZmZvY/oJmZmZmZAUBAMzMzMzPzP4BmZmZmZvY/gGZmZmZm9j+AZmZmZmb2P4BmZmZmZvY/gGZmZmZm9j+AZmZmZmb2P6CZmZmZmQFAgGZmZmZm9j+AZmZmZmb2P4BmZmZmZvY/gGZmZmZm9j+AZmZmZmb2P4BmZmZmZvY/QDMzMzMz8z+AZmZmZmb2P4BmZmZmZvY/gGZmZmZm9j+AZmZmZmb2P4BmZmZmZvY/AAAAAAAAAEBAMzMzMzPzP4BmZmZmZvY/gGZmZmZm9j+AZmZmZmb2P4BmZmZmZvY/AAAAAAAAAEAAAAAAAAAAQKCZmZmZmQFAgGZmZmZm9j+AZmZmZmb2P4BmZmZmZvY/AAAAAAAAAECgmZmZmZkBQIBmZmZmZvY/gGZmZmZm9j9AMzMzMzMDQKCZmZmZmQlAQDMzMzMzC0BAMzMzMzMLQEAzMzMzMwtAQDMzMzMzA0AAAAAAAAAAQEAzMzMzMwNAgGZmZmZm9j/AzMzMzMz8PwAAAAAAAABAoJmZmZmZAUBAMzMzMzPzP4BmZmZmZvY/gGZmZmZm9j+AZmZmZmb2P0AzMzMzMwNAQDMzMzMzA0BAMzMzMzMDQMDMzMzMzPw/oJmZmZmZAUAAAAAAAAAAQAAAAAAAAABAAAAAAAAAAECAZmZmZmb2P4BmZmZmZvY/gGZmZmZm9j+AZmZmZmb2P4BmZmZmZvY/oJmZmZmZAUBAMzMzMzMDQEAzMzMzMwNAQDMzMzMzA0CAZmZmZmb2P4BmZmZmZvY/QDMzMzMzA0AAAAAAAAAAQAAAAAAAAABAAAAAAAAAAECAZmZmZmb2P4BmZmZmZvY/gGZmZmZm9j+AZmZmZmb2P4BmZmZmZvY/gGZmZmZm9j9AMzMzMzMDQMDMzMzMzARAwMzMzMzM/D/AzMzMzMz8PwAAAAAAAABAoJmZmZmZAUCgmZmZmZkBQIBmZmZmZvY/gGZmZmZm9j+AZmZmZmb2P4BmZmZmZvY/gGZmZmZm9j+gmZmZmZkBQEAzMzMzM/M/gGZmZmZm9j+AZmZmZmb2P4BmZmZmZvY/gGZmZmZm9j8AmpmZmZnZP0AzMzMzM/M/QDMzMzMz8z+AZmZmZmb2P4BmZmZmZvY/AJqZmZmZ2T8AmpmZmZnZP4CZmZmZmek/AJqZmZmZ2T8AmpmZmZnZPwCamZmZmdk/AJqZmZmZ2T9AMzMzMzPzP4BmZmZmZvY/wMzMzMzM/D8AAAAAAAAAQIBmZmZmZvY/gGZmZmZm9j+AmZmZmZn5P8DMzMzMzPw/AAAAAAAAAECgmZmZmZkBQAAAAAAAAABAQDMzMzMzA0DAzMzMzMz8P8DMzMzMzPw/oJmZmZmZAUCgmZmZmZkBQGBmZmZmZgZAYGZmZmZmBkBgZmZmZmYGQGBmZmZmZgZAwMzMzMzM/D/AzMzMzMz8P8DMzMzMzPw/oJmZmZmZAUDAzMzMzMwEQAAAAAAAAABAwMzMzMzMBEDAzMzMzMz8P8DMzMzMzPw/wMzMzMzM/D+gmZmZmZkBQEAzMzMzMwNAYGZmZmZmBkBgZmZmZmYGQEAzMzMzMwNAwMzMzMzMBEBgZmZmZmYGQGBmZmZmZgZAwMzMzMzM/D8AAAAAAAAAQMDMzMzMzARAYGZmZmZmBkDAzMzMzMz8P8DMzMzMzPw/wMzMzMzM/D+AmZmZmZnpP4CZmZmZmek/gJmZmZmZ6T+AmZmZmZnpP0AzMzMzM/M//pmZmZmZyT/+mZmZmZnJP/6ZmZmZmck/gJmZmZmZ6T8AAAAAAAAAAACamZmZmdk/gJmZmZmZ6T9AMzMzMzPzP0AzMzMzM/M/QDMzMzMz8z9AMzMzMzPzPwCamZmZmdk/ADMzMzMz4z8AAAAAAAAAAAAAAAAAAAAAADMzMzMz4z8AMzMzMzPjP4CZmZmZmek/gJmZmZmZ6T+AmZmZmZnpP4CZmZmZmek/QDMzMzMz8z9AMzMzMzPzPwAzMzMzM+M/ADMzMzMz4z+AmZmZmZnpP4CZmZmZmek/gJmZmZmZ+T/AzMzMzMz8P4CZmZmZmek/gJmZmZmZ6T9AMzMzMzPzP8DMzMzMzPw/wMzMzMzM/D8AAAAAAAAAQAAAAAAAAABAgJmZmZmZ+T/AzMzMzMz8P8DMzMzMzPw/AAAAAAAAAECgmZmZmZkBQGBmZmZmZgZAwMzMzMzM/D/AzMzMzMz8P8DMzMzMzPw/AAAAAAAAAEBAMzMzMzPzP4CZmZmZmfk/gJmZmZmZ6T+AmZmZmZnpP0AzMzMzM/M/wMzMzMzM/D/AzMzMzMz8P8DMzMzMzPw/wMzMzMzM/D+gmZmZmZkBQKCZmZmZmQFAgGZmZmZm9j/AzMzMzMz8PwAAAAAAAABAoJmZmZmZAUBAMzMzMzMDQICZmZmZmfk/gJmZmZmZ+T+AmZmZmZn5P8DMzMzMzPw/QDMzMzMz8z9AMzMzMzPzP0AzMzMzM/M/gJmZmZmZ+T/AzMzMzMz8P8DMzMzMzPw/gJmZmZmZ+T+AmZmZmZn5P8DMzMzMzPw/wMzMzMzM/D/AzMzMzMz8P6CZmZmZmQFAwMzMzMzM/D/AzMzMzMz8P6CZmZmZmQFAoJmZmZmZAUDAzMzMzMwEQGBmZmZmZgZAYGZmZmZmBkBgZmZmZmYGQKCZmZmZmQlAoJmZmZmZCUAAAAAAAAAAQKCZmZmZmQFAAAAAAAAAAECgmZmZmZkBQKCZmZmZmQFAwMzMzMzMBEDAzMzMzMz8P6CZmZmZmQFAwMzMzMzMBEDAzMzMzMwEQMDMzMzMzPw/wMzMzMzM/D/AzMzMzMz8P6CZmZmZmQFAoJmZmZmZAUBAMzMzMzPzP0AzMzMzM/M/gGZmZmZm9j/AzMzMzMz8P8DMzMzMzPw/wMzMzMzM/D8AAAAAAAAAQAAAAAAAAABAoJmZmZmZAUCAmZmZmZn5P8DMzMzMzPw/wMzMzMzM/D8AAAAAAAAAQAAAAAAAAPA/QDMzMzMz8z9AMzMzMzPzP0AzMzMzM/M/gJmZmZmZ+T+AmZmZmZn5P8DMzMzMzPw/AAAAAAAAAEBAMzMzMzPzP0AzMzMzM/M/gJmZmZmZ+T/AzMzMzMz8P6CZmZmZmQFAAAAAAAAAAEAAAAAAAAAAQEAzMzMzM/M/QDMzMzMz8z/+mZmZmZnJP4CZmZmZmek/AAAAAAAA8D8AAAAAAADwP0AzMzMzM/M/",
          "dtype": "f8"
         },
         "xbins": {
          "end": 3.5,
          "size": 1,
          "start": -0.5
         }
        },
        {
         "name": "beds.slots 190",
         "opacity": 0.6,
         "type": "histogram",
         "x": {
          "bdata": "AAAAAAAAAAAAAAAAAAAAAAAAAAAAAAAAAAAAAAAAAAAAAAAAAAAAAAAAAAAAAAAAAAAAAAAAAAAAAAAAAAAAAAAAAAAAAAAAAAAAAAAAAAAAAAAAAAAAAAAAAAAAAAAAAAAAAAAAAAAAAAAAAAAAAAAAAAAAAAAAAAAAAAAAAAAAAAAAAAAAAAAAAAAAAAAAAAAAAAAAAAAAAAAAAAAAAAAAAAAAAAAAAAAAAAAAAAAAAAAAAAAAAAAAAAAAAAAAAAAAAAAAAAAAAAAAAAAAAAAAAAAAAAAAAAAAAAAAAAAAAAAAAAAAAAAAAAAAAAAAAAAAAAAAAAAAAAAAAAAAAAAAAAAAAAAAAAAAAAAAAAAAAAAAAAAAAAAAAAAAAAAAAAAAAAAAAAAAAAAAAAAAAAAAAAAAAAAAAAAAAAAAAAAAAAAAAAAAAAAAAAAAAAAAAAAAAAAAAAAAAAAAAAAAAAAAAAAAAAAAAAAAAAAAAAAAAAAAAAAAAAAAAAAAAAAAAAAAAAAAAAAAAAAAAAAAAAAAAAAAAAAAAAAAAAAAAAAAAAAAAAAAAAAAAAAAAAAAAAAAAAAAAAAAAAAAAAAAAAAAAAAAAAAAAAAAAAAAAAAAAAAAAAAAAAAAAAAAAAAAAAAAAAAAAAAAAAAAAAAAAAAAAAAAAAAAAAAAAAAAAAAAAAAAAAAAAAAAAAAAAAAAAAAAAAAAAAAAAAAAAAAAAAAAAAAAAAAAAAAAAAAAAAAAAAAAAAAAAAAAAAAAAAAAAAAAAAAAAAAAAAAAAAAAAAAAAAAAAAAAAAAAAAAAAAAAAAAAAAAAAAAAAAAAAAAAAAAAAAAAAAAAAAAAAAAAAAAAAAAAAAAAAAAAAAAAAAAAAAAAAAAAAAAAAAAAAAAAAAAAAAAAAAAAAAAAAAAAAAAAAAAAAAAAAAAAAAAAAAAAAAAAAAAAAAAAAAAAAAAAAAAAAAAAAAAAAAAAAAAAAAAAAAAAAAAAAAAAAAAAAAAAAAAAAAAAAAAAAAAAAAAAAAAAAAAAAAAAAAAAAAAAAAAAAAAAAAAAAAAAAAAAAAAAAAAAAAAAAAAAAAAAAAAAAAAAAAAAAAAAAAAAAAAAAAAAAAAAAAAAAAAAAAAAAAAAAAAAAAAAAAAAAAAAAAAAAAAAAAAAAAAAAAAAAAAAAAAAAAAAAAAAAAAAAAAAAAAAAAAAAAAAAAAAAAAAAAAAAAAAAAAAAAAAAAAAAAAAAAAAAAAAAAAAAAAAAAAAAAAAAAAAAAAAAAAAAAAAAAAAAAAAAAAAAAAAAAAAAAAAAAAAAAAAAAAAAAAAAAAAAAAAAAAAAAAAAAAAAAAAAAAAAAAAAAAAAAAAAAAAAAAAAAAAAAAAAAAAAAAAAAAAAAAAAAAAAAAAAAAAAAAAAAAAAAAAAAAAAAAAAAAAAAAAAAAAAAAAAAAAAAAAAAAAAAAAAAAAAAAAAAAAAAAAAAAAAAAAAAAAAAAAAAAAAAAAAAAAAAAAAAAAAAAAAAAAAAAAAAAAAAAAAAAAAAAAAAAAAAAAAAAAAAAAAAAAAAAAAAAAAAAAAAAAAAAAAAAAAAAAAAAAAAAAAAAAAAAAAAAAAAAAAAAAAAAAAAAAAAAAAAAAAAAAAAAAAAAAAAAAAAAAAAAAAAAAAAAAAAAAAAAAAAAAAAAAAAAAAAAAAAAAAAAAAAAAAAAAAAAAAAAAAAAAAAAAAAAAAAAAAAAAAAAAAAAAAAAAAAAAAAAAAAAAAAAAAAAAAAAAAAAAAAAAAAAAAAAAAAAAAAAAAAAAAAAAAAAAAAAAAAAAAAAAAAAAAAAAAAAAAAAAAAAAAAAAAAAAAAAAAAAAAAAAAAAAAAAAAAAAAAAAAAAAAAAAAAAAAAAAAAAAAAAAAAAAAAAAAAAAAAAAAAAAAAAAAAAAAAAAAAAAAAAAAAAAAAAAAAAAAAAAAAAAAAAAAAAAAAAAAAAAAAAAAAAAAAAAAAAAAAAAAAAAAAAAAAAAAAAAAAAAAAAAAAAAAAAAAAAAAAAAAAAAAAAAAAAAAAAAAAAAAAAAAAAAAAAAAAAAAAAAAAAAAAAAAAAAAAAAAAAAAAAAAAAAAAAAAAAAAAAAAAAAAAAAAAAAAAAAAAAAAAAAAAAAAAAAAAAAAAAAAAAAAAAAAAAAAAAAAAAAAAAAAAAAAAAAAAAAAAAAAAAAAAAAAAAAAAAAAAAAAAAAAAAAAAAAAAAAAAAAAAAAAAAAAAAAAAAAAAAAAAAAAAAAAAAAAAAAAAAAAAAAAAAAAAAAAAAAAAAAAAAAAAAAAAAAAAAAAAAAAAAAAAAAAAAAAAAAAAAAAAAAAAAAAAAAAAAAAAAAAAAAAAAAAAAAAAAAAAAAAAAAAAAAAAAAAAAAAAAAAAAAAAAAAAAAAAAAAAAAAAAAAAAAAAAAAAAAAAAAAAAAAAAAAAAAAAAAAAAAAAAAAAAAAAAAAAAAAAAAAAAAAAAAAAAAAAAAAAAAAAAAAAAAAAAAAAAAAAAAAAAAAAAAAAAAAAAAAAAAAAAAAAAAAAAAAAAAAAAAAAAAAAAAAAAAAAAAAAAAAAAAAAAAAAAAAAAAAAAAAAAAAAAAAAAAAAAAAAAAAAAAAAAAAAAAAAAAAAAAAAAAAAAAAAAAAAAAAAAAAAAAAAAAAAAAAAAAAAAAAAAAAAAAAAAAAAAAAAAAAAAAAAAAAAAAAAAAAAAAAAAAAAAAAAAAAAAAAAAAAAAAAAAAAAAAAAAAAAAAAAAAAAAAAAAAAAAAAAAAAAAAAAAAAAAAAAAAAAAAAAAAAAAAAAAAAAAAAAAAAAAAAAAAAAAAAAAAAAAAAAAAAAAAAAAAAAAAAAAAAAAAAAAAAAAAAAAAAAAAAAAAAAAAAAAAAAAAAAAAAAAAAAAAAAAAAAAAAAAAAAAAAAAAAAAAAAAAAAAAAAAAAAAAAAAAAAAAAAAAAAAAAAAAAAAAAAAAAAAAAAAAAAAAAAAAAAAAAAAAAAAAAAAAAAAAAAAAAAAAAAAAAAAAAAAAAAAAAAAAAAAAAAAAAAAAAAAAAAAAAAAAAAAAAAAAAAAAAAAAAAAAAAAAAAAAAAAAAAAAAAAAAAAAAAAAAAAAAAAAAAAAAAAAAAAAAAAAAAAAAAAAAAAAAAAAAAAAAAAAAAAAAAAAAAAAAAAAAAAAAAAAAAAAAAAAAAAAAAAAAAAAAAAAAAAAAAAAAAAAAAAAAAAAAAAAAAAAAAAAAAAAAAAAAAAAAAAAAAAAAAAAAAAAAAAAAAAAAAAAAAAAAAAAAAAAAAAAAAAAAAAAAAAAAAAAAAAAAAAAAAAAAAAAAAAAAAAAAAAAAAAAAAAAAAAAAAAAAAAAAAAAAAAAAAAAAAAAAAAAAAAAAAAAAAAAAAAAAAAAAAAAAAAAAAAAAAAAAAAAAAAAAAAAAAAAAAAAAAAAAAAAAAAAAAAAAAAAAAAAAAAAAAAAAAAAAAAAAAAAAAAAAAAAAAAAAAAAAAAAAAAAAAAAAAAAAAAAAAAAAAAAAAAAAAAAAAAAAAAAAAAAAAAAAAAAAAAAAAAAAAAAAAAAAAAAAAAAAAAAAAAAAAAAAAAAAAAAAAAAAAAAAAAAAAAAAAAAAAAAAAAAAAAAAAAAAAAAAAAAAAAAAAAAAAAAAAAAAAAAAAAAAAAAAAAAAAAAAAAAAAAAAAAAAAAAAAAAAAAAAAAAAAAAAAAAAAAAAAAAAAAAAAAAAAAAAAAAAAAAAAAAAAAAAAAAAAAAAAAAAAAAAAAAAAAAAAAAAAAAAAAAAAAAAAAAAAAAAAAAAAAAAAAAAAAAAAAAAAAAAAAAAAAAAAAAAAAAAAAAAAAAAAAAAAAAAAAAAAAAAAAAAAAAAAAAAAAAAAAAAAAAAAAAAAAAAAAAAAAAAAAAAAAAAAAAAAAAAAAAAAAAAAAAAAAAAAAAAAAAAAAAAAAAAAAAAAAAAAAAAAAAAAAAAAAAAAAAAAAAAAAAAAAAAAAAAAAAAAAAAAAAAAAAAAAAAAAAAAAAAAAAAAAAAAAAAAAAAAAAAAAAAAAAAAAAAAAAAAAAAAAAAAAAAAAAAAAAAAAAAAAAAAAAAAAAAAAAAAAAAAAAAAAAAAAAAAAAAAAAAAAAAAAAAAAAAAAAAAAAAAAAAAAAAAAAAAAAAAAAAAAAAAAAAAAAAAAAAAAAAAAAAAAAAAAAAAAAAAAAAAAAAAAAAAAAAAAAAAAAAAAAAAAAAAAAAAAAAAAAAAAAAAAAAAAAAAAAAAAAAAAAAAAAAAAAAAAAAAAAAAAAAAAAAAAAAAAAAAAAAAAAAAAAAAAAAAAAAAAAAAAAAAAAAAAAAAAAAAAAAAAAAAAAAAAAAAAAAAAAAAAAAAAAAAAAAAAAAAAAAAAAAAAAAAAAAAAAAAAAAAAAAAAAAAAAAAAAAAAAAAAAAAAAAAAAAAAAAAAAAAAAAAAAAAAAAAAAAAAAAAAAAAAAAAAAAAAAAAAAAAAAAAAAAAAAAAAAAAAAAAAAAAAAAAAAAAAAAAAAAAAAAAAAAAAAAAAAAAAAAAAAAAAAAAAAAAAAAAAAAAAAAAAAAAAAAAAAAAAAAAAAAAAAAAAAAAAAAAAAAAAAAAAAAAAAAAAAAAAAAAAAAAAAAAAAAAAAAAAAAAAAAP6ZmZmZmck/AJqZmZmZ2T8AAAAAAAAAAAAAAAAAAAAAAAAAAAAAAAAAAAAAAAAAAP6ZmZmZmck/AJqZmZmZ2T8AmpmZmZnZPwCamZmZmdk/AAAAAAAAAAAAAAAAAAAAAAAAAAAAAAAAAAAAAAAAAAAAmpmZmZnZPwAAAAAAAAAAAAAAAAAAAAAAAAAAAAAAAAAAAAAAAAAAAAAAAAAAAAAAAAAAAAAAAAAAAAAAAAAAAAAAAAAAAAD+mZmZmZnJP/6ZmZmZmck/AJqZmZmZ2T8AAAAAAAAAAAAAAAAAAAAAAAAAAAAAAAAAAAAAAAAAAP6ZmZmZmck/AAAAAAAAAAAAAAAAAAAAAAAAAAAAAAAAAAAAAAAAAAAAAAAAAAAAAAAAAAAAAAAAAAAAAAAAAAAAAAAAAAAAAAAAAAAAAAAAAAAAAAAAAAAAAAAAAAAAAAAAAAAAAAAAAAAAAAAAAAAAAAAAAAAAAAAAAAAAAAAAAAAAAAAAAAAAAAAAAAAAAAAAAAAAAAAA/pmZmZmZyT8AAAAAAAAAAAAAAAAAAAAAAAAAAAAAAAAAAAAAAAAAAACamZmZmdk/AJqZmZmZ2T8AmpmZmZnZPwCamZmZmdk//pmZmZmZyT8AmpmZmZnZPwCamZmZmdk/AJqZmZmZ2T8AmpmZmZnZPwCamZmZmdk/AJqZmZmZ2T8AAAAAAAAAAAAAAAAAAAAA/pmZmZmZyT/+mZmZmZnJPwCamZmZmdk/AJqZmZmZ2T8AmpmZmZnZPwAAAAAAAAAAAAAAAAAAAAD+mZmZmZnJPwCamZmZmdk/AAAAAAAAAAAAAAAAAAAAAAAAAAAAAAAA/pmZmZmZyT8AAAAAAAAAAAAAAAAAAAAAAAAAAAAAAAAAAAAAAAAAAAAAAAAAAAAAAAAAAAAAAAAAAAAAAAAAAAAAAAAAAAAAAAAAAAAAAAAAAAAAAAAAAAAAAAAAAAAAAAAAAAAAAAAAAAAAAAAAAAAAAAAAAAAAAAAAAAAAAAAAAAAAAAAAAAAAAAAAAAAAAAAAAAAAAAAAAAAAAAAAAAAAAAAAAAAAAAAAAAAAAAAAAAAAAAAAAAAAAAAAAAAAAAAAAAAAAAAAAAAAAAAAAAAAAAAAAAAAAAAAAAAAAAAAAAAAAAAAAAAAAAAAAAAAAAAAAAAAAAAAAAAAAAAAAAAAAAAAAAAAAAAAAAAAAAAAAAAAAAAAAAAAAAAAAAAAAAAAAAAAAAAAAAAAAAAAAAAAAAAAAAAAAAAAAAAAAAAAAAAAAAAAAAAAAAAAAAAAAAAAAAAAAAAAAAAAAAAAAAAAAAAAAAAAAAAAAAAAAAAAAAAAAAAAAAAAAAAAAAAAAAAAAAAAAAD+mZmZmZnJPwCamZmZmdk/AAAAAAAAAAAAAAAAAAAAAAAAAAAAAAAAAJqZmZmZ2T8AAAAAAAAAAAAAAAAAAAAAAAAAAAAAAAAAAAAAAAAAAAAAAAAAAAAAAAAAAAAAAAAAAAAAAAAAAAAAAAAAAAAAAAAAAAAAAAD+mZmZmZnJP/6ZmZmZmck/AAAAAAAAAAAAAAAAAAAAAAAAAAAAAAAA/pmZmZmZyT8AmpmZmZnZPwAAAAAAAAAAAAAAAAAAAAD+mZmZmZnJPwCamZmZmdk/AAAAAAAAAAAAAAAAAAAAAP6ZmZmZmck/AJqZmZmZ2T8AmpmZmZnZP4CZmZmZmek/AAAAAAAAAAD+mZmZmZnJP/6ZmZmZmck//pmZmZmZyT8AmpmZmZnZPwCamZmZmdk/AAAAAAAAAAAAAAAAAAAAAACamZmZmdk/AJqZmZmZ2T8AmpmZmZnZPwCamZmZmdk/AJqZmZmZ2T+AZmZmZmb2P4BmZmZmZvY/gGZmZmZm9j8AmpmZmZnZPwCamZmZmdk/AJqZmZmZ2T8AmpmZmZnZP0AzMzMzM/M/gGZmZmZm9j8AMzMzMzPjP0AzMzMzM/M/QDMzMzMz8z9AMzMzMzPzPwCamZmZmdk/AJqZmZmZ2T8AmpmZmZnZPwCamZmZmdk/AJqZmZmZ2T8AAAAAAAAAAAAAAAAAAAAA/pmZmZmZyT/+mZmZmZnJP/6ZmZmZmck/AJqZmZmZ2T8AmpmZmZnZPwCamZmZmdk/AJqZmZmZ2T8AAAAAAAAAAAAAAAAAAAAAAAAAAAAAAAAAAAAAAAAAAAAAAAAAAAAAAAAAAAAAAAAAAAAAAAAAAAAAAAAAAAAAAAAAAAAAAAAAAAAAAAAAAAAAAAAAAAAAAAAAAAAAAAAAAAAAAAAAAAAAAAAAAAAAAAAAAAAAAAAAAAAAAAAAAAAAAAAAAAAA/pmZmZmZyT8AmpmZmZnZPwAAAAAAAAAAAAAAAAAAAAAAAAAAAAAAAAAAAAAAAAAAAAAAAAAAAAAAAAAAAAAAAAAAAAAAAAAA",
          "dtype": "f8"
         },
         "xbins": {
          "end": 3.5,
          "size": 1,
          "start": -0.5
         }
        },
        {
         "name": "beds.slots 215",
         "opacity": 0.6,
         "type": "histogram",
         "x": {
          "bdata": "AAAAAAAAAAAAAAAAAAAAAAAAAAAAAAAAAAAAAAAAAAAAAAAAAAAAAAAAAAAAAAAAAAAAAAAAAAAAAAAAAAAAAAAAAAAAAAAAAAAAAAAAAAAAAAAAAAAAAAAAAAAAAAAAAAAAAAAAAAAAAAAAAAAAAAAAAAAAAAAAAAAAAAAAAAAAAAAAAAAAAAAAAAAAAAAAAAAAAAAAAAAAAAAAAAAAAAAAAAAAAAAAAAAAAAAAAAAAAAAAAAAAAAAAAAAAAAAAAAAAAAAAAAAAAAAAAAAAAAAAAAAAAAAAAAAAAAAAAAAAAAAAAAAAAAAAAAAAAAAAAAAAAAAAAAAAAAAAAAAAAAAAAAAAAAAAAAAAAAAAAAAAAAAAAAAAAAAAAAAAAAAAAAAAAAAAAAAAAAAAAAAAAAAAAAAAAAAAAAAAAAAAAAAAAAAAAAAAAAAAAAAAAAAAAAAAAAAAAAAAAAAAAAAAAAAAAAAAAAAAAAAAAAAAAAAAAAAAAAAAAAAAAAAAAAAAAAAAAAAAAAAAAAAAAAAAAAAAAAAAAAAAAAAAAAAAAAAAAAAAAAAAAAAAAAAAAAAAAAAAAAAAAAAAAAAAAAAAAAAAAAAAAAAAAAAAAAAAAAAAAAAAAAAAAAAAAAAAAAAAAAAAAAAAAAAAAAAAAAAAAAAAAAAAAAAAAAAAAAAAAAAAAAAAAAAAAAAAAAAAAAAAAAAAAAAAAAAAAAAAAAAAAAAAAAAAAAAAAAAAAAAAAAAAAAAAAAAAAAAAAAAAAAAAAAAAAAAAAAAAAAAAAAAAAAAAAAAAAAAAAAAAAAAAAAAAAAAAAAAAAAAAAAAAAAAAAAAAAAAAAAAAAAAAAAAAAAAAAAAAAAAAAAAAAAAAAAAAAAAAAAAAAAAAAAAAAAAAAAAAAAAAAAAAAAAAAAAAAAAAAAAAAAAAAAAAAAAAAAAAAAAAAAAAAAAAAAAAAAAAAAAAAAAAAAAAAAAAAAAAAAAAAAAAAAAAAAAAAAAAAAAAAAAAAAAAAAAAAAAAAAAAAAAAAAAAAAAAAAAAAAAAAAAAAAAAAAAAAAAAAAAAAAAAAAAAAAAAAAAAAAAAAAAAAAAAAAAAAAAAAAAAAAAAAAAAAAAAAAAAAAAAAAAAAAAAAAAAAAAAAAAAAAAAAAAAAAAAAAAAAAAAAAAAAAAAAAAAAAAAAAAAAAAAAAAAAAAAAAAAAAAAAAAAAAAAAAAAAAAAAAAAAAAAAAAAAAAAAAAAAAAAAAAAAAAAAAAAAAAAAAAAAAAAAAAAAAAAAAAAAAAAAAAAAAAAAAAAAAAAAAAAAAAAAAAAAAAAAAAAAAAAAAAAAAAAAAAAAAAAAAAAAAAAAAAAAAAAAAAAAAAAAAAAAAAAAAAAAAAAAAAAAAAAAAAAAAAAAAAAAAAAAAAAAAAAAAAAAAAAAAAAAAAAAAAAAAAAAAAAAAAAAAAAAAAAAAAAAAAAAAAAAAAAAAAAAAAAAAAAAAAAAAAAAAAAAAAAAAAAAAAAAAAAAAAAAAAAAAAAAAAAAAAAAAAAAAAAAAAAAAAAAAAAAAAAAAAAAAAAAAAAAAAAAAAAAAAAAAAAAAAAAAAAAAAAAAAAAAAAAAAAAAAAAAAAAAAAAAAAAAAAAAAAAAAAAAAAAAAAAAAAAAAAAAAAAAAAAAAAAAAAAAAAAAAAAAAAAAAAAAAAAAAAAAAAAAAAAAAAAAAAAAAAAAAAAAAAAAAAAAAAAAAAAAAAAAAAAAAAAAAAAAAAAAAAAAAAAAAAAAAAAAAAAAAAAAAAAAAAAAAAAAAAAAAAAAAAAAAAAAAAAAAAAAAAAAAAAAAAAAAAAAAAAAAAAAAAAAAAAAAAAAAAAAAAAAAAAAAAAAAAAAAAAAAAAAAAAAAAAAAAAAAAAAAAAAAAAAAAAAAAAAAAAAAAAAAAAAAAAAAAAAAAAAAAAAAAAAAAAAAAAAAAAAAAAAAAAAAAAAAAAAAAAAAAAAAAAAAAAAAAAAAAAAAAAAAAAAAAAAAAAAAAAAAAAAAAAAAAAAAAAAAAAAAAAAAAAAAAAAAAAAAAAAAAAAAAAAAAAAAAAAAAAAAAAAAAAAAAAAAAAAAAAAAAAAAAAAAAAAAAAAAAAAAAAAAAAAAAAAAAAAAAAAAAAAAAAAAAAAAAAAAAAAAAAAAAAAAAAAAAAAAAAAAAAAAAAAAAAAAAAAAAAAAAAAAAAAAAAAAAAAAAAAAAAAAAAAAAAAAAAAAAAAAAAAAAAAAAAAAAAAAAAAAAAAAAAAAAAAAAAAAAAAAAAAAAAAAAAAAAAAAAAAAAAAAAAAAAAAAAAAAAAAAAAAAAAAAAAAAAAAAAAAAAAAAAAAAAAAAAAAAAAAAAAAAAAAAAAAAAAAAAAAAAAAAAAAAAAAAAAAAAAAAAAAAAAAAAAAAAAAAAAAAAAAAAAAAAAAAAAAAAAAAAAAAAAAAAAAAAAAAAAAAAAAAAAAAAAAAAAAAAAAAAAAAAAAAAAAAAAAAAAAAAAAAAAAAAAAAAAAAAAAAAAAAAAAAAAAAAAAAAAAAAAAAAAAAAAAAAAAAAAAAAAAAAAAAAAAAAAAAAAAAAAAAAAAAAAAAAAAAAAAAAAAAAAAAAAAAAAAAAAAAAAAAAAAAAAAAAAAAAAAAAAAAAAAAAAAAAAAAAAAAAAAAAAAAAAAAAAAAAAAAAAAAAAAAAAAAAAAAAAAAAAAAAAAAAAAAAAAAAAAAAAAAAAAAAAAAAAAAAAAAAAAAAAAAAAAAAAAAAAAAAAAAAAAAAAAAAAAAAAAAAAAAAAAAAAAAAAAAAAAAAAAAAAAAAAAAAAAAAAAAAAAAAAAAAAAAAAAAAAAAAAAAAAAAAAAAAAAAAAAAAAAAAAAAAAAAAAAAAAAAAAAAAAAAAAAAAAAAAAAAAAAAAAAAAAAAAAAAAAAAAAAAAAAAAAAAAAAAAAAAAAAAAAAAAAAAAAAAAAAAAAAAAAAAAAAAAAAAAAAAAAAAAAAAAAAAAAAAAAAAAAAAAAAAAAAAAAAAAAAAAAAAAAAAAAAAAAAAAAAAAAAAAAAAAAAAAAAAAAAAAAAAAAAAAAAAAAAAAAAAAAAAAAAAAAAAAAAAAAAAAAAAAAAAAAAAAAAAAAAAAAAAAAAAAAAAAAAAAAAAAAAAAAAAAAAAAAAAAAAAAAAAAAAAAAAAAAAAAAAAAAAAAAAAAAAAAAAAAAAAAAAAAAAAAAAAAAAAAAAAAAAAAAAAAAAAAAAAAAAAAAAAAAAAAAAAAAAAAAAAAAAAAAAAAAAAAAAAAAAAAAAAAAAAAAAAAAAAAAAAAAAAAAAAAAAAAAAAAAAAAAAAAAAAAAAAAAAAAAAAAAAAAAAAAAAAAAAAAAAAAAAAAAAAAAAAAAAAAAAAAAAAAAAAAAAAAAAAAAAAAAAAAAAAAAAAAAAAAAAAAAAAAAAAAAAAAAAAAAAAAAAAAAAAAAAAAAAAAAAAAAAAAAAAAAAAAAAAAAAAAAAAAAAAAAAAAAAAAAAAAAAAAAAAAAAAAAAAAAAAAAAAAAAAAAAAAAAAAAAAAAAAAAAAAAAAAAAAAAAAAAAAAAAAAAAAAAAAAAAAAAAAAAAAAAAAAAAAAAAAAAAAAAAAAAAAAAAAAAAAAAAAAAAAAAAAAAAAAAAAAAAAAAAAAAAAAAAAAAAAAAAAAAAAAAAAAAAAAAAAAAAAAAAAAAAAAAAAAAAAAAAAAAAAAAAAAAAAAAAAAAAAAAAAAAAAAAAAAAAAAAAAAAAAAAAAAAAAAAAAAAAAAAAAAAAAAAAAAAAAAAAAAAAAAAAAAAAAAAAAAAAAAAAAAAAAAAAAAAAAAAAAAAAAAAAAAAAAAAAAAAAAAAAAAAAAAAAAAAAAAAAAAAAAAAAAAAAAAAAAAAAAAAAAAAAAAAAAAAAAAAAAAAAAAAAAAAAAAAAAAAAAAAAAAAAAAAAAAAAAAAAAAAAAAAAAAAAAAAAAAAAAAAAAAAAAAAAAAAAAAAAAAAAAAAAAAAAAAAAAAAAAAAAAAAAAAAAAAAAAAAAAAAAAAAAAAAAAAAAAAAAAAAAAAAAAAAAAAAAAAAAAAAAAAAAAAAAAAAAAAAAAAAAAAAAAAAAAAAAAAAAAAAAAAAAAAAAAAAAAAAAAAAAAAAAAAAAAAAAAAAAAAAAAAAAAAAAAAAAAAAAAAAAAAAAAAAAAAAAAAAAAAAAAAAAAAAAAAAAAAAAAAAAAAAAAAAAAAAAAAAAAAAAAAAAAAAAAAAAAAAAAAAAAAAAAAAAAAAAAAAAAAAAAAAAAAAAAAAAAAAAAAAAAAAAAAAAAAAAAAAAAAAAAAAAAAAAAAAAAAAAAAAAAAAAAAAAAAAAAAAAAAAAAAAAAAAAAAAAAAAAAAAAAAAAAAAAAAAAAAAAAAAAAAAAAAAAAAAAAAAAAAAAAAAAAAAAAAAAAAAAAAAAAAAAAAAAAAAAAAAAAAAAAAAAAAAAAAAAAAAAAAAAAAAAAAAAAAAAAAAAAAAAAAAAAAAAAAAAAAAAAAAAAAAAAAAAAAAAAAAAAAAAAAAAAAAAAAAAAAAAAAAAAAAAAAAAAAAAAAAAAAAAAAAAAAAAAAAAAAAAAAAAAAAAAAAAAAAAAAAAAAAAAAAAAAAAAAAAAAAAAAAAAAAAAAAAAAAAAAAAAAAAAAAAAAAAAAAAAAAAAAAAAAAAAAAAAAAAAAAAAAAAAAAAAAAAAAAAAAAAAAAAAAAAAAAAAAAAAAAAAAAAAAAAAAAAAAAAAAAAAAAAAAAAAAAAAAAAAAAAAAAAAAAAAAAAAAAAAAAAAAAAAAAAAAAAAAAAAAAAAAAAAAAAAAAAAAAAAAAAAAAAAAAAAAAAAAAAAAAAAAAAAAAAAAAAAAAAAAAAAAAAAAAAAAAAAAAAAAAAAAAAAAAAAAAAAAAAAAAAAAAAAAAAAAAAAAAAAAAAAAAAAAAAAAAAAAAAAAAAAAAAAAAAAAAAAAAAAAAAAAAAAAAAAAAAAAAAAAAAAAAAAAAAAAAAAAAAAAAAAAAAAAAAAAAAAAAAAAAAAAAAAAAAAAAAAAAAAAAAAAAAAAAAAAAAAAAAAAAAAAAAAAAAAAAAAAAAAAAAAAAAAAAAAAAAAAAAAAAAAAAAAAAAAAAAAAAAAAAAAAAAAAAAAAAAAAAAAAAAAAAAAAAAAAAAAAAAAAAAAAAAAAAAAAAAAAAAAAAAAAAAAAAAAAAAAAAAAAAAAAAAAAAAAAAAAAAAAAAAAAAAAAAAAAAAAAAAAAAAAAAAAAAAAAAAAAAAAAAAAAAAAAAAAAAAAAAAAAAAAAAAAAAAAAAAAAAAAAAAAAAAAAAAAAAAAAAAAAAAAAAAAAAAAAAAAAAAAAAAAAAAAAAAAAAAAAAAAAAAAAAAAAAAAAAAAAAAAAAAAAAAAAAAAAAAAAAAAAAAAAAAAAAAAAAAAAAAAAAAAAAAAAAAAAAAAAAAAAAAAAAAAAAAAAAAAAAAAAAAAAAAAAAAAAAAAAAAAAAAAAAAAAAAAAAAAAAAAAAAAAAAAAAAAAAAAAAAAAAAAAAAAAAAAAAAAAAAAAAAAAAAAAAAAAAAAAAAAAAAAAAAAAAAAAAAAAAAAAAAAAAAAAAAAAAAAAAAAAAAAAAAAAAAAAAAAAAAAAAAAAAAAAAAAAAAAAAAAAAAAAAAAAAAAAAAAAAAAAAAAAAAAAAAAAAAAAAAAAAAAAAAAAAAAAAAAAAAAAAAAAAAAAAAAAAAAAAAAAAAAAAAAAAAAAAAAAAAAAAAAAAAAAAAAAAAAAAAAAAAAAAAAAAAAAAAAAAAAAAAAAAAAAAAAAAAAAAAAAAAAAAAAAAAAAAAAAAAAAAAAAAAAAAAAAAAAAAAAAAAAAAAAAAAAAAAAAAAAAAAAAAAAAAAAAAAAAAAAAAAAAAAAAAAAAAAAAAAAAAAAAAAAAAAAAAAAAAAAAAAAAAAAAAAAAAAAAAAAAAAAAAAAAAAAAAAAAAAAAAAAAAAAAAAAAAAAAAAAAAAAAAAAAAAAAAAAAAAAAAAAAAAAAAAAAAAAAAAAAAAAAAAAAAAAAAAAAAAAAAAAAAAAAAAAAAAAAAAAAAAAAAAAAAAAAAAAAAAAAAAAAAAAAAAAAAAAAAAAAAAAAAAAAAAAAAAAAAAAAAAAAAAAAAAAAAAAAAAAAAAAAAAAAAAAAAAAAAAAAAAAAAAAAAAAAAAAAAAAAAAAAAAAAAAAAAAAAAAAAAAAAAAAAAAAAAAAAAAAAAAAAAAAAAAAAAAAAAAAAAAAAAAAAAAAAAAAAAAAAAAAAAAAAAAAAAAAAAAAAAAAAAAAAAAAAAAAAAAAAAAAAAAAAAAAAAAAAAAAAAAAAAAAAAAAAAAAAAAAAAAAAAAAAAAAAAAAAAAAAAAAAAAAAAAAAAAAAAAAAAAAAAAAAAAAAAAAAAAAAAAAAAAAAAAAAAAAAAAAAAAAAAAAAAAAAAAAAAAAAAAAAAAAAAAAAAAAAAAAAAAAAAAAAAAAAAAAAAAAAAAAAAAAAAAAAAAAAAAAAAAAAAAAAAAAAAAAAAAAAAAAAAAAAAAAAAAAAAAAAAAAAAAAAAAAAAAAAAAAAAAAAAAAAAAAAAAAAAAAAAAAAAAAAAAAAAAAAAAAAAAAAAAAAAAAAAAAAAAAAAAAAAAAAAAAAAAAAAAAAAAAAAAAAAAAAAAAAAAAAAAAAAAAAAAAAAAAAAAAAAAAAAAAAAAAAAAAAAAAAAAAAAAAAAAAAAAAAAAAAAAAAAAAAAAAAAAAAAAAAAAAAAAAAAAAAAAAAAAAAAAAAAAAAAAAAAAAAAAAAAAAAAAAAAAAAAAAAAAAAAAAAAAAAAAAAAAAAAAAAAAAAAAAAAAAAAAAAAAAAAAAAAAAAAAAAAAAAAAAAAAAAAAAAAAAAAAAAAAAAAAAAAAAAAAAAAAAAAAAAAAAAAAAAAAAAAAAAAAAAAAAAAAAAAAAAAAAAAAAAAAAAAAAAAAAAAAAAAAAAAAAAAAAAAAAAAAAAAAAAAAAAAAAAAAAAAAAAAAAAAAAAAAAAAAAAAAAAAAAAAAAAAAAAAAAAAAAAAAAAAAAAAAAA",
          "dtype": "f8"
         },
         "xbins": {
          "end": 3.5,
          "size": 1,
          "start": -0.5
         }
        }
       ],
       "layout": {
        "barmode": "overlay",
        "template": {
         "data": {
          "bar": [
           {
            "error_x": {
             "color": "#2a3f5f"
            },
            "error_y": {
             "color": "#2a3f5f"
            },
            "marker": {
             "line": {
              "color": "#E5ECF6",
              "width": 0.5
             },
             "pattern": {
              "fillmode": "overlay",
              "size": 10,
              "solidity": 0.2
             }
            },
            "type": "bar"
           }
          ],
          "barpolar": [
           {
            "marker": {
             "line": {
              "color": "#E5ECF6",
              "width": 0.5
             },
             "pattern": {
              "fillmode": "overlay",
              "size": 10,
              "solidity": 0.2
             }
            },
            "type": "barpolar"
           }
          ],
          "carpet": [
           {
            "aaxis": {
             "endlinecolor": "#2a3f5f",
             "gridcolor": "white",
             "linecolor": "white",
             "minorgridcolor": "white",
             "startlinecolor": "#2a3f5f"
            },
            "baxis": {
             "endlinecolor": "#2a3f5f",
             "gridcolor": "white",
             "linecolor": "white",
             "minorgridcolor": "white",
             "startlinecolor": "#2a3f5f"
            },
            "type": "carpet"
           }
          ],
          "choropleth": [
           {
            "colorbar": {
             "outlinewidth": 0,
             "ticks": ""
            },
            "type": "choropleth"
           }
          ],
          "contour": [
           {
            "colorbar": {
             "outlinewidth": 0,
             "ticks": ""
            },
            "colorscale": [
             [
              0,
              "#0d0887"
             ],
             [
              0.1111111111111111,
              "#46039f"
             ],
             [
              0.2222222222222222,
              "#7201a8"
             ],
             [
              0.3333333333333333,
              "#9c179e"
             ],
             [
              0.4444444444444444,
              "#bd3786"
             ],
             [
              0.5555555555555556,
              "#d8576b"
             ],
             [
              0.6666666666666666,
              "#ed7953"
             ],
             [
              0.7777777777777778,
              "#fb9f3a"
             ],
             [
              0.8888888888888888,
              "#fdca26"
             ],
             [
              1,
              "#f0f921"
             ]
            ],
            "type": "contour"
           }
          ],
          "contourcarpet": [
           {
            "colorbar": {
             "outlinewidth": 0,
             "ticks": ""
            },
            "type": "contourcarpet"
           }
          ],
          "heatmap": [
           {
            "colorbar": {
             "outlinewidth": 0,
             "ticks": ""
            },
            "colorscale": [
             [
              0,
              "#0d0887"
             ],
             [
              0.1111111111111111,
              "#46039f"
             ],
             [
              0.2222222222222222,
              "#7201a8"
             ],
             [
              0.3333333333333333,
              "#9c179e"
             ],
             [
              0.4444444444444444,
              "#bd3786"
             ],
             [
              0.5555555555555556,
              "#d8576b"
             ],
             [
              0.6666666666666666,
              "#ed7953"
             ],
             [
              0.7777777777777778,
              "#fb9f3a"
             ],
             [
              0.8888888888888888,
              "#fdca26"
             ],
             [
              1,
              "#f0f921"
             ]
            ],
            "type": "heatmap"
           }
          ],
          "histogram": [
           {
            "marker": {
             "pattern": {
              "fillmode": "overlay",
              "size": 10,
              "solidity": 0.2
             }
            },
            "type": "histogram"
           }
          ],
          "histogram2d": [
           {
            "colorbar": {
             "outlinewidth": 0,
             "ticks": ""
            },
            "colorscale": [
             [
              0,
              "#0d0887"
             ],
             [
              0.1111111111111111,
              "#46039f"
             ],
             [
              0.2222222222222222,
              "#7201a8"
             ],
             [
              0.3333333333333333,
              "#9c179e"
             ],
             [
              0.4444444444444444,
              "#bd3786"
             ],
             [
              0.5555555555555556,
              "#d8576b"
             ],
             [
              0.6666666666666666,
              "#ed7953"
             ],
             [
              0.7777777777777778,
              "#fb9f3a"
             ],
             [
              0.8888888888888888,
              "#fdca26"
             ],
             [
              1,
              "#f0f921"
             ]
            ],
            "type": "histogram2d"
           }
          ],
          "histogram2dcontour": [
           {
            "colorbar": {
             "outlinewidth": 0,
             "ticks": ""
            },
            "colorscale": [
             [
              0,
              "#0d0887"
             ],
             [
              0.1111111111111111,
              "#46039f"
             ],
             [
              0.2222222222222222,
              "#7201a8"
             ],
             [
              0.3333333333333333,
              "#9c179e"
             ],
             [
              0.4444444444444444,
              "#bd3786"
             ],
             [
              0.5555555555555556,
              "#d8576b"
             ],
             [
              0.6666666666666666,
              "#ed7953"
             ],
             [
              0.7777777777777778,
              "#fb9f3a"
             ],
             [
              0.8888888888888888,
              "#fdca26"
             ],
             [
              1,
              "#f0f921"
             ]
            ],
            "type": "histogram2dcontour"
           }
          ],
          "mesh3d": [
           {
            "colorbar": {
             "outlinewidth": 0,
             "ticks": ""
            },
            "type": "mesh3d"
           }
          ],
          "parcoords": [
           {
            "line": {
             "colorbar": {
              "outlinewidth": 0,
              "ticks": ""
             }
            },
            "type": "parcoords"
           }
          ],
          "pie": [
           {
            "automargin": true,
            "type": "pie"
           }
          ],
          "scatter": [
           {
            "fillpattern": {
             "fillmode": "overlay",
             "size": 10,
             "solidity": 0.2
            },
            "type": "scatter"
           }
          ],
          "scatter3d": [
           {
            "line": {
             "colorbar": {
              "outlinewidth": 0,
              "ticks": ""
             }
            },
            "marker": {
             "colorbar": {
              "outlinewidth": 0,
              "ticks": ""
             }
            },
            "type": "scatter3d"
           }
          ],
          "scattercarpet": [
           {
            "marker": {
             "colorbar": {
              "outlinewidth": 0,
              "ticks": ""
             }
            },
            "type": "scattercarpet"
           }
          ],
          "scattergeo": [
           {
            "marker": {
             "colorbar": {
              "outlinewidth": 0,
              "ticks": ""
             }
            },
            "type": "scattergeo"
           }
          ],
          "scattergl": [
           {
            "marker": {
             "colorbar": {
              "outlinewidth": 0,
              "ticks": ""
             }
            },
            "type": "scattergl"
           }
          ],
          "scattermap": [
           {
            "marker": {
             "colorbar": {
              "outlinewidth": 0,
              "ticks": ""
             }
            },
            "type": "scattermap"
           }
          ],
          "scattermapbox": [
           {
            "marker": {
             "colorbar": {
              "outlinewidth": 0,
              "ticks": ""
             }
            },
            "type": "scattermapbox"
           }
          ],
          "scatterpolar": [
           {
            "marker": {
             "colorbar": {
              "outlinewidth": 0,
              "ticks": ""
             }
            },
            "type": "scatterpolar"
           }
          ],
          "scatterpolargl": [
           {
            "marker": {
             "colorbar": {
              "outlinewidth": 0,
              "ticks": ""
             }
            },
            "type": "scatterpolargl"
           }
          ],
          "scatterternary": [
           {
            "marker": {
             "colorbar": {
              "outlinewidth": 0,
              "ticks": ""
             }
            },
            "type": "scatterternary"
           }
          ],
          "surface": [
           {
            "colorbar": {
             "outlinewidth": 0,
             "ticks": ""
            },
            "colorscale": [
             [
              0,
              "#0d0887"
             ],
             [
              0.1111111111111111,
              "#46039f"
             ],
             [
              0.2222222222222222,
              "#7201a8"
             ],
             [
              0.3333333333333333,
              "#9c179e"
             ],
             [
              0.4444444444444444,
              "#bd3786"
             ],
             [
              0.5555555555555556,
              "#d8576b"
             ],
             [
              0.6666666666666666,
              "#ed7953"
             ],
             [
              0.7777777777777778,
              "#fb9f3a"
             ],
             [
              0.8888888888888888,
              "#fdca26"
             ],
             [
              1,
              "#f0f921"
             ]
            ],
            "type": "surface"
           }
          ],
          "table": [
           {
            "cells": {
             "fill": {
              "color": "#EBF0F8"
             },
             "line": {
              "color": "white"
             }
            },
            "header": {
             "fill": {
              "color": "#C8D4E3"
             },
             "line": {
              "color": "white"
             }
            },
            "type": "table"
           }
          ]
         },
         "layout": {
          "annotationdefaults": {
           "arrowcolor": "#2a3f5f",
           "arrowhead": 0,
           "arrowwidth": 1
          },
          "autotypenumbers": "strict",
          "coloraxis": {
           "colorbar": {
            "outlinewidth": 0,
            "ticks": ""
           }
          },
          "colorscale": {
           "diverging": [
            [
             0,
             "#8e0152"
            ],
            [
             0.1,
             "#c51b7d"
            ],
            [
             0.2,
             "#de77ae"
            ],
            [
             0.3,
             "#f1b6da"
            ],
            [
             0.4,
             "#fde0ef"
            ],
            [
             0.5,
             "#f7f7f7"
            ],
            [
             0.6,
             "#e6f5d0"
            ],
            [
             0.7,
             "#b8e186"
            ],
            [
             0.8,
             "#7fbc41"
            ],
            [
             0.9,
             "#4d9221"
            ],
            [
             1,
             "#276419"
            ]
           ],
           "sequential": [
            [
             0,
             "#0d0887"
            ],
            [
             0.1111111111111111,
             "#46039f"
            ],
            [
             0.2222222222222222,
             "#7201a8"
            ],
            [
             0.3333333333333333,
             "#9c179e"
            ],
            [
             0.4444444444444444,
             "#bd3786"
            ],
            [
             0.5555555555555556,
             "#d8576b"
            ],
            [
             0.6666666666666666,
             "#ed7953"
            ],
            [
             0.7777777777777778,
             "#fb9f3a"
            ],
            [
             0.8888888888888888,
             "#fdca26"
            ],
            [
             1,
             "#f0f921"
            ]
           ],
           "sequentialminus": [
            [
             0,
             "#0d0887"
            ],
            [
             0.1111111111111111,
             "#46039f"
            ],
            [
             0.2222222222222222,
             "#7201a8"
            ],
            [
             0.3333333333333333,
             "#9c179e"
            ],
            [
             0.4444444444444444,
             "#bd3786"
            ],
            [
             0.5555555555555556,
             "#d8576b"
            ],
            [
             0.6666666666666666,
             "#ed7953"
            ],
            [
             0.7777777777777778,
             "#fb9f3a"
            ],
            [
             0.8888888888888888,
             "#fdca26"
            ],
            [
             1,
             "#f0f921"
            ]
           ]
          },
          "colorway": [
           "#636efa",
           "#EF553B",
           "#00cc96",
           "#ab63fa",
           "#FFA15A",
           "#19d3f3",
           "#FF6692",
           "#B6E880",
           "#FF97FF",
           "#FECB52"
          ],
          "font": {
           "color": "#2a3f5f"
          },
          "geo": {
           "bgcolor": "white",
           "lakecolor": "white",
           "landcolor": "#E5ECF6",
           "showlakes": true,
           "showland": true,
           "subunitcolor": "white"
          },
          "hoverlabel": {
           "align": "left"
          },
          "hovermode": "closest",
          "mapbox": {
           "style": "light"
          },
          "paper_bgcolor": "white",
          "plot_bgcolor": "#E5ECF6",
          "polar": {
           "angularaxis": {
            "gridcolor": "white",
            "linecolor": "white",
            "ticks": ""
           },
           "bgcolor": "#E5ECF6",
           "radialaxis": {
            "gridcolor": "white",
            "linecolor": "white",
            "ticks": ""
           }
          },
          "scene": {
           "xaxis": {
            "backgroundcolor": "#E5ECF6",
            "gridcolor": "white",
            "gridwidth": 2,
            "linecolor": "white",
            "showbackground": true,
            "ticks": "",
            "zerolinecolor": "white"
           },
           "yaxis": {
            "backgroundcolor": "#E5ECF6",
            "gridcolor": "white",
            "gridwidth": 2,
            "linecolor": "white",
            "showbackground": true,
            "ticks": "",
            "zerolinecolor": "white"
           },
           "zaxis": {
            "backgroundcolor": "#E5ECF6",
            "gridcolor": "white",
            "gridwidth": 2,
            "linecolor": "white",
            "showbackground": true,
            "ticks": "",
            "zerolinecolor": "white"
           }
          },
          "shapedefaults": {
           "line": {
            "color": "#2a3f5f"
           }
          },
          "ternary": {
           "aaxis": {
            "gridcolor": "white",
            "linecolor": "white",
            "ticks": ""
           },
           "baxis": {
            "gridcolor": "white",
            "linecolor": "white",
            "ticks": ""
           },
           "bgcolor": "#E5ECF6",
           "caxis": {
            "gridcolor": "white",
            "linecolor": "white",
            "ticks": ""
           }
          },
          "title": {
           "x": 0.05
          },
          "xaxis": {
           "automargin": true,
           "gridcolor": "white",
           "linecolor": "white",
           "ticks": "",
           "title": {
            "standoff": 15
           },
           "zerolinecolor": "white",
           "zerolinewidth": 2
          },
          "yaxis": {
           "automargin": true,
           "gridcolor": "white",
           "linecolor": "white",
           "ticks": "",
           "title": {
            "standoff": 15
           },
           "zerolinecolor": "white",
           "zerolinewidth": 2
          }
         }
        },
        "title": {
         "text": "Histogram van wachttijd per run"
        },
        "xaxis": {
         "title": {
          "text": "Wachttijd"
         }
        },
        "yaxis": {
         "title": {
          "text": "Aantal"
         }
        }
       }
      }
     },
     "metadata": {},
     "output_type": "display_data"
    }
   ],
   "source": [
    "# Maak figuur aan\n",
    "fig = go.Figure()\n",
    "\n",
    "# Data grouperen op world_id\n",
    "grouped = df.groupby('beds.slots')\n",
    "\n",
    "# Vaste bins\n",
    "bins = np.arange(df['waiting'].min()-0.5, df['waiting'].max()+0.5, 1)\n",
    "\n",
    "# Loop over alle groepen heen\n",
    "for name, group in grouped:\n",
    "    # Maak een histogram\n",
    "    fig.add_trace(go.Histogram(\n",
    "        x=group['waiting'],\n",
    "        xbins=dict(start=bins[0], end=bins[-1], size=bins[1]-bins[0]),  # ensures matching bins\n",
    "        name=f'beds.slots {name}',\n",
    "        opacity=0.6\n",
    "    ))\n",
    "\n",
    "# Figuur opmaken\n",
    "fig.update_layout(\n",
    "    barmode='overlay',                          # Dit zorgt ervoor dat de bars over elkaar geplot worden\n",
    "    title='Histogram van wachttijd per run',\n",
    "    xaxis_title='Wachttijd',\n",
    "    yaxis_title='Aantal',\n",
    ")\n",
    "fig.show()"
   ]
  },
  {
   "cell_type": "code",
   "execution_count": null,
   "id": "73ef13dc",
   "metadata": {},
   "outputs": [],
   "source": []
  },
  {
   "cell_type": "markdown",
   "id": "04a0ec8d",
   "metadata": {},
   "source": [
    "Een derde optie is om handmatig lijnen te plotten omdat die KDE er niet zo mooi uit ziet met kleine waarden. Maar dit is wel een gigantisch blok code..."
   ]
  },
  {
   "cell_type": "code",
   "execution_count": 5,
   "id": "8598b5eb",
   "metadata": {},
   "outputs": [
    {
     "data": {
      "application/vnd.plotly.v1+json": {
       "config": {
        "plotlyServerURL": "https://plot.ly"
       },
       "data": [
        {
         "marker": {
          "color": "#636EFA"
         },
         "name": "beds.slots 165",
         "opacity": 0.6,
         "showlegend": true,
         "type": "histogram",
         "x": {
          "bdata": "AAAAAAAAAAAAAAAAAAAAAAAAAAAAAAAAAAAAAAAAAAAAAAAAAAAAAAAAAAAAAAAAAAAAAAAAAAAAAAAAAAAAAAAAAAAAAAAAAAAAAAAAAAAAAAAAAAAAAAAAAAAAAAAAAAAAAAAAAAAAAAAAAAAAAAAAAAAAAAAAAAAAAAAAAAAAAAAAAAAAAAAAAAAAAAAAAAAAAAAAAAAAAAAAAAAAAAAAAAAAAAAAAAAAAAAAAAAAAAAAAAAAAAAAAAAAAAAAAAAAAAAAAAAAAAAAAAAAAAAAAAAAAAAAAAAAAAAAAAAAAAAAAAAAAAAAAAAAAAAAAAAAAAAAAAAAAAAAAAAAAAAAAAAAAAAAAAAAAAAAAAAAAAAAAAAAAAAAAAAAAAAAAAAAAAAAAAAAAAAAAAAAAAAAAAAAAAAAAAAAAAAAAAAAAAAAAAAAAAAAAAAAAAAAAAAAAAAAAAAAAAAAAAAAAAAAAAAAAAAAAAAAAAAAAAAAAAAAAAAAAAAAAAAAAAAAAAAAAAAAAAAAAAAAAAAAAAAAAAAAAAAAAAAAAAAAAAAAAAAAAAAAAAAAAAAAAAAAAAAAAAAAAAAAAAAAAAAAAAAAAAAAAAAAAAAAAAAAAAAAAAAAAAAAAAAAAAAAAAAAAAAAAAAAAAAAAAAAAAAAAAAAAAAAAAAAAAAAAAAAAAAAAAAAAAAAAAAAAAAAAAAAAAAAAAAAAAAAAAAAAAAAAAAAAAAAAAAAAAAAAAAAAAAAAAAAAAAAAAAAAAAAAAAAAAAAAAAAAAAAAAAAAAAAAAAAAAAAAAAAAAAAAAAAAAAAAAAAAAAAAAAAAAAAAAAAAAAAAAAAAAAAAAAAAAAAAAAAAAAAAAAAAAAAAAAAAAAAAAAAAAAAAAAAAAAAAAAAAAAAAAAAAAAAAAAAAAAAAAAAAAAAAAAAAAAAAAAAAAAAAAAAAAAAAAAAAAAAAAAAAAAAAAAAAAAAAAAAAAAAAAAAAAAAAAAAAAAAAAAAAAAAAAAAAAAAAAAAAAAAAAAAAAAAAAAAAAAAAAAAAAAAAAAAAAAAAAAAAAAAAAAAAAAAAAAAAAAAAAAAAAAAAAAAAAAAAAAAAAAAAAAAAAAAAAAAAAAAAAAAAAAAAAAAAAAAAAAAAAAAAAAAAAAAAAAAAAAAAAAAAAAAAAAAAAAAAAAAAAAAAAAAAAAAAAAAAAAAAAAAAAAAAAAAAAAAAAAAAAAAAAAAAAAAAAAAAAAAAAAAAAAAAAAAAAAAAAAAAAAAAAAAAAAAAAAAAAAAAAAAAAAAAAAAAAAAAAAAAAAAAAAAAAAAAAAAAAAAAAAAAAAAAAAAAAAAAAAAAAAAAAAAAAAAAAAAAAAAAAAAAAAAAAAAAAAAAAAAAAAAAAAAAAAAAAAAAAAAAAAAAAAAAAAAAAAAAAAAAAAAAAAAAAAAAAAAAAAAAAAAAAAAAAAAAAAAAAAAAAAAAAAAAAAAAAAAAAAAAAAAAAAAAAAAAAAAAAAAAAAAAAAAAAAAAAAAAAAAAAAAAAAAAAAAAAAAAAAAAAAAAAAAAAAAAAAAAAAAAAAAAAAAAAAAAAAAAAAAAAAAAAAAAAAAAAAAAAAAAAAAAAAAAAAAAAAAAAAAAAAAAAAAAAAAAAAAAAAAAAAAAAAAAAAAAAAAAAAAAAAAAAAAAAAAAAAAAAAAAAAAAAAAAAAAAAAAAAAAAAAAAAAAAAAAAAAAAAAAAAAAAAAAAAAAAAAAAAAAAAAAAAAAAAAAAAAAAAAAAAAAAAAAAAAAAAAAAAAAAAAAAAAAAAAAAAAAAAAAAAAAAAAAAAAAAAAAAAAAAAAAAAAAAAAAAAAAAAAAAAAAAAAAAAAAAAAAAAAAAAAAAAAAAAAAAAAAAAAAAAAAAAAAAAAAAAAAAAAAAAAAAAAAAAAAAAAAAAAAAAAAAAAAAAAAAAAAAAAAAAAAAAAAAAAAAAAAAAAAAAAAAAAAAAAAAAAAAAAAAAAAAAAAAAAAAAAAAAAAAAAAAAAAAAAAAAAAAAAAAAAAAAAAAAAAAAAAAAAAAAAAAAAAAAAAAAAAAAAAAAAAAAAAAAAAAAAAAAAAAAAAAAAAAAAAAAAAAAAAAAAAAAAAAAAAAAAAAAAAAAAAAAAAAAAAAAAAAAAAAAAAAAAAAAAAAAAAAAAAAAAAAAAAAAAAAAAAAAAAAAAAAAAAAAAAAAAAAAAAAAAAAAAAAAAAAAAAAAAAAAAAAAAAAAAAAAAAAAAAAAAAAAAAAAAAAAAAAAAAAAAAAAAAAAAAAAAAAAAAAAAAAAAAAAAAAAAAAAAAAAAAAAAAAAAAAAAAAAAAAAAAAAAAAAAAAAAAAAAAAAAAAAAAAAAAAAAAAAAAAAAAAAAAAAAAAAAAAAAAAAAAAAAAAAAAAAAAAAAAAAAAAAAAAAAAAAAAAAAAAAAAAAAAAAAAAAAAAAAAAAAAAAAAAAAAAAAAAAAAAAAAAAAAAAAAAAAAAAAAAAAAAAAAAAAAAAAAAAAAAAAAAAAAAAAAAAAAAAAAAAAAAAAAAAAAAAAAAAAAAAAAAAAAAAAAAAAAAAAAAAAAAAAAAAAAAAAAAAAAAAAAAAAAAAAAAAAAAAAAAAAAAAAAAAAAAAAAAAAAAAAAAAAAAAAAAAAAAAAAAAAAAAAAAAAAAAAAAAAAAAAAAAAAAAAAAAAAAAAAAAAAAAAAAAAAAAAAAAAAAAAAAAAAAAAAAAAAAAAAAAAAAAAAAAAAAAAAAAAAAAAAAAAAAAAAAAAAAAAAAAAAAAAAAAAAAAAAAAAAAAAAAAAAAAAAAAAAAAAAAAAAAAAAAAAAAAAAAAAAAAAAAAAAAAAAAAAAAAAAAAAAAAAAAAAAAAAAAAAAAAAAAAAAAAAAAAAAAAAAAAAAAAAAAAAAAAAAAAAAAAAAAAAAAAAAAAAAAAAAAAAAAAAAAAAAAAAAAAAAAAAAAAAAAAAAAAAAAAAAAAAAAAAAAAAAAAAAAAAAAAAAAAAAAAAAAAAAAAAAAAAAAAAAAAAAAAAAAAAAAAAAAAAAAAAAAAAAAAAAAAAAAAAAAAAAAAAAAAAAAAAAAAAAAAAAAAAAAAAAAAAAAAAAAAAAAAAAAAAAAAAAAAAAAAAAAAAAAAAAAAAAAAAAAAAAAAAAAAAAAAAAAAAAAAAAAAAAAAAAAAAAAAAAAAAAAAAAAAAAAAAAAAAAAAAAAAAAAAAAAAAAAAAAAAAAAAAAAAAAAAAAAAAAAAAAAAAAAAAAAAAAAAAAAAAAAAAAAAAAAAAAAAAAAAAAAAAAAAAAAAAAAAAAAAAAAAAAAAAAAAAAAAAAAAAAAAAAAAAAAAAAAAAAAAAAAAAAAAAAAAAAAAAAAAAAAAAAAAAAAAAAAAAAAAAAAAAAAAAAAAAAAAAAAAAAAAAAAAAAAAAAAAAAAAAAAAAAAAAAAAAAAAAAAAAAAAAAAAAAAAAAAAAAAAAAAAAAAAAAAAAAAAAAAAAAAAAAAAAAAAAAAAAAAAAAAAAAAAAAAAAAAAAAAAAAAAAAAAAAAAAAAAAAAAAAAAAAAAAAAAAAAP6ZmZmZmck/gJmZmZmZ2T8AmpmZmZnZPwCamZmZmdk/AJqZmZmZ2T9AMzMzMzPzP4BmZmZmZvY/AJqZmZmZ2T+AZmZmZmb2P0AzMzMzMwNAQDMzMzMzA0BAMzMzMzMDQEAzMzMzMwNAQDMzMzMzA0AAAAAAAAAAQIBmZmZmZvY/gGZmZmZm9j8AAAAAAAAAQEAzMzMzMwNAQDMzMzMzA0CAZmZmZmb2P6CZmZmZmQFAoJmZmZmZAUBAMzMzMzPzP4BmZmZmZvY/gGZmZmZm9j+AZmZmZmb2P4BmZmZmZvY/oJmZmZmZAUBAMzMzMzPzP4BmZmZmZvY/gGZmZmZm9j+AZmZmZmb2P4BmZmZmZvY/gGZmZmZm9j+AZmZmZmb2P6CZmZmZmQFAgGZmZmZm9j+AZmZmZmb2P4BmZmZmZvY/gGZmZmZm9j+AZmZmZmb2P4BmZmZmZvY/QDMzMzMz8z+AZmZmZmb2P4BmZmZmZvY/gGZmZmZm9j+AZmZmZmb2P4BmZmZmZvY/AAAAAAAAAEBAMzMzMzPzP4BmZmZmZvY/gGZmZmZm9j+AZmZmZmb2P4BmZmZmZvY/AAAAAAAAAEAAAAAAAAAAQKCZmZmZmQFAgGZmZmZm9j+AZmZmZmb2P4BmZmZmZvY/AAAAAAAAAECgmZmZmZkBQIBmZmZmZvY/gGZmZmZm9j9AMzMzMzMDQKCZmZmZmQlAQDMzMzMzC0BAMzMzMzMLQEAzMzMzMwtAQDMzMzMzA0AAAAAAAAAAQEAzMzMzMwNAgGZmZmZm9j/AzMzMzMz8PwAAAAAAAABAoJmZmZmZAUBAMzMzMzPzP4BmZmZmZvY/gGZmZmZm9j+AZmZmZmb2P0AzMzMzMwNAQDMzMzMzA0BAMzMzMzMDQMDMzMzMzPw/oJmZmZmZAUAAAAAAAAAAQAAAAAAAAABAAAAAAAAAAECAZmZmZmb2P4BmZmZmZvY/gGZmZmZm9j+AZmZmZmb2P4BmZmZmZvY/oJmZmZmZAUBAMzMzMzMDQEAzMzMzMwNAQDMzMzMzA0CAZmZmZmb2P4BmZmZmZvY/QDMzMzMzA0AAAAAAAAAAQAAAAAAAAABAAAAAAAAAAECAZmZmZmb2P4BmZmZmZvY/gGZmZmZm9j+AZmZmZmb2P4BmZmZmZvY/gGZmZmZm9j9AMzMzMzMDQMDMzMzMzARAwMzMzMzM/D/AzMzMzMz8PwAAAAAAAABAoJmZmZmZAUCgmZmZmZkBQIBmZmZmZvY/gGZmZmZm9j+AZmZmZmb2P4BmZmZmZvY/gGZmZmZm9j+gmZmZmZkBQEAzMzMzM/M/gGZmZmZm9j+AZmZmZmb2P4BmZmZmZvY/gGZmZmZm9j8AmpmZmZnZP0AzMzMzM/M/QDMzMzMz8z+AZmZmZmb2P4BmZmZmZvY/AJqZmZmZ2T8AmpmZmZnZP4CZmZmZmek/AJqZmZmZ2T8AmpmZmZnZPwCamZmZmdk/AJqZmZmZ2T9AMzMzMzPzP4BmZmZmZvY/wMzMzMzM/D8AAAAAAAAAQIBmZmZmZvY/gGZmZmZm9j+AmZmZmZn5P8DMzMzMzPw/AAAAAAAAAECgmZmZmZkBQAAAAAAAAABAQDMzMzMzA0DAzMzMzMz8P8DMzMzMzPw/oJmZmZmZAUCgmZmZmZkBQGBmZmZmZgZAYGZmZmZmBkBgZmZmZmYGQGBmZmZmZgZAwMzMzMzM/D/AzMzMzMz8P8DMzMzMzPw/oJmZmZmZAUDAzMzMzMwEQAAAAAAAAABAwMzMzMzMBEDAzMzMzMz8P8DMzMzMzPw/wMzMzMzM/D+gmZmZmZkBQEAzMzMzMwNAYGZmZmZmBkBgZmZmZmYGQEAzMzMzMwNAwMzMzMzMBEBgZmZmZmYGQGBmZmZmZgZAwMzMzMzM/D8AAAAAAAAAQMDMzMzMzARAYGZmZmZmBkDAzMzMzMz8P8DMzMzMzPw/wMzMzMzM/D+AmZmZmZnpP4CZmZmZmek/gJmZmZmZ6T+AmZmZmZnpP0AzMzMzM/M//pmZmZmZyT/+mZmZmZnJP/6ZmZmZmck/gJmZmZmZ6T8AAAAAAAAAAACamZmZmdk/gJmZmZmZ6T9AMzMzMzPzP0AzMzMzM/M/QDMzMzMz8z9AMzMzMzPzPwCamZmZmdk/ADMzMzMz4z8AAAAAAAAAAAAAAAAAAAAAADMzMzMz4z8AMzMzMzPjP4CZmZmZmek/gJmZmZmZ6T+AmZmZmZnpP4CZmZmZmek/QDMzMzMz8z9AMzMzMzPzPwAzMzMzM+M/ADMzMzMz4z+AmZmZmZnpP4CZmZmZmek/gJmZmZmZ+T/AzMzMzMz8P4CZmZmZmek/gJmZmZmZ6T9AMzMzMzPzP8DMzMzMzPw/wMzMzMzM/D8AAAAAAAAAQAAAAAAAAABAgJmZmZmZ+T/AzMzMzMz8P8DMzMzMzPw/AAAAAAAAAECgmZmZmZkBQGBmZmZmZgZAwMzMzMzM/D/AzMzMzMz8P8DMzMzMzPw/AAAAAAAAAEBAMzMzMzPzP4CZmZmZmfk/gJmZmZmZ6T+AmZmZmZnpP0AzMzMzM/M/wMzMzMzM/D/AzMzMzMz8P8DMzMzMzPw/wMzMzMzM/D+gmZmZmZkBQKCZmZmZmQFAgGZmZmZm9j/AzMzMzMz8PwAAAAAAAABAoJmZmZmZAUBAMzMzMzMDQICZmZmZmfk/gJmZmZmZ+T+AmZmZmZn5P8DMzMzMzPw/QDMzMzMz8z9AMzMzMzPzP0AzMzMzM/M/gJmZmZmZ+T/AzMzMzMz8P8DMzMzMzPw/gJmZmZmZ+T+AmZmZmZn5P8DMzMzMzPw/wMzMzMzM/D/AzMzMzMz8P6CZmZmZmQFAwMzMzMzM/D/AzMzMzMz8P6CZmZmZmQFAoJmZmZmZAUDAzMzMzMwEQGBmZmZmZgZAYGZmZmZmBkBgZmZmZmYGQKCZmZmZmQlAoJmZmZmZCUAAAAAAAAAAQKCZmZmZmQFAAAAAAAAAAECgmZmZmZkBQKCZmZmZmQFAwMzMzMzMBEDAzMzMzMz8P6CZmZmZmQFAwMzMzMzMBEDAzMzMzMwEQMDMzMzMzPw/wMzMzMzM/D/AzMzMzMz8P6CZmZmZmQFAoJmZmZmZAUBAMzMzMzPzP0AzMzMzM/M/gGZmZmZm9j/AzMzMzMz8P8DMzMzMzPw/wMzMzMzM/D8AAAAAAAAAQAAAAAAAAABAoJmZmZmZAUCAmZmZmZn5P8DMzMzMzPw/wMzMzMzM/D8AAAAAAAAAQAAAAAAAAPA/QDMzMzMz8z9AMzMzMzPzP0AzMzMzM/M/gJmZmZmZ+T+AmZmZmZn5P8DMzMzMzPw/AAAAAAAAAEBAMzMzMzPzP0AzMzMzM/M/gJmZmZmZ+T/AzMzMzMz8P6CZmZmZmQFAAAAAAAAAAEAAAAAAAAAAQEAzMzMzM/M/QDMzMzMz8z/+mZmZmZnJP4CZmZmZmek/AAAAAAAA8D8AAAAAAADwP0AzMzMzM/M/",
          "dtype": "f8"
         },
         "xbins": {
          "end": 3.5,
          "size": 1,
          "start": -0.5
         }
        },
        {
         "line": {
          "color": "#636EFA",
          "width": 2
         },
         "marker": {
          "size": 6
         },
         "mode": "lines+markers",
         "name": "Line beds.slots 165",
         "showlegend": false,
         "type": "scatter",
         "x": {
          "bdata": "AAAAAAAAAAAAAAAAAADwPwAAAAAAAABAAAAAAAAACEAAAAAAAAAQQA==",
          "dtype": "f8"
         },
         "y": {
          "bdata": "YgF/AJcAHAA=",
          "dtype": "i2"
         }
        },
        {
         "marker": {
          "color": "#EF553B"
         },
         "name": "beds.slots 190",
         "opacity": 0.6,
         "showlegend": true,
         "type": "histogram",
         "x": {
          "bdata": "AAAAAAAAAAAAAAAAAAAAAAAAAAAAAAAAAAAAAAAAAAAAAAAAAAAAAAAAAAAAAAAAAAAAAAAAAAAAAAAAAAAAAAAAAAAAAAAAAAAAAAAAAAAAAAAAAAAAAAAAAAAAAAAAAAAAAAAAAAAAAAAAAAAAAAAAAAAAAAAAAAAAAAAAAAAAAAAAAAAAAAAAAAAAAAAAAAAAAAAAAAAAAAAAAAAAAAAAAAAAAAAAAAAAAAAAAAAAAAAAAAAAAAAAAAAAAAAAAAAAAAAAAAAAAAAAAAAAAAAAAAAAAAAAAAAAAAAAAAAAAAAAAAAAAAAAAAAAAAAAAAAAAAAAAAAAAAAAAAAAAAAAAAAAAAAAAAAAAAAAAAAAAAAAAAAAAAAAAAAAAAAAAAAAAAAAAAAAAAAAAAAAAAAAAAAAAAAAAAAAAAAAAAAAAAAAAAAAAAAAAAAAAAAAAAAAAAAAAAAAAAAAAAAAAAAAAAAAAAAAAAAAAAAAAAAAAAAAAAAAAAAAAAAAAAAAAAAAAAAAAAAAAAAAAAAAAAAAAAAAAAAAAAAAAAAAAAAAAAAAAAAAAAAAAAAAAAAAAAAAAAAAAAAAAAAAAAAAAAAAAAAAAAAAAAAAAAAAAAAAAAAAAAAAAAAAAAAAAAAAAAAAAAAAAAAAAAAAAAAAAAAAAAAAAAAAAAAAAAAAAAAAAAAAAAAAAAAAAAAAAAAAAAAAAAAAAAAAAAAAAAAAAAAAAAAAAAAAAAAAAAAAAAAAAAAAAAAAAAAAAAAAAAAAAAAAAAAAAAAAAAAAAAAAAAAAAAAAAAAAAAAAAAAAAAAAAAAAAAAAAAAAAAAAAAAAAAAAAAAAAAAAAAAAAAAAAAAAAAAAAAAAAAAAAAAAAAAAAAAAAAAAAAAAAAAAAAAAAAAAAAAAAAAAAAAAAAAAAAAAAAAAAAAAAAAAAAAAAAAAAAAAAAAAAAAAAAAAAAAAAAAAAAAAAAAAAAAAAAAAAAAAAAAAAAAAAAAAAAAAAAAAAAAAAAAAAAAAAAAAAAAAAAAAAAAAAAAAAAAAAAAAAAAAAAAAAAAAAAAAAAAAAAAAAAAAAAAAAAAAAAAAAAAAAAAAAAAAAAAAAAAAAAAAAAAAAAAAAAAAAAAAAAAAAAAAAAAAAAAAAAAAAAAAAAAAAAAAAAAAAAAAAAAAAAAAAAAAAAAAAAAAAAAAAAAAAAAAAAAAAAAAAAAAAAAAAAAAAAAAAAAAAAAAAAAAAAAAAAAAAAAAAAAAAAAAAAAAAAAAAAAAAAAAAAAAAAAAAAAAAAAAAAAAAAAAAAAAAAAAAAAAAAAAAAAAAAAAAAAAAAAAAAAAAAAAAAAAAAAAAAAAAAAAAAAAAAAAAAAAAAAAAAAAAAAAAAAAAAAAAAAAAAAAAAAAAAAAAAAAAAAAAAAAAAAAAAAAAAAAAAAAAAAAAAAAAAAAAAAAAAAAAAAAAAAAAAAAAAAAAAAAAAAAAAAAAAAAAAAAAAAAAAAAAAAAAAAAAAAAAAAAAAAAAAAAAAAAAAAAAAAAAAAAAAAAAAAAAAAAAAAAAAAAAAAAAAAAAAAAAAAAAAAAAAAAAAAAAAAAAAAAAAAAAAAAAAAAAAAAAAAAAAAAAAAAAAAAAAAAAAAAAAAAAAAAAAAAAAAAAAAAAAAAAAAAAAAAAAAAAAAAAAAAAAAAAAAAAAAAAAAAAAAAAAAAAAAAAAAAAAAAAAAAAAAAAAAAAAAAAAAAAAAAAAAAAAAAAAAAAAAAAAAAAAAAAAAAAAAAAAAAAAAAAAAAAAAAAAAAAAAAAAAAAAAAAAAAAAAAAAAAAAAAAAAAAAAAAAAAAAAAAAAAAAAAAAAAAAAAAAAAAAAAAAAAAAAAAAAAAAAAAAAAAAAAAAAAAAAAAAAAAAAAAAAAAAAAAAAAAAAAAAAAAAAAAAAAAAAAAAAAAAAAAAAAAAAAAAAAAAAAAAAAAAAAAAAAAAAAAAAAAAAAAAAAAAAAAAAAAAAAAAAAAAAAAAAAAAAAAAAAAAAAAAAAAAAAAAAAAAAAAAAAAAAAAAAAAAAAAAAAAAAAAAAAAAAAAAAAAAAAAAAAAAAAAAAAAAAAAAAAAAAAAAAAAAAAAAAAAAAAAAAAAAAAAAAAAAAAAAAAAAAAAAAAAAAAAAAAAAAAAAAAAAAAAAAAAAAAAAAAAAAAAAAAAAAAAAAAAAAAAAAAAAAAAAAAAAAAAAAAAAAAAAAAAAAAAAAAAAAAAAAAAAAAAAAAAAAAAAAAAAAAAAAAAAAAAAAAAAAAAAAAAAAAAAAAAAAAAAAAAAAAAAAAAAAAAAAAAAAAAAAAAAAAAAAAAAAAAAAAAAAAAAAAAAAAAAAAAAAAAAAAAAAAAAAAAAAAAAAAAAAAAAAAAAAAAAAAAAAAAAAAAAAAAAAAAAAAAAAAAAAAAAAAAAAAAAAAAAAAAAAAAAAAAAAAAAAAAAAAAAAAAAAAAAAAAAAAAAAAAAAAAAAAAAAAAAAAAAAAAAAAAAAAAAAAAAAAAAAAAAAAAAAAAAAAAAAAAAAAAAAAAAAAAAAAAAAAAAAAAAAAAAAAAAAAAAAAAAAAAAAAAAAAAAAAAAAAAAAAAAAAAAAAAAAAAAAAAAAAAAAAAAAAAAAAAAAAAAAAAAAAAAAAAAAAAAAAAAAAAAAAAAAAAAAAAAAAAAAAAAAAAAAAAAAAAAAAAAAAAAAAAAAAAAAAAAAAAAAAAAAAAAAAAAAAAAAAAAAAAAAAAAAAAAAAAAAAAAAAAAAAAAAAAAAAAAAAAAAAAAAAAAAAAAAAAAAAAAAAAAAAAAAAAAAAAAAAAAAAAAAAAAAAAAAAAAAAAAAAAAAAAAAAAAAAAAAAAAAAAAAAAAAAAAAAAAAAAAAAAAAAAAAAAAAAAAAAAAAAAAAAAAAAAAAAAAAAAAAAAAAAAAAAAAAAAAAAAAAAAAAAAAAAAAAAAAAAAAAAAAAAAAAAAAAAAAAAAAAAAAAAAAAAAAAAAAAAAAAAAAAAAAAAAAAAAAAAAAAAAAAAAAAAAAAAAAAAAAAAAAAAAAAAAAAAAAAAAAAAAAAAAAAAAAAAAAAAAAAAAAAAAAAAAAAAAAAAAAAAAAAAAAAAAAAAAAAAAAAAAAAAAAAAAAAAAAAAAAAAAAAAAAAAAAAAAAAAAAAAAAAAAAAAAAAAAAAAAAAAAAAAAAAAAAAAAAAAAAAAAAAAAAAAAAAAAAAAAAAAAAAAAAAAAAAAAAAAAAAAAAAAAAAAAAAAAAAAAAAAAAAAAAAAAAAAAAAAAAAAAAAAAAAAAAAAAAAAAAAAAAAAAAAAAAAAAAAAAAAAAAAAAAAAAAAAAAAAAAAAAAAAAAAAAAAAAAAAAAAAAAAAAAAAAAAAAAAAAAAAAAAAAAAAAAAAAAAAAAAAAAAAAAAAAAAAAAAAAAAAAAAAAAAAAAAAAAAAAAAAAAAAAAAAAAAAAAAAAAAAAAAAAAAAAAAAAAAAAAAAAAAAAAAAAAAAAAAAAAAAAAAAAAAAAAAAAAAAAAAAAAAAAAAAAAAAAAAAAAAAAAAAAAAAAAAAAAAAAAAAAAAAAAAAAAAAAAAAAAAAAAAAAAAAAAAAAAAAAAAAAAAAAAAAAAAAAAAAAAAAAAAAAAAAAAAAAAAAAAAAAAAAAAAAAAAAAAAAAAAAAAAAAAAAAAAAAAAAAAAAAAAAAAAAAAAAAAAAAAAAAAAAAAAAAAAAAAAAAAAAAAAAAAAAAAAAAAAAAAAAAAAAAAAAAAAAAAAAAAAAAAAAAAAAAAAAAAAAAAAAAAAAAAAAAAAAAAAAAAAAAAAAAAAAAAAAAAAAAAAAAAAAAAAAAAAAAAAAAAAAAAAAAAAAAAAAAAAAAAAAAAAAAAAAAAAAAAAAAAAAAAAAAAAAAAAAAAAAAAAAAAAAAAAAAAAAAAAAAAAAAAAAAAAAAAAAAAAAAAAAAAAAAAAAAAAAAAAAAAAAAAAAAAAAAAAAAAAAAAAAAAAAAAAAAAAAAAAAAAAAAAAAAAAAAAAAAAAAAAAAAAAAAAAAAAAAAAAAAAAAAAAAAAAAAAAAAAAAAAAAAAAAAAAAAAAAAAAAAAAAAAAAAAAAAAAAAAAAAAAAAAAAAAAAAAAAAAAAAAAAAAAAAAAAAAAAAAAAAAAAAAAAAAAAAAAAAAAAAAAAAAAAAAAAAAAAAAAAAAAAAAAAAAAAAAAAAAAAAAAAAAAAAAAAAAAAAAAAAAAAAAAAAAAAAAAAAAAAAAAAAAAAAAAAAAAAAAAAAAAAAAAAAAAAAAAAAAAAAAAAAAAAAAAAAAAAAAAAAAAAAAAAAAAAAAAAAAAAAAAAAAAAAAAAAAAAAAAAAAAAAAAAAAAAAAAAAAAAAAAAAAAAAAAAAAAAAAAAAAAAAAAAAAAAAAAAAAAAAAAAAAAAAAAAAAAAAAAAAAAAAAAAAAAAAAAAAAAAAAAAAAAAAAAAAAAAAAAAAAAAAAAAAAAAAAAAAAAAAAAAAAAAAAAAAAAAAAAAAAAAAAAAAAAAAAAAAAAAAAAAAAAAAAAAAAAAAAAAAAAAAAAAAAAAAAAAAAAAAAAAAAAAAAAAAAAAAAAAAAAAAAAAAAAAAAAAAAAAAAAAAAAAAAAAAAAAAAAAAAAAAAAAAAAAAAAAAAAAAAAAAAAAAP6ZmZmZmck/AJqZmZmZ2T8AAAAAAAAAAAAAAAAAAAAAAAAAAAAAAAAAAAAAAAAAAP6ZmZmZmck/AJqZmZmZ2T8AmpmZmZnZPwCamZmZmdk/AAAAAAAAAAAAAAAAAAAAAAAAAAAAAAAAAAAAAAAAAAAAmpmZmZnZPwAAAAAAAAAAAAAAAAAAAAAAAAAAAAAAAAAAAAAAAAAAAAAAAAAAAAAAAAAAAAAAAAAAAAAAAAAAAAAAAAAAAAD+mZmZmZnJP/6ZmZmZmck/AJqZmZmZ2T8AAAAAAAAAAAAAAAAAAAAAAAAAAAAAAAAAAAAAAAAAAP6ZmZmZmck/AAAAAAAAAAAAAAAAAAAAAAAAAAAAAAAAAAAAAAAAAAAAAAAAAAAAAAAAAAAAAAAAAAAAAAAAAAAAAAAAAAAAAAAAAAAAAAAAAAAAAAAAAAAAAAAAAAAAAAAAAAAAAAAAAAAAAAAAAAAAAAAAAAAAAAAAAAAAAAAAAAAAAAAAAAAAAAAAAAAAAAAAAAAAAAAA/pmZmZmZyT8AAAAAAAAAAAAAAAAAAAAAAAAAAAAAAAAAAAAAAAAAAACamZmZmdk/AJqZmZmZ2T8AmpmZmZnZPwCamZmZmdk//pmZmZmZyT8AmpmZmZnZPwCamZmZmdk/AJqZmZmZ2T8AmpmZmZnZPwCamZmZmdk/AJqZmZmZ2T8AAAAAAAAAAAAAAAAAAAAA/pmZmZmZyT/+mZmZmZnJPwCamZmZmdk/AJqZmZmZ2T8AmpmZmZnZPwAAAAAAAAAAAAAAAAAAAAD+mZmZmZnJPwCamZmZmdk/AAAAAAAAAAAAAAAAAAAAAAAAAAAAAAAA/pmZmZmZyT8AAAAAAAAAAAAAAAAAAAAAAAAAAAAAAAAAAAAAAAAAAAAAAAAAAAAAAAAAAAAAAAAAAAAAAAAAAAAAAAAAAAAAAAAAAAAAAAAAAAAAAAAAAAAAAAAAAAAAAAAAAAAAAAAAAAAAAAAAAAAAAAAAAAAAAAAAAAAAAAAAAAAAAAAAAAAAAAAAAAAAAAAAAAAAAAAAAAAAAAAAAAAAAAAAAAAAAAAAAAAAAAAAAAAAAAAAAAAAAAAAAAAAAAAAAAAAAAAAAAAAAAAAAAAAAAAAAAAAAAAAAAAAAAAAAAAAAAAAAAAAAAAAAAAAAAAAAAAAAAAAAAAAAAAAAAAAAAAAAAAAAAAAAAAAAAAAAAAAAAAAAAAAAAAAAAAAAAAAAAAAAAAAAAAAAAAAAAAAAAAAAAAAAAAAAAAAAAAAAAAAAAAAAAAAAAAAAAAAAAAAAAAAAAAAAAAAAAAAAAAAAAAAAAAAAAAAAAAAAAAAAAAAAAAAAAAAAAAAAAAAAAAAAAAAAAD+mZmZmZnJPwCamZmZmdk/AAAAAAAAAAAAAAAAAAAAAAAAAAAAAAAAAJqZmZmZ2T8AAAAAAAAAAAAAAAAAAAAAAAAAAAAAAAAAAAAAAAAAAAAAAAAAAAAAAAAAAAAAAAAAAAAAAAAAAAAAAAAAAAAAAAAAAAAAAAD+mZmZmZnJP/6ZmZmZmck/AAAAAAAAAAAAAAAAAAAAAAAAAAAAAAAA/pmZmZmZyT8AmpmZmZnZPwAAAAAAAAAAAAAAAAAAAAD+mZmZmZnJPwCamZmZmdk/AAAAAAAAAAAAAAAAAAAAAP6ZmZmZmck/AJqZmZmZ2T8AmpmZmZnZP4CZmZmZmek/AAAAAAAAAAD+mZmZmZnJP/6ZmZmZmck//pmZmZmZyT8AmpmZmZnZPwCamZmZmdk/AAAAAAAAAAAAAAAAAAAAAACamZmZmdk/AJqZmZmZ2T8AmpmZmZnZPwCamZmZmdk/AJqZmZmZ2T+AZmZmZmb2P4BmZmZmZvY/gGZmZmZm9j8AmpmZmZnZPwCamZmZmdk/AJqZmZmZ2T8AmpmZmZnZP0AzMzMzM/M/gGZmZmZm9j8AMzMzMzPjP0AzMzMzM/M/QDMzMzMz8z9AMzMzMzPzPwCamZmZmdk/AJqZmZmZ2T8AmpmZmZnZPwCamZmZmdk/AJqZmZmZ2T8AAAAAAAAAAAAAAAAAAAAA/pmZmZmZyT/+mZmZmZnJP/6ZmZmZmck/AJqZmZmZ2T8AmpmZmZnZPwCamZmZmdk/AJqZmZmZ2T8AAAAAAAAAAAAAAAAAAAAAAAAAAAAAAAAAAAAAAAAAAAAAAAAAAAAAAAAAAAAAAAAAAAAAAAAAAAAAAAAAAAAAAAAAAAAAAAAAAAAAAAAAAAAAAAAAAAAAAAAAAAAAAAAAAAAAAAAAAAAAAAAAAAAAAAAAAAAAAAAAAAAAAAAAAAAAAAAAAAAA/pmZmZmZyT8AmpmZmZnZPwAAAAAAAAAAAAAAAAAAAAAAAAAAAAAAAAAAAAAAAAAAAAAAAAAAAAAAAAAAAAAAAAAAAAAAAAAA",
          "dtype": "f8"
         },
         "xbins": {
          "end": 3.5,
          "size": 1,
          "start": -0.5
         }
        },
        {
         "line": {
          "color": "#EF553B",
          "width": 2
         },
         "marker": {
          "size": 6
         },
         "mode": "lines+markers",
         "name": "Line beds.slots 190",
         "showlegend": false,
         "type": "scatter",
         "x": {
          "bdata": "AAAAAAAAAAAAAAAAAADwPwAAAAAAAABAAAAAAAAACEAAAAAAAAAQQA==",
          "dtype": "f8"
         },
         "y": {
          "bdata": "igIKAAAAAAA=",
          "dtype": "i2"
         }
        },
        {
         "marker": {
          "color": "#00CC96"
         },
         "name": "beds.slots 215",
         "opacity": 0.6,
         "showlegend": true,
         "type": "histogram",
         "x": {
          "bdata": "AAAAAAAAAAAAAAAAAAAAAAAAAAAAAAAAAAAAAAAAAAAAAAAAAAAAAAAAAAAAAAAAAAAAAAAAAAAAAAAAAAAAAAAAAAAAAAAAAAAAAAAAAAAAAAAAAAAAAAAAAAAAAAAAAAAAAAAAAAAAAAAAAAAAAAAAAAAAAAAAAAAAAAAAAAAAAAAAAAAAAAAAAAAAAAAAAAAAAAAAAAAAAAAAAAAAAAAAAAAAAAAAAAAAAAAAAAAAAAAAAAAAAAAAAAAAAAAAAAAAAAAAAAAAAAAAAAAAAAAAAAAAAAAAAAAAAAAAAAAAAAAAAAAAAAAAAAAAAAAAAAAAAAAAAAAAAAAAAAAAAAAAAAAAAAAAAAAAAAAAAAAAAAAAAAAAAAAAAAAAAAAAAAAAAAAAAAAAAAAAAAAAAAAAAAAAAAAAAAAAAAAAAAAAAAAAAAAAAAAAAAAAAAAAAAAAAAAAAAAAAAAAAAAAAAAAAAAAAAAAAAAAAAAAAAAAAAAAAAAAAAAAAAAAAAAAAAAAAAAAAAAAAAAAAAAAAAAAAAAAAAAAAAAAAAAAAAAAAAAAAAAAAAAAAAAAAAAAAAAAAAAAAAAAAAAAAAAAAAAAAAAAAAAAAAAAAAAAAAAAAAAAAAAAAAAAAAAAAAAAAAAAAAAAAAAAAAAAAAAAAAAAAAAAAAAAAAAAAAAAAAAAAAAAAAAAAAAAAAAAAAAAAAAAAAAAAAAAAAAAAAAAAAAAAAAAAAAAAAAAAAAAAAAAAAAAAAAAAAAAAAAAAAAAAAAAAAAAAAAAAAAAAAAAAAAAAAAAAAAAAAAAAAAAAAAAAAAAAAAAAAAAAAAAAAAAAAAAAAAAAAAAAAAAAAAAAAAAAAAAAAAAAAAAAAAAAAAAAAAAAAAAAAAAAAAAAAAAAAAAAAAAAAAAAAAAAAAAAAAAAAAAAAAAAAAAAAAAAAAAAAAAAAAAAAAAAAAAAAAAAAAAAAAAAAAAAAAAAAAAAAAAAAAAAAAAAAAAAAAAAAAAAAAAAAAAAAAAAAAAAAAAAAAAAAAAAAAAAAAAAAAAAAAAAAAAAAAAAAAAAAAAAAAAAAAAAAAAAAAAAAAAAAAAAAAAAAAAAAAAAAAAAAAAAAAAAAAAAAAAAAAAAAAAAAAAAAAAAAAAAAAAAAAAAAAAAAAAAAAAAAAAAAAAAAAAAAAAAAAAAAAAAAAAAAAAAAAAAAAAAAAAAAAAAAAAAAAAAAAAAAAAAAAAAAAAAAAAAAAAAAAAAAAAAAAAAAAAAAAAAAAAAAAAAAAAAAAAAAAAAAAAAAAAAAAAAAAAAAAAAAAAAAAAAAAAAAAAAAAAAAAAAAAAAAAAAAAAAAAAAAAAAAAAAAAAAAAAAAAAAAAAAAAAAAAAAAAAAAAAAAAAAAAAAAAAAAAAAAAAAAAAAAAAAAAAAAAAAAAAAAAAAAAAAAAAAAAAAAAAAAAAAAAAAAAAAAAAAAAAAAAAAAAAAAAAAAAAAAAAAAAAAAAAAAAAAAAAAAAAAAAAAAAAAAAAAAAAAAAAAAAAAAAAAAAAAAAAAAAAAAAAAAAAAAAAAAAAAAAAAAAAAAAAAAAAAAAAAAAAAAAAAAAAAAAAAAAAAAAAAAAAAAAAAAAAAAAAAAAAAAAAAAAAAAAAAAAAAAAAAAAAAAAAAAAAAAAAAAAAAAAAAAAAAAAAAAAAAAAAAAAAAAAAAAAAAAAAAAAAAAAAAAAAAAAAAAAAAAAAAAAAAAAAAAAAAAAAAAAAAAAAAAAAAAAAAAAAAAAAAAAAAAAAAAAAAAAAAAAAAAAAAAAAAAAAAAAAAAAAAAAAAAAAAAAAAAAAAAAAAAAAAAAAAAAAAAAAAAAAAAAAAAAAAAAAAAAAAAAAAAAAAAAAAAAAAAAAAAAAAAAAAAAAAAAAAAAAAAAAAAAAAAAAAAAAAAAAAAAAAAAAAAAAAAAAAAAAAAAAAAAAAAAAAAAAAAAAAAAAAAAAAAAAAAAAAAAAAAAAAAAAAAAAAAAAAAAAAAAAAAAAAAAAAAAAAAAAAAAAAAAAAAAAAAAAAAAAAAAAAAAAAAAAAAAAAAAAAAAAAAAAAAAAAAAAAAAAAAAAAAAAAAAAAAAAAAAAAAAAAAAAAAAAAAAAAAAAAAAAAAAAAAAAAAAAAAAAAAAAAAAAAAAAAAAAAAAAAAAAAAAAAAAAAAAAAAAAAAAAAAAAAAAAAAAAAAAAAAAAAAAAAAAAAAAAAAAAAAAAAAAAAAAAAAAAAAAAAAAAAAAAAAAAAAAAAAAAAAAAAAAAAAAAAAAAAAAAAAAAAAAAAAAAAAAAAAAAAAAAAAAAAAAAAAAAAAAAAAAAAAAAAAAAAAAAAAAAAAAAAAAAAAAAAAAAAAAAAAAAAAAAAAAAAAAAAAAAAAAAAAAAAAAAAAAAAAAAAAAAAAAAAAAAAAAAAAAAAAAAAAAAAAAAAAAAAAAAAAAAAAAAAAAAAAAAAAAAAAAAAAAAAAAAAAAAAAAAAAAAAAAAAAAAAAAAAAAAAAAAAAAAAAAAAAAAAAAAAAAAAAAAAAAAAAAAAAAAAAAAAAAAAAAAAAAAAAAAAAAAAAAAAAAAAAAAAAAAAAAAAAAAAAAAAAAAAAAAAAAAAAAAAAAAAAAAAAAAAAAAAAAAAAAAAAAAAAAAAAAAAAAAAAAAAAAAAAAAAAAAAAAAAAAAAAAAAAAAAAAAAAAAAAAAAAAAAAAAAAAAAAAAAAAAAAAAAAAAAAAAAAAAAAAAAAAAAAAAAAAAAAAAAAAAAAAAAAAAAAAAAAAAAAAAAAAAAAAAAAAAAAAAAAAAAAAAAAAAAAAAAAAAAAAAAAAAAAAAAAAAAAAAAAAAAAAAAAAAAAAAAAAAAAAAAAAAAAAAAAAAAAAAAAAAAAAAAAAAAAAAAAAAAAAAAAAAAAAAAAAAAAAAAAAAAAAAAAAAAAAAAAAAAAAAAAAAAAAAAAAAAAAAAAAAAAAAAAAAAAAAAAAAAAAAAAAAAAAAAAAAAAAAAAAAAAAAAAAAAAAAAAAAAAAAAAAAAAAAAAAAAAAAAAAAAAAAAAAAAAAAAAAAAAAAAAAAAAAAAAAAAAAAAAAAAAAAAAAAAAAAAAAAAAAAAAAAAAAAAAAAAAAAAAAAAAAAAAAAAAAAAAAAAAAAAAAAAAAAAAAAAAAAAAAAAAAAAAAAAAAAAAAAAAAAAAAAAAAAAAAAAAAAAAAAAAAAAAAAAAAAAAAAAAAAAAAAAAAAAAAAAAAAAAAAAAAAAAAAAAAAAAAAAAAAAAAAAAAAAAAAAAAAAAAAAAAAAAAAAAAAAAAAAAAAAAAAAAAAAAAAAAAAAAAAAAAAAAAAAAAAAAAAAAAAAAAAAAAAAAAAAAAAAAAAAAAAAAAAAAAAAAAAAAAAAAAAAAAAAAAAAAAAAAAAAAAAAAAAAAAAAAAAAAAAAAAAAAAAAAAAAAAAAAAAAAAAAAAAAAAAAAAAAAAAAAAAAAAAAAAAAAAAAAAAAAAAAAAAAAAAAAAAAAAAAAAAAAAAAAAAAAAAAAAAAAAAAAAAAAAAAAAAAAAAAAAAAAAAAAAAAAAAAAAAAAAAAAAAAAAAAAAAAAAAAAAAAAAAAAAAAAAAAAAAAAAAAAAAAAAAAAAAAAAAAAAAAAAAAAAAAAAAAAAAAAAAAAAAAAAAAAAAAAAAAAAAAAAAAAAAAAAAAAAAAAAAAAAAAAAAAAAAAAAAAAAAAAAAAAAAAAAAAAAAAAAAAAAAAAAAAAAAAAAAAAAAAAAAAAAAAAAAAAAAAAAAAAAAAAAAAAAAAAAAAAAAAAAAAAAAAAAAAAAAAAAAAAAAAAAAAAAAAAAAAAAAAAAAAAAAAAAAAAAAAAAAAAAAAAAAAAAAAAAAAAAAAAAAAAAAAAAAAAAAAAAAAAAAAAAAAAAAAAAAAAAAAAAAAAAAAAAAAAAAAAAAAAAAAAAAAAAAAAAAAAAAAAAAAAAAAAAAAAAAAAAAAAAAAAAAAAAAAAAAAAAAAAAAAAAAAAAAAAAAAAAAAAAAAAAAAAAAAAAAAAAAAAAAAAAAAAAAAAAAAAAAAAAAAAAAAAAAAAAAAAAAAAAAAAAAAAAAAAAAAAAAAAAAAAAAAAAAAAAAAAAAAAAAAAAAAAAAAAAAAAAAAAAAAAAAAAAAAAAAAAAAAAAAAAAAAAAAAAAAAAAAAAAAAAAAAAAAAAAAAAAAAAAAAAAAAAAAAAAAAAAAAAAAAAAAAAAAAAAAAAAAAAAAAAAAAAAAAAAAAAAAAAAAAAAAAAAAAAAAAAAAAAAAAAAAAAAAAAAAAAAAAAAAAAAAAAAAAAAAAAAAAAAAAAAAAAAAAAAAAAAAAAAAAAAAAAAAAAAAAAAAAAAAAAAAAAAAAAAAAAAAAAAAAAAAAAAAAAAAAAAAAAAAAAAAAAAAAAAAAAAAAAAAAAAAAAAAAAAAAAAAAAAAAAAAAAAAAAAAAAAAAAAAAAAAAAAAAAAAAAAAAAAAAAAAAAAAAAAAAAAAAAAAAAAAAAAAAAAAAAAAAAAAAAAAAAAAAAAAAAAAAAAAAAAAAAAAAAAAAAAAAAAAAAAAAAAAAAAAAAAAAAAAAAAAAAAAAAAAAAAAAAAAAAAAAAAAAAAAAAAAAAAAAAAAAAAAAAAAAAAAAAAAAAAAAAAAAAAAAAAAAAAAAAAAAAAAAAAAAAAAAAAAAAAAAAAAAAAAAAAAAAAAAAAAAAAAAAAAAAAAAAAAAAAAAAAAAAAAAAAAAAAAAAAAAAAAAAAAAAAAAAAAAAAAAAAAAAAAAAAAAAAAAAAAAAAAAAAAAAAAAAAAAAAAAAAAAAAAAAAAAAAAAAAAAAAAAAAAAAAAAAAAAAAAAAAAAAAAAAAAAAAAAAAAAAAAAAAAAAAAAAAAAAAAAAAAAAAAAAAAAAAAAAAAAAAAAAAAAAAAAAAAAAAAAAAAAAAAAAAAAAAAAAAAAAAAAAAAAAAAAAAAAAAAAAAAAAAAAAAAAAAAAAAAAAAAAAAAAAAAAAAAAAAAAAAAAAAAAAAAAAAAAAAAAAAAAAAAAAAAAAAAAAAAAAAAAAAAAAAAAAAAAAAAAAAAAAAAAAAAAAAAAAAAAAAAAAAAAAAAAAAAAAAAAAAAAAAAAAAAAAAAAAAAAAAAAAAAAAAAAAAAAAAAAAAAAAAAAAAAAAAAAAAAAAAAAAAAAAAAAAAAAAAAAAAAAAAAAAAAAAAAAAAAAAAAAAAAAAAAAAAAAAAAAAAAAAAAAAAAAAAAAAAAAAAAAAAAAAAAAAAAAAAAAAAAAAAAAAAAAAAAAAAAAAAAAAAAAAAAAAAAAAAAAAAAAAAAAAAAAAAAAAAAAAAAAAAAAAAAAAAAAAAAAAAAAAAAAAAAAAAAAAAAAAAAAAAAAAAAAAAAAAAAAAAAAAAAAAAAAAAAAAAAAAAAAAAAAAAAAAAAAAAAAAAAAAAAAAAAAAAAAAAAAAAAAAAAAAAAAAAAAAAAAAAAAAAAAAAAAAAAAAAAAAAAAAAAAAAAAAAAAAAAAAAAAAAAAAAAAAAAAAAAAAAAAAAAAAAAAAAAAAAAAAAAAAAAAAAAAAAAAAAAAAAAAAAAAAAAAAAAAAAAAAAAAAAAAAAAAAAAAAAAAAAAAAAAAAAAAAAAAAAAAAAAAAAAAAAAAAAAAAAAAAAAAAAAAAAAAAAAAAAAAAAAAAAAAAAAAAAAAAAAAAAAAAAAAAAAAAAAAAAAAAAAAAAAAAAAAAAAAAAAAAAAAAAAAAAAAAAAAAAAAAAAAAAAAAAAAAAAAAAAAAAAAAAAAAAAAAAAAAAAAAAAAAAAAAAAAAAAAAAAAAAAAAAAAAAAAAAAAAAAAAAAAAAAAAAAAAAAAAAAAAAAAAAAAAAAAAAAAAAAAAAAAAAAAAAAAAAAAAAAAAAAAAAAAAAAAAAAAAAAAAAAAAAAAAAAAAAAAAAAAAAAAAAAAAAAAAAAAAAAAAAAAAAAAAAAAAAAAAAAAAAAAAAAAAAAAAAAAAAAAAAAAAAAAAAAAAAAAAAAAAAAAAAAAAAAAAAAAAAAAAAAAAAAAAAAAAAAAAAAAAAAAAAAAAAAAAAAAAAAAAAAAAAAAAAAAAAAAAAAAAAAAAAAAAAAAAAAAAAAAAAAAAAAAAAAAAAAAAAAAAAAAAAAAAAAAAAAAAAAAAAAAAAAAAAAAAAAAAAAAAAAAAAAAAAAAAAAAAAAAAAAAAAAAAAAAAAAAAAAAAAAAAAAAAAAAAAAAAAAAAAAAAAAAAAAAAAAAAAAAAAAAAAAAAAAAAAAAAAAAAAAAAAAAAAAAAAAAAAAAAAAAAAAAAAAAAAAAAAAAAAAAAAAAAAAAAAAAAAAAAAAAAAAAAAAAAAAAAAAAAAAAAAAAAAAAAAAAAAAAAAAAAAAAAAAAAAAAAAAAAAAAAAAAAAAAAAAAAAAAAAAAAAAAAAAAAAAAAAAAAAAAAAAAAAAAAAAAAAAAAAAAAAAAAAAAAAAAAAAAAAAAAAAAAAAAAAAAAAAAAAAAAAAAAAAAAAAAAAAAAAAAAAAAAAAAAAAAAAAAAAAAAAAAAAAAAAAAAAAAAAAAAAAAAAAAAAAAAAAAAAAAAAAAAAAAAAAAAAAAAAAAAAAAAAAAAAAAAAAAAAAAAAAAAAAAAAAAAAAAAAAAAAAAAAAAAAAAAAAAAAAAAAAAAAAAAAAAAAAAAAAAAAAAAAAAAAAAAAAAAAAAAAAAAAAAAAAAAAAAAAAAAAAAAAAAAAAAAAAAAAAAAAAAAAAAAAAAAAAAAAAAAAAAAAAAAAAAAAAAAAAAAAAAAAAAAAAAAAAAAAAAAAAAAAAAAAAAAAAAAAAAAAAAAAAAAAAAAAAAAAAAAAAAAAAAAAAAAAAAAAAAAAAAAAAAAAAAAAAAAAAAAAAAAAAAAAAAAAAAAAAAAAAAAAAAAAAAAAAAAAAAAAAAAAAAAAAAAAAAAAAAAAAAAAAAAAAAAAAAAAAAAAAAAAAAAAAAAAAAAAAAAAAAAAAAAAAAAAAAAAAAAAAAAAAAAAAAAAAAAAAAAAAAAAAAAAAAAAAAAAAAAAAAAAAAAAAAAAAAAAAAAAAAAAAAAAAAAAA",
          "dtype": "f8"
         },
         "xbins": {
          "end": 3.5,
          "size": 1,
          "start": -0.5
         }
        },
        {
         "line": {
          "color": "#00CC96",
          "width": 2
         },
         "marker": {
          "size": 6
         },
         "mode": "lines+markers",
         "name": "Line beds.slots 215",
         "showlegend": false,
         "type": "scatter",
         "x": {
          "bdata": "AAAAAAAAAAAAAAAAAADwPwAAAAAAAABAAAAAAAAACEAAAAAAAAAQQA==",
          "dtype": "f8"
         },
         "y": {
          "bdata": "lAIAAAAAAAA=",
          "dtype": "i2"
         }
        }
       ],
       "layout": {
        "barmode": "overlay",
        "template": {
         "data": {
          "bar": [
           {
            "error_x": {
             "color": "#2a3f5f"
            },
            "error_y": {
             "color": "#2a3f5f"
            },
            "marker": {
             "line": {
              "color": "#E5ECF6",
              "width": 0.5
             },
             "pattern": {
              "fillmode": "overlay",
              "size": 10,
              "solidity": 0.2
             }
            },
            "type": "bar"
           }
          ],
          "barpolar": [
           {
            "marker": {
             "line": {
              "color": "#E5ECF6",
              "width": 0.5
             },
             "pattern": {
              "fillmode": "overlay",
              "size": 10,
              "solidity": 0.2
             }
            },
            "type": "barpolar"
           }
          ],
          "carpet": [
           {
            "aaxis": {
             "endlinecolor": "#2a3f5f",
             "gridcolor": "white",
             "linecolor": "white",
             "minorgridcolor": "white",
             "startlinecolor": "#2a3f5f"
            },
            "baxis": {
             "endlinecolor": "#2a3f5f",
             "gridcolor": "white",
             "linecolor": "white",
             "minorgridcolor": "white",
             "startlinecolor": "#2a3f5f"
            },
            "type": "carpet"
           }
          ],
          "choropleth": [
           {
            "colorbar": {
             "outlinewidth": 0,
             "ticks": ""
            },
            "type": "choropleth"
           }
          ],
          "contour": [
           {
            "colorbar": {
             "outlinewidth": 0,
             "ticks": ""
            },
            "colorscale": [
             [
              0,
              "#0d0887"
             ],
             [
              0.1111111111111111,
              "#46039f"
             ],
             [
              0.2222222222222222,
              "#7201a8"
             ],
             [
              0.3333333333333333,
              "#9c179e"
             ],
             [
              0.4444444444444444,
              "#bd3786"
             ],
             [
              0.5555555555555556,
              "#d8576b"
             ],
             [
              0.6666666666666666,
              "#ed7953"
             ],
             [
              0.7777777777777778,
              "#fb9f3a"
             ],
             [
              0.8888888888888888,
              "#fdca26"
             ],
             [
              1,
              "#f0f921"
             ]
            ],
            "type": "contour"
           }
          ],
          "contourcarpet": [
           {
            "colorbar": {
             "outlinewidth": 0,
             "ticks": ""
            },
            "type": "contourcarpet"
           }
          ],
          "heatmap": [
           {
            "colorbar": {
             "outlinewidth": 0,
             "ticks": ""
            },
            "colorscale": [
             [
              0,
              "#0d0887"
             ],
             [
              0.1111111111111111,
              "#46039f"
             ],
             [
              0.2222222222222222,
              "#7201a8"
             ],
             [
              0.3333333333333333,
              "#9c179e"
             ],
             [
              0.4444444444444444,
              "#bd3786"
             ],
             [
              0.5555555555555556,
              "#d8576b"
             ],
             [
              0.6666666666666666,
              "#ed7953"
             ],
             [
              0.7777777777777778,
              "#fb9f3a"
             ],
             [
              0.8888888888888888,
              "#fdca26"
             ],
             [
              1,
              "#f0f921"
             ]
            ],
            "type": "heatmap"
           }
          ],
          "histogram": [
           {
            "marker": {
             "pattern": {
              "fillmode": "overlay",
              "size": 10,
              "solidity": 0.2
             }
            },
            "type": "histogram"
           }
          ],
          "histogram2d": [
           {
            "colorbar": {
             "outlinewidth": 0,
             "ticks": ""
            },
            "colorscale": [
             [
              0,
              "#0d0887"
             ],
             [
              0.1111111111111111,
              "#46039f"
             ],
             [
              0.2222222222222222,
              "#7201a8"
             ],
             [
              0.3333333333333333,
              "#9c179e"
             ],
             [
              0.4444444444444444,
              "#bd3786"
             ],
             [
              0.5555555555555556,
              "#d8576b"
             ],
             [
              0.6666666666666666,
              "#ed7953"
             ],
             [
              0.7777777777777778,
              "#fb9f3a"
             ],
             [
              0.8888888888888888,
              "#fdca26"
             ],
             [
              1,
              "#f0f921"
             ]
            ],
            "type": "histogram2d"
           }
          ],
          "histogram2dcontour": [
           {
            "colorbar": {
             "outlinewidth": 0,
             "ticks": ""
            },
            "colorscale": [
             [
              0,
              "#0d0887"
             ],
             [
              0.1111111111111111,
              "#46039f"
             ],
             [
              0.2222222222222222,
              "#7201a8"
             ],
             [
              0.3333333333333333,
              "#9c179e"
             ],
             [
              0.4444444444444444,
              "#bd3786"
             ],
             [
              0.5555555555555556,
              "#d8576b"
             ],
             [
              0.6666666666666666,
              "#ed7953"
             ],
             [
              0.7777777777777778,
              "#fb9f3a"
             ],
             [
              0.8888888888888888,
              "#fdca26"
             ],
             [
              1,
              "#f0f921"
             ]
            ],
            "type": "histogram2dcontour"
           }
          ],
          "mesh3d": [
           {
            "colorbar": {
             "outlinewidth": 0,
             "ticks": ""
            },
            "type": "mesh3d"
           }
          ],
          "parcoords": [
           {
            "line": {
             "colorbar": {
              "outlinewidth": 0,
              "ticks": ""
             }
            },
            "type": "parcoords"
           }
          ],
          "pie": [
           {
            "automargin": true,
            "type": "pie"
           }
          ],
          "scatter": [
           {
            "fillpattern": {
             "fillmode": "overlay",
             "size": 10,
             "solidity": 0.2
            },
            "type": "scatter"
           }
          ],
          "scatter3d": [
           {
            "line": {
             "colorbar": {
              "outlinewidth": 0,
              "ticks": ""
             }
            },
            "marker": {
             "colorbar": {
              "outlinewidth": 0,
              "ticks": ""
             }
            },
            "type": "scatter3d"
           }
          ],
          "scattercarpet": [
           {
            "marker": {
             "colorbar": {
              "outlinewidth": 0,
              "ticks": ""
             }
            },
            "type": "scattercarpet"
           }
          ],
          "scattergeo": [
           {
            "marker": {
             "colorbar": {
              "outlinewidth": 0,
              "ticks": ""
             }
            },
            "type": "scattergeo"
           }
          ],
          "scattergl": [
           {
            "marker": {
             "colorbar": {
              "outlinewidth": 0,
              "ticks": ""
             }
            },
            "type": "scattergl"
           }
          ],
          "scattermap": [
           {
            "marker": {
             "colorbar": {
              "outlinewidth": 0,
              "ticks": ""
             }
            },
            "type": "scattermap"
           }
          ],
          "scattermapbox": [
           {
            "marker": {
             "colorbar": {
              "outlinewidth": 0,
              "ticks": ""
             }
            },
            "type": "scattermapbox"
           }
          ],
          "scatterpolar": [
           {
            "marker": {
             "colorbar": {
              "outlinewidth": 0,
              "ticks": ""
             }
            },
            "type": "scatterpolar"
           }
          ],
          "scatterpolargl": [
           {
            "marker": {
             "colorbar": {
              "outlinewidth": 0,
              "ticks": ""
             }
            },
            "type": "scatterpolargl"
           }
          ],
          "scatterternary": [
           {
            "marker": {
             "colorbar": {
              "outlinewidth": 0,
              "ticks": ""
             }
            },
            "type": "scatterternary"
           }
          ],
          "surface": [
           {
            "colorbar": {
             "outlinewidth": 0,
             "ticks": ""
            },
            "colorscale": [
             [
              0,
              "#0d0887"
             ],
             [
              0.1111111111111111,
              "#46039f"
             ],
             [
              0.2222222222222222,
              "#7201a8"
             ],
             [
              0.3333333333333333,
              "#9c179e"
             ],
             [
              0.4444444444444444,
              "#bd3786"
             ],
             [
              0.5555555555555556,
              "#d8576b"
             ],
             [
              0.6666666666666666,
              "#ed7953"
             ],
             [
              0.7777777777777778,
              "#fb9f3a"
             ],
             [
              0.8888888888888888,
              "#fdca26"
             ],
             [
              1,
              "#f0f921"
             ]
            ],
            "type": "surface"
           }
          ],
          "table": [
           {
            "cells": {
             "fill": {
              "color": "#EBF0F8"
             },
             "line": {
              "color": "white"
             }
            },
            "header": {
             "fill": {
              "color": "#C8D4E3"
             },
             "line": {
              "color": "white"
             }
            },
            "type": "table"
           }
          ]
         },
         "layout": {
          "annotationdefaults": {
           "arrowcolor": "#2a3f5f",
           "arrowhead": 0,
           "arrowwidth": 1
          },
          "autotypenumbers": "strict",
          "coloraxis": {
           "colorbar": {
            "outlinewidth": 0,
            "ticks": ""
           }
          },
          "colorscale": {
           "diverging": [
            [
             0,
             "#8e0152"
            ],
            [
             0.1,
             "#c51b7d"
            ],
            [
             0.2,
             "#de77ae"
            ],
            [
             0.3,
             "#f1b6da"
            ],
            [
             0.4,
             "#fde0ef"
            ],
            [
             0.5,
             "#f7f7f7"
            ],
            [
             0.6,
             "#e6f5d0"
            ],
            [
             0.7,
             "#b8e186"
            ],
            [
             0.8,
             "#7fbc41"
            ],
            [
             0.9,
             "#4d9221"
            ],
            [
             1,
             "#276419"
            ]
           ],
           "sequential": [
            [
             0,
             "#0d0887"
            ],
            [
             0.1111111111111111,
             "#46039f"
            ],
            [
             0.2222222222222222,
             "#7201a8"
            ],
            [
             0.3333333333333333,
             "#9c179e"
            ],
            [
             0.4444444444444444,
             "#bd3786"
            ],
            [
             0.5555555555555556,
             "#d8576b"
            ],
            [
             0.6666666666666666,
             "#ed7953"
            ],
            [
             0.7777777777777778,
             "#fb9f3a"
            ],
            [
             0.8888888888888888,
             "#fdca26"
            ],
            [
             1,
             "#f0f921"
            ]
           ],
           "sequentialminus": [
            [
             0,
             "#0d0887"
            ],
            [
             0.1111111111111111,
             "#46039f"
            ],
            [
             0.2222222222222222,
             "#7201a8"
            ],
            [
             0.3333333333333333,
             "#9c179e"
            ],
            [
             0.4444444444444444,
             "#bd3786"
            ],
            [
             0.5555555555555556,
             "#d8576b"
            ],
            [
             0.6666666666666666,
             "#ed7953"
            ],
            [
             0.7777777777777778,
             "#fb9f3a"
            ],
            [
             0.8888888888888888,
             "#fdca26"
            ],
            [
             1,
             "#f0f921"
            ]
           ]
          },
          "colorway": [
           "#636efa",
           "#EF553B",
           "#00cc96",
           "#ab63fa",
           "#FFA15A",
           "#19d3f3",
           "#FF6692",
           "#B6E880",
           "#FF97FF",
           "#FECB52"
          ],
          "font": {
           "color": "#2a3f5f"
          },
          "geo": {
           "bgcolor": "white",
           "lakecolor": "white",
           "landcolor": "#E5ECF6",
           "showlakes": true,
           "showland": true,
           "subunitcolor": "white"
          },
          "hoverlabel": {
           "align": "left"
          },
          "hovermode": "closest",
          "mapbox": {
           "style": "light"
          },
          "paper_bgcolor": "white",
          "plot_bgcolor": "#E5ECF6",
          "polar": {
           "angularaxis": {
            "gridcolor": "white",
            "linecolor": "white",
            "ticks": ""
           },
           "bgcolor": "#E5ECF6",
           "radialaxis": {
            "gridcolor": "white",
            "linecolor": "white",
            "ticks": ""
           }
          },
          "scene": {
           "xaxis": {
            "backgroundcolor": "#E5ECF6",
            "gridcolor": "white",
            "gridwidth": 2,
            "linecolor": "white",
            "showbackground": true,
            "ticks": "",
            "zerolinecolor": "white"
           },
           "yaxis": {
            "backgroundcolor": "#E5ECF6",
            "gridcolor": "white",
            "gridwidth": 2,
            "linecolor": "white",
            "showbackground": true,
            "ticks": "",
            "zerolinecolor": "white"
           },
           "zaxis": {
            "backgroundcolor": "#E5ECF6",
            "gridcolor": "white",
            "gridwidth": 2,
            "linecolor": "white",
            "showbackground": true,
            "ticks": "",
            "zerolinecolor": "white"
           }
          },
          "shapedefaults": {
           "line": {
            "color": "#2a3f5f"
           }
          },
          "ternary": {
           "aaxis": {
            "gridcolor": "white",
            "linecolor": "white",
            "ticks": ""
           },
           "baxis": {
            "gridcolor": "white",
            "linecolor": "white",
            "ticks": ""
           },
           "bgcolor": "#E5ECF6",
           "caxis": {
            "gridcolor": "white",
            "linecolor": "white",
            "ticks": ""
           }
          },
          "title": {
           "x": 0.05
          },
          "xaxis": {
           "automargin": true,
           "gridcolor": "white",
           "linecolor": "white",
           "ticks": "",
           "title": {
            "standoff": 15
           },
           "zerolinecolor": "white",
           "zerolinewidth": 2
          },
          "yaxis": {
           "automargin": true,
           "gridcolor": "white",
           "linecolor": "white",
           "ticks": "",
           "title": {
            "standoff": 15
           },
           "zerolinecolor": "white",
           "zerolinewidth": 2
          }
         }
        },
        "title": {
         "text": "Histogram van wachttijd per run met verbindingslijnen"
        },
        "xaxis": {
         "title": {
          "text": "Wachttijd"
         }
        },
        "yaxis": {
         "title": {
          "text": "Aantal"
         }
        }
       }
      }
     },
     "metadata": {},
     "output_type": "display_data"
    }
   ],
   "source": [
    "# Maak figuur aan\n",
    "fig = go.Figure()\n",
    "\n",
    "# Data grouperen op world_id\n",
    "grouped = df.groupby('beds.slots')\n",
    "\n",
    "# Parameters voor de plot\n",
    "colors = pc.qualitative.Plotly * ((len(grouped) // len(pc.qualitative.Plotly)) + 1)\n",
    "bins = np.arange(df['waiting'].min()-0.5, df['waiting'].max()+0.5, 1)\n",
    "bin_width = bins[1] - bins[0]\n",
    "bin_centers = np.array(bins) + bin_width / 2\n",
    "\n",
    "# Loop over alle groepen heen\n",
    "for i, (name, group) in enumerate(grouped):\n",
    "    data = group['waiting']\n",
    "    color = colors[i]\n",
    "    \n",
    "    # Maak een histogram\n",
    "    fig.add_trace(go.Histogram(\n",
    "        x=data,\n",
    "        xbins=dict(start=bins[0], end=bins[-1], size=bin_width),\n",
    "        name=f'beds.slots {name}',\n",
    "        opacity=0.6,\n",
    "        marker_color=color,\n",
    "        showlegend=True\n",
    "    ))\n",
    "    \n",
    "    # Voor elke bin count tellen per bin \n",
    "    counts, _ = np.histogram(data, bins=bins)\n",
    "    \n",
    "    # Lijn toevoegen\n",
    "    fig.add_trace(go.Scatter(\n",
    "        x=bin_centers,\n",
    "        y=counts,\n",
    "        mode='lines+markers',\n",
    "        name=f'Line beds.slots {name}',\n",
    "        line=dict(color=color, width=2),\n",
    "        marker=dict(size=6),\n",
    "        showlegend=False  \n",
    "    ))\n",
    "\n",
    "fig.update_layout(\n",
    "    barmode='overlay',\n",
    "    title='Histogram van wachttijd per run met verbindingslijnen',\n",
    "    xaxis_title='Wachttijd',\n",
    "    yaxis_title='Aantal',\n",
    ")\n",
    "fig.show()"
   ]
  },
  {
   "cell_type": "markdown",
   "id": "44b2c095",
   "metadata": {},
   "source": [
    "Dit kan natuurlijk ook maar is niet zo fraai..."
   ]
  },
  {
   "cell_type": "code",
   "execution_count": 6,
   "id": "c668a35a",
   "metadata": {},
   "outputs": [
    {
     "data": {
      "text/plain": [
       "array([[<Axes: title={'center': '0'}>, <Axes: title={'center': '1'}>],\n",
       "       [<Axes: title={'center': '2'}>, <Axes: >]], dtype=object)"
      ]
     },
     "execution_count": 6,
     "metadata": {},
     "output_type": "execute_result"
    },
    {
     "data": {
      "image/png": "[encoded data removed]",
      "text/plain": [
       "<Figure size 640x480 with 4 Axes>"
      ]
     },
     "metadata": {},
     "output_type": "display_data"
    }
   ],
   "source": [
    "df.hist(column='waiting', by='world_id')"
   ]
  },
  {
   "cell_type": "markdown",
   "id": "fa011b71",
   "metadata": {},
   "source": [
    "Een boxplot per world_id is ook interessant, maar geeft minder informatie dan een histogram."
   ]
  },
  {
   "cell_type": "code",
   "execution_count": 7,
   "id": "339962f5",
   "metadata": {},
   "outputs": [
    {
     "data": {
      "image/png": "[encoded data removed]",
      "text/plain": [
       "<Figure size 640x480 with 1 Axes>"
      ]
     },
     "metadata": {},
     "output_type": "display_data"
    }
   ],
   "source": [
    "df.boxplot(column='waiting', by='beds.slots')\n",
    "plt.title('Boxplots van wachttijd per run')\n",
    "plt.suptitle('')  # Removes the default Pandas subtitle\n",
    "plt.xlabel('Run')\n",
    "plt.ylabel('Wachttijd')\n",
    "plt.show()"
   ]
  },
  {
   "cell_type": "markdown",
   "id": "3d2be92a",
   "metadata": {},
   "source": [
    "Onderstaande visualisatie vond ik het meest interessant, nu is deze gevuld met de ligtijd. Deze visualisatie zegt eigenlijk heel weinig want de ligtijd is (uiteraard) voor elk scenario bijna hetzelfde..."
   ]
  },
  {
   "cell_type": "code",
   "execution_count": 8,
   "id": "e24ee382",
   "metadata": {},
   "outputs": [
    {
     "data": {
      "application/vnd.plotly.v1+json": {
       "config": {
        "plotlyServerURL": "https://plot.ly"
       },
       "data": [
        {
         "marker": {
          "color": "#636EFA"
         },
         "name": "beds.slots 165",
         "opacity": 0.3,
         "showlegend": true,
         "type": "histogram",
         "x": {
          "bdata": "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",
          "dtype": "f8"
         },
         "xbins": {
          "end": 71,
          "size": 10,
          "start": 1
         }
        },
        {
         "line": {
          "color": "#636EFA",
          "width": 2
         },
         "marker": {
          "size": 6
         },
         "mode": "lines+markers",
         "name": "Line beds.slots 165",
         "showlegend": false,
         "type": "scatter",
         "x": {
          "bdata": "AAAAAAAAGEAAAAAAAAAwQAAAAAAAADpAAAAAAAAAQkAAAAAAAABHQAAAAAAAAExAAAAAAACAUEA=",
          "dtype": "f8"
         },
         "y": {
          "bdata": "AwBYAGMBVwATACQAJwA=",
          "dtype": "i2"
         }
        },
        {
         "marker": {
          "color": "#EF553B"
         },
         "name": "beds.slots 190",
         "opacity": 0.3,
         "showlegend": true,
         "type": "histogram",
         "x": {
          "bdata": "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",
          "dtype": "f8"
         },
         "xbins": {
          "end": 71,
          "size": 10,
          "start": 1
         }
        },
        {
         "line": {
          "color": "#EF553B",
          "width": 2
         },
         "marker": {
          "size": 6
         },
         "mode": "lines+markers",
         "name": "Line beds.slots 190",
         "showlegend": false,
         "type": "scatter",
         "x": {
          "bdata": "AAAAAAAAGEAAAAAAAAAwQAAAAAAAADpAAAAAAAAAQkAAAAAAAABHQAAAAAAAAExAAAAAAACAUEA=",
          "dtype": "f8"
         },
         "y": {
          "bdata": "AwBYAGgBWQAeACYAMAA=",
          "dtype": "i2"
         }
        },
        {
         "marker": {
          "color": "#00CC96"
         },
         "name": "beds.slots 215",
         "opacity": 0.3,
         "showlegend": true,
         "type": "histogram",
         "x": {
          "bdata": "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",
          "dtype": "f8"
         },
         "xbins": {
          "end": 71,
          "size": 10,
          "start": 1
         }
        },
        {
         "line": {
          "color": "#00CC96",
          "width": 2
         },
         "marker": {
          "size": 6
         },
         "mode": "lines+markers",
         "name": "Line beds.slots 215",
         "showlegend": false,
         "type": "scatter",
         "x": {
          "bdata": "AAAAAAAAGEAAAAAAAAAwQAAAAAAAADpAAAAAAAAAQkAAAAAAAABHQAAAAAAAAExAAAAAAACAUEA=",
          "dtype": "f8"
         },
         "y": {
          "bdata": "AwBYAGgBWQAeACYAMAA=",
          "dtype": "i2"
         }
        }
       ],
       "layout": {
        "barmode": "overlay",
        "template": {
         "data": {
          "bar": [
           {
            "error_x": {
             "color": "#2a3f5f"
            },
            "error_y": {
             "color": "#2a3f5f"
            },
            "marker": {
             "line": {
              "color": "#E5ECF6",
              "width": 0.5
             },
             "pattern": {
              "fillmode": "overlay",
              "size": 10,
              "solidity": 0.2
             }
            },
            "type": "bar"
           }
          ],
          "barpolar": [
           {
            "marker": {
             "line": {
              "color": "#E5ECF6",
              "width": 0.5
             },
             "pattern": {
              "fillmode": "overlay",
              "size": 10,
              "solidity": 0.2
             }
            },
            "type": "barpolar"
           }
          ],
          "carpet": [
           {
            "aaxis": {
             "endlinecolor": "#2a3f5f",
             "gridcolor": "white",
             "linecolor": "white",
             "minorgridcolor": "white",
             "startlinecolor": "#2a3f5f"
            },
            "baxis": {
             "endlinecolor": "#2a3f5f",
             "gridcolor": "white",
             "linecolor": "white",
             "minorgridcolor": "white",
             "startlinecolor": "#2a3f5f"
            },
            "type": "carpet"
           }
          ],
          "choropleth": [
           {
            "colorbar": {
             "outlinewidth": 0,
             "ticks": ""
            },
            "type": "choropleth"
           }
          ],
          "contour": [
           {
            "colorbar": {
             "outlinewidth": 0,
             "ticks": ""
            },
            "colorscale": [
             [
              0,
              "#0d0887"
             ],
             [
              0.1111111111111111,
              "#46039f"
             ],
             [
              0.2222222222222222,
              "#7201a8"
             ],
             [
              0.3333333333333333,
              "#9c179e"
             ],
             [
              0.4444444444444444,
              "#bd3786"
             ],
             [
              0.5555555555555556,
              "#d8576b"
             ],
             [
              0.6666666666666666,
              "#ed7953"
             ],
             [
              0.7777777777777778,
              "#fb9f3a"
             ],
             [
              0.8888888888888888,
              "#fdca26"
             ],
             [
              1,
              "#f0f921"
             ]
            ],
            "type": "contour"
           }
          ],
          "contourcarpet": [
           {
            "colorbar": {
             "outlinewidth": 0,
             "ticks": ""
            },
            "type": "contourcarpet"
           }
          ],
          "heatmap": [
           {
            "colorbar": {
             "outlinewidth": 0,
             "ticks": ""
            },
            "colorscale": [
             [
              0,
              "#0d0887"
             ],
             [
              0.1111111111111111,
              "#46039f"
             ],
             [
              0.2222222222222222,
              "#7201a8"
             ],
             [
              0.3333333333333333,
              "#9c179e"
             ],
             [
              0.4444444444444444,
              "#bd3786"
             ],
             [
              0.5555555555555556,
              "#d8576b"
             ],
             [
              0.6666666666666666,
              "#ed7953"
             ],
             [
              0.7777777777777778,
              "#fb9f3a"
             ],
             [
              0.8888888888888888,
              "#fdca26"
             ],
             [
              1,
              "#f0f921"
             ]
            ],
            "type": "heatmap"
           }
          ],
          "histogram": [
           {
            "marker": {
             "pattern": {
              "fillmode": "overlay",
              "size": 10,
              "solidity": 0.2
             }
            },
            "type": "histogram"
           }
          ],
          "histogram2d": [
           {
            "colorbar": {
             "outlinewidth": 0,
             "ticks": ""
            },
            "colorscale": [
             [
              0,
              "#0d0887"
             ],
             [
              0.1111111111111111,
              "#46039f"
             ],
             [
              0.2222222222222222,
              "#7201a8"
             ],
             [
              0.3333333333333333,
              "#9c179e"
             ],
             [
              0.4444444444444444,
              "#bd3786"
             ],
             [
              0.5555555555555556,
              "#d8576b"
             ],
             [
              0.6666666666666666,
              "#ed7953"
             ],
             [
              0.7777777777777778,
              "#fb9f3a"
             ],
             [
              0.8888888888888888,
              "#fdca26"
             ],
             [
              1,
              "#f0f921"
             ]
            ],
            "type": "histogram2d"
           }
          ],
          "histogram2dcontour": [
           {
            "colorbar": {
             "outlinewidth": 0,
             "ticks": ""
            },
            "colorscale": [
             [
              0,
              "#0d0887"
             ],
             [
              0.1111111111111111,
              "#46039f"
             ],
             [
              0.2222222222222222,
              "#7201a8"
             ],
             [
              0.3333333333333333,
              "#9c179e"
             ],
             [
              0.4444444444444444,
              "#bd3786"
             ],
             [
              0.5555555555555556,
              "#d8576b"
             ],
             [
              0.6666666666666666,
              "#ed7953"
             ],
             [
              0.7777777777777778,
              "#fb9f3a"
             ],
             [
              0.8888888888888888,
              "#fdca26"
             ],
             [
              1,
              "#f0f921"
             ]
            ],
            "type": "histogram2dcontour"
           }
          ],
          "mesh3d": [
           {
            "colorbar": {
             "outlinewidth": 0,
             "ticks": ""
            },
            "type": "mesh3d"
           }
          ],
          "parcoords": [
           {
            "line": {
             "colorbar": {
              "outlinewidth": 0,
              "ticks": ""
             }
            },
            "type": "parcoords"
           }
          ],
          "pie": [
           {
            "automargin": true,
            "type": "pie"
           }
          ],
          "scatter": [
           {
            "fillpattern": {
             "fillmode": "overlay",
             "size": 10,
             "solidity": 0.2
            },
            "type": "scatter"
           }
          ],
          "scatter3d": [
           {
            "line": {
             "colorbar": {
              "outlinewidth": 0,
              "ticks": ""
             }
            },
            "marker": {
             "colorbar": {
              "outlinewidth": 0,
              "ticks": ""
             }
            },
            "type": "scatter3d"
           }
          ],
          "scattercarpet": [
           {
            "marker": {
             "colorbar": {
              "outlinewidth": 0,
              "ticks": ""
             }
            },
            "type": "scattercarpet"
           }
          ],
          "scattergeo": [
           {
            "marker": {
             "colorbar": {
              "outlinewidth": 0,
              "ticks": ""
             }
            },
            "type": "scattergeo"
           }
          ],
          "scattergl": [
           {
            "marker": {
             "colorbar": {
              "outlinewidth": 0,
              "ticks": ""
             }
            },
            "type": "scattergl"
           }
          ],
          "scattermap": [
           {
            "marker": {
             "colorbar": {
              "outlinewidth": 0,
              "ticks": ""
             }
            },
            "type": "scattermap"
           }
          ],
          "scattermapbox": [
           {
            "marker": {
             "colorbar": {
              "outlinewidth": 0,
              "ticks": ""
             }
            },
            "type": "scattermapbox"
           }
          ],
          "scatterpolar": [
           {
            "marker": {
             "colorbar": {
              "outlinewidth": 0,
              "ticks": ""
             }
            },
            "type": "scatterpolar"
           }
          ],
          "scatterpolargl": [
           {
            "marker": {
             "colorbar": {
              "outlinewidth": 0,
              "ticks": ""
             }
            },
            "type": "scatterpolargl"
           }
          ],
          "scatterternary": [
           {
            "marker": {
             "colorbar": {
              "outlinewidth": 0,
              "ticks": ""
             }
            },
            "type": "scatterternary"
           }
          ],
          "surface": [
           {
            "colorbar": {
             "outlinewidth": 0,
             "ticks": ""
            },
            "colorscale": [
             [
              0,
              "#0d0887"
             ],
             [
              0.1111111111111111,
              "#46039f"
             ],
             [
              0.2222222222222222,
              "#7201a8"
             ],
             [
              0.3333333333333333,
              "#9c179e"
             ],
             [
              0.4444444444444444,
              "#bd3786"
             ],
             [
              0.5555555555555556,
              "#d8576b"
             ],
             [
              0.6666666666666666,
              "#ed7953"
             ],
             [
              0.7777777777777778,
              "#fb9f3a"
             ],
             [
              0.8888888888888888,
              "#fdca26"
             ],
             [
              1,
              "#f0f921"
             ]
            ],
            "type": "surface"
           }
          ],
          "table": [
           {
            "cells": {
             "fill": {
              "color": "#EBF0F8"
             },
             "line": {
              "color": "white"
             }
            },
            "header": {
             "fill": {
              "color": "#C8D4E3"
             },
             "line": {
              "color": "white"
             }
            },
            "type": "table"
           }
          ]
         },
         "layout": {
          "annotationdefaults": {
           "arrowcolor": "#2a3f5f",
           "arrowhead": 0,
           "arrowwidth": 1
          },
          "autotypenumbers": "strict",
          "coloraxis": {
           "colorbar": {
            "outlinewidth": 0,
            "ticks": ""
           }
          },
          "colorscale": {
           "diverging": [
            [
             0,
             "#8e0152"
            ],
            [
             0.1,
             "#c51b7d"
            ],
            [
             0.2,
             "#de77ae"
            ],
            [
             0.3,
             "#f1b6da"
            ],
            [
             0.4,
             "#fde0ef"
            ],
            [
             0.5,
             "#f7f7f7"
            ],
            [
             0.6,
             "#e6f5d0"
            ],
            [
             0.7,
             "#b8e186"
            ],
            [
             0.8,
             "#7fbc41"
            ],
            [
             0.9,
             "#4d9221"
            ],
            [
             1,
             "#276419"
            ]
           ],
           "sequential": [
            [
             0,
             "#0d0887"
            ],
            [
             0.1111111111111111,
             "#46039f"
            ],
            [
             0.2222222222222222,
             "#7201a8"
            ],
            [
             0.3333333333333333,
             "#9c179e"
            ],
            [
             0.4444444444444444,
             "#bd3786"
            ],
            [
             0.5555555555555556,
             "#d8576b"
            ],
            [
             0.6666666666666666,
             "#ed7953"
            ],
            [
             0.7777777777777778,
             "#fb9f3a"
            ],
            [
             0.8888888888888888,
             "#fdca26"
            ],
            [
             1,
             "#f0f921"
            ]
           ],
           "sequentialminus": [
            [
             0,
             "#0d0887"
            ],
            [
             0.1111111111111111,
             "#46039f"
            ],
            [
             0.2222222222222222,
             "#7201a8"
            ],
            [
             0.3333333333333333,
             "#9c179e"
            ],
            [
             0.4444444444444444,
             "#bd3786"
            ],
            [
             0.5555555555555556,
             "#d8576b"
            ],
            [
             0.6666666666666666,
             "#ed7953"
            ],
            [
             0.7777777777777778,
             "#fb9f3a"
            ],
            [
             0.8888888888888888,
             "#fdca26"
            ],
            [
             1,
             "#f0f921"
            ]
           ]
          },
          "colorway": [
           "#636efa",
           "#EF553B",
           "#00cc96",
           "#ab63fa",
           "#FFA15A",
           "#19d3f3",
           "#FF6692",
           "#B6E880",
           "#FF97FF",
           "#FECB52"
          ],
          "font": {
           "color": "#2a3f5f"
          },
          "geo": {
           "bgcolor": "white",
           "lakecolor": "white",
           "landcolor": "#E5ECF6",
           "showlakes": true,
           "showland": true,
           "subunitcolor": "white"
          },
          "hoverlabel": {
           "align": "left"
          },
          "hovermode": "closest",
          "mapbox": {
           "style": "light"
          },
          "paper_bgcolor": "white",
          "plot_bgcolor": "#E5ECF6",
          "polar": {
           "angularaxis": {
            "gridcolor": "white",
            "linecolor": "white",
            "ticks": ""
           },
           "bgcolor": "#E5ECF6",
           "radialaxis": {
            "gridcolor": "white",
            "linecolor": "white",
            "ticks": ""
           }
          },
          "scene": {
           "xaxis": {
            "backgroundcolor": "#E5ECF6",
            "gridcolor": "white",
            "gridwidth": 2,
            "linecolor": "white",
            "showbackground": true,
            "ticks": "",
            "zerolinecolor": "white"
           },
           "yaxis": {
            "backgroundcolor": "#E5ECF6",
            "gridcolor": "white",
            "gridwidth": 2,
            "linecolor": "white",
            "showbackground": true,
            "ticks": "",
            "zerolinecolor": "white"
           },
           "zaxis": {
            "backgroundcolor": "#E5ECF6",
            "gridcolor": "white",
            "gridwidth": 2,
            "linecolor": "white",
            "showbackground": true,
            "ticks": "",
            "zerolinecolor": "white"
           }
          },
          "shapedefaults": {
           "line": {
            "color": "#2a3f5f"
           }
          },
          "ternary": {
           "aaxis": {
            "gridcolor": "white",
            "linecolor": "white",
            "ticks": ""
           },
           "baxis": {
            "gridcolor": "white",
            "linecolor": "white",
            "ticks": ""
           },
           "bgcolor": "#E5ECF6",
           "caxis": {
            "gridcolor": "white",
            "linecolor": "white",
            "ticks": ""
           }
          },
          "title": {
           "x": 0.05
          },
          "xaxis": {
           "automargin": true,
           "gridcolor": "white",
           "linecolor": "white",
           "ticks": "",
           "title": {
            "standoff": 15
           },
           "zerolinecolor": "white",
           "zerolinewidth": 2
          },
          "yaxis": {
           "automargin": true,
           "gridcolor": "white",
           "linecolor": "white",
           "ticks": "",
           "title": {
            "standoff": 15
           },
           "zerolinecolor": "white",
           "zerolinewidth": 2
          }
         }
        },
        "title": {
         "text": "Histogram van ligtijd per run met verbindingslijnen"
        },
        "xaxis": {
         "title": {
          "text": "Wachttijd"
         }
        },
        "yaxis": {
         "title": {
          "text": "Aantal"
         }
        }
       }
      }
     },
     "metadata": {},
     "output_type": "display_data"
    }
   ],
   "source": [
    "# Maak figuur aan\n",
    "fig = go.Figure()\n",
    "\n",
    "# Data grouperen op world_id\n",
    "grouped = df.groupby('beds.slots')\n",
    "\n",
    "# Parameters voor de plot\n",
    "colors = pc.qualitative.Plotly * ((len(grouped) // len(pc.qualitative.Plotly)) + 1)\n",
    "\n",
    "# Bins maken van 1 tot en met de maximale tijd, omdat de maximale tijd best lang is worden er bins van 10 gemaakt\n",
    "# Merk op: soms is de ligtijd 0 maar dat gaat over patiënten die in de wachtrij zijn overleden\n",
    "bins = np.arange(1, df['bed_time'].max()+1, 10)\n",
    "bin_width = bins[1] - bins[0]\n",
    "bin_centers = np.array(bins[:-1]) + bin_width / 2\n",
    "\n",
    "# Loop over alle groepen heen\n",
    "for i, (name, group) in enumerate(grouped):\n",
    "    data = group['bed_time']\n",
    "    color = colors[i]\n",
    "    \n",
    "    # Maak een histogram\n",
    "    fig.add_trace(go.Histogram(\n",
    "        x=data,\n",
    "        xbins=dict(start=bins[0], end=bins[-1], size=bin_width),\n",
    "        name=f'beds.slots {name}',\n",
    "        opacity=0.3,\n",
    "        marker_color=color,\n",
    "        showlegend=True\n",
    "    ))\n",
    "    \n",
    "    # Voor elke bin count tellen per bin \n",
    "    counts, _ = np.histogram(data, bins=bins)\n",
    "    \n",
    "    # Lijn toevoegen\n",
    "    fig.add_trace(go.Scatter(\n",
    "        x=bin_centers,\n",
    "        y=counts,\n",
    "        mode='lines+markers',\n",
    "        name=f'Line beds.slots {name}',\n",
    "        line=dict(color=color, width=2),\n",
    "        marker=dict(size=6),\n",
    "        showlegend=False  \n",
    "    ))\n",
    "\n",
    "fig.update_layout(\n",
    "    barmode='overlay',\n",
    "    title='Histogram van ligtijd per run met verbindingslijnen',\n",
    "    xaxis_title='Wachttijd',\n",
    "    yaxis_title='Aantal',\n",
    ")\n",
    "fig.show()"
   ]
  },
  {
   "cell_type": "markdown",
   "id": "f37b6498",
   "metadata": {},
   "source": [
    "### Deel 2 - Statistieken van scenario visualiseren\n",
    "\n",
    "**Opdracht 2.** Statistieken van entiteiteiten\n",
    "\n",
    "ij de tweede opdracht gaan we niet naar individuele patiënten kijken maar naar alle patiënten *samen* in een bepaalde state. We gaan de statistieken van de wachtrij en de bedden van de ICU analyseren en kijken naar de hoeveelheid patiënten die beter naar huis gaan of komen te overlijden. Deze data is te vinden in ```ICU - ICU.csv```.\n",
    "\n",
    "Maak visualisaties van de volgende statistieken:\n",
    "- Distributie van het aantal mensen in de wachtrij  \n",
    "- Distributie van het aantal bezette bedden  \n",
    "- Verloop van het aantal behandelde en overleden patiënten over de tijd \n",
    "\n",
    "#### Implementatie\n",
    "- Input: ```ICU - ICU.csv``` bevat informatie van de ICU op elk tijdstip: het aantal patiënten in de wachtrij, het aantal patiënten in bedden en het aantal behandelde en overleden patiënten.\n",
    "- Features (visualisatie): Beds in use (histogram), Patients waiting (histogram), Patients treated (lijn), Patients died (line)\n",
    "- Pull down: aantal bedden\n",
    "\n",
    "Een eenvoudigere aanpak kan natuurlijk ook waarbij je voor elke KPI een aparte visualisatie maakt"
   ]
  },
  {
   "cell_type": "code",
   "execution_count": 69,
   "id": "a7197780",
   "metadata": {},
   "outputs": [
    {
     "data": {
      "text/html": [
       "<div>\n",
       "<style scoped>\n",
       "    .dataframe tbody tr th:only-of-type {\n",
       "        vertical-align: middle;\n",
       "    }\n",
       "\n",
       "    .dataframe tbody tr th {\n",
       "        vertical-align: top;\n",
       "    }\n",
       "\n",
       "    .dataframe thead th {\n",
       "        text-align: right;\n",
       "    }\n",
       "</style>\n",
       "<table border=\"1\" class=\"dataframe\">\n",
       "  <thead>\n",
       "    <tr style=\"text-align: right;\">\n",
       "      <th></th>\n",
       "      <th>beds.slots</th>\n",
       "      <th>world_id</th>\n",
       "      <th>hours</th>\n",
       "      <th>Beds in use</th>\n",
       "      <th>Patients waiting</th>\n",
       "      <th>Patients treated</th>\n",
       "      <th>Patients died</th>\n",
       "    </tr>\n",
       "  </thead>\n",
       "  <tbody>\n",
       "    <tr>\n",
       "      <th>0</th>\n",
       "      <td>115</td>\n",
       "      <td>0</td>\n",
       "      <td>0.0</td>\n",
       "      <td>6.0</td>\n",
       "      <td>0.0</td>\n",
       "      <td>0.0</td>\n",
       "      <td>0.0</td>\n",
       "    </tr>\n",
       "    <tr>\n",
       "      <th>1</th>\n",
       "      <td>115</td>\n",
       "      <td>0</td>\n",
       "      <td>1.0</td>\n",
       "      <td>10.0</td>\n",
       "      <td>0.0</td>\n",
       "      <td>0.0</td>\n",
       "      <td>0.0</td>\n",
       "    </tr>\n",
       "    <tr>\n",
       "      <th>2</th>\n",
       "      <td>115</td>\n",
       "      <td>0</td>\n",
       "      <td>2.0</td>\n",
       "      <td>17.0</td>\n",
       "      <td>0.0</td>\n",
       "      <td>0.0</td>\n",
       "      <td>0.0</td>\n",
       "    </tr>\n",
       "    <tr>\n",
       "      <th>3</th>\n",
       "      <td>115</td>\n",
       "      <td>0</td>\n",
       "      <td>3.0</td>\n",
       "      <td>19.0</td>\n",
       "      <td>0.0</td>\n",
       "      <td>0.0</td>\n",
       "      <td>0.0</td>\n",
       "    </tr>\n",
       "    <tr>\n",
       "      <th>4</th>\n",
       "      <td>115</td>\n",
       "      <td>0</td>\n",
       "      <td>4.0</td>\n",
       "      <td>26.0</td>\n",
       "      <td>0.0</td>\n",
       "      <td>0.0</td>\n",
       "      <td>0.0</td>\n",
       "    </tr>\n",
       "    <tr>\n",
       "      <th>...</th>\n",
       "      <td>...</td>\n",
       "      <td>...</td>\n",
       "      <td>...</td>\n",
       "      <td>...</td>\n",
       "      <td>...</td>\n",
       "      <td>...</td>\n",
       "      <td>...</td>\n",
       "    </tr>\n",
       "    <tr>\n",
       "      <th>846</th>\n",
       "      <td>215</td>\n",
       "      <td>4</td>\n",
       "      <td>185.0</td>\n",
       "      <td>1.0</td>\n",
       "      <td>0.0</td>\n",
       "      <td>659.0</td>\n",
       "      <td>0.0</td>\n",
       "    </tr>\n",
       "    <tr>\n",
       "      <th>847</th>\n",
       "      <td>215</td>\n",
       "      <td>4</td>\n",
       "      <td>186.0</td>\n",
       "      <td>1.0</td>\n",
       "      <td>0.0</td>\n",
       "      <td>659.0</td>\n",
       "      <td>0.0</td>\n",
       "    </tr>\n",
       "    <tr>\n",
       "      <th>848</th>\n",
       "      <td>215</td>\n",
       "      <td>4</td>\n",
       "      <td>187.0</td>\n",
       "      <td>1.0</td>\n",
       "      <td>0.0</td>\n",
       "      <td>659.0</td>\n",
       "      <td>0.0</td>\n",
       "    </tr>\n",
       "    <tr>\n",
       "      <th>849</th>\n",
       "      <td>215</td>\n",
       "      <td>4</td>\n",
       "      <td>188.0</td>\n",
       "      <td>0.0</td>\n",
       "      <td>0.0</td>\n",
       "      <td>659.0</td>\n",
       "      <td>0.0</td>\n",
       "    </tr>\n",
       "    <tr>\n",
       "      <th>850</th>\n",
       "      <td>215</td>\n",
       "      <td>4</td>\n",
       "      <td>189.0</td>\n",
       "      <td>0.0</td>\n",
       "      <td>0.0</td>\n",
       "      <td>660.0</td>\n",
       "      <td>0.0</td>\n",
       "    </tr>\n",
       "  </tbody>\n",
       "</table>\n",
       "<p>851 rows × 7 columns</p>\n",
       "</div>"
      ],
      "text/plain": [
       "     beds.slots  world_id  hours  Beds in use  Patients waiting  \\\n",
       "0           115         0    0.0          6.0               0.0   \n",
       "1           115         0    1.0         10.0               0.0   \n",
       "2           115         0    2.0         17.0               0.0   \n",
       "3           115         0    3.0         19.0               0.0   \n",
       "4           115         0    4.0         26.0               0.0   \n",
       "..          ...       ...    ...          ...               ...   \n",
       "846         215         4  185.0          1.0               0.0   \n",
       "847         215         4  186.0          1.0               0.0   \n",
       "848         215         4  187.0          1.0               0.0   \n",
       "849         215         4  188.0          0.0               0.0   \n",
       "850         215         4  189.0          0.0               0.0   \n",
       "\n",
       "     Patients treated  Patients died  \n",
       "0                 0.0            0.0  \n",
       "1                 0.0            0.0  \n",
       "2                 0.0            0.0  \n",
       "3                 0.0            0.0  \n",
       "4                 0.0            0.0  \n",
       "..                ...            ...  \n",
       "846             659.0            0.0  \n",
       "847             659.0            0.0  \n",
       "848             659.0            0.0  \n",
       "849             659.0            0.0  \n",
       "850             660.0            0.0  \n",
       "\n",
       "[851 rows x 7 columns]"
      ]
     },
     "execution_count": 69,
     "metadata": {},
     "output_type": "execute_result"
    }
   ],
   "source": [
    "df = pd.read_csv('ICU - ICU.csv')\n",
    "df"
   ]
  },
  {
   "cell_type": "markdown",
   "id": "cf109d6c",
   "metadata": {},
   "source": [
    "In onderstaande visualisatie wordt voor elke world_id de distributie van het aantal bedden in gebruik en het aantal patiënten in de wachtrij getoond en het verloop van het aantal behandelde en overleden patiënten."
   ]
  },
  {
   "cell_type": "code",
   "execution_count": 70,
   "id": "f34ec5ac",
   "metadata": {},
   "outputs": [
    {
     "data": {
      "application/vnd.jupyter.widget-view+json": {
       "model_id": "3091bee100c24cd5afa6ce0f346769ef",
       "version_major": 2,
       "version_minor": 0
      },
      "text/plain": [
       "interactive(children=(Dropdown(description='world_id:', options=(np.int64(0), np.int64(1), np.int64(2), np.int…"
      ]
     },
     "metadata": {},
     "output_type": "display_data"
    },
    {
     "data": {
      "text/plain": [
       "<function __main__.update_plots(selected_world_id)>"
      ]
     },
     "execution_count": 70,
     "metadata": {},
     "output_type": "execute_result"
    }
   ],
   "source": [
    "# Visualisatie van Perplexity.AI\n",
    "\n",
    "# Dropdown widget maken om world_id te selecteren\n",
    "world_id_dropdown = widgets.Dropdown(\n",
    "    options=sorted(df['world_id'].unique()), # Mogelijke opties in dropdown\n",
    "    description='world_id:',\n",
    "    value=sorted(df['world_id'].unique())[0] # Default waarde\n",
    ")\n",
    "\n",
    "# Functie om de visualisatie te updaten\n",
    "def update_plots(selected_world_id):\n",
    "    \n",
    "    # Subset van de data op basis van de gekozen world_id\n",
    "    filtered = df[df['world_id'] == selected_world_id]\n",
    "\n",
    "    # Figuur aanmaken\n",
    "    fig = make_subplots(\n",
    "        rows=2, cols=2,\n",
    "        subplot_titles=(\n",
    "            \"Distributie aantal bedden in gebruik\",\n",
    "            \"Distributie aantal patiënten in wachtrij\",\n",
    "            \"Aantal patiënten behandeld over de looptijd\",\n",
    "            \"Aantal patiënten overleden over de looptijd\"\n",
    "        )\n",
    "    )\n",
    "\n",
    "    # Histogram: Beds in use\n",
    "    fig.add_trace(\n",
    "        go.Histogram(x=filtered['Beds in use'], name='Beds in use'),\n",
    "        row=1, col=1\n",
    "    )\n",
    "\n",
    "    # Histogram: Patients waiting\n",
    "    fig.add_trace(\n",
    "        go.Histogram(x=filtered['Patients waiting'], name='Patients waiting'),\n",
    "        row=1, col=2\n",
    "    )\n",
    "\n",
    "    # Line: Hours vs Patients treated\n",
    "    fig.add_trace(\n",
    "        go.Scatter(x=filtered['hours'], y=filtered['Patients treated'], mode='lines+markers', name='Patients treated'),\n",
    "        row=2, col=1\n",
    "    )\n",
    "\n",
    "    # Line: Hours vs Patients died\n",
    "    fig.add_trace(\n",
    "        go.Scatter(x=filtered['hours'], y=filtered['Patients died'], mode='lines+markers', name='Patients died'),\n",
    "        row=2, col=2\n",
    "    )\n",
    "\n",
    "    fig.update_layout(height=700, width=1000, showlegend=False)\n",
    "    fig.show()\n",
    "\n",
    "# Main functie die een visualisatie maakt op basis van een selectie\n",
    "widgets.interact(update_plots, selected_world_id=world_id_dropdown)"
   ]
  },
  {
   "cell_type": "code",
   "execution_count": 71,
   "id": "bb307859",
   "metadata": {},
   "outputs": [
    {
     "data": {
      "text/plain": [
       "array([[<Axes: title={'center': '0'}>, <Axes: title={'center': '1'}>],\n",
       "       [<Axes: title={'center': '2'}>, <Axes: title={'center': '3'}>],\n",
       "       [<Axes: title={'center': '4'}>, <Axes: >]], dtype=object)"
      ]
     },
     "execution_count": 71,
     "metadata": {},
     "output_type": "execute_result"
    },
    {
     "data": {
      "image/png": "[encoded data removed]",
      "text/plain": [
       "<Figure size 1200x800 with 6 Axes>"
      ]
     },
     "metadata": {},
     "output_type": "display_data"
    }
   ],
   "source": [
    "# Nog simpeler met Pandas maar wel minder fancy\n",
    "df['Beds in use'].hist(by=df['world_id'], alpha=0.7, figsize=(12, 8))"
   ]
  },
  {
   "cell_type": "markdown",
   "id": "87e83c10",
   "metadata": {},
   "source": [
    "**Opdracht 2.2.** Runs vergelijken\n",
    "\n",
    "Onderstaande visualisatie is *over the top*, veel te complex."
   ]
  },
  {
   "cell_type": "code",
   "execution_count": 72,
   "id": "77299e05",
   "metadata": {},
   "outputs": [
    {
     "data": {
      "application/vnd.plotly.v1+json": {
       "config": {
        "plotlyServerURL": "https://plot.ly"
       },
       "data": [
        {
         "name": "Beds in use (world_id 0)",
         "opacity": 0.3,
         "type": "histogram",
         "x": {
          "bdata": "AAAAAAAAGEAAAAAAAAAkQAAAAAAAADFAAAAAAAAAM0AAAAAAAAA6QAAAAAAAgEBAAAAAAACAQkAAAAAAAABFQAAAAAAAAEhAAAAAAACASkAAAAAAAABOQAAAAAAAgFBAAAAAAACAUUAAAAAAAIBSQAAAAAAAQFNAAAAAAADAU0AAAAAAAABUQAAAAAAAAFZAAAAAAACAV0AAAAAAAEBYQAAAAAAAAFpAAAAAAAAAW0AAAAAAAABbQAAAAAAAAFxAAAAAAADAW0AAAAAAAEBcQAAAAAAAAFxAAAAAAAAAXEAAAAAAAMBbQAAAAAAAQFxAAAAAAABAXEAAAAAAAABcQAAAAAAAgFxAAAAAAACAW0AAAAAAAEBbQAAAAAAAAFxAAAAAAABAXEAAAAAAAABcQAAAAAAAAFxAAAAAAADAW0AAAAAAAIBbQAAAAAAAgFtAAAAAAACAW0AAAAAAAMBaQAAAAAAAgFxAAAAAAABAXEAAAAAAAABcQAAAAAAAAFxAAAAAAABAW0AAAAAAAIBbQAAAAAAAgFxAAAAAAADAW0AAAAAAAEBcQAAAAAAAAFxAAAAAAABAXEAAAAAAAABcQAAAAAAAwFxAAAAAAACAW0AAAAAAAEBcQAAAAAAAwFtAAAAAAAAAXEAAAAAAAEBcQAAAAAAAQFxAAAAAAADAW0AAAAAAAMBcQAAAAAAAwFtAAAAAAAAAXEAAAAAAAEBcQAAAAAAAQFxAAAAAAAAAXEAAAAAAAMBbQAAAAAAAAFtAAAAAAADAW0AAAAAAAABcQAAAAAAAAFxAAAAAAABAW0AAAAAAAMBbQAAAAAAAgFxAAAAAAABAXEAAAAAAAIBcQAAAAAAAQFxAAAAAAACAXEAAAAAAAABcQAAAAAAAgFxAAAAAAADAW0AAAAAAAABcQAAAAAAAgFxAAAAAAABAXEAAAAAAAEBcQAAAAAAAgFxAAAAAAACAXEAAAAAAAIBcQAAAAAAAgFxAAAAAAADAXEAAAAAAAIBbQAAAAAAAgFxAAAAAAACAXEAAAAAAAEBcQAAAAAAAgFxAAAAAAACAXEAAAAAAAIBcQAAAAAAAgFxAAAAAAADAXEAAAAAAAEBcQAAAAAAAgFxAAAAAAABAXEAAAAAAAIBcQAAAAAAAwFxAAAAAAACAXEAAAAAAAEBcQAAAAAAAgFxAAAAAAADAXEAAAAAAAIBcQAAAAAAAgFxAAAAAAACAXEAAAAAAAIBcQAAAAAAAgFxAAAAAAACAXEAAAAAAAMBcQAAAAAAAAFxAAAAAAACAXEAAAAAAAIBcQAAAAAAAgFxAAAAAAADAXEAAAAAAAIBcQAAAAAAAgFxAAAAAAABAXEAAAAAAAEBcQAAAAAAAwFtAAAAAAACAW0AAAAAAAEBbQAAAAAAAAFtAAAAAAAAAW0AAAAAAAMBaQAAAAAAAQFpAAAAAAAAAWkAAAAAAAABaQAAAAAAAwFlAAAAAAACAWUAAAAAAAEBZQAAAAAAAAFlAAAAAAADAWEAAAAAAAIBYQAAAAAAAgFhAAAAAAADAV0AAAAAAAIBXQAAAAAAAQFdAAAAAAAAAV0AAAAAAAABXQAAAAAAAwFZAAAAAAADAVkA=",
          "dtype": "f8"
         },
         "xaxis": "x",
         "yaxis": "y"
        },
        {
         "name": "Patients waiting (world_id 0)",
         "opacity": 0.3,
         "type": "histogram",
         "x": {
          "bdata": "AAAAAAAAAAAAAAAAAAAAAAAAAAAAAAAAAAAAAAAAAAAAAAAAAAAAAAAAAAAAAAAAAAAAAAAAAAAAAAAAAAAAAAAAAAAAAAAAAAAAAAAAAAAAAAAAAAAAAAAAAAAAAAAAAAAAAAAAAAAAAAAAAAAAAAAAAAAAAAAAAAAAAAAAAAAAAAAAAAAAAAAAAAAAAAAAAAAAAAAAAAAAAAAAAAAAAAAAAAAAAAAAAAAAAAAAAAAAAAAAAAAAAAAAAAAAAAAAAAAAAAAAAEAAAAAAAAAUQAAAAAAAABxAAAAAAAAAJkAAAAAAAAAxQAAAAAAAADBAAAAAAAAAM0AAAAAAAAA1QAAAAAAAADNAAAAAAAAANUAAAAAAAAAxQAAAAAAAACpAAAAAAAAAM0AAAAAAAAA3QAAAAAAAADtAAAAAAAAAOkAAAAAAAAA9QAAAAAAAADRAAAAAAAAAMUAAAAAAAAAsQAAAAAAAACBAAAAAAAAAKEAAAAAAAAAoQAAAAAAAACZAAAAAAAAAJkAAAAAAAAAkQAAAAAAAAChAAAAAAAAALEAAAAAAAAAxQAAAAAAAADRAAAAAAAAANUAAAAAAAAA5QAAAAAAAADtAAAAAAACAQUAAAAAAAAA4QAAAAAAAADxAAAAAAAAAOUAAAAAAAAA0QAAAAAAAADhAAAAAAAAAO0AAAAAAAAA0QAAAAAAAADxAAAAAAAAAO0AAAAAAAAA4QAAAAAAAADlAAAAAAAAAO0AAAAAAAAA6QAAAAAAAADpAAAAAAAAAOUAAAAAAAAA6QAAAAAAAAD1AAAAAAAAAOkAAAAAAAAAzQAAAAAAAADVAAAAAAAAAOEAAAAAAAAA7QAAAAAAAAD5AAAAAAAAAP0AAAAAAAABAQAAAAAAAADxAAAAAAAAAQEAAAAAAAAA3QAAAAAAAADNAAAAAAAAAOkAAAAAAAAA8QAAAAAAAAD9AAAAAAACAQkAAAAAAAABDQAAAAAAAgEFAAAAAAAAAPkAAAAAAAIBAQAAAAAAAADRAAAAAAAAAM0AAAAAAAAA0QAAAAAAAADNAAAAAAAAAO0AAAAAAAABAQAAAAAAAgEFAAAAAAACAQkAAAAAAAIBEQAAAAAAAAD5AAAAAAAAAPkAAAAAAAAA4QAAAAAAAADlAAAAAAAAAP0AAAAAAAIBAQAAAAAAAgEJAAAAAAACAQEAAAAAAAIBCQAAAAAAAAERAAAAAAAAAREAAAAAAAABDQAAAAAAAAEJAAAAAAACAQkAAAAAAAIBBQAAAAAAAAERAAAAAAAAAOUAAAAAAAAAzQAAAAAAAAChAAAAAAAAAFEAAAAAAAAAUQAAAAAAAABBAAAAAAAAAAAAAAAAAAAAAAAAAAAAAAAAAAAAAAAAAAAAAAAAAAAAAAAAAAAAAAAAAAAAAAAAAAAAAAAAAAAAAAAAAAAAAAAAAAAAAAAAAAAAAAAAAAAAAAAAAAAAAAAAAAAAAAAAAAAAAAAAAAAAAAAAAAAAAAAAAAAAAAAAAAAAAAAAAAAAAAAAAAAAAAAAAAAAAAAAAAAAAAAAAAAAAAAAAAAAAAAAAAAAAAAAAAAAAAAAAAAAAAAAAAAAAAAAAAAAAAAAAAAA=",
          "dtype": "f8"
         },
         "xaxis": "x2",
         "yaxis": "y2"
        },
        {
         "mode": "lines+markers",
         "name": "Patients treated (world_id 0)",
         "type": "scatter",
         "x": {
          "bdata": "AAAAAAAAAAAAAAAAAADwPwAAAAAAAABAAAAAAAAACEAAAAAAAAAQQAAAAAAAABRAAAAAAAAAGEAAAAAAAAAcQAAAAAAAACBAAAAAAAAAIkAAAAAAAAAkQAAAAAAAACZAAAAAAAAAKEAAAAAAAAAqQAAAAAAAACxAAAAAAAAALkAAAAAAAAAwQAAAAAAAADFAAAAAAAAAMkAAAAAAAAAzQAAAAAAAADRAAAAAAAAANUAAAAAAAAA2QAAAAAAAADdAAAAAAAAAOEAAAAAAAAA5QAAAAAAAADpAAAAAAAAAO0AAAAAAAAA8QAAAAAAAAD1AAAAAAAAAPkAAAAAAAAA/QAAAAAAAAEBAAAAAAACAQEAAAAAAAABBQAAAAAAAgEFAAAAAAAAAQkAAAAAAAIBCQAAAAAAAAENAAAAAAACAQ0AAAAAAAABEQAAAAAAAgERAAAAAAAAARUAAAAAAAIBFQAAAAAAAAEZAAAAAAACARkAAAAAAAABHQAAAAAAAgEdAAAAAAAAASEAAAAAAAIBIQAAAAAAAAElAAAAAAACASUAAAAAAAABKQAAAAAAAgEpAAAAAAAAAS0AAAAAAAIBLQAAAAAAAAExAAAAAAACATEAAAAAAAABNQAAAAAAAgE1AAAAAAAAATkAAAAAAAIBOQAAAAAAAAE9AAAAAAACAT0AAAAAAAABQQAAAAAAAQFBAAAAAAACAUEAAAAAAAMBQQAAAAAAAAFFAAAAAAABAUUAAAAAAAIBRQAAAAAAAwFFAAAAAAAAAUkAAAAAAAEBSQAAAAAAAgFJAAAAAAADAUkAAAAAAAABTQAAAAAAAQFNAAAAAAACAU0AAAAAAAMBTQAAAAAAAAFRAAAAAAABAVEAAAAAAAIBUQAAAAAAAwFRAAAAAAAAAVUAAAAAAAEBVQAAAAAAAgFVAAAAAAADAVUAAAAAAAABWQAAAAAAAQFZAAAAAAACAVkAAAAAAAMBWQAAAAAAAAFdAAAAAAABAV0AAAAAAAIBXQAAAAAAAwFdAAAAAAAAAWEAAAAAAAEBYQAAAAAAAgFhAAAAAAADAWEAAAAAAAABZQAAAAAAAQFlAAAAAAACAWUAAAAAAAMBZQAAAAAAAAFpAAAAAAABAWkAAAAAAAIBaQAAAAAAAwFpAAAAAAAAAW0AAAAAAAEBbQAAAAAAAgFtAAAAAAADAW0AAAAAAAABcQAAAAAAAQFxAAAAAAACAXEAAAAAAAMBcQAAAAAAAAF1AAAAAAABAXUAAAAAAAIBdQAAAAAAAwF1AAAAAAAAAXkAAAAAAAEBeQAAAAAAAgF5AAAAAAADAXkAAAAAAAABfQAAAAAAAQF9AAAAAAACAX0AAAAAAAMBfQAAAAAAAAGBAAAAAAAAgYEAAAAAAAEBgQAAAAAAAYGBAAAAAAACAYEAAAAAAAKBgQAAAAAAAwGBAAAAAAADgYEAAAAAAAABhQAAAAAAAIGFAAAAAAABAYUAAAAAAAGBhQAAAAAAAgGFAAAAAAACgYUAAAAAAAMBhQAAAAAAA4GFAAAAAAAAAYkAAAAAAACBiQAAAAAAAQGJAAAAAAABgYkAAAAAAAIBiQAAAAAAAoGJAAAAAAADAYkA=",
          "dtype": "f8"
         },
         "xaxis": "x3",
         "y": {
          "bdata": "AAAAAAAAAAAAAAAAAAAAAAAAAAAAAAAAAAAAAAAAAAAAAAAAAAAAAAAAAAAAAAAAAAAAAAAAAAAAAAAAAAAAAAAAAAAAAAAAAAAAAAAAAAAAAAAAAAAAAAAAAAAAAAAAAAAAAAAAAAAAAAAAAAAAAAAAAAAAAAAAAAAAAAAAAAAAAAAAAADwPwAAAAAAAABAAAAAAAAAAEAAAAAAAAAAQAAAAAAAAAhAAAAAAAAACEAAAAAAAAAIQAAAAAAAABhAAAAAAAAAHEAAAAAAAAAmQAAAAAAAACpAAAAAAAAAMEAAAAAAAAAzQAAAAAAAADdAAAAAAAAAOUAAAAAAAAA7QAAAAAAAAD5AAAAAAAAAP0AAAAAAAABCQAAAAAAAAEVAAAAAAACARkAAAAAAAIBHQAAAAAAAAElAAAAAAACASkAAAAAAAIBMQAAAAAAAAE9AAAAAAADAUEAAAAAAAABSQAAAAAAAAFRAAAAAAABAVEAAAAAAAMBUQAAAAAAAgFVAAAAAAABAVkAAAAAAAMBXQAAAAAAAAFlAAAAAAABAWUAAAAAAAEBaQAAAAAAAwFpAAAAAAACAW0AAAAAAAABcQAAAAAAAwFxAAAAAAADAXEAAAAAAAABeQAAAAAAAgF5AAAAAAACAX0AAAAAAACBgQAAAAAAAYGBAAAAAAACgYEAAAAAAACBhQAAAAAAAIGFAAAAAAACgYUAAAAAAAABiQAAAAAAAQGJAAAAAAACAYkAAAAAAAOBiQAAAAAAAYGNAAAAAAABAZEAAAAAAAMBkQAAAAAAAIGVAAAAAAACAZUAAAAAAAEBmQAAAAAAAwGZAAAAAAADgZkAAAAAAACBnQAAAAAAAQGdAAAAAAACAZ0AAAAAAAKBnQAAAAAAAAGhAAAAAAAAgaEAAAAAAAKBoQAAAAAAAAGlAAAAAAAAgaUAAAAAAAGBpQAAAAAAAoGlAAAAAAADAaUAAAAAAAOBpQAAAAAAAAGpAAAAAAAAgakAAAAAAACBqQAAAAAAAwGpAAAAAAADgakAAAAAAAABrQAAAAAAAQGtAAAAAAABga0AAAAAAAIBrQAAAAAAAoGtAAAAAAADAa0AAAAAAAMBrQAAAAAAAAGxAAAAAAAAgbEAAAAAAAGBsQAAAAAAAgGxAAAAAAACAbEAAAAAAAKBsQAAAAAAA4GxAAAAAAAAAbUAAAAAAAABtQAAAAAAAIG1AAAAAAABAbUAAAAAAAGBtQAAAAAAAgG1AAAAAAACgbUAAAAAAAMBtQAAAAAAAwG1AAAAAAAAgbkAAAAAAAEBuQAAAAAAAYG5AAAAAAACAbkAAAAAAAIBuQAAAAAAAoG5AAAAAAADAbkAAAAAAAOBuQAAAAAAA4G5AAAAAAAAgb0AAAAAAAEBvQAAAAAAAYG9AAAAAAACAb0AAAAAAAIBvQAAAAAAAoG9AAAAAAADgb0AAAAAAAABwQAAAAAAAAHBAAAAAAAAQcEAAAAAAACBwQAAAAAAAMHBAAAAAAABAcEAAAAAAAFBwQAAAAAAAYHBAAAAAAABgcEAAAAAAAJBwQAAAAAAAoHBAAAAAAACwcEAAAAAAAMBwQAAAAAAAwHBAAAAAAADQcEA=",
          "dtype": "f8"
         },
         "yaxis": "y3"
        },
        {
         "mode": "lines+markers",
         "name": "Patients died (world_id 0)",
         "type": "scatter",
         "x": {
          "bdata": "AAAAAAAAAAAAAAAAAADwPwAAAAAAAABAAAAAAAAACEAAAAAAAAAQQAAAAAAAABRAAAAAAAAAGEAAAAAAAAAcQAAAAAAAACBAAAAAAAAAIkAAAAAAAAAkQAAAAAAAACZAAAAAAAAAKEAAAAAAAAAqQAAAAAAAACxAAAAAAAAALkAAAAAAAAAwQAAAAAAAADFAAAAAAAAAMkAAAAAAAAAzQAAAAAAAADRAAAAAAAAANUAAAAAAAAA2QAAAAAAAADdAAAAAAAAAOEAAAAAAAAA5QAAAAAAAADpAAAAAAAAAO0AAAAAAAAA8QAAAAAAAAD1AAAAAAAAAPkAAAAAAAAA/QAAAAAAAAEBAAAAAAACAQEAAAAAAAABBQAAAAAAAgEFAAAAAAAAAQkAAAAAAAIBCQAAAAAAAAENAAAAAAACAQ0AAAAAAAABEQAAAAAAAgERAAAAAAAAARUAAAAAAAIBFQAAAAAAAAEZAAAAAAACARkAAAAAAAABHQAAAAAAAgEdAAAAAAAAASEAAAAAAAIBIQAAAAAAAAElAAAAAAACASUAAAAAAAABKQAAAAAAAgEpAAAAAAAAAS0AAAAAAAIBLQAAAAAAAAExAAAAAAACATEAAAAAAAABNQAAAAAAAgE1AAAAAAAAATkAAAAAAAIBOQAAAAAAAAE9AAAAAAACAT0AAAAAAAABQQAAAAAAAQFBAAAAAAACAUEAAAAAAAMBQQAAAAAAAAFFAAAAAAABAUUAAAAAAAIBRQAAAAAAAwFFAAAAAAAAAUkAAAAAAAEBSQAAAAAAAgFJAAAAAAADAUkAAAAAAAABTQAAAAAAAQFNAAAAAAACAU0AAAAAAAMBTQAAAAAAAAFRAAAAAAABAVEAAAAAAAIBUQAAAAAAAwFRAAAAAAAAAVUAAAAAAAEBVQAAAAAAAgFVAAAAAAADAVUAAAAAAAABWQAAAAAAAQFZAAAAAAACAVkAAAAAAAMBWQAAAAAAAAFdAAAAAAABAV0AAAAAAAIBXQAAAAAAAwFdAAAAAAAAAWEAAAAAAAEBYQAAAAAAAgFhAAAAAAADAWEAAAAAAAABZQAAAAAAAQFlAAAAAAACAWUAAAAAAAMBZQAAAAAAAAFpAAAAAAABAWkAAAAAAAIBaQAAAAAAAwFpAAAAAAAAAW0AAAAAAAEBbQAAAAAAAgFtAAAAAAADAW0AAAAAAAABcQAAAAAAAQFxAAAAAAACAXEAAAAAAAMBcQAAAAAAAAF1AAAAAAABAXUAAAAAAAIBdQAAAAAAAwF1AAAAAAAAAXkAAAAAAAEBeQAAAAAAAgF5AAAAAAADAXkAAAAAAAABfQAAAAAAAQF9AAAAAAACAX0AAAAAAAMBfQAAAAAAAAGBAAAAAAAAgYEAAAAAAAEBgQAAAAAAAYGBAAAAAAACAYEAAAAAAAKBgQAAAAAAAwGBAAAAAAADgYEAAAAAAAABhQAAAAAAAIGFAAAAAAABAYUAAAAAAAGBhQAAAAAAAgGFAAAAAAACgYUAAAAAAAMBhQAAAAAAA4GFAAAAAAAAAYkAAAAAAACBiQAAAAAAAQGJAAAAAAABgYkAAAAAAAIBiQAAAAAAAoGJAAAAAAADAYkA=",
          "dtype": "f8"
         },
         "xaxis": "x4",
         "y": {
          "bdata": "AAAAAAAAAAAAAAAAAAAAAAAAAAAAAAAAAAAAAAAAAAAAAAAAAAAAAAAAAAAAAAAAAAAAAAAAAAAAAAAAAAAAAAAAAAAAAAAAAAAAAAAAAAAAAAAAAAAAAAAAAAAAAAAAAAAAAAAAAAAAAAAAAAAAAAAAAAAAAAAAAAAAAAAAAAAAAAAAAAAAAAAAAAAAAAAAAAAAAAAAAAAAAAAAAAAAAAAAAAAAAAAAAAAAAAAAAAAAAAAAAAAAAAAAAAAAAAAAAAAAAAAAAAAAAAAAAAAAAAAAAAAAAAAAAAAAAAAAAAAAAAAAAAAAAAAAAAAAAAAAAAAAAAAACEAAAAAAAAAQQAAAAAAAABhAAAAAAAAAKkAAAAAAAAAuQAAAAAAAADNAAAAAAAAAOEAAAAAAAAA4QAAAAAAAADxAAAAAAAAAQEAAAAAAAIBBQAAAAAAAAEVAAAAAAACARkAAAAAAAIBIQAAAAAAAAEpAAAAAAAAAS0AAAAAAAABLQAAAAAAAgExAAAAAAACATUAAAAAAAIBNQAAAAAAAAE5AAAAAAACATkAAAAAAAABPQAAAAAAAAFBAAAAAAABAUEAAAAAAAIBRQAAAAAAAgFJAAAAAAAAAVEAAAAAAAABVQAAAAAAAAFZAAAAAAABAV0AAAAAAAEBYQAAAAAAAAFpAAAAAAABAW0AAAAAAAMBbQAAAAAAAgFxAAAAAAAAAXUAAAAAAAIBeQAAAAAAAwF9AAAAAAACAYEAAAAAAACBhQAAAAAAAoGFAAAAAAAAAYkAAAAAAAKBiQAAAAAAAQGNAAAAAAADgY0AAAAAAAIBkQAAAAAAAQGVAAAAAAADAZUAAAAAAAKBmQAAAAAAAAGdAAAAAAACAZ0AAAAAAAGBoQAAAAAAA4GhAAAAAAADgaUAAAAAAAGBqQAAAAAAAAGtAAAAAAABga0AAAAAAACBsQAAAAAAAgGxAAAAAAAAgbUAAAAAAAKBtQAAAAAAAQG5AAAAAAAAgb0AAAAAAAOBvQAAAAAAAMHBAAAAAAACwcEAAAAAAAOBwQAAAAAAA8HBAAAAAAAAQcUAAAAAAAIBxQAAAAAAAsHFAAAAAAAAAckAAAAAAAEByQAAAAAAA0HJAAAAAAAAgc0AAAAAAAGBzQAAAAAAAkHNAAAAAAADQc0AAAAAAAOBzQAAAAAAAYHRAAAAAAADAdEAAAAAAAPB0QAAAAAAAMHVAAAAAAACQdUAAAAAAAAB2QAAAAAAAMHZAAAAAAACQdkAAAAAAAOB2QAAAAAAAUHdAAAAAAACgd0AAAAAAAAB4QAAAAAAAMHhAAAAAAAAweEAAAAAAAHB4QAAAAAAAcHhAAAAAAABweEAAAAAAAHB4QAAAAAAAcHhAAAAAAABweEAAAAAAAHB4QAAAAAAAcHhAAAAAAABweEAAAAAAAHB4QAAAAAAAcHhAAAAAAABweEAAAAAAAHB4QAAAAAAAcHhAAAAAAABweEAAAAAAAHB4QAAAAAAAcHhAAAAAAABweEAAAAAAAHB4QAAAAAAAcHhAAAAAAABweEAAAAAAAHB4QAAAAAAAcHhAAAAAAABweEAAAAAAAHB4QAAAAAAAcHhAAAAAAABweEA=",
          "dtype": "f8"
         },
         "yaxis": "y4"
        },
        {
         "name": "Beds in use (world_id 1)",
         "opacity": 0.3,
         "type": "histogram",
         "x": {
          "bdata": "AAAAAAAAGEAAAAAAAAAkQAAAAAAAADFAAAAAAAAAM0AAAAAAAAA6QAAAAAAAgEBAAAAAAACAQkAAAAAAAABFQAAAAAAAAEhAAAAAAACASkAAAAAAAABOQAAAAAAAgFBAAAAAAACAUUAAAAAAAIBSQAAAAAAAQFNAAAAAAADAU0AAAAAAAABUQAAAAAAAAFZAAAAAAACAV0AAAAAAAEBYQAAAAAAAAFpAAAAAAAAAW0AAAAAAAABbQAAAAAAAAFxAAAAAAABAXEAAAAAAAIBdQAAAAAAAwF1AAAAAAADAXkAAAAAAAABgQAAAAAAAIGBAAAAAAACgYEAAAAAAAOBgQAAAAAAA4GBAAAAAAADgYEAAAAAAAKBgQAAAAAAA4GBAAAAAAABAYUAAAAAAACBhQAAAAAAAIGFAAAAAAAAAYUAAAAAAAOBgQAAAAAAA4GBAAAAAAADAYEAAAAAAAIBgQAAAAAAAYGFAAAAAAADgYEAAAAAAAEBhQAAAAAAAAGFAAAAAAAAAYUAAAAAAAOBgQAAAAAAAwGBAAAAAAADgYEAAAAAAACBhQAAAAAAAAGFAAAAAAACgYEAAAAAAAEBgQAAAAAAA4GBAAAAAAAAAYUAAAAAAACBhQAAAAAAAIGFAAAAAAACAYUAAAAAAAOBgQAAAAAAA4GBAAAAAAAAgYUAAAAAAAGBhQAAAAAAAAGFAAAAAAABAYUAAAAAAACBhQAAAAAAAAGFAAAAAAACAYEAAAAAAAKBgQAAAAAAAIGFAAAAAAADgYEAAAAAAAOBgQAAAAAAAAGFAAAAAAACAYEAAAAAAAIBhQAAAAAAAQGFAAAAAAADgYEAAAAAAAABhQAAAAAAAIGFAAAAAAACgYEAAAAAAAEBhQAAAAAAAQGFAAAAAAADAYEAAAAAAAGBhQAAAAAAAwGBAAAAAAADgYEAAAAAAAEBhQAAAAAAAgGFAAAAAAAAAYUAAAAAAAEBhQAAAAAAAIGFAAAAAAADAYEAAAAAAAABhQAAAAAAAIGFAAAAAAAAgYUAAAAAAAMBgQAAAAAAAQGFAAAAAAABAYUAAAAAAAOBgQAAAAAAAQGFAAAAAAAAAYUAAAAAAAEBhQAAAAAAAQGFAAAAAAABAYUAAAAAAACBhQAAAAAAAAGFAAAAAAAAAYUAAAAAAACBhQAAAAAAAgGFAAAAAAABAYUAAAAAAACBhQAAAAAAAYGFAAAAAAAAAYUAAAAAAAGBhQAAAAAAAAGFAAAAAAABAYUAAAAAAACBhQAAAAAAAYGFAAAAAAABgYUAAAAAAAGBhQAAAAAAAQGFAAAAAAABAYUAAAAAAACBhQAAAAAAA4GBAAAAAAADgYEAAAAAAAMBgQAAAAAAAgGBAAAAAAABgYEAAAAAAAEBgQAAAAAAAAGBAAAAAAACAX0AAAAAAAIBfQAAAAAAAQF9AAAAAAABAX0AAAAAAAABfQAAAAAAAwF5AAAAAAACAXkAAAAAAAABeQAAAAAAAwF1AAAAAAABAXUAAAAAAAABdQAAAAAAAgFxAAAAAAACAXEAAAAAAAEBcQAAAAAAAAFxAAAAAAACAW0AAAAAAAIBbQA==",
          "dtype": "f8"
         },
         "xaxis": "x",
         "yaxis": "y"
        },
        {
         "name": "Patients waiting (world_id 1)",
         "opacity": 0.3,
         "type": "histogram",
         "x": {
          "bdata": "AAAAAAAAAAAAAAAAAAAAAAAAAAAAAAAAAAAAAAAAAAAAAAAAAAAAAAAAAAAAAAAAAAAAAAAAAAAAAAAAAAAAAAAAAAAAAAAAAAAAAAAAAAAAAAAAAAAAAAAAAAAAAAAAAAAAAAAAAAAAAAAAAAAAAAAAAAAAAAAAAAAAAAAAAAAAAAAAAAAAAAAAAAAAAAAAAAAAAAAAAAAAAAAAAAAAAAAAAAAAAAAAAAAAAAAAAAAAAAAAAAAAAAAAAAAAAAAAAAAAAAAAAAAAAAAAAAAAAAAAAAAAAAAAAAAAAAAAAAAAAAAAAAAAAAAAAAAAAAAAAAAAAAAAAAAAAAAAAAAAAAAAAAAAAAAAAAAAAAAA8D8AAAAAAAAAAAAAAAAAAAAAAAAAAAAAFEAAAAAAAAAiQAAAAAAAACpAAAAAAAAALkAAAAAAAAAwQAAAAAAAAChAAAAAAAAAJEAAAAAAAAAYQAAAAAAAAAhAAAAAAAAAHEAAAAAAAAAQQAAAAAAAABxAAAAAAAAAIEAAAAAAAAAiQAAAAAAAACZAAAAAAAAAIEAAAAAAAAAmQAAAAAAAACpAAAAAAAAALkAAAAAAAAAoQAAAAAAAABxAAAAAAAAAJEAAAAAAAAAmQAAAAAAAACxAAAAAAAAAMEAAAAAAAAAyQAAAAAAAADFAAAAAAAAALkAAAAAAAAAxQAAAAAAAADhAAAAAAAAAOUAAAAAAAAA5QAAAAAAAADlAAAAAAAAAOUAAAAAAAAA0QAAAAAAAADNAAAAAAAAAOEAAAAAAAAA3QAAAAAAAADdAAAAAAAAANUAAAAAAAAAsQAAAAAAAADVAAAAAAAAAN0AAAAAAAAA0QAAAAAAAADVAAAAAAAAAOkAAAAAAAAAyQAAAAAAAADZAAAAAAAAAM0AAAAAAAAAwQAAAAAAAADJAAAAAAAAAM0AAAAAAAAA1QAAAAAAAADlAAAAAAAAAQEAAAAAAAIBAQAAAAAAAgEBAAAAAAAAAO0AAAAAAAAAyQAAAAAAAADNAAAAAAAAAMUAAAAAAAAAyQAAAAAAAACxAAAAAAAAANkAAAAAAAAA6QAAAAAAAADhAAAAAAAAAPEAAAAAAAAA8QAAAAAAAADRAAAAAAAAAOkAAAAAAAAA1QAAAAAAAADVAAAAAAAAANUAAAAAAAAA2QAAAAAAAADtAAAAAAACAQEAAAAAAAAA8QAAAAAAAAD1AAAAAAAAAQUAAAAAAAAA3QAAAAAAAAD5AAAAAAAAAPkAAAAAAAAA8QAAAAAAAADdAAAAAAAAANUAAAAAAAAAzQAAAAAAAAChAAAAAAAAAEEAAAAAAAAAAAAAAAAAAAAAAAAAAAAAAAAAAAAAAAAAAAAAAAAAAAAAAAAAAAAAAAAAAAAAAAAAAAAAAAAAAAAAAAAAAAAAAAAAAAAAAAAAAAAAAAAAAAAAAAAAAAAAAAAAAAAAAAAAAAAAAAAAAAAAAAAAAAAAAAAAAAAAAAAAAAAAAAAAAAAAAAAAAAAAAAAAAAAAAAAAAAAAAAAAAAAAAAAAAAAAAAAAAAAAAAAAAAAAAAAAAAAAAAAAAAAAAAAAAAAAAAAAAAA==",
          "dtype": "f8"
         },
         "xaxis": "x2",
         "yaxis": "y2"
        },
        {
         "mode": "lines+markers",
         "name": "Patients treated (world_id 1)",
         "type": "scatter",
         "x": {
          "bdata": "AAAAAAAAAAAAAAAAAADwPwAAAAAAAABAAAAAAAAACEAAAAAAAAAQQAAAAAAAABRAAAAAAAAAGEAAAAAAAAAcQAAAAAAAACBAAAAAAAAAIkAAAAAAAAAkQAAAAAAAACZAAAAAAAAAKEAAAAAAAAAqQAAAAAAAACxAAAAAAAAALkAAAAAAAAAwQAAAAAAAADFAAAAAAAAAMkAAAAAAAAAzQAAAAAAAADRAAAAAAAAANUAAAAAAAAA2QAAAAAAAADdAAAAAAAAAOEAAAAAAAAA5QAAAAAAAADpAAAAAAAAAO0AAAAAAAAA8QAAAAAAAAD1AAAAAAAAAPkAAAAAAAAA/QAAAAAAAAEBAAAAAAACAQEAAAAAAAABBQAAAAAAAgEFAAAAAAAAAQkAAAAAAAIBCQAAAAAAAAENAAAAAAACAQ0AAAAAAAABEQAAAAAAAgERAAAAAAAAARUAAAAAAAIBFQAAAAAAAAEZAAAAAAACARkAAAAAAAABHQAAAAAAAgEdAAAAAAAAASEAAAAAAAIBIQAAAAAAAAElAAAAAAACASUAAAAAAAABKQAAAAAAAgEpAAAAAAAAAS0AAAAAAAIBLQAAAAAAAAExAAAAAAACATEAAAAAAAABNQAAAAAAAgE1AAAAAAAAATkAAAAAAAIBOQAAAAAAAAE9AAAAAAACAT0AAAAAAAABQQAAAAAAAQFBAAAAAAACAUEAAAAAAAMBQQAAAAAAAAFFAAAAAAABAUUAAAAAAAIBRQAAAAAAAwFFAAAAAAAAAUkAAAAAAAEBSQAAAAAAAgFJAAAAAAADAUkAAAAAAAABTQAAAAAAAQFNAAAAAAACAU0AAAAAAAMBTQAAAAAAAAFRAAAAAAABAVEAAAAAAAIBUQAAAAAAAwFRAAAAAAAAAVUAAAAAAAEBVQAAAAAAAgFVAAAAAAADAVUAAAAAAAABWQAAAAAAAQFZAAAAAAACAVkAAAAAAAMBWQAAAAAAAAFdAAAAAAABAV0AAAAAAAIBXQAAAAAAAwFdAAAAAAAAAWEAAAAAAAEBYQAAAAAAAgFhAAAAAAADAWEAAAAAAAABZQAAAAAAAQFlAAAAAAACAWUAAAAAAAMBZQAAAAAAAAFpAAAAAAABAWkAAAAAAAIBaQAAAAAAAwFpAAAAAAAAAW0AAAAAAAEBbQAAAAAAAgFtAAAAAAADAW0AAAAAAAABcQAAAAAAAQFxAAAAAAACAXEAAAAAAAMBcQAAAAAAAAF1AAAAAAABAXUAAAAAAAIBdQAAAAAAAwF1AAAAAAAAAXkAAAAAAAEBeQAAAAAAAgF5AAAAAAADAXkAAAAAAAABfQAAAAAAAQF9AAAAAAACAX0AAAAAAAMBfQAAAAAAAAGBAAAAAAAAgYEAAAAAAAEBgQAAAAAAAYGBAAAAAAACAYEAAAAAAAKBgQAAAAAAAwGBAAAAAAADgYEAAAAAAAABhQAAAAAAAIGFAAAAAAABAYUAAAAAAAGBhQAAAAAAAgGFAAAAAAACgYUAAAAAAAMBhQAAAAAAA4GFAAAAAAAAAYkAAAAAAACBiQAAAAAAAQGJAAAAAAABgYkAAAAAAAIBiQA==",
          "dtype": "f8"
         },
         "xaxis": "x3",
         "y": {
          "bdata": "AAAAAAAAAAAAAAAAAAAAAAAAAAAAAAAAAAAAAAAAAAAAAAAAAAAAAAAAAAAAAAAAAAAAAAAAAAAAAAAAAAAAAAAAAAAAAAAAAAAAAAAAAAAAAAAAAAAAAAAAAAAAAAAAAAAAAAAAAAAAAAAAAAAAAAAAAAAAAAAAAAAAAAAAAAAAAAAAAADwPwAAAAAAAABAAAAAAAAAAEAAAAAAAAAAQAAAAAAAAAhAAAAAAAAACEAAAAAAAAAIQAAAAAAAABhAAAAAAAAAHEAAAAAAAAAmQAAAAAAAACpAAAAAAAAAMEAAAAAAAAAzQAAAAAAAADdAAAAAAAAAOUAAAAAAAAA7QAAAAAAAAD5AAAAAAAAAP0AAAAAAAABCQAAAAAAAAEVAAAAAAACARkAAAAAAAIBHQAAAAAAAAElAAAAAAACASkAAAAAAAIBMQAAAAAAAAE9AAAAAAADAUEAAAAAAAEBSQAAAAAAAQFRAAAAAAACAVEAAAAAAAMBVQAAAAAAAQFZAAAAAAABAV0AAAAAAAEBYQAAAAAAAgFlAAAAAAAAAW0AAAAAAAEBcQAAAAAAAAF1AAAAAAAAAXkAAAAAAAMBfQAAAAAAAIGFAAAAAAADAYUAAAAAAAEBiQAAAAAAAoGJAAAAAAAAAY0AAAAAAAABjQAAAAAAAoGNAAAAAAABAZEAAAAAAAKBkQAAAAAAAwGRAAAAAAABAZUAAAAAAAIBlQAAAAAAA4GVAAAAAAABgZkAAAAAAAGBnQAAAAAAAQGhAAAAAAACgaEAAAAAAAEBpQAAAAAAA4GlAAAAAAABgakAAAAAAAGBrQAAAAAAAYGtAAAAAAACga0AAAAAAAEBsQAAAAAAAwGxAAAAAAAAgbUAAAAAAAABuQAAAAAAAQG5AAAAAAACAbkAAAAAAAEBvQAAAAAAAYG9AAAAAAAAQcEAAAAAAAGBwQAAAAAAAgHBAAAAAAACAcEAAAAAAAMBwQAAAAAAA4HBAAAAAAAAQcUAAAAAAAHBxQAAAAAAAsHFAAAAAAADgcUAAAAAAABByQAAAAAAAcHJAAAAAAACQckAAAAAAALByQAAAAAAAAHNAAAAAAAAgc0AAAAAAAGBzQAAAAAAAgHNAAAAAAACgc0AAAAAAAMBzQAAAAAAA8HNAAAAAAAAwdEAAAAAAAHB0QAAAAAAAoHRAAAAAAACgdEAAAAAAAMB0QAAAAAAA8HRAAAAAAAAAdUAAAAAAAEB1QAAAAAAAUHVAAAAAAACQdUAAAAAAALB1QAAAAAAA4HVAAAAAAADwdUAAAAAAAAB2QAAAAAAAEHZAAAAAAAAwdkAAAAAAAFB2QAAAAAAAYHZAAAAAAACAdkAAAAAAAIB2QAAAAAAAkHZAAAAAAACwdkAAAAAAAMB2QAAAAAAA0HZAAAAAAADwdkAAAAAAABB3QAAAAAAAEHdAAAAAAAAgd0AAAAAAACB3QAAAAAAAMHdAAAAAAABAd0AAAAAAAFB3QAAAAAAAcHdAAAAAAACAd0AAAAAAAKB3QAAAAAAAsHdAAAAAAADQd0AAAAAAANB3QAAAAAAA4HdAAAAAAADwd0AAAAAAABB4QA==",
          "dtype": "f8"
         },
         "yaxis": "y3"
        },
        {
         "mode": "lines+markers",
         "name": "Patients died (world_id 1)",
         "type": "scatter",
         "x": {
          "bdata": "AAAAAAAAAAAAAAAAAADwPwAAAAAAAABAAAAAAAAACEAAAAAAAAAQQAAAAAAAABRAAAAAAAAAGEAAAAAAAAAcQAAAAAAAACBAAAAAAAAAIkAAAAAAAAAkQAAAAAAAACZAAAAAAAAAKEAAAAAAAAAqQAAAAAAAACxAAAAAAAAALkAAAAAAAAAwQAAAAAAAADFAAAAAAAAAMkAAAAAAAAAzQAAAAAAAADRAAAAAAAAANUAAAAAAAAA2QAAAAAAAADdAAAAAAAAAOEAAAAAAAAA5QAAAAAAAADpAAAAAAAAAO0AAAAAAAAA8QAAAAAAAAD1AAAAAAAAAPkAAAAAAAAA/QAAAAAAAAEBAAAAAAACAQEAAAAAAAABBQAAAAAAAgEFAAAAAAAAAQkAAAAAAAIBCQAAAAAAAAENAAAAAAACAQ0AAAAAAAABEQAAAAAAAgERAAAAAAAAARUAAAAAAAIBFQAAAAAAAAEZAAAAAAACARkAAAAAAAABHQAAAAAAAgEdAAAAAAAAASEAAAAAAAIBIQAAAAAAAAElAAAAAAACASUAAAAAAAABKQAAAAAAAgEpAAAAAAAAAS0AAAAAAAIBLQAAAAAAAAExAAAAAAACATEAAAAAAAABNQAAAAAAAgE1AAAAAAAAATkAAAAAAAIBOQAAAAAAAAE9AAAAAAACAT0AAAAAAAABQQAAAAAAAQFBAAAAAAACAUEAAAAAAAMBQQAAAAAAAAFFAAAAAAABAUUAAAAAAAIBRQAAAAAAAwFFAAAAAAAAAUkAAAAAAAEBSQAAAAAAAgFJAAAAAAADAUkAAAAAAAABTQAAAAAAAQFNAAAAAAACAU0AAAAAAAMBTQAAAAAAAAFRAAAAAAABAVEAAAAAAAIBUQAAAAAAAwFRAAAAAAAAAVUAAAAAAAEBVQAAAAAAAgFVAAAAAAADAVUAAAAAAAABWQAAAAAAAQFZAAAAAAACAVkAAAAAAAMBWQAAAAAAAAFdAAAAAAABAV0AAAAAAAIBXQAAAAAAAwFdAAAAAAAAAWEAAAAAAAEBYQAAAAAAAgFhAAAAAAADAWEAAAAAAAABZQAAAAAAAQFlAAAAAAACAWUAAAAAAAMBZQAAAAAAAAFpAAAAAAABAWkAAAAAAAIBaQAAAAAAAwFpAAAAAAAAAW0AAAAAAAEBbQAAAAAAAgFtAAAAAAADAW0AAAAAAAABcQAAAAAAAQFxAAAAAAACAXEAAAAAAAMBcQAAAAAAAAF1AAAAAAABAXUAAAAAAAIBdQAAAAAAAwF1AAAAAAAAAXkAAAAAAAEBeQAAAAAAAgF5AAAAAAADAXkAAAAAAAABfQAAAAAAAQF9AAAAAAACAX0AAAAAAAMBfQAAAAAAAAGBAAAAAAAAgYEAAAAAAAEBgQAAAAAAAYGBAAAAAAACAYEAAAAAAAKBgQAAAAAAAwGBAAAAAAADgYEAAAAAAAABhQAAAAAAAIGFAAAAAAABAYUAAAAAAAGBhQAAAAAAAgGFAAAAAAACgYUAAAAAAAMBhQAAAAAAA4GFAAAAAAAAAYkAAAAAAACBiQAAAAAAAQGJAAAAAAABgYkAAAAAAAIBiQA==",
          "dtype": "f8"
         },
         "xaxis": "x4",
         "y": {
          "bdata": "AAAAAAAAAAAAAAAAAAAAAAAAAAAAAAAAAAAAAAAAAAAAAAAAAAAAAAAAAAAAAAAAAAAAAAAAAAAAAAAAAAAAAAAAAAAAAAAAAAAAAAAAAAAAAAAAAAAAAAAAAAAAAAAAAAAAAAAAAAAAAAAAAAAAAAAAAAAAAAAAAAAAAAAAAAAAAAAAAAAAAAAAAAAAAAAAAAAAAAAAAAAAAAAAAAAAAAAAAAAAAAAAAAAAAAAAAAAAAAAAAAAAAAAAAAAAAAAAAAAAAAAAAAAAAAAAAAAAAAAAAAAAAAAAAAAAAAAAAAAAAAAAAAAAAAAAAAAAAAAAAAAAAAAAAAAAAAAAAAAAAAAAAAAAAAAAAAAAAAAAAAAAAAAAAAAAAAAAAAAAAAAAAAAAAAAAAAAAAAAAAAAAAAAAAAAAAAAAAAAAAAAAAEAAAAAAAAAUQAAAAAAAACBAAAAAAAAAIkAAAAAAAAAmQAAAAAAAAChAAAAAAAAAKEAAAAAAAAAoQAAAAAAAACpAAAAAAAAALEAAAAAAAAAsQAAAAAAAAC5AAAAAAAAALkAAAAAAAAAwQAAAAAAAADJAAAAAAAAAM0AAAAAAAAA2QAAAAAAAADlAAAAAAAAAO0AAAAAAAAA8QAAAAAAAAD1AAAAAAAAAPkAAAAAAAABAQAAAAAAAgEFAAAAAAAAAREAAAAAAAIBEQAAAAAAAgEVAAAAAAACARkAAAAAAAIBIQAAAAAAAAEtAAAAAAACATUAAAAAAAABQQAAAAAAAAFFAAAAAAABAUUAAAAAAAMBRQAAAAAAAwFJAAAAAAADAU0AAAAAAAIBUQAAAAAAAgFVAAAAAAADAVUAAAAAAAIBXQAAAAAAAQFhAAAAAAAAAWUAAAAAAAABaQAAAAAAAwFpAAAAAAACAW0AAAAAAAABcQAAAAAAAAF1AAAAAAABAXUAAAAAAAIBeQAAAAAAAwF5AAAAAAACAX0AAAAAAAABgQAAAAAAAoGBAAAAAAACAYUAAAAAAAEBiQAAAAAAAwGJAAAAAAADAY0AAAAAAACBkQAAAAAAAQGRAAAAAAABgZEAAAAAAAOBkQAAAAAAAQGVAAAAAAADgZUAAAAAAAGBmQAAAAAAAYGdAAAAAAAAAaEAAAAAAAIBoQAAAAAAA4GhAAAAAAABgaUAAAAAAAIBpQAAAAAAAQGpAAAAAAAAAa0AAAAAAAGBrQAAAAAAA4GtAAAAAAACgbEAAAAAAAIBtQAAAAAAA4G1AAAAAAACgbkAAAAAAAEBvQAAAAAAAEHBAAAAAAABgcEAAAAAAAMBwQAAAAAAA8HBAAAAAAADwcEAAAAAAADBxQAAAAAAAMHFAAAAAAAAwcUAAAAAAADBxQAAAAAAAMHFAAAAAAAAwcUAAAAAAADBxQAAAAAAAMHFAAAAAAAAwcUAAAAAAADBxQAAAAAAAMHFAAAAAAAAwcUAAAAAAADBxQAAAAAAAMHFAAAAAAAAwcUAAAAAAADBxQAAAAAAAMHFAAAAAAAAwcUAAAAAAADBxQAAAAAAAMHFAAAAAAAAwcUAAAAAAADBxQAAAAAAAMHFAAAAAAAAwcUAAAAAAADBxQA==",
          "dtype": "f8"
         },
         "yaxis": "y4"
        },
        {
         "name": "Beds in use (world_id 2)",
         "opacity": 0.3,
         "type": "histogram",
         "x": {
          "bdata": "AAAAAAAAGEAAAAAAAAAkQAAAAAAAADFAAAAAAAAAM0AAAAAAAAA6QAAAAAAAgEBAAAAAAACAQkAAAAAAAABFQAAAAAAAAEhAAAAAAACASkAAAAAAAABOQAAAAAAAgFBAAAAAAACAUUAAAAAAAIBSQAAAAAAAQFNAAAAAAADAU0AAAAAAAABUQAAAAAAAAFZAAAAAAACAV0AAAAAAAEBYQAAAAAAAAFpAAAAAAAAAW0AAAAAAAABbQAAAAAAAAFxAAAAAAABAXEAAAAAAAIBdQAAAAAAAwF1AAAAAAADAXkAAAAAAAABgQAAAAAAAIGBAAAAAAACgYEAAAAAAAOBgQAAAAAAA4GBAAAAAAAAAYUAAAAAAAKBgQAAAAAAA4GBAAAAAAADgYUAAAAAAAEBiQAAAAAAAwGJAAAAAAADgYkAAAAAAACBjQAAAAAAA4GJAAAAAAACgYkAAAAAAAABiQAAAAAAAgGJAAAAAAACAYkAAAAAAAIBiQAAAAAAAoGJAAAAAAADAYkAAAAAAAMBiQAAAAAAA4GJAAAAAAACgYkAAAAAAAEBjQAAAAAAAYGNAAAAAAAAAY0AAAAAAAMBiQAAAAAAAoGJAAAAAAAAAY0AAAAAAAGBjQAAAAAAAwGNAAAAAAAAAZEAAAAAAAIBjQAAAAAAAIGRAAAAAAABgZEAAAAAAAEBkQAAAAAAAQGRAAAAAAACAZEAAAAAAAMBjQAAAAAAAQGRAAAAAAADAY0AAAAAAAKBjQAAAAAAAwGNAAAAAAADgY0AAAAAAAABkQAAAAAAAIGRAAAAAAABAZEAAAAAAAIBkQAAAAAAAwGNAAAAAAADgY0AAAAAAAEBkQAAAAAAAwGNAAAAAAADgY0AAAAAAAMBjQAAAAAAAgGRAAAAAAABgY0AAAAAAAMBjQAAAAAAA4GNAAAAAAAAAZEAAAAAAAGBkQAAAAAAAQGRAAAAAAAAgZEAAAAAAACBkQAAAAAAAoGNAAAAAAADAY0AAAAAAACBkQAAAAAAAYGRAAAAAAAAAY0AAAAAAAEBkQAAAAAAAwGNAAAAAAABgZEAAAAAAAIBjQAAAAAAAQGRAAAAAAAAAZEAAAAAAAGBkQAAAAAAAIGRAAAAAAAAgZEAAAAAAAGBkQAAAAAAA4GNAAAAAAABAZEAAAAAAAIBjQAAAAAAAQGRAAAAAAAAgZEAAAAAAAOBjQAAAAAAAAGRAAAAAAAAAZEAAAAAAAABkQAAAAAAAAGRAAAAAAADgY0AAAAAAACBkQAAAAAAAAGRAAAAAAADAY0AAAAAAAMBjQAAAAAAAAGNAAAAAAAAAYkAAAAAAAGBhQAAAAAAAoGBAAAAAAAAAYEAAAAAAAMBeQAAAAAAAQF5AAAAAAADAXUAAAAAAAEBbQAAAAAAAAFtAAAAAAABAWUAAAAAAAMBXQAAAAAAAgFZAAAAAAADAVUAAAAAAAABVQAAAAAAAgFRAAAAAAADAU0AAAAAAAIBSQAAAAAAAwFFAAAAAAACAUEAAAAAAAABNQAAAAAAAgEtAAAAAAACASkAAAAAAAIBJQAAAAAAAgEdAAAAAAAAAR0AAAAAAAIBGQAAAAAAAAEZAAAAAAAAARkAAAAAAAABGQAAAAAAAAEZAAAAAAACARUAAAAAAAIBFQAAAAAAAAEVAAAAAAACAREAAAAAAAIBEQAAAAAAAgERAAAAAAACAREAAAAAAAIBEQAAAAAAAgERAAAAAAACAREAAAAAAAIBEQAAAAAAAgERAAAAAAACAREAAAAAAAABEQAAAAAAAAERAAAAAAACAQ0AAAAAAAIBDQA==",
          "dtype": "f8"
         },
         "xaxis": "x",
         "yaxis": "y"
        },
        {
         "name": "Patients waiting (world_id 2)",
         "opacity": 0.3,
         "type": "histogram",
         "x": {
          "bdata": "AAAAAAAAAAAAAAAAAAAAAAAAAAAAAAAAAAAAAAAAAAAAAAAAAAAAAAAAAAAAAAAAAAAAAAAAAAAAAAAAAAAAAAAAAAAAAAAAAAAAAAAAAAAAAAAAAAAAAAAAAAAAAAAAAAAAAAAAAAAAAAAAAAAAAAAAAAAAAAAAAAAAAAAAAAAAAAAAAAAAAAAAAAAAAAAAAAAAAAAAAAAAAAAAAAAAAAAAAAAAAAAAAAAAAAAAAAAAAAAAAAAAAAAAAAAAAAAAAAAAAAAAAAAAAAAAAAAAAAAAAAAAAAAAAAAAAAAAAAAAAAAAAAAAAAAAAAAAAAAAAAAAAAAAAAAAAAAAAAAAAAAAAAAAAAAAAAAAAAAAAAAAAAAAAAAAAAAAAAAAAAAAAAAAAAAAAAAAAAAAAAAAAAAAAAAAAAAAAAAAAAAAAAAAAAAAAAAAAAAAAAAAAAAAAAAAAAAAAAAAAAAAAAAAAAAAAAAAAAAAAAAAAAAAAAAAAAAAAAAAAAAAAAAAAAAAAAAAAAAAAAAAAAAAAAAAAAAAAAAAAAAAAAAAAAAAAAAAAAAAAAAAAAAAAAAAAAAAAAAAAAAAAAAAAAAAAAAAAAAAAAAAAAAAAAAAAAAAAAAAAAAAAAAAAAAAAAAAAAAAAAAAAAAAAAAAAAAAAAAAAAAAAAAAAAAAAAAAAAAAAEAAAAAAAAAUQAAAAAAAACRAAAAAAAAAKEAAAAAAAAAsQAAAAAAAAChAAAAAAAAAMEAAAAAAAAAuQAAAAAAAACxAAAAAAAAALkAAAAAAAAAsQAAAAAAAAC5AAAAAAAAAKEAAAAAAAAAoQAAAAAAAADJAAAAAAAAALkAAAAAAAAAwQAAAAAAAADNAAAAAAAAAMUAAAAAAAAAwQAAAAAAAAChAAAAAAAAAMEAAAAAAAAAiQAAAAAAAABRAAAAAAAAAHEAAAAAAAAAkQAAAAAAAADBAAAAAAAAANEAAAAAAAAA1QAAAAAAAADVAAAAAAAAALkAAAAAAAAAmQAAAAAAAAChAAAAAAAAAKEAAAAAAAAAYQAAAAAAAABRAAAAAAAAAIEAAAAAAAAAoQAAAAAAAACRAAAAAAAAAKkAAAAAAAAAoQAAAAAAAACRAAAAAAAAAKkAAAAAAAAAsQAAAAAAAADBAAAAAAAAALkAAAAAAAAAxQAAAAAAAADFAAAAAAAAANEAAAAAAAAAzQAAAAAAAADFAAAAAAAAAM0AAAAAAAAAyQAAAAAAAADVAAAAAAAAANkAAAAAAAAAuQAAAAAAAADBAAAAAAAAAIkAAAAAAAAAAAAAAAAAAAAAAAAAAAAAAAAAAAAAAAAAAAAAAAAAAAAAAAAAAAAAAAAAAAAAAAAAAAAAAAAAAAAAAAAAAAAAAAAAAAAAAAAAAAAAAAAAAAAAAAAAAAAAAAAAAAAAAAAAAAAAAAAAAAAAAAAAAAAAAAAAAAAAAAAAAAAAAAAAAAAAAAAAAAAAAAAAAAAAAAAAAAAAAAAAAAAAAAAAAAAAAAAAAAAAAAAAAAAAAAAAAAAAAAAAAAAAAAAAAAAAAAAAAAAAAAAAAAAAAAAAAAAAAAAAAAAAAAAAAAAAAAAAAAAAAAAAAAAAAAAAAAAAAAAAAAAAAAAAAAAAAAAAAAAAAAAAAAAAAAAAAAAAAAAAAAAAAAAAAAAAAAAAAAAAAAAAAAAAAAAAAAAAAAAAAAAAAAAAAAAAAAAAAAAAAAAAAAAAAAAAAAAAAAAAAAAAAAAAAAAAAAAAAAAAAAAAAAAAAAAAAAAAAAAAAAAAAAAAAAAAAAAAAAAAAAAAAAAAAAAAAAA==",
          "dtype": "f8"
         },
         "xaxis": "x2",
         "yaxis": "y2"
        },
        {
         "mode": "lines+markers",
         "name": "Patients treated (world_id 2)",
         "type": "scatter",
         "x": {
          "bdata": "AAAAAAAAAAAAAAAAAADwPwAAAAAAAABAAAAAAAAACEAAAAAAAAAQQAAAAAAAABRAAAAAAAAAGEAAAAAAAAAcQAAAAAAAACBAAAAAAAAAIkAAAAAAAAAkQAAAAAAAACZAAAAAAAAAKEAAAAAAAAAqQAAAAAAAACxAAAAAAAAALkAAAAAAAAAwQAAAAAAAADFAAAAAAAAAMkAAAAAAAAAzQAAAAAAAADRAAAAAAAAANUAAAAAAAAA2QAAAAAAAADdAAAAAAAAAOEAAAAAAAAA5QAAAAAAAADpAAAAAAAAAO0AAAAAAAAA8QAAAAAAAAD1AAAAAAAAAPkAAAAAAAAA/QAAAAAAAAEBAAAAAAACAQEAAAAAAAABBQAAAAAAAgEFAAAAAAAAAQkAAAAAAAIBCQAAAAAAAAENAAAAAAACAQ0AAAAAAAABEQAAAAAAAgERAAAAAAAAARUAAAAAAAIBFQAAAAAAAAEZAAAAAAACARkAAAAAAAABHQAAAAAAAgEdAAAAAAAAASEAAAAAAAIBIQAAAAAAAAElAAAAAAACASUAAAAAAAABKQAAAAAAAgEpAAAAAAAAAS0AAAAAAAIBLQAAAAAAAAExAAAAAAACATEAAAAAAAABNQAAAAAAAgE1AAAAAAAAATkAAAAAAAIBOQAAAAAAAAE9AAAAAAACAT0AAAAAAAABQQAAAAAAAQFBAAAAAAACAUEAAAAAAAMBQQAAAAAAAAFFAAAAAAABAUUAAAAAAAIBRQAAAAAAAwFFAAAAAAAAAUkAAAAAAAEBSQAAAAAAAgFJAAAAAAADAUkAAAAAAAABTQAAAAAAAQFNAAAAAAACAU0AAAAAAAMBTQAAAAAAAAFRAAAAAAABAVEAAAAAAAIBUQAAAAAAAwFRAAAAAAAAAVUAAAAAAAEBVQAAAAAAAgFVAAAAAAADAVUAAAAAAAABWQAAAAAAAQFZAAAAAAACAVkAAAAAAAMBWQAAAAAAAAFdAAAAAAABAV0AAAAAAAIBXQAAAAAAAwFdAAAAAAAAAWEAAAAAAAEBYQAAAAAAAgFhAAAAAAADAWEAAAAAAAABZQAAAAAAAQFlAAAAAAACAWUAAAAAAAMBZQAAAAAAAAFpAAAAAAABAWkAAAAAAAIBaQAAAAAAAwFpAAAAAAAAAW0AAAAAAAEBbQAAAAAAAgFtAAAAAAADAW0AAAAAAAABcQAAAAAAAQFxAAAAAAACAXEAAAAAAAMBcQAAAAAAAAF1AAAAAAABAXUAAAAAAAIBdQAAAAAAAwF1AAAAAAAAAXkAAAAAAAEBeQAAAAAAAgF5AAAAAAADAXkAAAAAAAABfQAAAAAAAQF9AAAAAAACAX0AAAAAAAMBfQAAAAAAAAGBAAAAAAAAgYEAAAAAAAEBgQAAAAAAAYGBAAAAAAACAYEAAAAAAAKBgQAAAAAAAwGBAAAAAAADgYEAAAAAAAABhQAAAAAAAIGFAAAAAAABAYUAAAAAAAGBhQAAAAAAAgGFAAAAAAACgYUAAAAAAAMBhQAAAAAAA4GFAAAAAAAAAYkAAAAAAACBiQAAAAAAAQGJAAAAAAABgYkAAAAAAAIBiQAAAAAAAoGJAAAAAAADAYkAAAAAAAOBiQAAAAAAAAGNAAAAAAAAgY0AAAAAAAEBjQAAAAAAAYGNAAAAAAACAY0AAAAAAAKBjQAAAAAAAwGNAAAAAAADgY0AAAAAAAABkQAAAAAAAIGRAAAAAAABAZEAAAAAAAGBkQAAAAAAAgGRAAAAAAACgZEAAAAAAAMBkQAAAAAAA4GRAAAAAAAAAZUAAAAAAACBlQA==",
          "dtype": "f8"
         },
         "xaxis": "x3",
         "y": {
          "bdata": "AAAAAAAAAAAAAAAAAAAAAAAAAAAAAAAAAAAAAAAAAAAAAAAAAAAAAAAAAAAAAAAAAAAAAAAAAAAAAAAAAAAAAAAAAAAAAAAAAAAAAAAAAAAAAAAAAAAAAAAAAAAAAAAAAAAAAAAAAAAAAAAAAAAAAAAAAAAAAAAAAAAAAAAAAAAAAAAAAADwPwAAAAAAAABAAAAAAAAAAEAAAAAAAAAAQAAAAAAAAAhAAAAAAAAACEAAAAAAAAAIQAAAAAAAABhAAAAAAAAAHEAAAAAAAAAmQAAAAAAAACpAAAAAAAAAMEAAAAAAAAAzQAAAAAAAADdAAAAAAAAAOUAAAAAAAAA7QAAAAAAAAD5AAAAAAAAAP0AAAAAAAABCQAAAAAAAAEVAAAAAAACARkAAAAAAAIBHQAAAAAAAAElAAAAAAACASkAAAAAAAIBMQAAAAAAAAE9AAAAAAADAUEAAAAAAAEBSQAAAAAAAQFRAAAAAAACAVEAAAAAAAMBVQAAAAAAAQFZAAAAAAABAV0AAAAAAAEBYQAAAAAAAgFlAAAAAAAAAW0AAAAAAAEBcQAAAAAAAAF1AAAAAAAAAXkAAAAAAACBgQAAAAAAAQGFAAAAAAAAAYkAAAAAAAKBiQAAAAAAA4GJAAAAAAABAY0AAAAAAAKBjQAAAAAAAYGRAAAAAAADgZEAAAAAAACBlQAAAAAAAgGVAAAAAAADgZUAAAAAAAABmQAAAAAAA4GZAAAAAAABAZ0AAAAAAACBoQAAAAAAAIGlAAAAAAAAAakAAAAAAAMBqQAAAAAAAYGtAAAAAAADga0AAAAAAAEBsQAAAAAAAYGxAAAAAAABAbUAAAAAAAABuQAAAAAAAYG5AAAAAAABAb0AAAAAAAABwQAAAAAAAcHBAAAAAAACAcEAAAAAAACBxQAAAAAAAkHFAAAAAAADwcUAAAAAAAEByQAAAAAAAYHJAAAAAAACQckAAAAAAANByQAAAAAAAEHNAAAAAAACQc0AAAAAAAAB0QAAAAAAAQHRAAAAAAABgdEAAAAAAADB1QAAAAAAAYHVAAAAAAADQdUAAAAAAAPB1QAAAAAAAgHZAAAAAAACwdkAAAAAAAAB3QAAAAAAAIHdAAAAAAABgd0AAAAAAAKB3QAAAAAAAwHdAAAAAAAAgeEAAAAAAAFB4QAAAAAAA4HhAAAAAAAAQeUAAAAAAAFB5QAAAAAAAsHlAAAAAAAAAekAAAAAAAFB6QAAAAAAAoHpAAAAAAADwekAAAAAAAFB7QAAAAAAAkHtAAAAAAADge0AAAAAAAFB8QAAAAAAAsHxAAAAAAAAQfUAAAAAAAJB9QAAAAAAA4H1AAAAAAABAfkAAAAAAAJB+QAAAAAAA4H5AAAAAAAAAf0AAAAAAACB/QAAAAAAAwH9AAAAAAADQf0AAAAAAACCAQAAAAAAAUIBAAAAAAAB4gEAAAAAAAJCAQAAAAAAAqIBAAAAAAAC4gEAAAAAAANCAQAAAAAAA+IBAAAAAAAAQgUAAAAAAADiBQAAAAAAAeIFAAAAAAACQgUAAAAAAAKCBQAAAAAAAsIFAAAAAAADQgUAAAAAAANiBQAAAAAAA4IFAAAAAAADogUAAAAAAAOiBQAAAAAAA6IFAAAAAAADogUAAAAAAAPCBQAAAAAAA8IFAAAAAAAD4gUAAAAAAAACCQAAAAAAAAIJAAAAAAAAAgkAAAAAAAACCQAAAAAAAAIJAAAAAAAAAgkAAAAAAAACCQAAAAAAAAIJAAAAAAAAAgkAAAAAAAACCQAAAAAAACIJAAAAAAAAIgkAAAAAAABCCQA==",
          "dtype": "f8"
         },
         "yaxis": "y3"
        },
        {
         "mode": "lines+markers",
         "name": "Patients died (world_id 2)",
         "type": "scatter",
         "x": {
          "bdata": "AAAAAAAAAAAAAAAAAADwPwAAAAAAAABAAAAAAAAACEAAAAAAAAAQQAAAAAAAABRAAAAAAAAAGEAAAAAAAAAcQAAAAAAAACBAAAAAAAAAIkAAAAAAAAAkQAAAAAAAACZAAAAAAAAAKEAAAAAAAAAqQAAAAAAAACxAAAAAAAAALkAAAAAAAAAwQAAAAAAAADFAAAAAAAAAMkAAAAAAAAAzQAAAAAAAADRAAAAAAAAANUAAAAAAAAA2QAAAAAAAADdAAAAAAAAAOEAAAAAAAAA5QAAAAAAAADpAAAAAAAAAO0AAAAAAAAA8QAAAAAAAAD1AAAAAAAAAPkAAAAAAAAA/QAAAAAAAAEBAAAAAAACAQEAAAAAAAABBQAAAAAAAgEFAAAAAAAAAQkAAAAAAAIBCQAAAAAAAAENAAAAAAACAQ0AAAAAAAABEQAAAAAAAgERAAAAAAAAARUAAAAAAAIBFQAAAAAAAAEZAAAAAAACARkAAAAAAAABHQAAAAAAAgEdAAAAAAAAASEAAAAAAAIBIQAAAAAAAAElAAAAAAACASUAAAAAAAABKQAAAAAAAgEpAAAAAAAAAS0AAAAAAAIBLQAAAAAAAAExAAAAAAACATEAAAAAAAABNQAAAAAAAgE1AAAAAAAAATkAAAAAAAIBOQAAAAAAAAE9AAAAAAACAT0AAAAAAAABQQAAAAAAAQFBAAAAAAACAUEAAAAAAAMBQQAAAAAAAAFFAAAAAAABAUUAAAAAAAIBRQAAAAAAAwFFAAAAAAAAAUkAAAAAAAEBSQAAAAAAAgFJAAAAAAADAUkAAAAAAAABTQAAAAAAAQFNAAAAAAACAU0AAAAAAAMBTQAAAAAAAAFRAAAAAAABAVEAAAAAAAIBUQAAAAAAAwFRAAAAAAAAAVUAAAAAAAEBVQAAAAAAAgFVAAAAAAADAVUAAAAAAAABWQAAAAAAAQFZAAAAAAACAVkAAAAAAAMBWQAAAAAAAAFdAAAAAAABAV0AAAAAAAIBXQAAAAAAAwFdAAAAAAAAAWEAAAAAAAEBYQAAAAAAAgFhAAAAAAADAWEAAAAAAAABZQAAAAAAAQFlAAAAAAACAWUAAAAAAAMBZQAAAAAAAAFpAAAAAAABAWkAAAAAAAIBaQAAAAAAAwFpAAAAAAAAAW0AAAAAAAEBbQAAAAAAAgFtAAAAAAADAW0AAAAAAAABcQAAAAAAAQFxAAAAAAACAXEAAAAAAAMBcQAAAAAAAAF1AAAAAAABAXUAAAAAAAIBdQAAAAAAAwF1AAAAAAAAAXkAAAAAAAEBeQAAAAAAAgF5AAAAAAADAXkAAAAAAAABfQAAAAAAAQF9AAAAAAACAX0AAAAAAAMBfQAAAAAAAAGBAAAAAAAAgYEAAAAAAAEBgQAAAAAAAYGBAAAAAAACAYEAAAAAAAKBgQAAAAAAAwGBAAAAAAADgYEAAAAAAAABhQAAAAAAAIGFAAAAAAABAYUAAAAAAAGBhQAAAAAAAgGFAAAAAAACgYUAAAAAAAMBhQAAAAAAA4GFAAAAAAAAAYkAAAAAAACBiQAAAAAAAQGJAAAAAAABgYkAAAAAAAIBiQAAAAAAAoGJAAAAAAADAYkAAAAAAAOBiQAAAAAAAAGNAAAAAAAAgY0AAAAAAAEBjQAAAAAAAYGNAAAAAAACAY0AAAAAAAKBjQAAAAAAAwGNAAAAAAADgY0AAAAAAAABkQAAAAAAAIGRAAAAAAABAZEAAAAAAAGBkQAAAAAAAgGRAAAAAAACgZEAAAAAAAMBkQAAAAAAA4GRAAAAAAAAAZUAAAAAAACBlQA==",
          "dtype": "f8"
         },
         "xaxis": "x4",
         "y": {
          "bdata": "AAAAAAAAAAAAAAAAAAAAAAAAAAAAAAAAAAAAAAAAAAAAAAAAAAAAAAAAAAAAAAAAAAAAAAAAAAAAAAAAAAAAAAAAAAAAAAAAAAAAAAAAAAAAAAAAAAAAAAAAAAAAAAAAAAAAAAAAAAAAAAAAAAAAAAAAAAAAAAAAAAAAAAAAAAAAAAAAAAAAAAAAAAAAAAAAAAAAAAAAAAAAAAAAAAAAAAAAAAAAAAAAAAAAAAAAAAAAAAAAAAAAAAAAAAAAAAAAAAAAAAAAAAAAAAAAAAAAAAAAAAAAAAAAAAAAAAAAAAAAAAAAAAAAAAAAAAAAAAAAAAAAAAAAAAAAAAAAAAAAAAAAAAAAAAAAAAAAAAAAAAAAAAAAAAAAAAAAAAAAAAAAAAAAAAAAAAAAAAAAAAAAAAAAAAAAAAAAAAAAAAAAAAAAAAAAAAAAAAAAAAAAAAAAAAAAAAAAAAAAAAAAAAAAAAAAAAAAAAAAAAAAAAAAAAAAAAAAAAAAAAAAAAAAAAAAAAAAAAAAAAAAAAAAAAAAAAAAAAAAAAAAAAAAAAAAAAAAAAAAAAAAAAAAAAAAAAAAAAAAAAAAAAAAAAAAAAAAAAAAAAAAAAAAAAAAAAAAAAAAAAAAAAAAAAAAAAAAAAAAAAAAAAAAAAAAAAAAAAAAAAAAAAAAAAAAAAAAAAAAAAAAAAAAAAAAAAAAAAAAAAAAAAAAAAAAAAAAAAAAAAAAAAAAAAAAAPA/AAAAAAAAAEAAAAAAAAAAQAAAAAAAAAhAAAAAAAAAEEAAAAAAAAAYQAAAAAAAACBAAAAAAAAAJEAAAAAAAAAmQAAAAAAAAChAAAAAAAAAKkAAAAAAAAAzQAAAAAAAADVAAAAAAAAAOEAAAAAAAAA7QAAAAAAAAD5AAAAAAACAQEAAAAAAAIBBQAAAAAAAAEJAAAAAAACAQkAAAAAAAIBDQAAAAAAAgENAAAAAAAAAREAAAAAAAABFQAAAAAAAgEVAAAAAAACARkAAAAAAAIBHQAAAAAAAgEdAAAAAAACASEAAAAAAAIBIQAAAAAAAgEhAAAAAAACASEAAAAAAAIBIQAAAAAAAgEhAAAAAAACASUAAAAAAAIBJQAAAAAAAgEpAAAAAAAAATEAAAAAAAABMQAAAAAAAgExAAAAAAAAATUAAAAAAAIBNQAAAAAAAAE5AAAAAAAAAUEAAAAAAAEBQQAAAAAAAwFBAAAAAAABAUUAAAAAAAIBRQAAAAAAAgFFAAAAAAABAUkAAAAAAAIBSQAAAAAAAQFNAAAAAAAAAVEAAAAAAAIBUQAAAAAAAgFRAAAAAAACAVEAAAAAAAIBUQAAAAAAAgFRAAAAAAACAVEAAAAAAAIBUQAAAAAAAgFRAAAAAAACAVEAAAAAAAIBUQAAAAAAAgFRAAAAAAACAVEAAAAAAAIBUQAAAAAAAgFRAAAAAAACAVEAAAAAAAIBUQAAAAAAAgFRAAAAAAACAVEAAAAAAAIBUQAAAAAAAgFRAAAAAAACAVEAAAAAAAIBUQAAAAAAAgFRAAAAAAACAVEAAAAAAAIBUQAAAAAAAgFRAAAAAAACAVEAAAAAAAIBUQAAAAAAAgFRAAAAAAACAVEAAAAAAAIBUQAAAAAAAgFRAAAAAAACAVEAAAAAAAIBUQAAAAAAAgFRAAAAAAACAVEAAAAAAAIBUQAAAAAAAgFRAAAAAAACAVEAAAAAAAIBUQAAAAAAAgFRAAAAAAACAVEAAAAAAAIBUQAAAAAAAgFRAAAAAAACAVEAAAAAAAIBUQAAAAAAAgFRAAAAAAACAVEAAAAAAAIBUQA==",
          "dtype": "f8"
         },
         "yaxis": "y4"
        },
        {
         "name": "Beds in use (world_id 3)",
         "opacity": 0.3,
         "type": "histogram",
         "x": {
          "bdata": "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",
          "dtype": "f8"
         },
         "xaxis": "x",
         "yaxis": "y"
        },
        {
         "name": "Patients waiting (world_id 3)",
         "opacity": 0.3,
         "type": "histogram",
         "x": {
          "bdata": "AAAAAAAAAAAAAAAAAAAAAAAAAAAAAAAAAAAAAAAAAAAAAAAAAAAAAAAAAAAAAAAAAAAAAAAAAAAAAAAAAAAAAAAAAAAAAAAAAAAAAAAAAAAAAAAAAAAAAAAAAAAAAAAAAAAAAAAAAAAAAAAAAAAAAAAAAAAAAAAAAAAAAAAAAAAAAAAAAAAAAAAAAAAAAAAAAAAAAAAAAAAAAAAAAAAAAAAAAAAAAAAAAAAAAAAAAAAAAAAAAAAAAAAAAAAAAAAAAAAAAAAAAAAAAAAAAAAAAAAAAAAAAAAAAAAAAAAAAAAAAAAAAAAAAAAAAAAAAAAAAAAAAAAAAAAAAAAAAAAAAAAAAAAAAAAAAAAAAAAAAAAAAAAAAAAAAAAAAAAAAAAAAAAAAAAAAAAAAAAAAAAAAAAAAAAAAAAAAAAAAAAAAAAAAAAAAAAAAAAAAAAAAAAAAAAAAAAAAAAAAAAAAAAAAAAAAAAAAAAAAAAAAAAAAAAAAAAAAAAAAAAAAAAAAAAAAAAAAAAAAAAAAAAAAAAAAAAAAAAAAAAAAAAAAAAAAAAAAAAAAAAAAAAAAAAAAAAAAAAAAAAAAAAAAAAAAAAAAAAAAAAAAAAAAAAAAAAAAAAAAAAAAAAAAAAAAAAAAAAAAAAAAAAAAAAAAAAAAAAAAAAAAAAAAAAAAAAAAAAAAAAAAAAAAAAAAAAAAAAAAAAAAAAAAAAAAAAAAAAAAAAAAAAAAAAAAAAAAAAAAAAAAAAAAAAAAAAAAAAAAAAAAAAAAAAAAAAAAAAAAAAAAAAAAAAAAAAAAAAAAAAAAAAAAAAAAAAAAAAAAAAAAAAAAAAAAAAAAAAAAAAAAAAAAAAAAAAAAAAAAABAAAAAAAAAEEAAAAAAAADwPwAAAAAAAAAAAAAAAAAACEAAAAAAAADwPwAAAAAAAAAAAAAAAAAAAAAAAAAAAADwPwAAAAAAABBAAAAAAAAAHEAAAAAAAAAUQAAAAAAAAABAAAAAAAAA8D8AAAAAAAAAAAAAAAAAAAAAAAAAAAAAAAAAAAAAAAAAAAAAAAAAAAAAAAAAAAAAAAAAAAAAAAAAAAAAAAAAAAAAAAAAAAAAAEAAAAAAAAAAQAAAAAAAAAAAAAAAAAAACEAAAAAAAAAIQAAAAAAAABBAAAAAAAAAEEAAAAAAAAAcQAAAAAAAACJAAAAAAAAAIkAAAAAAAAAYQAAAAAAAACJAAAAAAAAAIkAAAAAAAAAIQAAAAAAAAAhAAAAAAAAAEEAAAAAAAAAAAAAAAAAAAAAAAAAAAAAAAAAAAAAAAAAAAAAAAAAAAAAAAAAAAAAAAAAAAAAAAAAAAAAAAAAAAAAAAAAAAAAAAAAAAAAAAAAAAAAAAAAAAAAAAAAAAAAAAAAAAAAAAAAAAAAAAAAAAAAAAAAAAAAAAAAAAAAAAAAAAAAAAAAAAAAAAAAAAAAAAAAAAAAAAAAAAAAAAAAAAAAAAAAAAAAAAAAAAAAAAAAAAAAAAAAAAAAAAAAAAAAAAAAAAAAAAAAAAAAAAAAAAAAAAAAAAAAAAAAAAAAAAAAAAAAAAAAAAAAAAAAAAAAAAAAAAAAAAAAAAAAAAAAAAAAAAAAAAAAAAAAAAAAAAAAAAAAAAAAAAAAAAAAAAAAAAAAAAAAAAAAAAAAAAAAAAAAAAAAAAAAAAAAAAAAAAAAAAAAAAAAAAAAAAAAAAAAAAAAAAAAAAAAAAAAAAAAAAAAAAAAAAAAAAAAAAAAAAAAAAAAAAAAAAAAAAAAAAAAAAAAAAAAAAAAAAAAAAAAAAAAAAAAAAAAAAAAAAAAAAAAAAAAAAAAAAAAAAAAAAAAAAAAAAAAAAAAAAAAAAAAAAAAAAAAAAAAAAAAAAAAAAAAAAAAAAAAAAAAAAAAAAAAAAAAAAAAAAAAAAAAAAAAAAAAAAAAAAAAAAAAAAAAAAAAAAAAAAAAAAAAAAAAAAAAAAAAAAAAAAAAAAAAAAAAAAAAAAAAAAAAAAAAAAAAAAAAAAAAAAAAAAAAAAAAAAAAAAAAAAAAAAAAAAA==",
          "dtype": "f8"
         },
         "xaxis": "x2",
         "yaxis": "y2"
        },
        {
         "mode": "lines+markers",
         "name": "Patients treated (world_id 3)",
         "type": "scatter",
         "x": {
          "bdata": "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",
          "dtype": "f8"
         },
         "xaxis": "x3",
         "y": {
          "bdata": "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",
          "dtype": "f8"
         },
         "yaxis": "y3"
        },
        {
         "mode": "lines+markers",
         "name": "Patients died (world_id 3)",
         "type": "scatter",
         "x": {
          "bdata": "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",
          "dtype": "f8"
         },
         "xaxis": "x4",
         "y": {
          "bdata": "AAAAAAAAAAAAAAAAAAAAAAAAAAAAAAAAAAAAAAAAAAAAAAAAAAAAAAAAAAAAAAAAAAAAAAAAAAAAAAAAAAAAAAAAAAAAAAAAAAAAAAAAAAAAAAAAAAAAAAAAAAAAAAAAAAAAAAAAAAAAAAAAAAAAAAAAAAAAAAAAAAAAAAAAAAAAAAAAAAAAAAAAAAAAAAAAAAAAAAAAAAAAAAAAAAAAAAAAAAAAAAAAAAAAAAAAAAAAAAAAAAAAAAAAAAAAAAAAAAAAAAAAAAAAAAAAAAAAAAAAAAAAAAAAAAAAAAAAAAAAAAAAAAAAAAAAAAAAAAAAAAAAAAAAAAAAAAAAAAAAAAAAAAAAAAAAAAAAAAAAAAAAAAAAAAAAAAAAAAAAAAAAAAAAAAAAAAAAAAAAAAAAAAAAAAAAAAAAAAAAAAAAAAAAAAAAAAAAAAAAAAAAAAAAAAAAAAAAAAAAAAAAAAAAAAAAAAAAAAAAAAAAAAAAAAAAAAAAAAAAAAAAAAAAAAAAAAAAAAAAAAAAAAAAAAAAAAAAAAAAAAAAAAAAAAAAAAAAAAAAAAAAAAAAAAAAAAAAAAAAAAAAAAAAAAAAAAAAAAAAAAAAAAAAAAAAAAAAAAAAAAAAAAAAAAAAAAAAAAAAAAAAAAAAAAAAAAAAAAAAAAAAAAAAAAAAAAAAAAAAAAAAAAAAAAAAAAAAAAAAAAAAAAAAAAAAAAAAAAAAAAAAAAAAAAAAAAAAAAAAAAAAAAAAAAAAAAAAAAAAAAAAAAAAAAAAAAAAAAAAAAAAAAAAAAAAAAAAAAAAAAAAAAAAAAAAAAAAAAAAAAAAAAAAAAAAAAAAAAAAAAAAAAAAAAAAAAAAAAAAAAAAAAAAAAAAAAAAAAAAAAAAAAAAAAAAAAAAAAAAAAAAAAAAAAAAAAAAAAAAAAAAAAAAAAAAAAAAAAAAAAAAAAAAAAAAAAAAAAAAAAAAAAAAAAAAAAAAAAAAAAAAAAAAAAAAAAAAAAAAAAAAAAAAAAAAAAAAAAAAAAAAAAAAAAAAAAAAAAAAAAAAAAAAAAAAAAAAAAAAAAAAAAAAAAAAAAAAAAAAAAAAAAAAAAAAAAAAAAAAAAAAAAAAAAAAAAAAAAAAAAAAAAAAAAAAAAAAAAAAAAAAAAAAAAAAAAAAAAAAAAAAAAAAAAAAAAAAAAAAAAAAAAAAAAAAAAAAAAAAAAAAAAAAAAAAAAAAAAAAAAAAAAAAAAAAAAAAAAAAAAAAAAAAAAAAAAAAAAAAAAAAAAAAAAAAAAAAAAAAAAAAAAAAAAAAAAAAAAAAAAAAAAAAAAAAAAAAAAAAAAAAAAAAAAAAAAAAAAAAAAAAAAAAAAAAAAAAAAAAAAAAAAAAAAAAAAAAAAAAAAAAAAAAAAAAAAAAAAAAAAAAAAAAAAAAAAAAAAAAAAAAAAAAAAAAAAAAAAAAAAAAAAAAAAAAAAAAAAAAAAAAAAAAAAAAAAAAAAAAAAAAAAAAAAAAAAAAAAAAAAAAAAAAAAAAAAAAAAAAAAAAAAAAAAAAAAAAAAAAAAAAAAAAAAAAAAAAAAAAAAAAAAAAAAAAAAAAAAAAAAAAAAAAAAAAAAAAAAAAAAAAAAAAAAAAAAAAAAAAAAAAAAAAAAAAAAAAAAAAAAAAAAAAAAAAAAAAAAAAAAAAAAAAAAAAAAAAAAAAAAAAAAAAAAAAAAAAAAAAAAAAAAAAAAAAAAAAAAAAAAAAAAAAAAAAAAAAAAAAAAAAAAAAAAAAAAAAAAAAAAAAAAAAAAAAAAAAAAAAAAAAAAAAAAAAAAAAAAAAAAAAAAAAAAAAAAAAAAAAAAAAAAAAAAAAAAAAAAAAAAAAAAAAAAAAAAAAAAAAAAAAAAAAAAAAAAAAAAAAAAAAAAAAAAAAAAAAAAAAAAAAAAAAAAAAAAAAAAAAAAAAAAAAAAAAAAAAAAAAAAAAAAAAAAAAAAAAAAAAAAAAAAAAAAAAAAAAAAAAAAAAAAAAAAAAAAAAAAAAAAAAAAAAAAAAAAAAAAAAAAAAAAAAAAAAAAAAAA==",
          "dtype": "f8"
         },
         "yaxis": "y4"
        },
        {
         "name": "Beds in use (world_id 4)",
         "opacity": 0.3,
         "type": "histogram",
         "x": {
          "bdata": "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",
          "dtype": "f8"
         },
         "xaxis": "x",
         "yaxis": "y"
        },
        {
         "name": "Patients waiting (world_id 4)",
         "opacity": 0.3,
         "type": "histogram",
         "x": {
          "bdata": "AAAAAAAAAAAAAAAAAAAAAAAAAAAAAAAAAAAAAAAAAAAAAAAAAAAAAAAAAAAAAAAAAAAAAAAAAAAAAAAAAAAAAAAAAAAAAAAAAAAAAAAAAAAAAAAAAAAAAAAAAAAAAAAAAAAAAAAAAAAAAAAAAAAAAAAAAAAAAAAAAAAAAAAAAAAAAAAAAAAAAAAAAAAAAAAAAAAAAAAAAAAAAAAAAAAAAAAAAAAAAAAAAAAAAAAAAAAAAAAAAAAAAAAAAAAAAAAAAAAAAAAAAAAAAAAAAAAAAAAAAAAAAAAAAAAAAAAAAAAAAAAAAAAAAAAAAAAAAAAAAAAAAAAAAAAAAAAAAAAAAAAAAAAAAAAAAAAAAAAAAAAAAAAAAAAAAAAAAAAAAAAAAAAAAAAAAAAAAAAAAAAAAAAAAAAAAAAAAAAAAAAAAAAAAAAAAAAAAAAAAAAAAAAAAAAAAAAAAAAAAAAAAAAAAAAAAAAAAAAAAAAAAAAAAAAAAAAAAAAAAAAAAAAAAAAAAAAAAAAAAAAAAAAAAAAAAAAAAAAAAAAAAAAAAAAAAAAAAAAAAAAAAAAAAAAAAAAAAAAAAAAAAAAAAAAAAAAAAAAAAAAAAAAAAAAAAAAAAAAAAAAAAAAAAAAAAAAAAAAAAAAAAAAAAAAAAAAAAAAAAAAAAAAAAAAAAAAAAAAAAAAAAAAAAAAAAAAAAAAAAAAAAAAAAAAAAAAAAAAAAAAAAAAAAAAAAAAAAAAAAAAAAAAAAAAAAAAAAAAAAAAAAAAAAAAAAAAAAAAAAAAAAAAAAAAAAAAAAAAAAAAAAAAAAAAAAAAAAAAAAAAAAAAAAAAAAAAAAAAAAAAAAAAAAAAAAAAAAAAAAAAAAAAAAAAAAAAAAAAAAAAAAAAAAAAAAAAAAAAAAAAAAAAAAAAAAAAAAAAAAAAAAAAAAAAAAAAAAAAAAAAAAAAAAAAAAAAAAAAAAAAAAAAAAAAAAAAAAAAAAAAAAAAAAAAAAAAAAAAAAAAAAAAAAAAAAAAAAAAAAAAAAAAAAAAAAAAAAAAAAAAAAAAAAAAAAAAAAAAAAAAAAAAAAAAAAAAAAAAAAAAAAAAAAAAAAAAAAAAAAAAAAAAAAAAAAAAAAAAAAAAAAAAAAAAAAAAAAAAAAAAAAAAAAAAAAAAAAAAAAAAAAAAAAAAAAAAAAAAAAAAAAAAAAAAAAAAAAAAAAAAAAAAAAAAAAAAAAAAAAAAAAAAAAAAAAAAAAAAAAAAAAAAAAAAAAAAAAAAAAAAAAAAAAAAAAAAAAAAAAAAAAAAAAAAAAAAAAAAAAAAAAAAAAAAAAAAAAAAAAAAAAAAAAAAAAAAAAAAAAAAAAAAAAAAAAAAAAAAAAAAAAAAAAAAAAAAAAAAAAAAAAAAAAAAAAAAAAAAAAAAAAAAAAAAAAAAAAAAAAAAAAAAAAAAAAAAAAAAAAAAAAAAAAAAAAAAAAAAAAAAAAAAAAAAAAAAAAAAAAAAAAAAAAAAAAAAAAAAAAAAAAAAAAAAAAAAAAAAAAAAAAAAAAAAAAAAAAAAAAAAAAAAAAAAAAAAAAAAAAAAAAAAAAAAAAAAAAAAAAAAAAAAAAAAAAAAAAAAAAAAAAAAAAAAAAAAAAAAAAAAAAAAAAAAAAAAAAAAAAAAAAAAAAAAAAAAAAAAAAAAAAAAAAAAAAAAAAAAAAAAAAAAAAAAAAAAAAAAAAAAAAAAAAAAAAAAAAAAAAAAAAAAAAAAAAAAAAAAAAAAAAAAAAAAAAAAAAAAAAAAAAAAAAAAAAAAAAAAAAAAAAAAAAAAAAAAAAAAAAAAAAAAAAAAAAAAAAAAAAAAAAAAAAAAAAAAAAAAAAAAAAAAAAAAAAAAAAAAAAAAAAAAAAAAAAAAAAAAAAAAAAAAAAAAAAAAAAAAAAAAAAAAAAAAAAAAAAAAAAAAAAAAAAAAAAAAAAAAAAAAAAAAAAAAAAAAAAAAAAAAAAAAAAAAAAAAAAAAAAAAAAAAAAAAAAAAAAAAAAAAAAAAAAAAAAAAAAAAAAAAAAAA=",
          "dtype": "f8"
         },
         "xaxis": "x2",
         "yaxis": "y2"
        },
        {
         "mode": "lines+markers",
         "name": "Patients treated (world_id 4)",
         "type": "scatter",
         "x": {
          "bdata": "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",
          "dtype": "f8"
         },
         "xaxis": "x3",
         "y": {
          "bdata": "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",
          "dtype": "f8"
         },
         "yaxis": "y3"
        },
        {
         "mode": "lines+markers",
         "name": "Patients died (world_id 4)",
         "type": "scatter",
         "x": {
          "bdata": "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",
          "dtype": "f8"
         },
         "xaxis": "x4",
         "y": {
          "bdata": "AAAAAAAAAAAAAAAAAAAAAAAAAAAAAAAAAAAAAAAAAAAAAAAAAAAAAAAAAAAAAAAAAAAAAAAAAAAAAAAAAAAAAAAAAAAAAAAAAAAAAAAAAAAAAAAAAAAAAAAAAAAAAAAAAAAAAAAAAAAAAAAAAAAAAAAAAAAAAAAAAAAAAAAAAAAAAAAAAAAAAAAAAAAAAAAAAAAAAAAAAAAAAAAAAAAAAAAAAAAAAAAAAAAAAAAAAAAAAAAAAAAAAAAAAAAAAAAAAAAAAAAAAAAAAAAAAAAAAAAAAAAAAAAAAAAAAAAAAAAAAAAAAAAAAAAAAAAAAAAAAAAAAAAAAAAAAAAAAAAAAAAAAAAAAAAAAAAAAAAAAAAAAAAAAAAAAAAAAAAAAAAAAAAAAAAAAAAAAAAAAAAAAAAAAAAAAAAAAAAAAAAAAAAAAAAAAAAAAAAAAAAAAAAAAAAAAAAAAAAAAAAAAAAAAAAAAAAAAAAAAAAAAAAAAAAAAAAAAAAAAAAAAAAAAAAAAAAAAAAAAAAAAAAAAAAAAAAAAAAAAAAAAAAAAAAAAAAAAAAAAAAAAAAAAAAAAAAAAAAAAAAAAAAAAAAAAAAAAAAAAAAAAAAAAAAAAAAAAAAAAAAAAAAAAAAAAAAAAAAAAAAAAAAAAAAAAAAAAAAAAAAAAAAAAAAAAAAAAAAAAAAAAAAAAAAAAAAAAAAAAAAAAAAAAAAAAAAAAAAAAAAAAAAAAAAAAAAAAAAAAAAAAAAAAAAAAAAAAAAAAAAAAAAAAAAAAAAAAAAAAAAAAAAAAAAAAAAAAAAAAAAAAAAAAAAAAAAAAAAAAAAAAAAAAAAAAAAAAAAAAAAAAAAAAAAAAAAAAAAAAAAAAAAAAAAAAAAAAAAAAAAAAAAAAAAAAAAAAAAAAAAAAAAAAAAAAAAAAAAAAAAAAAAAAAAAAAAAAAAAAAAAAAAAAAAAAAAAAAAAAAAAAAAAAAAAAAAAAAAAAAAAAAAAAAAAAAAAAAAAAAAAAAAAAAAAAAAAAAAAAAAAAAAAAAAAAAAAAAAAAAAAAAAAAAAAAAAAAAAAAAAAAAAAAAAAAAAAAAAAAAAAAAAAAAAAAAAAAAAAAAAAAAAAAAAAAAAAAAAAAAAAAAAAAAAAAAAAAAAAAAAAAAAAAAAAAAAAAAAAAAAAAAAAAAAAAAAAAAAAAAAAAAAAAAAAAAAAAAAAAAAAAAAAAAAAAAAAAAAAAAAAAAAAAAAAAAAAAAAAAAAAAAAAAAAAAAAAAAAAAAAAAAAAAAAAAAAAAAAAAAAAAAAAAAAAAAAAAAAAAAAAAAAAAAAAAAAAAAAAAAAAAAAAAAAAAAAAAAAAAAAAAAAAAAAAAAAAAAAAAAAAAAAAAAAAAAAAAAAAAAAAAAAAAAAAAAAAAAAAAAAAAAAAAAAAAAAAAAAAAAAAAAAAAAAAAAAAAAAAAAAAAAAAAAAAAAAAAAAAAAAAAAAAAAAAAAAAAAAAAAAAAAAAAAAAAAAAAAAAAAAAAAAAAAAAAAAAAAAAAAAAAAAAAAAAAAAAAAAAAAAAAAAAAAAAAAAAAAAAAAAAAAAAAAAAAAAAAAAAAAAAAAAAAAAAAAAAAAAAAAAAAAAAAAAAAAAAAAAAAAAAAAAAAAAAAAAAAAAAAAAAAAAAAAAAAAAAAAAAAAAAAAAAAAAAAAAAAAAAAAAAAAAAAAAAAAAAAAAAAAAAAAAAAAAAAAAAAAAAAAAAAAAAAAAAAAAAAAAAAAAAAAAAAAAAAAAAAAAAAAAAAAAAAAAAAAAAAAAAAAAAAAAAAAAAAAAAAAAAAAAAAAAAAAAAAAAAAAAAAAAAAAAAAAAAAAAAAAAAAAAAAAAAAAAAAAAAAAAAAAAAAAAAAAAAAAAAAAAAAAAAAAAAAAAAAAAAAAAAAAAAAAAAAAAAAAAAAAAAAAAAAAAAAAAAAAAAAAAAAAAAAAAAAAAAAAAAAAAAAAAAAAAAAAAAAAAAAAAAAAAAAAAAAAAAAAAAAAAAAAAAAAAAAAAAAAAAAAAAAAAAAAA=",
          "dtype": "f8"
         },
         "yaxis": "y4"
        }
       ],
       "layout": {
        "annotations": [
         {
          "font": {
           "size": 16
          },
          "showarrow": false,
          "text": "Distributie aantal bedden in gebruik",
          "x": 0.225,
          "xanchor": "center",
          "xref": "paper",
          "y": 1,
          "yanchor": "bottom",
          "yref": "paper"
         },
         {
          "font": {
           "size": 16
          },
          "showarrow": false,
          "text": "Distributie aantal patiënten in wachtrij",
          "x": 0.775,
          "xanchor": "center",
          "xref": "paper",
          "y": 1,
          "yanchor": "bottom",
          "yref": "paper"
         },
         {
          "font": {
           "size": 16
          },
          "showarrow": false,
          "text": "Aantal patiënten behandeld over de looptijd",
          "x": 0.225,
          "xanchor": "center",
          "xref": "paper",
          "y": 0.375,
          "yanchor": "bottom",
          "yref": "paper"
         },
         {
          "font": {
           "size": 16
          },
          "showarrow": false,
          "text": "Aantal patiënten overleden over de looptijd",
          "x": 0.775,
          "xanchor": "center",
          "xref": "paper",
          "y": 0.375,
          "yanchor": "bottom",
          "yref": "paper"
         }
        ],
        "barmode": "overlay",
        "height": 700,
        "showlegend": true,
        "template": {
         "data": {
          "bar": [
           {
            "error_x": {
             "color": "#2a3f5f"
            },
            "error_y": {
             "color": "#2a3f5f"
            },
            "marker": {
             "line": {
              "color": "#E5ECF6",
              "width": 0.5
             },
             "pattern": {
              "fillmode": "overlay",
              "size": 10,
              "solidity": 0.2
             }
            },
            "type": "bar"
           }
          ],
          "barpolar": [
           {
            "marker": {
             "line": {
              "color": "#E5ECF6",
              "width": 0.5
             },
             "pattern": {
              "fillmode": "overlay",
              "size": 10,
              "solidity": 0.2
             }
            },
            "type": "barpolar"
           }
          ],
          "carpet": [
           {
            "aaxis": {
             "endlinecolor": "#2a3f5f",
             "gridcolor": "white",
             "linecolor": "white",
             "minorgridcolor": "white",
             "startlinecolor": "#2a3f5f"
            },
            "baxis": {
             "endlinecolor": "#2a3f5f",
             "gridcolor": "white",
             "linecolor": "white",
             "minorgridcolor": "white",
             "startlinecolor": "#2a3f5f"
            },
            "type": "carpet"
           }
          ],
          "choropleth": [
           {
            "colorbar": {
             "outlinewidth": 0,
             "ticks": ""
            },
            "type": "choropleth"
           }
          ],
          "contour": [
           {
            "colorbar": {
             "outlinewidth": 0,
             "ticks": ""
            },
            "colorscale": [
             [
              0,
              "#0d0887"
             ],
             [
              0.1111111111111111,
              "#46039f"
             ],
             [
              0.2222222222222222,
              "#7201a8"
             ],
             [
              0.3333333333333333,
              "#9c179e"
             ],
             [
              0.4444444444444444,
              "#bd3786"
             ],
             [
              0.5555555555555556,
              "#d8576b"
             ],
             [
              0.6666666666666666,
              "#ed7953"
             ],
             [
              0.7777777777777778,
              "#fb9f3a"
             ],
             [
              0.8888888888888888,
              "#fdca26"
             ],
             [
              1,
              "#f0f921"
             ]
            ],
            "type": "contour"
           }
          ],
          "contourcarpet": [
           {
            "colorbar": {
             "outlinewidth": 0,
             "ticks": ""
            },
            "type": "contourcarpet"
           }
          ],
          "heatmap": [
           {
            "colorbar": {
             "outlinewidth": 0,
             "ticks": ""
            },
            "colorscale": [
             [
              0,
              "#0d0887"
             ],
             [
              0.1111111111111111,
              "#46039f"
             ],
             [
              0.2222222222222222,
              "#7201a8"
             ],
             [
              0.3333333333333333,
              "#9c179e"
             ],
             [
              0.4444444444444444,
              "#bd3786"
             ],
             [
              0.5555555555555556,
              "#d8576b"
             ],
             [
              0.6666666666666666,
              "#ed7953"
             ],
             [
              0.7777777777777778,
              "#fb9f3a"
             ],
             [
              0.8888888888888888,
              "#fdca26"
             ],
             [
              1,
              "#f0f921"
             ]
            ],
            "type": "heatmap"
           }
          ],
          "histogram": [
           {
            "marker": {
             "pattern": {
              "fillmode": "overlay",
              "size": 10,
              "solidity": 0.2
             }
            },
            "type": "histogram"
           }
          ],
          "histogram2d": [
           {
            "colorbar": {
             "outlinewidth": 0,
             "ticks": ""
            },
            "colorscale": [
             [
              0,
              "#0d0887"
             ],
             [
              0.1111111111111111,
              "#46039f"
             ],
             [
              0.2222222222222222,
              "#7201a8"
             ],
             [
              0.3333333333333333,
              "#9c179e"
             ],
             [
              0.4444444444444444,
              "#bd3786"
             ],
             [
              0.5555555555555556,
              "#d8576b"
             ],
             [
              0.6666666666666666,
              "#ed7953"
             ],
             [
              0.7777777777777778,
              "#fb9f3a"
             ],
             [
              0.8888888888888888,
              "#fdca26"
             ],
             [
              1,
              "#f0f921"
             ]
            ],
            "type": "histogram2d"
           }
          ],
          "histogram2dcontour": [
           {
            "colorbar": {
             "outlinewidth": 0,
             "ticks": ""
            },
            "colorscale": [
             [
              0,
              "#0d0887"
             ],
             [
              0.1111111111111111,
              "#46039f"
             ],
             [
              0.2222222222222222,
              "#7201a8"
             ],
             [
              0.3333333333333333,
              "#9c179e"
             ],
             [
              0.4444444444444444,
              "#bd3786"
             ],
             [
              0.5555555555555556,
              "#d8576b"
             ],
             [
              0.6666666666666666,
              "#ed7953"
             ],
             [
              0.7777777777777778,
              "#fb9f3a"
             ],
             [
              0.8888888888888888,
              "#fdca26"
             ],
             [
              1,
              "#f0f921"
             ]
            ],
            "type": "histogram2dcontour"
           }
          ],
          "mesh3d": [
           {
            "colorbar": {
             "outlinewidth": 0,
             "ticks": ""
            },
            "type": "mesh3d"
           }
          ],
          "parcoords": [
           {
            "line": {
             "colorbar": {
              "outlinewidth": 0,
              "ticks": ""
             }
            },
            "type": "parcoords"
           }
          ],
          "pie": [
           {
            "automargin": true,
            "type": "pie"
           }
          ],
          "scatter": [
           {
            "fillpattern": {
             "fillmode": "overlay",
             "size": 10,
             "solidity": 0.2
            },
            "type": "scatter"
           }
          ],
          "scatter3d": [
           {
            "line": {
             "colorbar": {
              "outlinewidth": 0,
              "ticks": ""
             }
            },
            "marker": {
             "colorbar": {
              "outlinewidth": 0,
              "ticks": ""
             }
            },
            "type": "scatter3d"
           }
          ],
          "scattercarpet": [
           {
            "marker": {
             "colorbar": {
              "outlinewidth": 0,
              "ticks": ""
             }
            },
            "type": "scattercarpet"
           }
          ],
          "scattergeo": [
           {
            "marker": {
             "colorbar": {
              "outlinewidth": 0,
              "ticks": ""
             }
            },
            "type": "scattergeo"
           }
          ],
          "scattergl": [
           {
            "marker": {
             "colorbar": {
              "outlinewidth": 0,
              "ticks": ""
             }
            },
            "type": "scattergl"
           }
          ],
          "scattermap": [
           {
            "marker": {
             "colorbar": {
              "outlinewidth": 0,
              "ticks": ""
             }
            },
            "type": "scattermap"
           }
          ],
          "scattermapbox": [
           {
            "marker": {
             "colorbar": {
              "outlinewidth": 0,
              "ticks": ""
             }
            },
            "type": "scattermapbox"
           }
          ],
          "scatterpolar": [
           {
            "marker": {
             "colorbar": {
              "outlinewidth": 0,
              "ticks": ""
             }
            },
            "type": "scatterpolar"
           }
          ],
          "scatterpolargl": [
           {
            "marker": {
             "colorbar": {
              "outlinewidth": 0,
              "ticks": ""
             }
            },
            "type": "scatterpolargl"
           }
          ],
          "scatterternary": [
           {
            "marker": {
             "colorbar": {
              "outlinewidth": 0,
              "ticks": ""
             }
            },
            "type": "scatterternary"
           }
          ],
          "surface": [
           {
            "colorbar": {
             "outlinewidth": 0,
             "ticks": ""
            },
            "colorscale": [
             [
              0,
              "#0d0887"
             ],
             [
              0.1111111111111111,
              "#46039f"
             ],
             [
              0.2222222222222222,
              "#7201a8"
             ],
             [
              0.3333333333333333,
              "#9c179e"
             ],
             [
              0.4444444444444444,
              "#bd3786"
             ],
             [
              0.5555555555555556,
              "#d8576b"
             ],
             [
              0.6666666666666666,
              "#ed7953"
             ],
             [
              0.7777777777777778,
              "#fb9f3a"
             ],
             [
              0.8888888888888888,
              "#fdca26"
             ],
             [
              1,
              "#f0f921"
             ]
            ],
            "type": "surface"
           }
          ],
          "table": [
           {
            "cells": {
             "fill": {
              "color": "#EBF0F8"
             },
             "line": {
              "color": "white"
             }
            },
            "header": {
             "fill": {
              "color": "#C8D4E3"
             },
             "line": {
              "color": "white"
             }
            },
            "type": "table"
           }
          ]
         },
         "layout": {
          "annotationdefaults": {
           "arrowcolor": "#2a3f5f",
           "arrowhead": 0,
           "arrowwidth": 1
          },
          "autotypenumbers": "strict",
          "coloraxis": {
           "colorbar": {
            "outlinewidth": 0,
            "ticks": ""
           }
          },
          "colorscale": {
           "diverging": [
            [
             0,
             "#8e0152"
            ],
            [
             0.1,
             "#c51b7d"
            ],
            [
             0.2,
             "#de77ae"
            ],
            [
             0.3,
             "#f1b6da"
            ],
            [
             0.4,
             "#fde0ef"
            ],
            [
             0.5,
             "#f7f7f7"
            ],
            [
             0.6,
             "#e6f5d0"
            ],
            [
             0.7,
             "#b8e186"
            ],
            [
             0.8,
             "#7fbc41"
            ],
            [
             0.9,
             "#4d9221"
            ],
            [
             1,
             "#276419"
            ]
           ],
           "sequential": [
            [
             0,
             "#0d0887"
            ],
            [
             0.1111111111111111,
             "#46039f"
            ],
            [
             0.2222222222222222,
             "#7201a8"
            ],
            [
             0.3333333333333333,
             "#9c179e"
            ],
            [
             0.4444444444444444,
             "#bd3786"
            ],
            [
             0.5555555555555556,
             "#d8576b"
            ],
            [
             0.6666666666666666,
             "#ed7953"
            ],
            [
             0.7777777777777778,
             "#fb9f3a"
            ],
            [
             0.8888888888888888,
             "#fdca26"
            ],
            [
             1,
             "#f0f921"
            ]
           ],
           "sequentialminus": [
            [
             0,
             "#0d0887"
            ],
            [
             0.1111111111111111,
             "#46039f"
            ],
            [
             0.2222222222222222,
             "#7201a8"
            ],
            [
             0.3333333333333333,
             "#9c179e"
            ],
            [
             0.4444444444444444,
             "#bd3786"
            ],
            [
             0.5555555555555556,
             "#d8576b"
            ],
            [
             0.6666666666666666,
             "#ed7953"
            ],
            [
             0.7777777777777778,
             "#fb9f3a"
            ],
            [
             0.8888888888888888,
             "#fdca26"
            ],
            [
             1,
             "#f0f921"
            ]
           ]
          },
          "colorway": [
           "#636efa",
           "#EF553B",
           "#00cc96",
           "#ab63fa",
           "#FFA15A",
           "#19d3f3",
           "#FF6692",
           "#B6E880",
           "#FF97FF",
           "#FECB52"
          ],
          "font": {
           "color": "#2a3f5f"
          },
          "geo": {
           "bgcolor": "white",
           "lakecolor": "white",
           "landcolor": "#E5ECF6",
           "showlakes": true,
           "showland": true,
           "subunitcolor": "white"
          },
          "hoverlabel": {
           "align": "left"
          },
          "hovermode": "closest",
          "mapbox": {
           "style": "light"
          },
          "paper_bgcolor": "white",
          "plot_bgcolor": "#E5ECF6",
          "polar": {
           "angularaxis": {
            "gridcolor": "white",
            "linecolor": "white",
            "ticks": ""
           },
           "bgcolor": "#E5ECF6",
           "radialaxis": {
            "gridcolor": "white",
            "linecolor": "white",
            "ticks": ""
           }
          },
          "scene": {
           "xaxis": {
            "backgroundcolor": "#E5ECF6",
            "gridcolor": "white",
            "gridwidth": 2,
            "linecolor": "white",
            "showbackground": true,
            "ticks": "",
            "zerolinecolor": "white"
           },
           "yaxis": {
            "backgroundcolor": "#E5ECF6",
            "gridcolor": "white",
            "gridwidth": 2,
            "linecolor": "white",
            "showbackground": true,
            "ticks": "",
            "zerolinecolor": "white"
           },
           "zaxis": {
            "backgroundcolor": "#E5ECF6",
            "gridcolor": "white",
            "gridwidth": 2,
            "linecolor": "white",
            "showbackground": true,
            "ticks": "",
            "zerolinecolor": "white"
           }
          },
          "shapedefaults": {
           "line": {
            "color": "#2a3f5f"
           }
          },
          "ternary": {
           "aaxis": {
            "gridcolor": "white",
            "linecolor": "white",
            "ticks": ""
           },
           "baxis": {
            "gridcolor": "white",
            "linecolor": "white",
            "ticks": ""
           },
           "bgcolor": "#E5ECF6",
           "caxis": {
            "gridcolor": "white",
            "linecolor": "white",
            "ticks": ""
           }
          },
          "title": {
           "x": 0.05
          },
          "xaxis": {
           "automargin": true,
           "gridcolor": "white",
           "linecolor": "white",
           "ticks": "",
           "title": {
            "standoff": 15
           },
           "zerolinecolor": "white",
           "zerolinewidth": 2
          },
          "yaxis": {
           "automargin": true,
           "gridcolor": "white",
           "linecolor": "white",
           "ticks": "",
           "title": {
            "standoff": 15
           },
           "zerolinecolor": "white",
           "zerolinewidth": 2
          }
         }
        },
        "title": {
         "text": "Vergelijkende visualisaties per world_id"
        },
        "width": 1000,
        "xaxis": {
         "anchor": "y",
         "domain": [
          0,
          0.45
         ]
        },
        "xaxis2": {
         "anchor": "y2",
         "domain": [
          0.55,
          1
         ]
        },
        "xaxis3": {
         "anchor": "y3",
         "domain": [
          0,
          0.45
         ]
        },
        "xaxis4": {
         "anchor": "y4",
         "domain": [
          0.55,
          1
         ]
        },
        "yaxis": {
         "anchor": "x",
         "domain": [
          0.625,
          1
         ]
        },
        "yaxis2": {
         "anchor": "x2",
         "domain": [
          0.625,
          1
         ]
        },
        "yaxis3": {
         "anchor": "x3",
         "domain": [
          0,
          0.375
         ]
        },
        "yaxis4": {
         "anchor": "x4",
         "domain": [
          0,
          0.375
         ]
        }
       }
      }
     },
     "metadata": {},
     "output_type": "display_data"
    }
   ],
   "source": [
    "# Get unique group labels\n",
    "world_ids = sorted(df['world_id'].unique())\n",
    "\n",
    "# Prepare the combined figure\n",
    "fig = make_subplots(\n",
    "    rows=2, cols=2,\n",
    "    subplot_titles=[\n",
    "        \"Distributie aantal bedden in gebruik\",\n",
    "        \"Distributie aantal patiënten in wachtrij\",\n",
    "        \"Aantal patiënten behandeld over de looptijd\",\n",
    "        \"Aantal patiënten overleden over de looptijd\"\n",
    "    ]\n",
    ")\n",
    "\n",
    "# For each group, add their data to each subplot\n",
    "for world_id in world_ids:\n",
    "    filtered = df[df['world_id'] == world_id]\n",
    "\n",
    "    # Histogram: Beds in use\n",
    "    fig.add_trace(\n",
    "        go.Histogram(\n",
    "            x=filtered['Beds in use'],\n",
    "            name=f'Beds in use (world_id {world_id})',\n",
    "            opacity=0.3\n",
    "        ),\n",
    "        row=1, col=1\n",
    "    )\n",
    "    # Histogram: Patients waiting\n",
    "    fig.add_trace(\n",
    "        go.Histogram(\n",
    "            x=filtered['Patients waiting'],\n",
    "            name=f'Patients waiting (world_id {world_id})',\n",
    "            opacity=0.3\n",
    "        ),\n",
    "        row=1, col=2\n",
    "    )\n",
    "    # Line: Hours vs Patients treated\n",
    "    fig.add_trace(\n",
    "        go.Scatter(\n",
    "            x=filtered['hours'],\n",
    "            y=filtered['Patients treated'],\n",
    "            mode='lines+markers',\n",
    "            name=f'Patients treated (world_id {world_id})'\n",
    "        ),\n",
    "        row=2, col=1\n",
    "    )\n",
    "    # Line: Hours vs Patients died\n",
    "    fig.add_trace(\n",
    "        go.Scatter(\n",
    "            x=filtered['hours'],\n",
    "            y=filtered['Patients died'],\n",
    "            mode='lines+markers',\n",
    "            name=f'Patients died (world_id {world_id})'\n",
    "        ),\n",
    "        row=2, col=2\n",
    "    )\n",
    "\n",
    "# Optionally adjust histogram mode to 'overlay' for better visibility\n",
    "fig.update_layout(\n",
    "    height=700,\n",
    "    width=1000,\n",
    "    barmode='overlay',  # overlay histograms for comparison\n",
    "    showlegend=True,\n",
    "    title='Vergelijkende visualisaties per world_id'\n",
    ")\n",
    "\n",
    "fig.show()"
   ]
  },
  {
   "cell_type": "markdown",
   "id": "d6afe476",
   "metadata": {},
   "source": [
    "Omdat het bereik veel groter is, is de density plot nu wel een optie, vandaar dat ik het eerst weer met seaborn geprobeerd heb."
   ]
  },
  {
   "cell_type": "code",
   "execution_count": 73,
   "id": "e1490a21",
   "metadata": {},
   "outputs": [
    {
     "data": {
      "image/png": "[encoded data removed]",
      "text/plain": [
       "<Figure size 1000x600 with 1 Axes>"
      ]
     },
     "metadata": {},
     "output_type": "display_data"
    }
   ],
   "source": [
    "# Maak figuur aan\n",
    "plt.figure(figsize=(10, 6))\n",
    "\n",
    "# Maak een histogram aan\n",
    "sns.histplot(\n",
    "    data=df,\n",
    "    x='Beds in use',\n",
    "    hue='beds.slots',       # Dit zorgt voor een group_by voor elke beds.slots\n",
    "    alpha=0.3,\n",
    "    bins = np.arange(start=0, stop=df['Beds in use'].max()+1, step=10),   # Dit zorgt voor dezelfde bins voor elk histogram\n",
    "    stat='count',\n",
    "    common_bins=True,\n",
    "    palette='Set1',\n",
    "    kde=True,               # Dit zorgt voor de density plot\n",
    "    legend=True\n",
    ")\n",
    "\n",
    "plt.xlabel('Wachttijd')\n",
    "plt.ylabel('Aantal')\n",
    "plt.title('Histogram met KDE voor elke beds.slots')\n",
    "plt.tight_layout()\n",
    "plt.show()"
   ]
  },
  {
   "cell_type": "markdown",
   "id": "08c4ebd7",
   "metadata": {},
   "source": [
    "Ook weer even de plot van opdracht 1 hergebruiken."
   ]
  },
  {
   "cell_type": "code",
   "execution_count": 74,
   "id": "fac0f6c2",
   "metadata": {},
   "outputs": [
    {
     "data": {
      "application/vnd.plotly.v1+json": {
       "config": {
        "plotlyServerURL": "https://plot.ly"
       },
       "data": [
        {
         "marker": {
          "color": "#636EFA"
         },
         "name": "beds.slots 115",
         "opacity": 0.3,
         "showlegend": true,
         "type": "histogram",
         "x": {
          "bdata": "AAAAAAAAGEAAAAAAAAAkQAAAAAAAADFAAAAAAAAAM0AAAAAAAAA6QAAAAAAAgEBAAAAAAACAQkAAAAAAAABFQAAAAAAAAEhAAAAAAACASkAAAAAAAABOQAAAAAAAgFBAAAAAAACAUUAAAAAAAIBSQAAAAAAAQFNAAAAAAADAU0AAAAAAAABUQAAAAAAAAFZAAAAAAACAV0AAAAAAAEBYQAAAAAAAAFpAAAAAAAAAW0AAAAAAAABbQAAAAAAAAFxAAAAAAADAW0AAAAAAAEBcQAAAAAAAAFxAAAAAAAAAXEAAAAAAAMBbQAAAAAAAQFxAAAAAAABAXEAAAAAAAABcQAAAAAAAgFxAAAAAAACAW0AAAAAAAEBbQAAAAAAAAFxAAAAAAABAXEAAAAAAAABcQAAAAAAAAFxAAAAAAADAW0AAAAAAAIBbQAAAAAAAgFtAAAAAAACAW0AAAAAAAMBaQAAAAAAAgFxAAAAAAABAXEAAAAAAAABcQAAAAAAAAFxAAAAAAABAW0AAAAAAAIBbQAAAAAAAgFxAAAAAAADAW0AAAAAAAEBcQAAAAAAAAFxAAAAAAABAXEAAAAAAAABcQAAAAAAAwFxAAAAAAACAW0AAAAAAAEBcQAAAAAAAwFtAAAAAAAAAXEAAAAAAAEBcQAAAAAAAQFxAAAAAAADAW0AAAAAAAMBcQAAAAAAAwFtAAAAAAAAAXEAAAAAAAEBcQAAAAAAAQFxAAAAAAAAAXEAAAAAAAMBbQAAAAAAAAFtAAAAAAADAW0AAAAAAAABcQAAAAAAAAFxAAAAAAABAW0AAAAAAAMBbQAAAAAAAgFxAAAAAAABAXEAAAAAAAIBcQAAAAAAAQFxAAAAAAACAXEAAAAAAAABcQAAAAAAAgFxAAAAAAADAW0AAAAAAAABcQAAAAAAAgFxAAAAAAABAXEAAAAAAAEBcQAAAAAAAgFxAAAAAAACAXEAAAAAAAIBcQAAAAAAAgFxAAAAAAADAXEAAAAAAAIBbQAAAAAAAgFxAAAAAAACAXEAAAAAAAEBcQAAAAAAAgFxAAAAAAACAXEAAAAAAAIBcQAAAAAAAgFxAAAAAAADAXEAAAAAAAEBcQAAAAAAAgFxAAAAAAABAXEAAAAAAAIBcQAAAAAAAwFxAAAAAAACAXEAAAAAAAEBcQAAAAAAAgFxAAAAAAADAXEAAAAAAAIBcQAAAAAAAgFxAAAAAAACAXEAAAAAAAIBcQAAAAAAAgFxAAAAAAACAXEAAAAAAAMBcQAAAAAAAAFxAAAAAAACAXEAAAAAAAIBcQAAAAAAAgFxAAAAAAADAXEAAAAAAAIBcQAAAAAAAgFxAAAAAAABAXEAAAAAAAEBcQAAAAAAAwFtAAAAAAACAW0AAAAAAAEBbQAAAAAAAAFtAAAAAAAAAW0AAAAAAAMBaQAAAAAAAQFpAAAAAAAAAWkAAAAAAAABaQAAAAAAAwFlAAAAAAACAWUAAAAAAAEBZQAAAAAAAAFlAAAAAAADAWEAAAAAAAIBYQAAAAAAAgFhAAAAAAADAV0AAAAAAAIBXQAAAAAAAQFdAAAAAAAAAV0AAAAAAAABXQAAAAAAAwFZAAAAAAADAVkA=",
          "dtype": "f8"
         },
         "xbins": {
          "end": 190,
          "size": 10,
          "start": 0
         }
        },
        {
         "line": {
          "color": "#636EFA",
          "width": 2
         },
         "marker": {
          "size": 6
         },
         "mode": "lines+markers",
         "name": "Line beds.slots 115",
         "showlegend": false,
         "type": "scatter",
         "x": {
          "bdata": "AAAAAAAAFEAAAAAAAAAuQAAAAAAAADlAAAAAAACAQUAAAAAAAIBGQAAAAAAAgEtAAAAAAABAUEAAAAAAAMBSQAAAAAAAQFVAAAAAAADAV0AAAAAAAEBaQAAAAAAAwFxAAAAAAABAX0AAAAAAAOBgQAAAAAAAIGJAAAAAAABgY0AAAAAAAKBkQAAAAAAA4GVAAAAAAAAgZ0A=",
          "dtype": "f8"
         },
         "y": {
          "bdata": "AQMBAgIBAgQCDBNmAAAAAAAAAA==",
          "dtype": "i1"
         }
        },
        {
         "marker": {
          "color": "#EF553B"
         },
         "name": "beds.slots 140",
         "opacity": 0.3,
         "showlegend": true,
         "type": "histogram",
         "x": {
          "bdata": "AAAAAAAAGEAAAAAAAAAkQAAAAAAAADFAAAAAAAAAM0AAAAAAAAA6QAAAAAAAgEBAAAAAAACAQkAAAAAAAABFQAAAAAAAAEhAAAAAAACASkAAAAAAAABOQAAAAAAAgFBAAAAAAACAUUAAAAAAAIBSQAAAAAAAQFNAAAAAAADAU0AAAAAAAABUQAAAAAAAAFZAAAAAAACAV0AAAAAAAEBYQAAAAAAAAFpAAAAAAAAAW0AAAAAAAABbQAAAAAAAAFxAAAAAAABAXEAAAAAAAIBdQAAAAAAAwF1AAAAAAADAXkAAAAAAAABgQAAAAAAAIGBAAAAAAACgYEAAAAAAAOBgQAAAAAAA4GBAAAAAAADgYEAAAAAAAKBgQAAAAAAA4GBAAAAAAABAYUAAAAAAACBhQAAAAAAAIGFAAAAAAAAAYUAAAAAAAOBgQAAAAAAA4GBAAAAAAADAYEAAAAAAAIBgQAAAAAAAYGFAAAAAAADgYEAAAAAAAEBhQAAAAAAAAGFAAAAAAAAAYUAAAAAAAOBgQAAAAAAAwGBAAAAAAADgYEAAAAAAACBhQAAAAAAAAGFAAAAAAACgYEAAAAAAAEBgQAAAAAAA4GBAAAAAAAAAYUAAAAAAACBhQAAAAAAAIGFAAAAAAACAYUAAAAAAAOBgQAAAAAAA4GBAAAAAAAAgYUAAAAAAAGBhQAAAAAAAAGFAAAAAAABAYUAAAAAAACBhQAAAAAAAAGFAAAAAAACAYEAAAAAAAKBgQAAAAAAAIGFAAAAAAADgYEAAAAAAAOBgQAAAAAAAAGFAAAAAAACAYEAAAAAAAIBhQAAAAAAAQGFAAAAAAADgYEAAAAAAAABhQAAAAAAAIGFAAAAAAACgYEAAAAAAAEBhQAAAAAAAQGFAAAAAAADAYEAAAAAAAGBhQAAAAAAAwGBAAAAAAADgYEAAAAAAAEBhQAAAAAAAgGFAAAAAAAAAYUAAAAAAAEBhQAAAAAAAIGFAAAAAAADAYEAAAAAAAABhQAAAAAAAIGFAAAAAAAAgYUAAAAAAAMBgQAAAAAAAQGFAAAAAAABAYUAAAAAAAOBgQAAAAAAAQGFAAAAAAAAAYUAAAAAAAEBhQAAAAAAAQGFAAAAAAABAYUAAAAAAACBhQAAAAAAAAGFAAAAAAAAAYUAAAAAAACBhQAAAAAAAgGFAAAAAAABAYUAAAAAAACBhQAAAAAAAYGFAAAAAAAAAYUAAAAAAAGBhQAAAAAAAAGFAAAAAAABAYUAAAAAAACBhQAAAAAAAYGFAAAAAAABgYUAAAAAAAGBhQAAAAAAAQGFAAAAAAABAYUAAAAAAACBhQAAAAAAA4GBAAAAAAADgYEAAAAAAAMBgQAAAAAAAgGBAAAAAAABgYEAAAAAAAEBgQAAAAAAAAGBAAAAAAACAX0AAAAAAAIBfQAAAAAAAQF9AAAAAAABAX0AAAAAAAABfQAAAAAAAwF5AAAAAAACAXkAAAAAAAABeQAAAAAAAwF1AAAAAAABAXUAAAAAAAABdQAAAAAAAgFxAAAAAAACAXEAAAAAAAEBcQAAAAAAAAFxAAAAAAACAW0AAAAAAAIBbQA==",
          "dtype": "f8"
         },
         "xbins": {
          "end": 190,
          "size": 10,
          "start": 0
         }
        },
        {
         "line": {
          "color": "#EF553B",
          "width": 2
         },
         "marker": {
          "size": 6
         },
         "mode": "lines+markers",
         "name": "Line beds.slots 140",
         "showlegend": false,
         "type": "scatter",
         "x": {
          "bdata": "AAAAAAAAFEAAAAAAAAAuQAAAAAAAADlAAAAAAACAQUAAAAAAAIBGQAAAAAAAgEtAAAAAAABAUEAAAAAAAMBSQAAAAAAAQFVAAAAAAADAV0AAAAAAAEBaQAAAAAAAwFxAAAAAAABAX0AAAAAAAOBgQAAAAAAAIGJAAAAAAABgY0AAAAAAAKBkQAAAAAAA4GVAAAAAAAAgZ0A=",
          "dtype": "f8"
         },
         "y": {
          "bdata": "AQMBAgIBAgQCAgMNDGEEAAAAAA==",
          "dtype": "i1"
         }
        },
        {
         "marker": {
          "color": "#00CC96"
         },
         "name": "beds.slots 165",
         "opacity": 0.3,
         "showlegend": true,
         "type": "histogram",
         "x": {
          "bdata": "AAAAAAAAGEAAAAAAAAAkQAAAAAAAADFAAAAAAAAAM0AAAAAAAAA6QAAAAAAAgEBAAAAAAACAQkAAAAAAAABFQAAAAAAAAEhAAAAAAACASkAAAAAAAABOQAAAAAAAgFBAAAAAAACAUUAAAAAAAIBSQAAAAAAAQFNAAAAAAADAU0AAAAAAAABUQAAAAAAAAFZAAAAAAACAV0AAAAAAAEBYQAAAAAAAAFpAAAAAAAAAW0AAAAAAAABbQAAAAAAAAFxAAAAAAABAXEAAAAAAAIBdQAAAAAAAwF1AAAAAAADAXkAAAAAAAABgQAAAAAAAIGBAAAAAAACgYEAAAAAAAOBgQAAAAAAA4GBAAAAAAAAAYUAAAAAAAKBgQAAAAAAA4GBAAAAAAADgYUAAAAAAAEBiQAAAAAAAwGJAAAAAAADgYkAAAAAAACBjQAAAAAAA4GJAAAAAAACgYkAAAAAAAABiQAAAAAAAgGJAAAAAAACAYkAAAAAAAIBiQAAAAAAAoGJAAAAAAADAYkAAAAAAAMBiQAAAAAAA4GJAAAAAAACgYkAAAAAAAEBjQAAAAAAAYGNAAAAAAAAAY0AAAAAAAMBiQAAAAAAAoGJAAAAAAAAAY0AAAAAAAGBjQAAAAAAAwGNAAAAAAAAAZEAAAAAAAIBjQAAAAAAAIGRAAAAAAABgZEAAAAAAAEBkQAAAAAAAQGRAAAAAAACAZEAAAAAAAMBjQAAAAAAAQGRAAAAAAADAY0AAAAAAAKBjQAAAAAAAwGNAAAAAAADgY0AAAAAAAABkQAAAAAAAIGRAAAAAAABAZEAAAAAAAIBkQAAAAAAAwGNAAAAAAADgY0AAAAAAAEBkQAAAAAAAwGNAAAAAAADgY0AAAAAAAMBjQAAAAAAAgGRAAAAAAABgY0AAAAAAAMBjQAAAAAAA4GNAAAAAAAAAZEAAAAAAAGBkQAAAAAAAQGRAAAAAAAAgZEAAAAAAACBkQAAAAAAAoGNAAAAAAADAY0AAAAAAACBkQAAAAAAAYGRAAAAAAAAAY0AAAAAAAEBkQAAAAAAAwGNAAAAAAABgZEAAAAAAAIBjQAAAAAAAQGRAAAAAAAAAZEAAAAAAAGBkQAAAAAAAIGRAAAAAAAAgZEAAAAAAAGBkQAAAAAAA4GNAAAAAAABAZEAAAAAAAIBjQAAAAAAAQGRAAAAAAAAgZEAAAAAAAOBjQAAAAAAAAGRAAAAAAAAAZEAAAAAAAABkQAAAAAAAAGRAAAAAAADgY0AAAAAAACBkQAAAAAAAAGRAAAAAAADAY0AAAAAAAMBjQAAAAAAAAGNAAAAAAAAAYkAAAAAAAGBhQAAAAAAAoGBAAAAAAAAAYEAAAAAAAMBeQAAAAAAAQF5AAAAAAADAXUAAAAAAAEBbQAAAAAAAAFtAAAAAAABAWUAAAAAAAMBXQAAAAAAAgFZAAAAAAADAVUAAAAAAAABVQAAAAAAAgFRAAAAAAADAU0AAAAAAAIBSQAAAAAAAwFFAAAAAAACAUEAAAAAAAABNQAAAAAAAgEtAAAAAAACASkAAAAAAAIBJQAAAAAAAgEdAAAAAAAAAR0AAAAAAAIBGQAAAAAAAAEZAAAAAAAAARkAAAAAAAABGQAAAAAAAAEZAAAAAAACARUAAAAAAAIBFQAAAAAAAAEVAAAAAAACAREAAAAAAAIBEQAAAAAAAgERAAAAAAACAREAAAAAAAIBEQAAAAAAAgERAAAAAAACAREAAAAAAAIBEQAAAAAAAgERAAAAAAACAREAAAAAAAABEQAAAAAAAAERAAAAAAACAQ0AAAAAAAIBDQA==",
          "dtype": "f8"
         },
         "xbins": {
          "end": 190,
          "size": 10,
          "start": 0
         }
        },
        {
         "line": {
          "color": "#00CC96",
          "width": 2
         },
         "marker": {
          "size": 6
         },
         "mode": "lines+markers",
         "name": "Line beds.slots 165",
         "showlegend": false,
         "type": "scatter",
         "x": {
          "bdata": "AAAAAAAAFEAAAAAAAAAuQAAAAAAAADlAAAAAAACAQUAAAAAAAIBGQAAAAAAAgEtAAAAAAABAUEAAAAAAAMBSQAAAAAAAQFVAAAAAAADAV0AAAAAAAEBaQAAAAAAAwFxAAAAAAABAX0AAAAAAAOBgQAAAAAAAIGJAAAAAAABgY0AAAAAAAKBkQAAAAAAA4GVAAAAAAAAgZ0A=",
          "dtype": "f8"
         },
         "y": {
          "bdata": "AQMBBBgFAwcFBAYFBggLKCUAAA==",
          "dtype": "i1"
         }
        },
        {
         "marker": {
          "color": "#AB63FA"
         },
         "name": "beds.slots 190",
         "opacity": 0.3,
         "showlegend": true,
         "type": "histogram",
         "x": {
          "bdata": "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",
          "dtype": "f8"
         },
         "xbins": {
          "end": 190,
          "size": 10,
          "start": 0
         }
        },
        {
         "line": {
          "color": "#AB63FA",
          "width": 2
         },
         "marker": {
          "size": 6
         },
         "mode": "lines+markers",
         "name": "Line beds.slots 190",
         "showlegend": false,
         "type": "scatter",
         "x": {
          "bdata": "AAAAAAAAFEAAAAAAAAAuQAAAAAAAADlAAAAAAACAQUAAAAAAAIBGQAAAAAAAgEtAAAAAAABAUEAAAAAAAMBSQAAAAAAAQFVAAAAAAADAV0AAAAAAAEBaQAAAAAAAwFxAAAAAAABAX0AAAAAAAOBgQAAAAAAAIGJAAAAAAABgY0AAAAAAAKBkQAAAAAAA4GVAAAAAAAAgZ0A=",
          "dtype": "f8"
         },
         "y": {
          "bdata": "Gw8HBgQCAwYEBQQFBQgMEAUOKw==",
          "dtype": "i1"
         }
        },
        {
         "marker": {
          "color": "#FFA15A"
         },
         "name": "beds.slots 215",
         "opacity": 0.3,
         "showlegend": true,
         "type": "histogram",
         "x": {
          "bdata": "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",
          "dtype": "f8"
         },
         "xbins": {
          "end": 190,
          "size": 10,
          "start": 0
         }
        },
        {
         "line": {
          "color": "#FFA15A",
          "width": 2
         },
         "marker": {
          "size": 6
         },
         "mode": "lines+markers",
         "name": "Line beds.slots 215",
         "showlegend": false,
         "type": "scatter",
         "x": {
          "bdata": "AAAAAAAAFEAAAAAAAAAuQAAAAAAAADlAAAAAAACAQUAAAAAAAIBGQAAAAAAAgEtAAAAAAABAUEAAAAAAAMBSQAAAAAAAQFVAAAAAAADAV0AAAAAAAEBaQAAAAAAAwFxAAAAAAABAX0AAAAAAAOBgQAAAAAAAIGJAAAAAAABgY0AAAAAAAKBkQAAAAAAA4GVAAAAAAAAgZ0A=",
          "dtype": "f8"
         },
         "y": {
          "bdata": "Gg8HBgQDAwYEBAUFBQcMEAYNKA==",
          "dtype": "i1"
         }
        }
       ],
       "layout": {
        "barmode": "overlay",
        "template": {
         "data": {
          "bar": [
           {
            "error_x": {
             "color": "#2a3f5f"
            },
            "error_y": {
             "color": "#2a3f5f"
            },
            "marker": {
             "line": {
              "color": "#E5ECF6",
              "width": 0.5
             },
             "pattern": {
              "fillmode": "overlay",
              "size": 10,
              "solidity": 0.2
             }
            },
            "type": "bar"
           }
          ],
          "barpolar": [
           {
            "marker": {
             "line": {
              "color": "#E5ECF6",
              "width": 0.5
             },
             "pattern": {
              "fillmode": "overlay",
              "size": 10,
              "solidity": 0.2
             }
            },
            "type": "barpolar"
           }
          ],
          "carpet": [
           {
            "aaxis": {
             "endlinecolor": "#2a3f5f",
             "gridcolor": "white",
             "linecolor": "white",
             "minorgridcolor": "white",
             "startlinecolor": "#2a3f5f"
            },
            "baxis": {
             "endlinecolor": "#2a3f5f",
             "gridcolor": "white",
             "linecolor": "white",
             "minorgridcolor": "white",
             "startlinecolor": "#2a3f5f"
            },
            "type": "carpet"
           }
          ],
          "choropleth": [
           {
            "colorbar": {
             "outlinewidth": 0,
             "ticks": ""
            },
            "type": "choropleth"
           }
          ],
          "contour": [
           {
            "colorbar": {
             "outlinewidth": 0,
             "ticks": ""
            },
            "colorscale": [
             [
              0,
              "#0d0887"
             ],
             [
              0.1111111111111111,
              "#46039f"
             ],
             [
              0.2222222222222222,
              "#7201a8"
             ],
             [
              0.3333333333333333,
              "#9c179e"
             ],
             [
              0.4444444444444444,
              "#bd3786"
             ],
             [
              0.5555555555555556,
              "#d8576b"
             ],
             [
              0.6666666666666666,
              "#ed7953"
             ],
             [
              0.7777777777777778,
              "#fb9f3a"
             ],
             [
              0.8888888888888888,
              "#fdca26"
             ],
             [
              1,
              "#f0f921"
             ]
            ],
            "type": "contour"
           }
          ],
          "contourcarpet": [
           {
            "colorbar": {
             "outlinewidth": 0,
             "ticks": ""
            },
            "type": "contourcarpet"
           }
          ],
          "heatmap": [
           {
            "colorbar": {
             "outlinewidth": 0,
             "ticks": ""
            },
            "colorscale": [
             [
              0,
              "#0d0887"
             ],
             [
              0.1111111111111111,
              "#46039f"
             ],
             [
              0.2222222222222222,
              "#7201a8"
             ],
             [
              0.3333333333333333,
              "#9c179e"
             ],
             [
              0.4444444444444444,
              "#bd3786"
             ],
             [
              0.5555555555555556,
              "#d8576b"
             ],
             [
              0.6666666666666666,
              "#ed7953"
             ],
             [
              0.7777777777777778,
              "#fb9f3a"
             ],
             [
              0.8888888888888888,
              "#fdca26"
             ],
             [
              1,
              "#f0f921"
             ]
            ],
            "type": "heatmap"
           }
          ],
          "histogram": [
           {
            "marker": {
             "pattern": {
              "fillmode": "overlay",
              "size": 10,
              "solidity": 0.2
             }
            },
            "type": "histogram"
           }
          ],
          "histogram2d": [
           {
            "colorbar": {
             "outlinewidth": 0,
             "ticks": ""
            },
            "colorscale": [
             [
              0,
              "#0d0887"
             ],
             [
              0.1111111111111111,
              "#46039f"
             ],
             [
              0.2222222222222222,
              "#7201a8"
             ],
             [
              0.3333333333333333,
              "#9c179e"
             ],
             [
              0.4444444444444444,
              "#bd3786"
             ],
             [
              0.5555555555555556,
              "#d8576b"
             ],
             [
              0.6666666666666666,
              "#ed7953"
             ],
             [
              0.7777777777777778,
              "#fb9f3a"
             ],
             [
              0.8888888888888888,
              "#fdca26"
             ],
             [
              1,
              "#f0f921"
             ]
            ],
            "type": "histogram2d"
           }
          ],
          "histogram2dcontour": [
           {
            "colorbar": {
             "outlinewidth": 0,
             "ticks": ""
            },
            "colorscale": [
             [
              0,
              "#0d0887"
             ],
             [
              0.1111111111111111,
              "#46039f"
             ],
             [
              0.2222222222222222,
              "#7201a8"
             ],
             [
              0.3333333333333333,
              "#9c179e"
             ],
             [
              0.4444444444444444,
              "#bd3786"
             ],
             [
              0.5555555555555556,
              "#d8576b"
             ],
             [
              0.6666666666666666,
              "#ed7953"
             ],
             [
              0.7777777777777778,
              "#fb9f3a"
             ],
             [
              0.8888888888888888,
              "#fdca26"
             ],
             [
              1,
              "#f0f921"
             ]
            ],
            "type": "histogram2dcontour"
           }
          ],
          "mesh3d": [
           {
            "colorbar": {
             "outlinewidth": 0,
             "ticks": ""
            },
            "type": "mesh3d"
           }
          ],
          "parcoords": [
           {
            "line": {
             "colorbar": {
              "outlinewidth": 0,
              "ticks": ""
             }
            },
            "type": "parcoords"
           }
          ],
          "pie": [
           {
            "automargin": true,
            "type": "pie"
           }
          ],
          "scatter": [
           {
            "fillpattern": {
             "fillmode": "overlay",
             "size": 10,
             "solidity": 0.2
            },
            "type": "scatter"
           }
          ],
          "scatter3d": [
           {
            "line": {
             "colorbar": {
              "outlinewidth": 0,
              "ticks": ""
             }
            },
            "marker": {
             "colorbar": {
              "outlinewidth": 0,
              "ticks": ""
             }
            },
            "type": "scatter3d"
           }
          ],
          "scattercarpet": [
           {
            "marker": {
             "colorbar": {
              "outlinewidth": 0,
              "ticks": ""
             }
            },
            "type": "scattercarpet"
           }
          ],
          "scattergeo": [
           {
            "marker": {
             "colorbar": {
              "outlinewidth": 0,
              "ticks": ""
             }
            },
            "type": "scattergeo"
           }
          ],
          "scattergl": [
           {
            "marker": {
             "colorbar": {
              "outlinewidth": 0,
              "ticks": ""
             }
            },
            "type": "scattergl"
           }
          ],
          "scattermap": [
           {
            "marker": {
             "colorbar": {
              "outlinewidth": 0,
              "ticks": ""
             }
            },
            "type": "scattermap"
           }
          ],
          "scattermapbox": [
           {
            "marker": {
             "colorbar": {
              "outlinewidth": 0,
              "ticks": ""
             }
            },
            "type": "scattermapbox"
           }
          ],
          "scatterpolar": [
           {
            "marker": {
             "colorbar": {
              "outlinewidth": 0,
              "ticks": ""
             }
            },
            "type": "scatterpolar"
           }
          ],
          "scatterpolargl": [
           {
            "marker": {
             "colorbar": {
              "outlinewidth": 0,
              "ticks": ""
             }
            },
            "type": "scatterpolargl"
           }
          ],
          "scatterternary": [
           {
            "marker": {
             "colorbar": {
              "outlinewidth": 0,
              "ticks": ""
             }
            },
            "type": "scatterternary"
           }
          ],
          "surface": [
           {
            "colorbar": {
             "outlinewidth": 0,
             "ticks": ""
            },
            "colorscale": [
             [
              0,
              "#0d0887"
             ],
             [
              0.1111111111111111,
              "#46039f"
             ],
             [
              0.2222222222222222,
              "#7201a8"
             ],
             [
              0.3333333333333333,
              "#9c179e"
             ],
             [
              0.4444444444444444,
              "#bd3786"
             ],
             [
              0.5555555555555556,
              "#d8576b"
             ],
             [
              0.6666666666666666,
              "#ed7953"
             ],
             [
              0.7777777777777778,
              "#fb9f3a"
             ],
             [
              0.8888888888888888,
              "#fdca26"
             ],
             [
              1,
              "#f0f921"
             ]
            ],
            "type": "surface"
           }
          ],
          "table": [
           {
            "cells": {
             "fill": {
              "color": "#EBF0F8"
             },
             "line": {
              "color": "white"
             }
            },
            "header": {
             "fill": {
              "color": "#C8D4E3"
             },
             "line": {
              "color": "white"
             }
            },
            "type": "table"
           }
          ]
         },
         "layout": {
          "annotationdefaults": {
           "arrowcolor": "#2a3f5f",
           "arrowhead": 0,
           "arrowwidth": 1
          },
          "autotypenumbers": "strict",
          "coloraxis": {
           "colorbar": {
            "outlinewidth": 0,
            "ticks": ""
           }
          },
          "colorscale": {
           "diverging": [
            [
             0,
             "#8e0152"
            ],
            [
             0.1,
             "#c51b7d"
            ],
            [
             0.2,
             "#de77ae"
            ],
            [
             0.3,
             "#f1b6da"
            ],
            [
             0.4,
             "#fde0ef"
            ],
            [
             0.5,
             "#f7f7f7"
            ],
            [
             0.6,
             "#e6f5d0"
            ],
            [
             0.7,
             "#b8e186"
            ],
            [
             0.8,
             "#7fbc41"
            ],
            [
             0.9,
             "#4d9221"
            ],
            [
             1,
             "#276419"
            ]
           ],
           "sequential": [
            [
             0,
             "#0d0887"
            ],
            [
             0.1111111111111111,
             "#46039f"
            ],
            [
             0.2222222222222222,
             "#7201a8"
            ],
            [
             0.3333333333333333,
             "#9c179e"
            ],
            [
             0.4444444444444444,
             "#bd3786"
            ],
            [
             0.5555555555555556,
             "#d8576b"
            ],
            [
             0.6666666666666666,
             "#ed7953"
            ],
            [
             0.7777777777777778,
             "#fb9f3a"
            ],
            [
             0.8888888888888888,
             "#fdca26"
            ],
            [
             1,
             "#f0f921"
            ]
           ],
           "sequentialminus": [
            [
             0,
             "#0d0887"
            ],
            [
             0.1111111111111111,
             "#46039f"
            ],
            [
             0.2222222222222222,
             "#7201a8"
            ],
            [
             0.3333333333333333,
             "#9c179e"
            ],
            [
             0.4444444444444444,
             "#bd3786"
            ],
            [
             0.5555555555555556,
             "#d8576b"
            ],
            [
             0.6666666666666666,
             "#ed7953"
            ],
            [
             0.7777777777777778,
             "#fb9f3a"
            ],
            [
             0.8888888888888888,
             "#fdca26"
            ],
            [
             1,
             "#f0f921"
            ]
           ]
          },
          "colorway": [
           "#636efa",
           "#EF553B",
           "#00cc96",
           "#ab63fa",
           "#FFA15A",
           "#19d3f3",
           "#FF6692",
           "#B6E880",
           "#FF97FF",
           "#FECB52"
          ],
          "font": {
           "color": "#2a3f5f"
          },
          "geo": {
           "bgcolor": "white",
           "lakecolor": "white",
           "landcolor": "#E5ECF6",
           "showlakes": true,
           "showland": true,
           "subunitcolor": "white"
          },
          "hoverlabel": {
           "align": "left"
          },
          "hovermode": "closest",
          "mapbox": {
           "style": "light"
          },
          "paper_bgcolor": "white",
          "plot_bgcolor": "#E5ECF6",
          "polar": {
           "angularaxis": {
            "gridcolor": "white",
            "linecolor": "white",
            "ticks": ""
           },
           "bgcolor": "#E5ECF6",
           "radialaxis": {
            "gridcolor": "white",
            "linecolor": "white",
            "ticks": ""
           }
          },
          "scene": {
           "xaxis": {
            "backgroundcolor": "#E5ECF6",
            "gridcolor": "white",
            "gridwidth": 2,
            "linecolor": "white",
            "showbackground": true,
            "ticks": "",
            "zerolinecolor": "white"
           },
           "yaxis": {
            "backgroundcolor": "#E5ECF6",
            "gridcolor": "white",
            "gridwidth": 2,
            "linecolor": "white",
            "showbackground": true,
            "ticks": "",
            "zerolinecolor": "white"
           },
           "zaxis": {
            "backgroundcolor": "#E5ECF6",
            "gridcolor": "white",
            "gridwidth": 2,
            "linecolor": "white",
            "showbackground": true,
            "ticks": "",
            "zerolinecolor": "white"
           }
          },
          "shapedefaults": {
           "line": {
            "color": "#2a3f5f"
           }
          },
          "ternary": {
           "aaxis": {
            "gridcolor": "white",
            "linecolor": "white",
            "ticks": ""
           },
           "baxis": {
            "gridcolor": "white",
            "linecolor": "white",
            "ticks": ""
           },
           "bgcolor": "#E5ECF6",
           "caxis": {
            "gridcolor": "white",
            "linecolor": "white",
            "ticks": ""
           }
          },
          "title": {
           "x": 0.05
          },
          "xaxis": {
           "automargin": true,
           "gridcolor": "white",
           "linecolor": "white",
           "ticks": "",
           "title": {
            "standoff": 15
           },
           "zerolinecolor": "white",
           "zerolinewidth": 2
          },
          "yaxis": {
           "automargin": true,
           "gridcolor": "white",
           "linecolor": "white",
           "ticks": "",
           "title": {
            "standoff": 15
           },
           "zerolinecolor": "white",
           "zerolinewidth": 2
          }
         }
        },
        "title": {
         "text": "Histogram van wachttijd per run met verbindingslijnen"
        },
        "xaxis": {
         "title": {
          "text": "Wachttijd"
         }
        },
        "yaxis": {
         "title": {
          "text": "Aantal"
         }
        }
       }
      }
     },
     "metadata": {},
     "output_type": "display_data"
    }
   ],
   "source": [
    "# Maak figuur aan\n",
    "fig = go.Figure()\n",
    "\n",
    "# Data grouperen op world_id\n",
    "grouped = df.groupby('beds.slots')\n",
    "\n",
    "# Parameters voor de plot\n",
    "colors = pc.qualitative.Plotly * ((len(grouped) // len(pc.qualitative.Plotly)) + 1)\n",
    "\n",
    "# Bins maken van 1 tot en met de maximale tijd\n",
    "# Merk op: ik heb nu bins van 10 gemaakt omdat dat voor meer overzicht zorgt\n",
    "bins = np.arange(start=0, stop=df['Beds in use'].max()+1, step=10)\n",
    "bin_width = bins[1] - bins[0]\n",
    "bin_centers = np.array(bins[:-1]) + bin_width / 2\n",
    "\n",
    "# Loop over alle groepen heen\n",
    "for i, (name, group) in enumerate(grouped):\n",
    "    data = group['Beds in use']\n",
    "    color = colors[i]\n",
    "    \n",
    "    # Maak een histogram\n",
    "    fig.add_trace(go.Histogram(\n",
    "        x=data,\n",
    "        xbins=dict(start=bins[0], end=bins[-1], size=bin_width),\n",
    "        name=f'beds.slots {name}',\n",
    "        opacity=0.3,\n",
    "        marker_color=color,\n",
    "        showlegend=True\n",
    "    ))\n",
    "    \n",
    "    # Voor elke bin count tellen per bin \n",
    "    counts, _ = np.histogram(data, bins=bins)\n",
    "    \n",
    "    # Lijn toevoegen\n",
    "    fig.add_trace(go.Scatter(\n",
    "        x=bin_centers,\n",
    "        y=counts,\n",
    "        mode='lines+markers',\n",
    "        name=f'Line beds.slots {name}',\n",
    "        line=dict(color=color, width=2),\n",
    "        marker=dict(size=6),\n",
    "        showlegend=False  \n",
    "    ))\n",
    "\n",
    "fig.update_layout(\n",
    "    barmode='overlay',\n",
    "    title='Histogram van wachttijd per run met verbindingslijnen',\n",
    "    xaxis_title='Wachttijd',\n",
    "    yaxis_title='Aantal',\n",
    ")\n",
    "fig.show()"
   ]
  },
  {
   "cell_type": "markdown",
   "id": "0ca6a1ef",
   "metadata": {},
   "source": [
    "### Deel 3 - Analyse experiment\n",
    "\n",
    "Bij het derde deel gaan we de stap nemen naar de volgende datalaag en gaan we het gehele experiment analyseren. Dat resulteert in dataframe waarmee we alle KPI's van elk scenario kunnen bepalen.\n",
    "\n",
    "De KPI's die we willen visualiseren zijn de volgende:\n",
    "- Aantal doden\n",
    "- Gemiddelde en maximale wachttijd van patiënten\n",
    "- Gemiddelde en maximale aantal mensen in de wachtrij\n",
    "- Gemiddelde en maximale bezetting van de bedden\n",
    "\n",
    "**Opdracht 3.1.** Data combineren en aggregeren\n",
    "\n",
    "Op basis van de statistieken van alle entiteiten uit deel 1 en de statistieken van het scenario uit deel 2, kun je alle data verzamelen om scenario' onderling te vergelijken.  \n",
    "\n",
    "Je zult twee acties moeten uitvoeren:\n",
    "1. De eerste stap is het combineren van de data: denk na over welke informatie uit opdrachten 1 en 2 interessant is om te tonen. \n",
    "2. De tweede stap is het aggregeren van data: hierbij voer je bepaalde berekeningen uit op de inhoud van alle rijen van een bepaalde feature. "
   ]
  },
  {
   "cell_type": "markdown",
   "id": "49380f0e",
   "metadata": {},
   "source": [
    "#### Data collection\n",
    "Beide datasets zijn nodig. De gemiddelde wachttijd van patiënten komt uit ICU - Patient_Timing.csv, het aantal doden en de gemiddelde bezetting van de bedden uit ICU - ICU.csv."
   ]
  },
  {
   "cell_type": "code",
   "execution_count": 75,
   "id": "4875a293",
   "metadata": {},
   "outputs": [
    {
     "data": {
      "text/html": [
       "<div>\n",
       "<style scoped>\n",
       "    .dataframe tbody tr th:only-of-type {\n",
       "        vertical-align: middle;\n",
       "    }\n",
       "\n",
       "    .dataframe tbody tr th {\n",
       "        vertical-align: top;\n",
       "    }\n",
       "\n",
       "    .dataframe thead tr th {\n",
       "        text-align: left;\n",
       "    }\n",
       "</style>\n",
       "<table border=\"1\" class=\"dataframe\">\n",
       "  <thead>\n",
       "    <tr>\n",
       "      <th></th>\n",
       "      <th>world_id</th>\n",
       "      <th colspan=\"2\" halign=\"left\">waiting</th>\n",
       "    </tr>\n",
       "    <tr>\n",
       "      <th></th>\n",
       "      <th></th>\n",
       "      <th>mean</th>\n",
       "      <th>max</th>\n",
       "    </tr>\n",
       "  </thead>\n",
       "  <tbody>\n",
       "    <tr>\n",
       "      <th>0</th>\n",
       "      <td>0</td>\n",
       "      <td>2.739394</td>\n",
       "      <td>7.0</td>\n",
       "    </tr>\n",
       "    <tr>\n",
       "      <th>1</th>\n",
       "      <td>1</td>\n",
       "      <td>2.122727</td>\n",
       "      <td>5.0</td>\n",
       "    </tr>\n",
       "    <tr>\n",
       "      <th>2</th>\n",
       "      <td>2</td>\n",
       "      <td>1.139394</td>\n",
       "      <td>4.0</td>\n",
       "    </tr>\n",
       "    <tr>\n",
       "      <th>3</th>\n",
       "      <td>3</td>\n",
       "      <td>0.163636</td>\n",
       "      <td>2.0</td>\n",
       "    </tr>\n",
       "    <tr>\n",
       "      <th>4</th>\n",
       "      <td>4</td>\n",
       "      <td>0.000000</td>\n",
       "      <td>0.0</td>\n",
       "    </tr>\n",
       "  </tbody>\n",
       "</table>\n",
       "</div>"
      ],
      "text/plain": [
       "  world_id   waiting     \n",
       "                mean  max\n",
       "0        0  2.739394  7.0\n",
       "1        1  2.122727  5.0\n",
       "2        2  1.139394  4.0\n",
       "3        3  0.163636  2.0\n",
       "4        4  0.000000  0.0"
      ]
     },
     "execution_count": 75,
     "metadata": {},
     "output_type": "execute_result"
    }
   ],
   "source": [
    "# Data ophalen en aggregeren\n",
    "df_patients = pd.read_csv('ICU - Patient_Timing.csv')\n",
    "df_patients_agg = df_patients.groupby('world_id').agg({\n",
    "    'waiting': ['mean', 'max']\n",
    "})\n",
    "df_patients_agg.reset_index()\n"
   ]
  },
  {
   "cell_type": "code",
   "execution_count": 76,
   "id": "a08d3d3f",
   "metadata": {},
   "outputs": [
    {
     "data": {
      "text/html": [
       "<div>\n",
       "<style scoped>\n",
       "    .dataframe tbody tr th:only-of-type {\n",
       "        vertical-align: middle;\n",
       "    }\n",
       "\n",
       "    .dataframe tbody tr th {\n",
       "        vertical-align: top;\n",
       "    }\n",
       "\n",
       "    .dataframe thead tr th {\n",
       "        text-align: left;\n",
       "    }\n",
       "</style>\n",
       "<table border=\"1\" class=\"dataframe\">\n",
       "  <thead>\n",
       "    <tr>\n",
       "      <th></th>\n",
       "      <th>world_id</th>\n",
       "      <th colspan=\"2\" halign=\"left\">Beds in use</th>\n",
       "      <th colspan=\"2\" halign=\"left\">Patients waiting</th>\n",
       "      <th>Patients treated</th>\n",
       "      <th>Patients died</th>\n",
       "    </tr>\n",
       "    <tr>\n",
       "      <th></th>\n",
       "      <th></th>\n",
       "      <th>mean</th>\n",
       "      <th>max</th>\n",
       "      <th>mean</th>\n",
       "      <th>max</th>\n",
       "      <th>max</th>\n",
       "      <th>max</th>\n",
       "    </tr>\n",
       "  </thead>\n",
       "  <tbody>\n",
       "    <tr>\n",
       "      <th>0</th>\n",
       "      <td>0</td>\n",
       "      <td>102.913907</td>\n",
       "      <td>115.0</td>\n",
       "      <td>16.192053</td>\n",
       "      <td>41.0</td>\n",
       "      <td>269.0</td>\n",
       "      <td>391.0</td>\n",
       "    </tr>\n",
       "    <tr>\n",
       "      <th>1</th>\n",
       "      <td>1</td>\n",
       "      <td>121.677852</td>\n",
       "      <td>140.0</td>\n",
       "      <td>11.194631</td>\n",
       "      <td>34.0</td>\n",
       "      <td>385.0</td>\n",
       "      <td>275.0</td>\n",
       "    </tr>\n",
       "    <tr>\n",
       "      <th>2</th>\n",
       "      <td>2</td>\n",
       "      <td>117.064706</td>\n",
       "      <td>164.0</td>\n",
       "      <td>4.705882</td>\n",
       "      <td>22.0</td>\n",
       "      <td>578.0</td>\n",
       "      <td>82.0</td>\n",
       "    </tr>\n",
       "    <tr>\n",
       "      <th>3</th>\n",
       "      <td>3</td>\n",
       "      <td>107.251309</td>\n",
       "      <td>188.0</td>\n",
       "      <td>0.565445</td>\n",
       "      <td>9.0</td>\n",
       "      <td>660.0</td>\n",
       "      <td>0.0</td>\n",
       "    </tr>\n",
       "    <tr>\n",
       "      <th>4</th>\n",
       "      <td>4</td>\n",
       "      <td>107.815789</td>\n",
       "      <td>193.0</td>\n",
       "      <td>0.000000</td>\n",
       "      <td>0.0</td>\n",
       "      <td>660.0</td>\n",
       "      <td>0.0</td>\n",
       "    </tr>\n",
       "  </tbody>\n",
       "</table>\n",
       "</div>"
      ],
      "text/plain": [
       "  world_id Beds in use        Patients waiting       Patients treated  \\\n",
       "                  mean    max             mean   max              max   \n",
       "0        0  102.913907  115.0        16.192053  41.0            269.0   \n",
       "1        1  121.677852  140.0        11.194631  34.0            385.0   \n",
       "2        2  117.064706  164.0         4.705882  22.0            578.0   \n",
       "3        3  107.251309  188.0         0.565445   9.0            660.0   \n",
       "4        4  107.815789  193.0         0.000000   0.0            660.0   \n",
       "\n",
       "  Patients died  \n",
       "            max  \n",
       "0         391.0  \n",
       "1         275.0  \n",
       "2          82.0  \n",
       "3           0.0  \n",
       "4           0.0  "
      ]
     },
     "execution_count": 76,
     "metadata": {},
     "output_type": "execute_result"
    }
   ],
   "source": [
    "# Data ophalen en aggregeren\n",
    "df_ICU = pd.read_csv('ICU - ICU.csv')\n",
    "df_ICU_agg = df_ICU.groupby('world_id').agg({\n",
    "    'Beds in use': ['mean', 'max'],\n",
    "    'Patients waiting': ['mean', 'max'],\n",
    "    'Patients treated': 'max',\n",
    "    'Patients died': 'max'\n",
    "})\n",
    "df_ICU_agg.reset_index()"
   ]
  },
  {
   "cell_type": "code",
   "execution_count": 77,
   "id": "fade64b6",
   "metadata": {},
   "outputs": [
    {
     "data": {
      "text/html": [
       "<div>\n",
       "<style scoped>\n",
       "    .dataframe tbody tr th:only-of-type {\n",
       "        vertical-align: middle;\n",
       "    }\n",
       "\n",
       "    .dataframe tbody tr th {\n",
       "        vertical-align: top;\n",
       "    }\n",
       "\n",
       "    .dataframe thead tr th {\n",
       "        text-align: left;\n",
       "    }\n",
       "\n",
       "    .dataframe thead tr:last-of-type th {\n",
       "        text-align: right;\n",
       "    }\n",
       "</style>\n",
       "<table border=\"1\" class=\"dataframe\">\n",
       "  <thead>\n",
       "    <tr>\n",
       "      <th></th>\n",
       "      <th colspan=\"2\" halign=\"left\">waiting</th>\n",
       "      <th colspan=\"2\" halign=\"left\">Beds in use</th>\n",
       "      <th colspan=\"2\" halign=\"left\">Patients waiting</th>\n",
       "      <th>Patients treated</th>\n",
       "      <th>Patients died</th>\n",
       "    </tr>\n",
       "    <tr>\n",
       "      <th></th>\n",
       "      <th>mean</th>\n",
       "      <th>max</th>\n",
       "      <th>mean</th>\n",
       "      <th>max</th>\n",
       "      <th>mean</th>\n",
       "      <th>max</th>\n",
       "      <th>max</th>\n",
       "      <th>max</th>\n",
       "    </tr>\n",
       "    <tr>\n",
       "      <th>world_id</th>\n",
       "      <th></th>\n",
       "      <th></th>\n",
       "      <th></th>\n",
       "      <th></th>\n",
       "      <th></th>\n",
       "      <th></th>\n",
       "      <th></th>\n",
       "      <th></th>\n",
       "    </tr>\n",
       "  </thead>\n",
       "  <tbody>\n",
       "    <tr>\n",
       "      <th>0</th>\n",
       "      <td>2.739394</td>\n",
       "      <td>7.0</td>\n",
       "      <td>102.913907</td>\n",
       "      <td>115.0</td>\n",
       "      <td>16.192053</td>\n",
       "      <td>41.0</td>\n",
       "      <td>269.0</td>\n",
       "      <td>391.0</td>\n",
       "    </tr>\n",
       "    <tr>\n",
       "      <th>1</th>\n",
       "      <td>2.122727</td>\n",
       "      <td>5.0</td>\n",
       "      <td>121.677852</td>\n",
       "      <td>140.0</td>\n",
       "      <td>11.194631</td>\n",
       "      <td>34.0</td>\n",
       "      <td>385.0</td>\n",
       "      <td>275.0</td>\n",
       "    </tr>\n",
       "    <tr>\n",
       "      <th>2</th>\n",
       "      <td>1.139394</td>\n",
       "      <td>4.0</td>\n",
       "      <td>117.064706</td>\n",
       "      <td>164.0</td>\n",
       "      <td>4.705882</td>\n",
       "      <td>22.0</td>\n",
       "      <td>578.0</td>\n",
       "      <td>82.0</td>\n",
       "    </tr>\n",
       "    <tr>\n",
       "      <th>3</th>\n",
       "      <td>0.163636</td>\n",
       "      <td>2.0</td>\n",
       "      <td>107.251309</td>\n",
       "      <td>188.0</td>\n",
       "      <td>0.565445</td>\n",
       "      <td>9.0</td>\n",
       "      <td>660.0</td>\n",
       "      <td>0.0</td>\n",
       "    </tr>\n",
       "    <tr>\n",
       "      <th>4</th>\n",
       "      <td>0.000000</td>\n",
       "      <td>0.0</td>\n",
       "      <td>107.815789</td>\n",
       "      <td>193.0</td>\n",
       "      <td>0.000000</td>\n",
       "      <td>0.0</td>\n",
       "      <td>660.0</td>\n",
       "      <td>0.0</td>\n",
       "    </tr>\n",
       "  </tbody>\n",
       "</table>\n",
       "</div>"
      ],
      "text/plain": [
       "           waiting      Beds in use        Patients waiting        \\\n",
       "              mean  max        mean    max             mean   max   \n",
       "world_id                                                            \n",
       "0         2.739394  7.0  102.913907  115.0        16.192053  41.0   \n",
       "1         2.122727  5.0  121.677852  140.0        11.194631  34.0   \n",
       "2         1.139394  4.0  117.064706  164.0         4.705882  22.0   \n",
       "3         0.163636  2.0  107.251309  188.0         0.565445   9.0   \n",
       "4         0.000000  0.0  107.815789  193.0         0.000000   0.0   \n",
       "\n",
       "         Patients treated Patients died  \n",
       "                      max           max  \n",
       "world_id                                 \n",
       "0                   269.0         391.0  \n",
       "1                   385.0         275.0  \n",
       "2                   578.0          82.0  \n",
       "3                   660.0           0.0  \n",
       "4                   660.0           0.0  "
      ]
     },
     "execution_count": 77,
     "metadata": {},
     "output_type": "execute_result"
    }
   ],
   "source": [
    "# Datasets joinen\n",
    "df = df_patients_agg.merge(df_ICU_agg, left_on='world_id', right_on='world_id')\n",
    "df"
   ]
  },
  {
   "cell_type": "code",
   "execution_count": 78,
   "id": "f8c4ed26",
   "metadata": {},
   "outputs": [
    {
     "data": {
      "text/html": [
       "<div>\n",
       "<style scoped>\n",
       "    .dataframe tbody tr th:only-of-type {\n",
       "        vertical-align: middle;\n",
       "    }\n",
       "\n",
       "    .dataframe tbody tr th {\n",
       "        vertical-align: top;\n",
       "    }\n",
       "\n",
       "    .dataframe thead th {\n",
       "        text-align: right;\n",
       "    }\n",
       "</style>\n",
       "<table border=\"1\" class=\"dataframe\">\n",
       "  <thead>\n",
       "    <tr style=\"text-align: right;\">\n",
       "      <th></th>\n",
       "      <th>world_id</th>\n",
       "      <th>waiting_mean</th>\n",
       "      <th>waiting_max</th>\n",
       "      <th>Beds in use_mean</th>\n",
       "      <th>Beds in use_max</th>\n",
       "      <th>Patients waiting_mean</th>\n",
       "      <th>Patients waiting_max</th>\n",
       "      <th>Patients treated_max</th>\n",
       "      <th>Patients died_max</th>\n",
       "    </tr>\n",
       "  </thead>\n",
       "  <tbody>\n",
       "    <tr>\n",
       "      <th>0</th>\n",
       "      <td>0</td>\n",
       "      <td>2.739394</td>\n",
       "      <td>7.0</td>\n",
       "      <td>102.913907</td>\n",
       "      <td>115.0</td>\n",
       "      <td>16.192053</td>\n",
       "      <td>41.0</td>\n",
       "      <td>269.0</td>\n",
       "      <td>391.0</td>\n",
       "    </tr>\n",
       "    <tr>\n",
       "      <th>1</th>\n",
       "      <td>1</td>\n",
       "      <td>2.122727</td>\n",
       "      <td>5.0</td>\n",
       "      <td>121.677852</td>\n",
       "      <td>140.0</td>\n",
       "      <td>11.194631</td>\n",
       "      <td>34.0</td>\n",
       "      <td>385.0</td>\n",
       "      <td>275.0</td>\n",
       "    </tr>\n",
       "    <tr>\n",
       "      <th>2</th>\n",
       "      <td>2</td>\n",
       "      <td>1.139394</td>\n",
       "      <td>4.0</td>\n",
       "      <td>117.064706</td>\n",
       "      <td>164.0</td>\n",
       "      <td>4.705882</td>\n",
       "      <td>22.0</td>\n",
       "      <td>578.0</td>\n",
       "      <td>82.0</td>\n",
       "    </tr>\n",
       "    <tr>\n",
       "      <th>3</th>\n",
       "      <td>3</td>\n",
       "      <td>0.163636</td>\n",
       "      <td>2.0</td>\n",
       "      <td>107.251309</td>\n",
       "      <td>188.0</td>\n",
       "      <td>0.565445</td>\n",
       "      <td>9.0</td>\n",
       "      <td>660.0</td>\n",
       "      <td>0.0</td>\n",
       "    </tr>\n",
       "    <tr>\n",
       "      <th>4</th>\n",
       "      <td>4</td>\n",
       "      <td>0.000000</td>\n",
       "      <td>0.0</td>\n",
       "      <td>107.815789</td>\n",
       "      <td>193.0</td>\n",
       "      <td>0.000000</td>\n",
       "      <td>0.0</td>\n",
       "      <td>660.0</td>\n",
       "      <td>0.0</td>\n",
       "    </tr>\n",
       "  </tbody>\n",
       "</table>\n",
       "</div>"
      ],
      "text/plain": [
       "   world_id  waiting_mean  waiting_max  Beds in use_mean  Beds in use_max  \\\n",
       "0         0      2.739394          7.0        102.913907            115.0   \n",
       "1         1      2.122727          5.0        121.677852            140.0   \n",
       "2         2      1.139394          4.0        117.064706            164.0   \n",
       "3         3      0.163636          2.0        107.251309            188.0   \n",
       "4         4      0.000000          0.0        107.815789            193.0   \n",
       "\n",
       "   Patients waiting_mean  Patients waiting_max  Patients treated_max  \\\n",
       "0              16.192053                  41.0                 269.0   \n",
       "1              11.194631                  34.0                 385.0   \n",
       "2               4.705882                  22.0                 578.0   \n",
       "3               0.565445                   9.0                 660.0   \n",
       "4               0.000000                   0.0                 660.0   \n",
       "\n",
       "   Patients died_max  \n",
       "0              391.0  \n",
       "1              275.0  \n",
       "2               82.0  \n",
       "3                0.0  \n",
       "4                0.0  "
      ]
     },
     "execution_count": 78,
     "metadata": {},
     "output_type": "execute_result"
    }
   ],
   "source": [
    "# MultiIndex columns plat slaan\n",
    "df.columns = ['_'.join(col).strip() for col in df.columns.values]\n",
    "df.reset_index(inplace=True)\n",
    "df"
   ]
  },
  {
   "cell_type": "markdown",
   "id": "8d6e1c63",
   "metadata": {},
   "source": [
    "In onderstaande visualisatie heb ik 4 visualisaties gemaakt (over de wachttijd van patienten, bedden, de wachtrij en het resultaat) waarin telkens twee features gecombineerd zijn. De code is erg omvangrijk (bron: Perplexity), een dashboard met losse visualisaties werkt beter."
   ]
  },
  {
   "cell_type": "code",
   "execution_count": 79,
   "id": "0ea99b49",
   "metadata": {},
   "outputs": [
    {
     "data": {
      "image/png": "[encoded data removed]",
      "text/plain": [
       "<Figure size 1400x1000 with 4 Axes>"
      ]
     },
     "metadata": {},
     "output_type": "display_data"
    }
   ],
   "source": [
    "# Assign consistent colors per world_id\n",
    "world_ids = df['world_id'].unique()\n",
    "colors = plt.get_cmap('tab10')(range(len(world_ids)))\n",
    "color_map = dict(zip(world_ids, colors))\n",
    "\n",
    "fig, axes = plt.subplots(2, 2, figsize=(14, 10))\n",
    "\n",
    "# 1. Waiting time: bar for waiting_mean, vertical line up to waiting_max (optional)\n",
    "ax = axes[0, 0]\n",
    "for wid in world_ids:\n",
    "    mean = df.loc[df['world_id'] == wid, 'waiting_mean'].values[0]\n",
    "    max_val = df.loc[df['world_id'] == wid, 'waiting_max'].values[0]\n",
    "    ax.bar(wid, mean, color=color_map[wid], label=f'World {wid}')\n",
    "    # Vertical line instead of horizontal errorbar\n",
    "    ax.vlines(wid, mean, max_val, color=color_map[wid], linestyle='-', linewidth=2)\n",
    "ax.set_title('Waiting Time')\n",
    "ax.set_xlabel('World ID')\n",
    "ax.set_ylabel('Time')\n",
    "ax.legend(title='World ID')\n",
    "\n",
    "# 2. Beds in use: bar for mean and vertical line to max\n",
    "ax = axes[0, 1]\n",
    "for wid in world_ids:\n",
    "    mean = df.loc[df['world_id'] == wid, 'Beds in use_mean'].values[0]\n",
    "    max_val = df.loc[df['world_id'] == wid, 'Beds in use_max'].values[0]\n",
    "    ax.bar(wid, mean, color=color_map[wid])\n",
    "    ax.vlines(wid, mean, max_val, color=color_map[wid], linestyle='-', linewidth=2)\n",
    "ax.set_title('Beds in Use')\n",
    "ax.set_xlabel('World ID')\n",
    "ax.set_ylabel('Beds')\n",
    "\n",
    "# 3. Patients waiting: bar for mean and vertical line to max\n",
    "ax = axes[1, 0]\n",
    "for wid in world_ids:\n",
    "    mean = df.loc[df['world_id'] == wid, 'Patients waiting_mean'].values[0]\n",
    "    max_val = df.loc[df['world_id'] == wid, 'Patients waiting_max'].values[0]\n",
    "    ax.bar(wid, mean, color=color_map[wid])\n",
    "    ax.vlines(wid, mean, max_val, color=color_map[wid], linestyle='-', linewidth=2)\n",
    "ax.set_title('Patients Waiting')\n",
    "ax.set_xlabel('World ID')\n",
    "ax.set_ylabel('Patients')\n",
    "\n",
    "# 4. Patients treated and died: grouped bars with same colors for each world_id\n",
    "ax = axes[1, 1]\n",
    "bar_width = 0.35\n",
    "indices = np.arange(len(world_ids))\n",
    "for i, wid in enumerate(world_ids):\n",
    "    ax.bar(indices[i] - bar_width / 2, df.loc[df['world_id'] == wid, 'Patients treated_max'].values[0], \n",
    "           width=bar_width, color=color_map[wid], label=f'World {wid} Treated')\n",
    "    # Use a different hatch for died bars to distinguish, keep same color\n",
    "    ax.bar(indices[i] + bar_width / 2, df.loc[df['world_id'] == wid, 'Patients died_max'].values[0], \n",
    "           width=bar_width, color=color_map[wid], hatch='//', label=f'World {wid} Died')\n",
    "ax.set_xticks(indices)\n",
    "ax.set_xticklabels(world_ids)\n",
    "ax.set_title('Patients Treated and Died')\n",
    "ax.set_xlabel('World ID')\n",
    "ax.set_ylabel('Count')\n",
    "\n",
    "# Create combined legend with unique labels \n",
    "handles, labels = ax.get_legend_handles_labels()\n",
    "by_label = dict(zip(labels, handles))\n",
    "ax.legend(by_label.values(), by_label.keys(), title='World ID Groups')\n",
    "\n",
    "plt.tight_layout()\n",
    "plt.show()"
   ]
  }
 ],
 "metadata": {
  "kernelspec": {
   "display_name": "s3venv",
   "language": "python",
   "name": "python3"
  },
  "language_info": {
   "codemirror_mode": {
    "name": "ipython",
    "version": 3
   },
   "file_extension": ".py",
   "mimetype": "text/x-python",
   "name": "python",
   "nbconvert_exporter": "python",
   "pygments_lexer": "ipython3",
   "version": "3.13.2"
  }
 },
 "nbformat": 4,
 "nbformat_minor": 5
}
